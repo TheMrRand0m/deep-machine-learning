{
 "cells": [
  {
   "cell_type": "markdown",
   "metadata": {
    "deletable": false,
    "editable": false,
    "nbgrader": {
     "cell_type": "markdown",
     "checksum": "ad8b0feffaddac686389c323e8f7b862",
     "grade": false,
     "grade_id": "cell-5690119ead85e67e",
     "locked": true,
     "schema_version": 3,
     "solution": false,
     "task": false
    }
   },
   "source": [
    "### Checklist for submission\n",
    "\n",
    "It is extremely important to make sure that:\n",
    "\n",
    "1. Everything runs as expected (no bugs when running cells);\n",
    "2. The output from each cell corresponds to its code (don't change any cell's contents without rerunning it afterwards);\n",
    "3. All outputs are present (don't delete any of the outputs);\n",
    "4. Fill in all the places that say `# YOUR CODE HERE`, or \"**Your answer:** (fill in here)\".\n",
    "5. Never copy/paste any notebook cells. Inserting new cells is allowed, but it should not be necessary.\n",
    "6. The notebook contains some hidden metadata which is important during our grading process. **Make sure not to corrupt any of this metadata!** The metadata may for example be corrupted if you copy/paste any notebook cells, or if you perform an unsuccessful git merge / git pull. It may also be pruned completely if using Google Colab, so watch out for this. Searching for \"nbgrader\" when opening the notebook in a text editor should take you to the important metadata entries.\n",
    "7. Although we will try our very best to avoid this, it may happen that bugs are found after an assignment is released, and that we will push an updated version of the assignment to GitHub. If this happens, it is important that you update to the new version, while making sure the notebook metadata is properly updated as well. The safest way to make sure nothing gets messed up is to start from scratch on a clean updated version of the notebook, copy/pasting your code from the cells of the previous version into the cells of the new version.\n",
    "8. If you need to have multiple parallel versions of this notebook, make sure not to move them to another directory.\n",
    "9. Although not forced to work exclusively in the course `conda` environment, you need to make sure that the notebook will run in that environment, i.e. that you have not added any additional dependencies.\n",
    "\n",
    "Failing to meet any of these requirements might lead to a request for resubmission if the errors are serious enough.\n",
    "\n",
    "We advise you to perform the following steps before submission to ensure that requirements 1, 2, and 3 are always met: **Restart the kernel** (in the menubar, select Kernel$\\rightarrow$Restart) and then **run all cells** (in the menubar, select Cell$\\rightarrow$Run All). This might require a bit of time, so plan ahead for this (and possibly use a cloud GPU in HA1 and HA2 for this step). Finally press the \"Save and Checkout\" button before handing in, to make sure that all your changes are saved to this .ipynb file."
   ]
  },
  {
   "cell_type": "markdown",
   "metadata": {
    "deletable": false,
    "editable": false,
    "nbgrader": {
     "cell_type": "markdown",
     "checksum": "a6bb874a16c1ff767ac0f37ce0491265",
     "grade": false,
     "grade_id": "cell-774c93bf6433de68",
     "locked": true,
     "schema_version": 3,
     "solution": false,
     "task": false
    }
   },
   "source": [
    "### Fill in name of notebook file\n",
    "This might seem silly, but the version check below needs to know the filename of the current notebook, which is not trivial to find out programmatically.\n",
    "\n",
    "You might want to have several parallel versions of the notebook, and it is fine to rename the notebook as long as it stays in the same directory. **However**, if you do rename it, you also need to update its own filename below:"
   ]
  },
  {
   "cell_type": "code",
   "execution_count": 4,
   "metadata": {},
   "outputs": [],
   "source": [
    "nb_fname = \"IHA2.ipynb\""
   ]
  },
  {
   "cell_type": "markdown",
   "metadata": {
    "deletable": false,
    "editable": false,
    "nbgrader": {
     "cell_type": "markdown",
     "checksum": "270e43e75da54d7fb8afbda64083f4e3",
     "grade": false,
     "grade_id": "cell-5676bcf768a7f9be",
     "locked": true,
     "schema_version": 3,
     "solution": false,
     "task": false
    }
   },
   "source": [
    "### Fill in group number and member names (use NAME2 and GROUP only for HA1 and HA2):"
   ]
  },
  {
   "cell_type": "code",
   "execution_count": 5,
   "metadata": {},
   "outputs": [],
   "source": [
    "NAME1 = \"\"\n",
    "NAME2 = \"\"\n",
    "GROUP = \"\""
   ]
  },
  {
   "cell_type": "markdown",
   "metadata": {
    "deletable": false,
    "editable": false,
    "nbgrader": {
     "cell_type": "markdown",
     "checksum": "42f960a95815e1aa3ce8132fcec59cd9",
     "grade": false,
     "grade_id": "cell-a15fe781533d9590",
     "locked": true,
     "schema_version": 3,
     "solution": false,
     "task": false
    }
   },
   "source": [
    "### Check Python version"
   ]
  },
  {
   "cell_type": "code",
   "execution_count": 6,
   "metadata": {
    "deletable": false,
    "editable": false,
    "nbgrader": {
     "cell_type": "code",
     "checksum": "72b2403e87a33f87371b150984248355",
     "grade": false,
     "grade_id": "cell-2b9c2390ee464c39",
     "locked": true,
     "schema_version": 3,
     "solution": false,
     "task": false
    }
   },
   "outputs": [],
   "source": [
    "from platform import python_version_tuple\n",
    "\n",
    "assert (\n",
    "    python_version_tuple()[:2] == (\"3\", \"11\")\n",
    "), \"You are not running Python 3.11. Make sure to run Python through the course Conda environment.\""
   ]
  },
  {
   "cell_type": "markdown",
   "metadata": {
    "deletable": false,
    "editable": false,
    "nbgrader": {
     "cell_type": "markdown",
     "checksum": "15ec4309f1e85f6e17bda73b9b6f48a2",
     "grade": false,
     "grade_id": "cell-4869b45600ce82f8",
     "locked": true,
     "schema_version": 3,
     "solution": false,
     "task": false
    }
   },
   "source": [
    "### Check that notebook server has access to all required resources, and that notebook has not moved"
   ]
  },
  {
   "cell_type": "code",
   "execution_count": 7,
   "metadata": {
    "deletable": false,
    "editable": false,
    "nbgrader": {
     "cell_type": "code",
     "checksum": "c741699084b67aa21d06ff931465b378",
     "grade": false,
     "grade_id": "cell-122ac3d9100b8afb",
     "locked": true,
     "schema_version": 3,
     "solution": false,
     "task": false
    }
   },
   "outputs": [],
   "source": [
    "import os\n",
    "\n",
    "nb_dirname = os.path.abspath(\"\")\n",
    "assignment_name = os.path.basename(nb_dirname)\n",
    "assert assignment_name in [\n",
    "    \"IHA1\",\n",
    "    \"IHA2\",\n",
    "    \"HA1\",\n",
    "    \"HA2\",\n",
    "], \"[ERROR] The notebook appears to have been moved from its original directory\""
   ]
  },
  {
   "cell_type": "markdown",
   "metadata": {
    "deletable": false,
    "editable": false,
    "nbgrader": {
     "cell_type": "markdown",
     "checksum": "f09f40b5350db83232189137c550f0a1",
     "grade": false,
     "grade_id": "cell-2455deee513cd39c",
     "locked": true,
     "schema_version": 3,
     "solution": false,
     "task": false
    }
   },
   "source": [
    "### Verify correct nb_fname"
   ]
  },
  {
   "cell_type": "code",
   "execution_count": 8,
   "metadata": {
    "deletable": false,
    "editable": false,
    "nbgrader": {
     "cell_type": "code",
     "checksum": "1709bd6d2b55a83969e44d70763b1167",
     "grade": false,
     "grade_id": "cell-0472e2fd710f1d72",
     "locked": true,
     "schema_version": 3,
     "solution": false,
     "task": false
    }
   },
   "outputs": [
    {
     "data": {
      "text/html": [
       "<script>if(\"IHA2.ipynb\" != IPython.notebook.notebook_name) { alert(\"You have filled in nb_fname = \\\"IHA2.ipynb\\\", but this does not seem to match the notebook filename \\\"\" + IPython.notebook.notebook_name + \"\\\".\"); }</script>"
      ],
      "text/plain": [
       "<IPython.core.display.HTML object>"
      ]
     },
     "metadata": {},
     "output_type": "display_data"
    }
   ],
   "source": [
    "from IPython.display import HTML, display\n",
    "\n",
    "try:\n",
    "    display(\n",
    "        HTML(\n",
    "            r'<script>if(\"{nb_fname}\" != IPython.notebook.notebook_name) {{ alert(\"You have filled in nb_fname = \\\"{nb_fname}\\\", but this does not seem to match the notebook filename \\\"\" + IPython.notebook.notebook_name + \"\\\".\"); }}</script>'.format(\n",
    "                nb_fname=nb_fname\n",
    "            )\n",
    "        )\n",
    "    )\n",
    "except NameError:\n",
    "    assert False, \"Make sure to fill in the nb_fname variable above!\""
   ]
  },
  {
   "cell_type": "markdown",
   "metadata": {
    "deletable": false,
    "editable": false,
    "nbgrader": {
     "cell_type": "markdown",
     "checksum": "98d88d8e8da19693053764f29dcc591d",
     "grade": false,
     "grade_id": "cell-ceacb1adcae4783d",
     "locked": true,
     "schema_version": 3,
     "solution": false,
     "task": false
    }
   },
   "source": [
    "### Verify that your notebook is up-to-date and not corrupted in any way"
   ]
  },
  {
   "cell_type": "code",
   "execution_count": 9,
   "metadata": {
    "deletable": false,
    "editable": false,
    "nbgrader": {
     "cell_type": "code",
     "checksum": "6f405c9cd7b9720915f79dba54c89375",
     "grade": false,
     "grade_id": "cell-f5a59288e11b4aec",
     "locked": true,
     "schema_version": 3,
     "solution": false,
     "task": false
    }
   },
   "outputs": [
    {
     "name": "stdout",
     "output_type": "stream",
     "text": [
      "Matching current notebook against the following URL:\n",
      "http://raw.githubusercontent.com/dml-cth/deep-machine-learning/master/home-assignments/IHA2/IHA2.ipynb\n",
      "[SUCCESS] No major notebook mismatch found when comparing to latest GitHub version. (There might be minor updates, but even that is the case, submitting your work based on this notebook version would be acceptable.)\n"
     ]
    }
   ],
   "source": [
    "import sys\n",
    "\n",
    "sys.path.append(\"..\")\n",
    "from ha_utils import check_notebook_uptodate_and_not_corrupted\n",
    "\n",
    "check_notebook_uptodate_and_not_corrupted(nb_dirname, nb_fname)"
   ]
  },
  {
   "cell_type": "markdown",
   "metadata": {
    "deletable": false,
    "editable": false,
    "nbgrader": {
     "cell_type": "markdown",
     "checksum": "587eb0d471650fb68cb3c1f5021df2d4",
     "grade": false,
     "grade_id": "cell-1420bd2a80dfa7d5",
     "locked": true,
     "schema_version": 3,
     "solution": false
    }
   },
   "source": [
    "# IHA2 - Catching Pokemon"
   ]
  },
  {
   "cell_type": "markdown",
   "metadata": {
    "deletable": false,
    "editable": false,
    "nbgrader": {
     "cell_type": "markdown",
     "checksum": "57c5f7037fd0f1ca2377e5f021815405",
     "grade": false,
     "grade_id": "cell-c0cb4dde48293818",
     "locked": true,
     "schema_version": 3,
     "solution": false
    }
   },
   "source": [
    "![](https://upload.wikimedia.org/wikipedia/en/4/46/Pokemon_Go.png)"
   ]
  },
  {
   "cell_type": "markdown",
   "metadata": {
    "deletable": false,
    "editable": false,
    "nbgrader": {
     "cell_type": "markdown",
     "checksum": "9acef9de3d4fc4337e7dadd4fd579462",
     "grade": false,
     "grade_id": "cell-b16d667dd74a9079",
     "locked": true,
     "schema_version": 3,
     "solution": false
    }
   },
   "source": [
    "In this home assignment, you'll apply roughly the same principles we used when doing logistic regression on the Iris dataset in Computer Lab 1, but on a different and very interesting dataset. We'll use the [Predict'em All dataset from Kaggle](https://www.kaggle.com/semioniy/predictemall). To download the dataset you will need a Kaggle account. This dataset consists of roughly 293,000 [pokemon](http://www.pokemongo.com/) sightings (historical appearances of Pokemon in the Pokemon Go game), with geographical coordinates, time, weather, population density, distance to pokestops/gyms etc. as features. A comprehensive list of all the features is available at [the dataset's homepage](https://www.kaggle.com/semioniy/predictemall).\n",
    "\n",
    "The context is simple: you are a Pokemon hunter, and there are only three Pokemon left for you to complete your collection. You'll do anything to capture them, including changing where you'll spend your next holidays! You know that some Pokemon only spawn in certain places of the world. Since you like machine learning so much, you figure it would be a great idea to train a classifier that, based on a location's longitude and latitude, can tell us which Pokemon is more likely to appear there.\n",
    "\n",
    "The assignment is broken down into six steps.\n",
    "\n",
    "1. Loading the data and extracting the desired subset of it\n",
    "2. Visualization of the dataset\n",
    "3. Preprocessing\n",
    "4. Training\n",
    "5. Evaluation\n",
    "6. Exploration\n",
    "\n",
    "Feel free to temporarily add cells wherever you see fit, and play around with this notebook as much as you want when developing the solutions. However, the solution you upload to Canvas must have the exact format shown here, with only the cells present here.\n",
    "\n",
    "Don't restrict yourself only to what was taught so far. Some of the tasks might require you to search for new information. However, **be sure that you do the assignment using PyTorch** since we will be using it through the following assignments as well. [The Python docs](https://docs.python.org/3/), [PyTorch docs](https://pytorch.org/docs/stable/index.html), [stackoverflow](https://stackoverflow.com/), and Google are your friends!\n",
    "\n",
    "**Hint:** Solving Computer Lab 1 (CL1) is a good way to get prepared for this assignment.\n",
    "\n",
    "To pass this assignment, your solutions should pass all tests (`assert`-statements). Note that the tests shown to you are not exhaustive, and additional hidden tests exist for some of the tasks. Further, similar to IHA1, this notebook contains some questions where we ask you to reflect upon some results. These questions will not be graded in detail, but we still expect you to answer them."
   ]
  },
  {
   "cell_type": "markdown",
   "metadata": {
    "deletable": false,
    "editable": false,
    "nbgrader": {
     "cell_type": "markdown",
     "checksum": "6d8a3b20e9634f5c918019159cde8280",
     "grade": false,
     "grade_id": "cell-b9e4c4aa45490941",
     "locked": true,
     "schema_version": 3,
     "solution": false
    }
   },
   "source": [
    "## 0. Imports"
   ]
  },
  {
   "cell_type": "markdown",
   "metadata": {
    "deletable": false,
    "editable": false,
    "nbgrader": {
     "cell_type": "markdown",
     "checksum": "ca68d5a34a1d6f8633072976fad132a3",
     "grade": false,
     "grade_id": "cell-548d168c5c9e8c39",
     "locked": true,
     "schema_version": 3,
     "solution": false
    }
   },
   "source": [
    "Import any necessary modules here."
   ]
  },
  {
   "cell_type": "code",
   "execution_count": 10,
   "metadata": {
    "deletable": false,
    "nbgrader": {
     "cell_type": "code",
     "checksum": "4bd0c1d994ba501cd83cb86c40a43122",
     "grade": false,
     "grade_id": "cell-4e61b7fa879ef4a1",
     "locked": false,
     "schema_version": 3,
     "solution": true,
     "task": false
    }
   },
   "outputs": [],
   "source": [
    "# YOUR CODE HERE\n",
    "import numpy as np\n",
    "import matplotlib.pyplot as plt"
   ]
  },
  {
   "cell_type": "markdown",
   "metadata": {
    "deletable": false,
    "editable": false,
    "nbgrader": {
     "cell_type": "markdown",
     "checksum": "a576cdb7f1a3658a7eb906977c5e40fb",
     "grade": false,
     "grade_id": "cell-50c33a3517aea662",
     "locked": true,
     "schema_version": 3,
     "solution": false
    }
   },
   "source": [
    "## 1. Loading and extracting subset"
   ]
  },
  {
   "cell_type": "markdown",
   "metadata": {
    "deletable": false,
    "editable": false,
    "nbgrader": {
     "cell_type": "markdown",
     "checksum": "8f1178610f2a3de2652d78bf724e5c6a",
     "grade": false,
     "grade_id": "cell-32f6c44c22e84d42",
     "locked": true,
     "schema_version": 3,
     "solution": false
    }
   },
   "source": [
    "The first step consists of filtering the dataset by the three Pokémon you are interested at. \n",
    "\n",
    "Start by loading the `'300k.csv'` file using pandas. If you haven't downloaded it yet, either use [this link](https://www.kaggle.com/semioniy/predictemall) to do so (and place the file in the same folder as this notebook), or simply run the cell below. You might have to [create a new API token](https://www.kaggle.com/settings/account) before the commands work."
   ]
  },
  {
   "cell_type": "code",
   "execution_count": 11,
   "metadata": {
    "deletable": false,
    "editable": false,
    "nbgrader": {
     "cell_type": "code",
     "checksum": "f8b85c109b1e96fc2c692b69d07573ea",
     "grade": false,
     "grade_id": "cell-39c13080b772bfe5",
     "locked": true,
     "schema_version": 3,
     "solution": false,
     "task": false
    }
   },
   "outputs": [
    {
     "name": "stderr",
     "output_type": "stream",
     "text": [
      "'kaggle' is not recognized as an internal or external command,\n",
      "operable program or batch file.\n",
      "'unzip' is not recognized as an internal or external command,\n",
      "operable program or batch file.\n",
      "'unzip' is not recognized as an internal or external command,\n",
      "operable program or batch file.\n",
      "'rm' is not recognized as an internal or external command,\n",
      "operable program or batch file.\n",
      "'rm' is not recognized as an internal or external command,\n",
      "operable program or batch file.\n"
     ]
    }
   ],
   "source": [
    "!kaggle datasets download -d semioniy/predictemall\n",
    "!unzip -u predictemall.zip\n",
    "!rm -rf predictemall.zip 300k_arff 300k.arff 300k_csv"
   ]
  },
  {
   "cell_type": "code",
   "execution_count": 12,
   "metadata": {
    "deletable": false,
    "nbgrader": {
     "cell_type": "code",
     "checksum": "1308d475120c2d9e46b37129e7221f99",
     "grade": false,
     "grade_id": "cell-53b2a6c0754fca1d",
     "locked": false,
     "schema_version": 3,
     "solution": true,
     "task": false
    }
   },
   "outputs": [
    {
     "name": "stderr",
     "output_type": "stream",
     "text": [
      "C:\\Users\\majed\\AppData\\Local\\Temp\\ipykernel_20396\\2336927798.py:5: DtypeWarning: Columns (49) have mixed types. Specify dtype option on import or set low_memory=False.\n",
      "  df = pd.read_csv(\"300k.csv\")\n"
     ]
    }
   ],
   "source": [
    "# TODO: load the dataset using pandas to a dataframe called df\n",
    "import pandas as pd\n",
    "\n",
    "# Load the dataset into a DataFrame\n",
    "df = pd.read_csv(\"300k.csv\")"
   ]
  },
  {
   "cell_type": "code",
   "execution_count": 13,
   "metadata": {
    "deletable": false,
    "editable": false,
    "nbgrader": {
     "cell_type": "code",
     "checksum": "937dc09867c39ed4282c3552a0a2d3fc",
     "grade": true,
     "grade_id": "cell-d7bd8d78c4388b4d",
     "locked": true,
     "points": 1,
     "schema_version": 3,
     "solution": false,
     "task": false
    }
   },
   "outputs": [],
   "source": [
    "assert df.shape == (\n",
    "    296021,\n",
    "    208,\n",
    "), f\"Dataframe has not the right shape. {df.shape} != (296021, 208)\"\n",
    "assert isinstance(df, pd.DataFrame), f\"df is not a dataframe. Was {type(df)}\""
   ]
  },
  {
   "cell_type": "markdown",
   "metadata": {
    "deletable": false,
    "editable": false,
    "nbgrader": {
     "cell_type": "markdown",
     "checksum": "9e5a6ed587a81abc562131a9a019da9a",
     "grade": false,
     "grade_id": "cell-5d36e8f9780ea946",
     "locked": true,
     "schema_version": 3,
     "solution": false
    }
   },
   "source": [
    "Modify `df` to only have the columns `latitude`, `longitude`, and `class`."
   ]
  },
  {
   "cell_type": "code",
   "execution_count": 14,
   "metadata": {
    "deletable": false,
    "nbgrader": {
     "cell_type": "code",
     "checksum": "32fe82a12426d7fd89c7b44803e9901d",
     "grade": false,
     "grade_id": "cell-318e20fd02ab7f30",
     "locked": false,
     "schema_version": 3,
     "solution": true,
     "task": false
    }
   },
   "outputs": [],
   "source": [
    "df = df[['latitude', 'longitude', 'class']]"
   ]
  },
  {
   "cell_type": "code",
   "execution_count": 15,
   "metadata": {
    "deletable": false,
    "editable": false,
    "nbgrader": {
     "cell_type": "code",
     "checksum": "334ba32ebb98cfbe793e8d06ee8d3b34",
     "grade": true,
     "grade_id": "cell-e8738beea1b331d0",
     "locked": true,
     "points": 1,
     "schema_version": 3,
     "solution": false,
     "task": false
    }
   },
   "outputs": [],
   "source": [
    "assert len(df.columns) == 3, \"There should be 3 columns\"\n",
    "assert len(df.shape) == 2, \"The dataframe should be 2 dimensional\"\n",
    "assert df.shape == (296021, 3), \"Wrong shape of the dataframe\"\n",
    "assert \"latitude\" in df.columns, \"latitude column is missing\"\n",
    "assert \"longitude\" in df.columns, \"longitude column is missing\"\n",
    "assert \"class\" in df.columns, \"class column is missing\""
   ]
  },
  {
   "cell_type": "markdown",
   "metadata": {
    "deletable": false,
    "editable": false,
    "nbgrader": {
     "cell_type": "markdown",
     "checksum": "9ef5470f58caaaea609c2fee299c5b7f",
     "grade": false,
     "grade_id": "cell-6f7970ff67af4649",
     "locked": true,
     "schema_version": 3,
     "solution": false
    }
   },
   "source": [
    "Note that the `class` column specifies which pokemon it is. However, it only has the numerical id of the pokemon. For your convenience, we provide the dictionary `name_dict` to convert between ids and names (we'll do this soon)."
   ]
  },
  {
   "cell_type": "code",
   "execution_count": 16,
   "metadata": {
    "deletable": false,
    "editable": false,
    "nbgrader": {
     "cell_type": "code",
     "checksum": "7e1c295d53b9c78e248276d093849a02",
     "grade": false,
     "grade_id": "cell-50ff16afeaf933cf",
     "locked": true,
     "schema_version": 3,
     "solution": false
    }
   },
   "outputs": [],
   "source": [
    "from utils import name_dict"
   ]
  },
  {
   "cell_type": "code",
   "execution_count": 17,
   "metadata": {
    "deletable": false,
    "editable": false,
    "nbgrader": {
     "cell_type": "code",
     "checksum": "3bae8f433b0632b5da39f4d675f7f9db",
     "grade": false,
     "grade_id": "cell-1acfd7cca7bf754e",
     "locked": true,
     "schema_version": 3,
     "solution": false,
     "task": false
    }
   },
   "outputs": [
    {
     "name": "stdout",
     "output_type": "stream",
     "text": [
      "94\n",
      "Gengar\n"
     ]
    }
   ],
   "source": [
    "# example usage (you can index either by name or id)\n",
    "print(name_dict[\"Gengar\"])\n",
    "print(name_dict[94])"
   ]
  },
  {
   "cell_type": "code",
   "execution_count": 18,
   "metadata": {
    "deletable": false,
    "editable": false,
    "nbgrader": {
     "cell_type": "code",
     "checksum": "8c4b53d1aadb72239ba22773f6cdace6",
     "grade": false,
     "grade_id": "cell-1fd0d8b0c9800de4",
     "locked": true,
     "schema_version": 3,
     "solution": false,
     "task": false
    }
   },
   "outputs": [
    {
     "name": "stdout",
     "output_type": "stream",
     "text": [
      "    latitude   longitude  class    name\n",
      "0  20.525745  -97.460829     16  Pidgey\n",
      "1  20.523695  -97.461167    133   Eevee\n",
      "2  38.903590  -77.199780     16  Pidgey\n",
      "3  47.665903 -122.312561     13  Weedle\n",
      "4  47.666454 -122.311628    133   Eevee\n"
     ]
    }
   ],
   "source": [
    "# for convenience, let's add a new column to the dataframe with the name of the pokemon\n",
    "df[\"name\"] = df[\"class\"].apply(lambda x: name_dict[x])\n",
    "print(df.head())"
   ]
  },
  {
   "cell_type": "markdown",
   "metadata": {
    "deletable": false,
    "editable": false,
    "nbgrader": {
     "cell_type": "markdown",
     "checksum": "09025bb17628db2a36bb21a5b3b6f1c5",
     "grade": false,
     "grade_id": "cell-eaa874b93b3b727c",
     "locked": true,
     "schema_version": 3,
     "solution": false
    }
   },
   "source": [
    "We are only interested in three specific pokemon: Diglett, Seel, and Tauros."
   ]
  },
  {
   "cell_type": "markdown",
   "metadata": {
    "deletable": false,
    "editable": false,
    "nbgrader": {
     "cell_type": "markdown",
     "checksum": "ca357363a50da71ade1d068b235fbd63",
     "grade": false,
     "grade_id": "cell-7e0898a53c5649b0",
     "locked": true,
     "schema_version": 3,
     "solution": false
    }
   },
   "source": [
    "<table style=\"width:100%\">\n",
    "  <tr>\n",
    "    <th> <center>Diglett</center> </th>\n",
    "    <th> <center>Seel</center> </th> \n",
    "    <th> <center>Tauros</center> </th>\n",
    "  </tr>\n",
    "  <tr>\n",
    "    <td><img src=https://assets.pokemon.com/assets/cms2/img/pokedex/full/050_f2.png alt=Digglet></td>\n",
    "    <td><img src=https://pokemon.gamepedia.com/media/pokemon.gamepedia.com/thumb/f/f1/Seel.png/200px-Seel.png?version=2c32fbe0af2d0da707e5dbcb40472fbf></td>\n",
    "    <td><img src=https://www.pokemon.com/static-assets/content-assets/cms2/img/pokedex/full/128.png></td>\n",
    "  </tr>\n",
    "</table>\n",
    "\n"
   ]
  },
  {
   "cell_type": "markdown",
   "metadata": {
    "deletable": false,
    "editable": false,
    "nbgrader": {
     "cell_type": "markdown",
     "checksum": "0f67b745d8f97bcaf04b6674bab71e2d",
     "grade": false,
     "grade_id": "cell-d091927bf7d7938f",
     "locked": true,
     "schema_version": 3,
     "solution": false
    }
   },
   "source": [
    "Filter the dataset to contain only these three types of pokemon and save it in the DataFrame `filtered_df`."
   ]
  },
  {
   "cell_type": "code",
   "execution_count": 19,
   "metadata": {
    "deletable": false,
    "nbgrader": {
     "cell_type": "code",
     "checksum": "3101497237b105c936f9b72972e4e06f",
     "grade": false,
     "grade_id": "cell-7089f3397cbc1f4a",
     "locked": false,
     "schema_version": 3,
     "solution": true,
     "task": false
    }
   },
   "outputs": [
    {
     "name": "stdout",
     "output_type": "stream",
     "text": [
      "We have 2083 instances of Diglett, Seel, and Tauros in the dataset.\n"
     ]
    }
   ],
   "source": [
    "# YOUR CODE HERE\n",
    "# filter the dataframe to only include Diglett, Seel, and Tauros\n",
    "filtered_df = df[df[\"name\"].isin([\"Diglett\", \"Seel\", \"Tauros\"])] #Keep rows where the 'name' column is either 'Diglett', 'Seel', or 'Tauros'\n",
    "\n",
    "print(\n",
    "    f\"We have {len(filtered_df)} instances of Diglett, Seel, and Tauros in the dataset.\"\n",
    ")"
   ]
  },
  {
   "cell_type": "code",
   "execution_count": 20,
   "metadata": {
    "deletable": false,
    "editable": false,
    "nbgrader": {
     "cell_type": "code",
     "checksum": "804e5464b130a64d22b06d0b882d0c89",
     "grade": true,
     "grade_id": "cell-c24e683b633a9f9b",
     "locked": true,
     "points": 1,
     "schema_version": 3,
     "solution": false,
     "task": false
    }
   },
   "outputs": [],
   "source": [
    "assert len(np.unique(filtered_df[\"class\"])) == 3, \"There should be 3 unique classes.\"\n",
    "assert filtered_df.shape == (\n",
    "    2083,\n",
    "    4,\n",
    "), \"The shape of the filtered dataframe is incorrect.\""
   ]
  },
  {
   "cell_type": "markdown",
   "metadata": {
    "deletable": false,
    "editable": false,
    "nbgrader": {
     "cell_type": "markdown",
     "checksum": "6b1f1246460c9e81025c5dd94d54e9e2",
     "grade": false,
     "grade_id": "cell-4e7ef21d67cb017e",
     "locked": true,
     "schema_version": 3,
     "solution": false,
     "task": false
    }
   },
   "source": [
    "In an earlier cell, you could see that the dataset has 208 features per pokemon sighting (`df.shape == (296021, 208)`). Why do we only use the `longitude` and `latitude` features and not all the features? "
   ]
  },
  {
   "cell_type": "markdown",
   "metadata": {
    "deletable": false,
    "nbgrader": {
     "cell_type": "markdown",
     "checksum": "345b05134d46ff03c9a71123906636f2",
     "grade": true,
     "grade_id": "cell-21cf8cbbffef4929",
     "locked": false,
     "points": 0,
     "schema_version": 3,
     "solution": true,
     "task": false
    }
   },
   "source": [
    "**Your answer:** Becuase we are interested in finding the pokemon's geographical location which we obtain by combining the latitude and longitude."
   ]
  },
  {
   "cell_type": "markdown",
   "metadata": {
    "deletable": false,
    "editable": false,
    "nbgrader": {
     "cell_type": "markdown",
     "checksum": "2641774ea6d909844fb9d2e930763382",
     "grade": false,
     "grade_id": "cell-01b988bb1bfa1f92",
     "locked": true,
     "schema_version": 3,
     "solution": false
    }
   },
   "source": [
    "## 2. Visualization of the dataset"
   ]
  },
  {
   "cell_type": "markdown",
   "metadata": {
    "deletable": false,
    "editable": false,
    "nbgrader": {
     "cell_type": "markdown",
     "checksum": "437148ed483b9f34a3cd87aae3129933",
     "grade": false,
     "grade_id": "cell-5c7b8fdcd18575fe",
     "locked": true,
     "schema_version": 3,
     "solution": false
    }
   },
   "source": [
    "The second step consists of visualizing the dataset. This will help you understand the distribution of the features and get an idea of how hard the task will be.\n",
    "\n",
    "Plot a bar chart of the number of occurrences of each class."
   ]
  },
  {
   "cell_type": "code",
   "execution_count": 21,
   "metadata": {
    "deletable": false,
    "nbgrader": {
     "cell_type": "code",
     "checksum": "b9b6048c83c3f3f72c51e4baa47b141b",
     "grade": true,
     "grade_id": "cell-c1a9921488e42992",
     "locked": false,
     "points": 0,
     "schema_version": 3,
     "solution": true
    }
   },
   "outputs": [
    {
     "data": {
      "text/plain": [
       "<Axes: title={'center': 'Number of Occurrences of Each Pokemon'}, xlabel='name'>"
      ]
     },
     "execution_count": 21,
     "metadata": {},
     "output_type": "execute_result"
    },
    {
     "data": {
      "image/png": "[encoded data removed]",
      "text/plain": [
       "<Figure size 640x480 with 1 Axes>"
      ]
     },
     "metadata": {},
     "output_type": "display_data"
    }
   ],
   "source": [
    "# YOUR CODE HERE\n",
    "filtered_df['name'].value_counts().plot.bar(title='Number of Occurrences of Each Pokemon')\n"
   ]
  },
  {
   "cell_type": "markdown",
   "metadata": {
    "deletable": false,
    "editable": false,
    "nbgrader": {
     "cell_type": "markdown",
     "checksum": "e4c3c67ecc7c5b85749d001b0a622061",
     "grade": false,
     "grade_id": "cell-c22d835bdc58fe68",
     "locked": true,
     "schema_version": 3,
     "solution": false
    }
   },
   "source": [
    "Is the dataset balanced? Why/why not? Why is this important?"
   ]
  },
  {
   "cell_type": "markdown",
   "metadata": {
    "deletable": false,
    "nbgrader": {
     "cell_type": "markdown",
     "checksum": "c918f9b5d190f5f83c8dbd622e59d062",
     "grade": true,
     "grade_id": "cell-3d060bda26842b5d",
     "locked": false,
     "points": 0,
     "schema_version": 3,
     "solution": true
    }
   },
   "source": [
    "**Your answer:** It seems to be balanced which is a good thing because that helps the model learn all classes equally and not be biased toward any single class."
   ]
  },
  {
   "cell_type": "markdown",
   "metadata": {
    "deletable": false,
    "editable": false,
    "nbgrader": {
     "cell_type": "markdown",
     "checksum": "4382ce93389defee634b029f25edda16",
     "grade": false,
     "grade_id": "cell-931cbd9e3ec95da5",
     "locked": true,
     "schema_version": 3,
     "solution": false
    }
   },
   "source": [
    "Plot a scatter plot where the first dimension is longitude, the second is latitude, and each point is a Pokemon. Further, the color of each point should represent which Pokemon it is. Lastly, the marker at each point should be an `'x'`. Make sure to label each axis.\n",
    "\n",
    "Hints:\n",
    "\n",
    "- The `scatter` method from `matplotlib` accepts an argument called `c`.\n",
    "- The `scatter` method also accepts an argument called `marker`."
   ]
  },
  {
   "cell_type": "code",
   "execution_count": 22,
   "metadata": {
    "deletable": false,
    "nbgrader": {
     "cell_type": "code",
     "checksum": "f6f749d2605a9f0d0ae2dff5d584d414",
     "grade": true,
     "grade_id": "cell-1120bd5aa8abeae1",
     "locked": false,
     "points": 0,
     "schema_version": 3,
     "solution": true
    }
   },
   "outputs": [
    {
     "data": {
      "image/png": "[encoded data removed]",
      "text/plain": [
       "<Figure size 800x600 with 1 Axes>"
      ]
     },
     "metadata": {},
     "output_type": "display_data"
    }
   ],
   "source": [
    "# Scatter plot: longitude vs latitude, colored by Pokemon name\n",
    "colors = {'Diglett': 'orange', 'Seel': 'blue', 'Tauros': 'green'}\n",
    "plt.figure(figsize=(8,6))\n",
    "for name, group in filtered_df.groupby('name'):\n",
    "    plt.scatter(group['longitude'], group['latitude'], c=colors[name], label=name, marker='x', alpha=0.7)\n",
    "plt.xlabel('Longitude')\n",
    "plt.ylabel('Latitude')\n",
    "plt.title('Pokemon Sightings by Location')\n",
    "plt.legend()\n",
    "plt.show()"
   ]
  },
  {
   "cell_type": "markdown",
   "metadata": {
    "deletable": false,
    "editable": false,
    "nbgrader": {
     "cell_type": "markdown",
     "checksum": "4cad292133d28b4b0fe7f2245b0bc567",
     "grade": false,
     "grade_id": "cell-76f326a05bf22e09",
     "locked": true,
     "schema_version": 3,
     "solution": false
    }
   },
   "source": [
    "Is there any other visualization you think would be useful? If so, insert them here."
   ]
  },
  {
   "cell_type": "code",
   "execution_count": 23,
   "metadata": {
    "deletable": false,
    "nbgrader": {
     "cell_type": "code",
     "checksum": "ad81f10f7f24ca21197794fdcd7fb04c",
     "grade": true,
     "grade_id": "cell-86724bfd3955c5ed",
     "locked": false,
     "points": 0,
     "schema_version": 3,
     "solution": true
    }
   },
   "outputs": [],
   "source": [
    "# YOUR CODE HERE"
   ]
  },
  {
   "cell_type": "markdown",
   "metadata": {
    "deletable": false,
    "editable": false,
    "nbgrader": {
     "cell_type": "markdown",
     "checksum": "6140988fa08ca186bbe62a74e82ddddd",
     "grade": false,
     "grade_id": "cell-7af3ac7849dc5252",
     "locked": true,
     "schema_version": 3,
     "solution": false
    }
   },
   "source": [
    "How hard do you think the problem is? Which classes can/cannot be easily separated?\n"
   ]
  },
  {
   "cell_type": "markdown",
   "metadata": {
    "deletable": false,
    "nbgrader": {
     "cell_type": "markdown",
     "checksum": "6bb25f67d0cf2e55d60f2b63646ce9fe",
     "grade": true,
     "grade_id": "cell-62e50deb2cca74b2",
     "locked": false,
     "points": 0,
     "schema_version": 3,
     "solution": true
    }
   },
   "source": [
    "**Your answer:** I think it is difficult since the diglett and seel are quite separated and therefore difficult to classify their probable position. A part of seel and the entire taurus are however easier to classify since they are very close to each other. Making it easier for the classifier to guess correctly when looking at those geographical locations. "
   ]
  },
  {
   "cell_type": "markdown",
   "metadata": {
    "deletable": false,
    "editable": false,
    "nbgrader": {
     "cell_type": "markdown",
     "checksum": "9e6bfdd82abab0b61a471c52bfc9dff3",
     "grade": false,
     "grade_id": "cell-3d322369934aa289",
     "locked": true,
     "schema_version": 3,
     "solution": false
    }
   },
   "source": [
    "Which accuracy do you expect to achieve?"
   ]
  },
  {
   "cell_type": "markdown",
   "metadata": {
    "deletable": false,
    "nbgrader": {
     "cell_type": "markdown",
     "checksum": "931b0e510dcc8867fb3efb7e50fe8a25",
     "grade": true,
     "grade_id": "cell-f2c255ad5dd7e5fc",
     "locked": false,
     "points": 0,
     "schema_version": 3,
     "solution": true
    }
   },
   "source": [
    "**Your answer:** 60%"
   ]
  },
  {
   "cell_type": "markdown",
   "metadata": {
    "deletable": false,
    "editable": false,
    "nbgrader": {
     "cell_type": "markdown",
     "checksum": "d5510f4a800380ecc156cd9d2f3898e5",
     "grade": false,
     "grade_id": "cell-451e0813fca28b8b",
     "locked": true,
     "schema_version": 3,
     "solution": false
    }
   },
   "source": [
    "## 3. Preprocessing"
   ]
  },
  {
   "cell_type": "markdown",
   "metadata": {
    "deletable": false,
    "editable": false,
    "nbgrader": {
     "cell_type": "markdown",
     "checksum": "7a6c54a6e0bfe71ad1da3f834fbcb3d7",
     "grade": false,
     "grade_id": "cell-3eed8190495b60ac",
     "locked": true,
     "schema_version": 3,
     "solution": false
    }
   },
   "source": [
    "The third step consists of processing the data before training, such as dividing the dataset into training, validation, and test sets. Some tranformations can also be applied to the dataset in order to improve the performance of the network. We will use some PyTorch utilities to help us with this task.\n",
    "\n",
    "Start by creating the input and output vectors, `x` and `y`. The input should be latitude and longitude, and the output should be the class of the pokemon. Note that you cannot use the class names directly, as they are strings. You need to introduce some mapping to convert them to integers (0, 1, and 2) or one-hot vectors."
   ]
  },
  {
   "cell_type": "code",
   "execution_count": 24,
   "metadata": {
    "deletable": false,
    "nbgrader": {
     "cell_type": "code",
     "checksum": "a001f72e92feb0435ca66ca282c5eb6c",
     "grade": false,
     "grade_id": "cell-c61cb8065babf0c5",
     "locked": false,
     "schema_version": 3,
     "solution": true,
     "task": false
    }
   },
   "outputs": [
    {
     "name": "stdout",
     "output_type": "stream",
     "text": [
      "Shape of input data: (2083, 2)\n",
      "Shape of labels: (2083,)\n"
     ]
    }
   ],
   "source": [
    "# YOUR CODE HERE\n",
    "x = filtered_df[['latitude', 'longitude']].to_numpy(dtype=np.float32)\n",
    "name_to_label = {'Diglett': 0, 'Seel': 1, 'Tauros': 2}\n",
    "y = filtered_df['name'].map(name_to_label).to_numpy(dtype=np.int64)\n",
    "print(f\"Shape of input data: {x.shape}\")\n",
    "print(f\"Shape of labels: {y.shape}\")"
   ]
  },
  {
   "cell_type": "code",
   "execution_count": 25,
   "metadata": {
    "deletable": false,
    "editable": false,
    "nbgrader": {
     "cell_type": "code",
     "checksum": "c29016eeb4001be249e61f5364c9c294",
     "grade": true,
     "grade_id": "cell-e3cfcf9955f6809c",
     "locked": true,
     "points": 1,
     "schema_version": 3,
     "solution": false,
     "task": false
    }
   },
   "outputs": [],
   "source": [
    "assert isinstance(x, np.ndarray), \"x should be a numpy array\"\n",
    "assert isinstance(y, np.ndarray), \"y should be a numpy array\"\n",
    "\n",
    "assert x.shape[0] == y.shape[0], \"x and y should have the same number of samples\"\n",
    "assert x.shape[-1] == 2, \"x should have 2 features\"\n",
    "assert x.dtype == np.float32, \"x should be of type float32\"\n",
    "if y.shape[-1] == 3:  # one-hot encoded\n",
    "    assert y.max() == 1, \"one-hot encoded y, at least one entry should be 1\"\n",
    "    assert y.min() == 0, \"one-hot encoded y, at least one entry should be 0\"\n",
    "    assert y.sum(axis=1).all() == 1\n",
    "else:  # label encoded\n",
    "    assert y.max() == 2, \"label encoded y, should have a max value of 2\"\n",
    "    assert y.min() == 0, \"label encoded y, should have a min value of 0\""
   ]
  },
  {
   "cell_type": "markdown",
   "metadata": {
    "deletable": false,
    "editable": false,
    "nbgrader": {
     "cell_type": "markdown",
     "checksum": "667ef8d517475a54aca21e510c96761d",
     "grade": false,
     "grade_id": "cell-566d2f340fa57d49",
     "locked": true,
     "schema_version": 3,
     "solution": false
    }
   },
   "source": [
    "Separate your data into training (55%), validation (25%) and test sets (20%) and save them as `dataset_train`, `dataset_val`, `dataset_test`. If you wish to apply any transformation to the dataset, do it here as well. \n",
    "\n",
    "Further, create a class, PokemonDataset, inheriting from PyTorch [`Dataset`](https://pytorch.org/docs/stable/data.html#torch.utils.data.Dataset) and use this for storing the data. In other words, `dataset_train`, `dataset_val`, `dataset_test` should have type PokemonDataset. You will need to implement a `__getitem__`, `__len__` and `__init__` method. Although perhaps a bit overkill for this assignment, it is a good practice for handling datasets in PyTorch.\n",
    "\n",
    "Last, instantiate a [`DataLoader`](https://pytorch.org/docs/stable/data.html#torch.utils.data.DataLoader) for each dataset, i.e., `loader_train`, `loader_val`, `loader_test`. This will fetch samples from the datasets and combine them into batches. Remember to select a suitable batch size."
   ]
  },
  {
   "cell_type": "code",
   "execution_count": 26,
   "metadata": {
    "deletable": false,
    "nbgrader": {
     "cell_type": "code",
     "checksum": "e2a4956e2e49a791cfcf70933886dacd",
     "grade": false,
     "grade_id": "cell-918e3bb4d74472bd",
     "locked": false,
     "schema_version": 3,
     "solution": true,
     "task": false
    }
   },
   "outputs": [],
   "source": [
    "from torch.utils.data import Dataset, DataLoader\n",
    "import torch\n",
    "num_samples = filtered_df.shape[0]\n",
    "random = np.random.permutation(num_samples)\n",
    "train_end = int(0.55 * num_samples)\n",
    "val_end = train_end + int(0.25 * num_samples)\n",
    "train_indices = random[:train_end]\n",
    "val_indices = random[train_end:val_end]\n",
    "test_indices = random[val_end:]\n",
    "\n",
    "x_train, y_train = x[train_indices], y[train_indices]\n",
    "x_val, y_val = x[val_indices], y[val_indices]\n",
    "x_test, y_test = x[test_indices], y[test_indices]\n",
    "\n",
    "class PokemonDataset(Dataset):\n",
    "    def __init__(self, x, y):\n",
    "        self.x = torch.tensor(x, dtype=torch.float32)\n",
    "        self.y = torch.tensor(y, dtype=torch.long)\n",
    "    def __len__(self):\n",
    "        return len(self.x)\n",
    "    def __getitem__(self, idx):\n",
    "        return self.x[idx], self.y[idx]\n",
    "\n",
    "dataset_train = PokemonDataset(x_train, y_train)\n",
    "dataset_val = PokemonDataset(x_val, y_val)\n",
    "dataset_test = PokemonDataset(x_test, y_test)\n",
    "\n",
    "loader_train = DataLoader(dataset_train, batch_size=32, shuffle=True)\n",
    "loader_val = DataLoader(dataset_val, batch_size=32, shuffle=False)\n",
    "loader_test = DataLoader(dataset_test, batch_size=32, shuffle=False)"
   ]
  },
  {
   "cell_type": "code",
   "execution_count": 27,
   "metadata": {
    "deletable": false,
    "editable": false,
    "nbgrader": {
     "cell_type": "code",
     "checksum": "679946ba2a8db7542fb0a009ebdec14b",
     "grade": true,
     "grade_id": "cell-26a6a53ab59cb075",
     "locked": true,
     "points": 1,
     "schema_version": 3,
     "solution": false,
     "task": false
    }
   },
   "outputs": [],
   "source": [
    "assert isinstance(\n",
    "    dataset_train, PokemonDataset\n",
    "), \"dataset_train should be an instance of PokemonDataset\"\n",
    "assert isinstance(\n",
    "    dataset_val, PokemonDataset\n",
    "), \"dataset_val should be an instance of PokemonDataset\"\n",
    "assert isinstance(\n",
    "    dataset_test, PokemonDataset\n",
    "), \"dataset_test should be an instance of PokemonDataset\"\n",
    "\n",
    "assert (\n",
    "    abs(len(dataset_train) / len(x) - 0.55) < 0.01\n",
    "), \"dataset_train has the wrong length, should be 55% of the data\"\n",
    "assert (\n",
    "    abs(len(dataset_val) / len(x) - 0.25) < 0.01\n",
    "), \"dataset_val has the wrong length, should be 25% of the data\"\n",
    "assert (\n",
    "    abs(len(dataset_test) / len(x) - 0.20) < 0.01\n",
    "), \"dataset_test has the wrong length, should be 20% of the data\"\n",
    "\n",
    "assert isinstance(\n",
    "    loader_train, DataLoader\n",
    "), \"loader_train should be an instance of DataLoader\"\n",
    "assert isinstance(\n",
    "    loader_val, DataLoader\n",
    "), \"loader_val should be an instance of DataLoader\"\n",
    "assert isinstance(\n",
    "    loader_test, DataLoader\n",
    "), \"loader_test should be an instance of DataLoader\"\n",
    "\n",
    "assert len(loader_train), \"loader_train should have a length\"\n",
    "assert len(loader_val), \"loader_val should have a length\"\n",
    "assert len(loader_test), \"loader_test should have a length\""
   ]
  },
  {
   "cell_type": "markdown",
   "metadata": {
    "deletable": false,
    "editable": false,
    "nbgrader": {
     "cell_type": "markdown",
     "checksum": "c9b5ffa094240411cb43919a003ba914",
     "grade": false,
     "grade_id": "cell-b9088197f0ab661c",
     "locked": true,
     "schema_version": 3,
     "solution": false
    }
   },
   "source": [
    "## 4. Training"
   ]
  },
  {
   "cell_type": "markdown",
   "metadata": {
    "deletable": false,
    "editable": false,
    "nbgrader": {
     "cell_type": "markdown",
     "checksum": "6c5d33400a0aa71b9c81a01181b7cb3b",
     "grade": false,
     "grade_id": "cell-1c4e4c6b7186c418",
     "locked": true,
     "schema_version": 3,
     "solution": false
    }
   },
   "source": [
    "The fourth step is where you will choose the architecture of your network (number of hidden layers, activation functions, etc.), optimizer, loss function and then train the network. \n",
    "\n",
    "Start by implementing a training loop, and a helper function to calculate the accuracy. The training loop should calculate the loss and accuracy for both the training and validation set and print it with some regular interval (each epoch, or every few epochs, for instance). It can also be helpful to plot the loss and accuracy for both the training and validation set, either in the training loop, or after it has finished (i.e., you have to store the values during training and return them).\n",
    "\n",
    "We have prepared the `train_model` function with the arguments you need, but you have access to *args and **kwargs if you want to pass additional arguments to the function."
   ]
  },
  {
   "cell_type": "code",
   "execution_count": 28,
   "metadata": {
    "deletable": false,
    "nbgrader": {
     "cell_type": "code",
     "checksum": "651fa27aab4bd856b89ccdb51201cdf9",
     "grade": false,
     "grade_id": "cell-e1cb09a6dcbdb401",
     "locked": false,
     "schema_version": 3,
     "solution": true,
     "task": false
    }
   },
   "outputs": [],
   "source": [
    "from typing import Callable, Union\n",
    "\n",
    "import torch\n",
    "import torch.nn as nn\n",
    "import torch.utils\n",
    "\n",
    "def accuracy(y_hat: torch.Tensor, y: torch.Tensor) -> torch.Tensor:\n",
    "    \"\"\"\n",
    "    Compute the accuracy of the model.\n",
    "\n",
    "    Args:\n",
    "    y_hat: torch.Tensor: The model predictions (probability per class), shape: [batch_size, num_classes]\n",
    "    y: torch.Tensor: The true labels, shape: [batch_size]\n",
    "\n",
    "    Returns:\n",
    "    torch.Tensor: The accuracy of the model\n",
    "    \"\"\"\n",
    "    #YOUR CODE HERE\n",
    "    if y.dim() == 2 and y.shape == y_hat.shape:\n",
    "        y_true = y.argmax(dim=1)\n",
    "    else:\n",
    "        y_true = y.squeeze().long()\n",
    "\n",
    "    # multiclass vs binary/logit\n",
    "    if y_hat.dim() > 1 and y_hat.size(1) > 1:\n",
    "        preds = y_hat.argmax(dim=1)\n",
    "    else:\n",
    "        preds = (torch.sigmoid(y_hat.squeeze()) > 0.5).long()\n",
    "\n",
    "    return (preds == y_true).float().mean()\n",
    "\n",
    "def train_model(\n",
    "    model: nn.Module,\n",
    "    optimizer: torch.optim,\n",
    "    loss_fn: Union[Callable, nn.Module],\n",
    "    num_epochs: int,\n",
    "    train_dataloader: torch.utils.data.DataLoader,\n",
    "    val_dataloader: torch.utils.data.DataLoader,\n",
    "    device: Union[str, torch.device],\n",
    "    *args,\n",
    "    **kwargs,\n",
    "):\n",
    "    \"\"\"\n",
    "    Train the model.\n",
    "\n",
    "    Args:\n",
    "    model: nn.Module: The neural network model\n",
    "    optimizer: torch.optim: The optimizer used to update the model parameters\n",
    "    loss_fn: Union[Callable, nn.Module]: The loss function used to compute the loss\n",
    "    num_epochs: int: The number of epochs to train the model\n",
    "    train_dataloader: torch.utils.data.DataLoader: The training dataloader\n",
    "    val_dataloader: torch.utils.data.DataLoader: The validation dataloader\n",
    "    device: Union[str, torch.device]: The device to run the training on\n",
    "    *args: Additional arguments to pass to the train function\n",
    "    **kwargs: Additional keyword arguments to pass to the train function\n",
    "    \"\"\"\n",
    "    model.to(device)\n",
    "    for epoch in range(num_epochs):\n",
    "        model.train()\n",
    "        train_loss = 0.0\n",
    "        train_acc = 0.0\n",
    "        for xb, yb in train_dataloader:\n",
    "            xb, yb = xb.to(device), yb.to(device)\n",
    "            optimizer.zero_grad()\n",
    "            y_hat = model(xb)\n",
    "            loss = loss_fn(y_hat, yb)\n",
    "            loss.backward()\n",
    "            optimizer.step()\n",
    "            train_loss += loss.item() * xb.size(0)\n",
    "            train_acc += (y_hat.argmax(dim=1) == yb).float().sum().item()\n",
    "        train_loss /= len(train_dataloader.dataset)\n",
    "        train_acc /= len(train_dataloader.dataset)\n",
    "\n",
    "        model.eval()\n",
    "        val_loss = 0.0\n",
    "        val_acc = 0.0\n",
    "        with torch.no_grad():\n",
    "            for xb, yb in val_dataloader:\n",
    "                xb, yb = xb.to(device), yb.to(device)\n",
    "                y_hat = model(xb)\n",
    "                loss = loss_fn(y_hat, yb)\n",
    "                val_loss += loss.item() * xb.size(0)\n",
    "                val_acc += (y_hat.argmax(dim=1) == yb).float().sum().item()\n",
    "        val_loss /= len(val_dataloader.dataset)\n",
    "        val_acc /= len(val_dataloader.dataset)\n",
    "\n",
    "        print(f\"Epoch {epoch+1}/{num_epochs} | Train Loss: {train_loss:.4f} | Train Acc: {train_acc:.4f} | Val Loss: {val_loss:.4f} | Val Acc: {val_acc:.4f}\")"
   ]
  },
  {
   "cell_type": "markdown",
   "metadata": {
    "deletable": false,
    "editable": false,
    "nbgrader": {
     "cell_type": "markdown",
     "checksum": "f120e556ca9bee3969022ccd95c884d5",
     "grade": false,
     "grade_id": "cell-abd73fe36efa945d",
     "locked": true,
     "schema_version": 3,
     "solution": false,
     "task": false
    }
   },
   "source": [
    "Next, we'll test that your training loop is correct. A [common sanity check in deep learning](https://karpathy.github.io/2019/04/25/recipe/) is to overfit to a small dataset, like a single batch of data. This ensures that shapes and devices are correctly set, and the network can learn/memorize the training data, which is a good starting point before training on the full dataset."
   ]
  },
  {
   "cell_type": "code",
   "execution_count": 29,
   "metadata": {
    "deletable": false,
    "editable": false,
    "nbgrader": {
     "cell_type": "code",
     "checksum": "4f4c52b6973df138e3fbe8f0ce30b32d",
     "grade": true,
     "grade_id": "cell-be96e21b4495aa27",
     "locked": true,
     "points": 1,
     "schema_version": 3,
     "solution": false,
     "task": false
    }
   },
   "outputs": [
    {
     "name": "stdout",
     "output_type": "stream",
     "text": [
      "Testing training loop, CPU\n",
      "Epoch 1/100 | Train Loss: 1.6535 | Train Acc: 0.0000 | Val Loss: 1.1759 | Val Acc: 0.0000\n",
      "Epoch 2/100 | Train Loss: 1.5339 | Train Acc: 0.0000 | Val Loss: 1.1580 | Val Acc: 0.0000\n",
      "Epoch 3/100 | Train Loss: 1.4228 | Train Acc: 0.0000 | Val Loss: 1.1417 | Val Acc: 0.0000\n",
      "Epoch 4/100 | Train Loss: 1.3200 | Train Acc: 0.0000 | Val Loss: 1.1268 | Val Acc: 0.0000\n",
      "Epoch 5/100 | Train Loss: 1.2252 | Train Acc: 0.0000 | Val Loss: 1.1134 | Val Acc: 0.5000\n",
      "Epoch 6/100 | Train Loss: 1.1380 | Train Acc: 0.0000 | Val Loss: 1.1012 | Val Acc: 0.5000\n",
      "Epoch 7/100 | Train Loss: 1.0581 | Train Acc: 0.5000 | Val Loss: 1.0903 | Val Acc: 0.5000\n",
      "Epoch 8/100 | Train Loss: 0.9850 | Train Acc: 0.5000 | Val Loss: 1.0806 | Val Acc: 0.5000\n",
      "Epoch 9/100 | Train Loss: 0.9182 | Train Acc: 0.5000 | Val Loss: 1.0718 | Val Acc: 0.5000\n",
      "Epoch 10/100 | Train Loss: 0.8572 | Train Acc: 0.5000 | Val Loss: 1.0640 | Val Acc: 0.5000\n",
      "Epoch 11/100 | Train Loss: 0.8014 | Train Acc: 0.5000 | Val Loss: 1.0571 | Val Acc: 0.5000\n",
      "Epoch 12/100 | Train Loss: 0.7506 | Train Acc: 0.5000 | Val Loss: 1.0509 | Val Acc: 0.5000\n",
      "Epoch 13/100 | Train Loss: 0.7041 | Train Acc: 1.0000 | Val Loss: 1.0454 | Val Acc: 0.5000\n",
      "Epoch 14/100 | Train Loss: 0.6617 | Train Acc: 1.0000 | Val Loss: 1.0406 | Val Acc: 0.5000\n",
      "Epoch 15/100 | Train Loss: 0.6229 | Train Acc: 1.0000 | Val Loss: 1.0363 | Val Acc: 0.5000\n",
      "Epoch 16/100 | Train Loss: 0.5873 | Train Acc: 1.0000 | Val Loss: 1.0325 | Val Acc: 0.5000\n",
      "Epoch 17/100 | Train Loss: 0.5548 | Train Acc: 1.0000 | Val Loss: 1.0292 | Val Acc: 0.5000\n",
      "Epoch 18/100 | Train Loss: 0.5248 | Train Acc: 1.0000 | Val Loss: 1.0263 | Val Acc: 0.5000\n",
      "Epoch 19/100 | Train Loss: 0.4973 | Train Acc: 1.0000 | Val Loss: 1.0238 | Val Acc: 0.5000\n",
      "Epoch 20/100 | Train Loss: 0.4720 | Train Acc: 1.0000 | Val Loss: 1.0216 | Val Acc: 0.5000\n",
      "Epoch 21/100 | Train Loss: 0.4487 | Train Acc: 1.0000 | Val Loss: 1.0197 | Val Acc: 0.5000\n",
      "Epoch 22/100 | Train Loss: 0.4271 | Train Acc: 1.0000 | Val Loss: 1.0181 | Val Acc: 0.5000\n",
      "Epoch 23/100 | Train Loss: 0.4072 | Train Acc: 1.0000 | Val Loss: 1.0167 | Val Acc: 0.5000\n",
      "Epoch 24/100 | Train Loss: 0.3887 | Train Acc: 1.0000 | Val Loss: 1.0155 | Val Acc: 0.5000\n",
      "Epoch 25/100 | Train Loss: 0.3716 | Train Acc: 1.0000 | Val Loss: 1.0145 | Val Acc: 0.5000\n",
      "Epoch 26/100 | Train Loss: 0.3557 | Train Acc: 1.0000 | Val Loss: 1.0137 | Val Acc: 0.5000\n",
      "Epoch 27/100 | Train Loss: 0.3409 | Train Acc: 1.0000 | Val Loss: 1.0131 | Val Acc: 0.5000\n",
      "Epoch 28/100 | Train Loss: 0.3271 | Train Acc: 1.0000 | Val Loss: 1.0126 | Val Acc: 0.5000\n",
      "Epoch 29/100 | Train Loss: 0.3142 | Train Acc: 1.0000 | Val Loss: 1.0122 | Val Acc: 0.5000\n",
      "Epoch 30/100 | Train Loss: 0.3021 | Train Acc: 1.0000 | Val Loss: 1.0119 | Val Acc: 0.5000\n",
      "Epoch 31/100 | Train Loss: 0.2908 | Train Acc: 1.0000 | Val Loss: 1.0118 | Val Acc: 0.5000\n",
      "Epoch 32/100 | Train Loss: 0.2802 | Train Acc: 1.0000 | Val Loss: 1.0117 | Val Acc: 0.5000\n",
      "Epoch 33/100 | Train Loss: 0.2703 | Train Acc: 1.0000 | Val Loss: 1.0117 | Val Acc: 0.5000\n",
      "Epoch 34/100 | Train Loss: 0.2610 | Train Acc: 1.0000 | Val Loss: 1.0118 | Val Acc: 0.5000\n",
      "Epoch 35/100 | Train Loss: 0.2522 | Train Acc: 1.0000 | Val Loss: 1.0120 | Val Acc: 0.5000\n",
      "Epoch 36/100 | Train Loss: 0.2439 | Train Acc: 1.0000 | Val Loss: 1.0122 | Val Acc: 0.5000\n",
      "Epoch 37/100 | Train Loss: 0.2361 | Train Acc: 1.0000 | Val Loss: 1.0125 | Val Acc: 0.5000\n",
      "Epoch 38/100 | Train Loss: 0.2287 | Train Acc: 1.0000 | Val Loss: 1.0129 | Val Acc: 0.5000\n",
      "Epoch 39/100 | Train Loss: 0.2217 | Train Acc: 1.0000 | Val Loss: 1.0133 | Val Acc: 0.5000\n",
      "Epoch 40/100 | Train Loss: 0.2151 | Train Acc: 1.0000 | Val Loss: 1.0137 | Val Acc: 0.5000\n",
      "Epoch 41/100 | Train Loss: 0.2088 | Train Acc: 1.0000 | Val Loss: 1.0142 | Val Acc: 0.5000\n",
      "Epoch 42/100 | Train Loss: 0.2028 | Train Acc: 1.0000 | Val Loss: 1.0147 | Val Acc: 0.5000\n",
      "Epoch 43/100 | Train Loss: 0.1972 | Train Acc: 1.0000 | Val Loss: 1.0152 | Val Acc: 0.5000\n",
      "Epoch 44/100 | Train Loss: 0.1918 | Train Acc: 1.0000 | Val Loss: 1.0158 | Val Acc: 0.5000\n",
      "Epoch 45/100 | Train Loss: 0.1867 | Train Acc: 1.0000 | Val Loss: 1.0164 | Val Acc: 0.5000\n",
      "Epoch 46/100 | Train Loss: 0.1818 | Train Acc: 1.0000 | Val Loss: 1.0170 | Val Acc: 0.5000\n",
      "Epoch 47/100 | Train Loss: 0.1772 | Train Acc: 1.0000 | Val Loss: 1.0177 | Val Acc: 0.5000\n",
      "Epoch 48/100 | Train Loss: 0.1727 | Train Acc: 1.0000 | Val Loss: 1.0183 | Val Acc: 0.5000\n",
      "Epoch 49/100 | Train Loss: 0.1685 | Train Acc: 1.0000 | Val Loss: 1.0190 | Val Acc: 0.5000\n",
      "Epoch 50/100 | Train Loss: 0.1644 | Train Acc: 1.0000 | Val Loss: 1.0197 | Val Acc: 0.5000\n",
      "Epoch 51/100 | Train Loss: 0.1606 | Train Acc: 1.0000 | Val Loss: 1.0204 | Val Acc: 0.5000\n",
      "Epoch 52/100 | Train Loss: 0.1568 | Train Acc: 1.0000 | Val Loss: 1.0211 | Val Acc: 0.5000\n",
      "Epoch 53/100 | Train Loss: 0.1533 | Train Acc: 1.0000 | Val Loss: 1.0219 | Val Acc: 0.5000\n",
      "Epoch 54/100 | Train Loss: 0.1499 | Train Acc: 1.0000 | Val Loss: 1.0226 | Val Acc: 0.5000\n",
      "Epoch 55/100 | Train Loss: 0.1466 | Train Acc: 1.0000 | Val Loss: 1.0233 | Val Acc: 0.5000\n",
      "Epoch 56/100 | Train Loss: 0.1435 | Train Acc: 1.0000 | Val Loss: 1.0241 | Val Acc: 0.5000\n",
      "Epoch 57/100 | Train Loss: 0.1404 | Train Acc: 1.0000 | Val Loss: 1.0249 | Val Acc: 0.5000\n",
      "Epoch 58/100 | Train Loss: 0.1375 | Train Acc: 1.0000 | Val Loss: 1.0256 | Val Acc: 0.5000\n",
      "Epoch 59/100 | Train Loss: 0.1347 | Train Acc: 1.0000 | Val Loss: 1.0264 | Val Acc: 0.5000\n",
      "Epoch 60/100 | Train Loss: 0.1320 | Train Acc: 1.0000 | Val Loss: 1.0272 | Val Acc: 0.5000\n",
      "Epoch 61/100 | Train Loss: 0.1294 | Train Acc: 1.0000 | Val Loss: 1.0280 | Val Acc: 0.5000\n",
      "Epoch 62/100 | Train Loss: 0.1269 | Train Acc: 1.0000 | Val Loss: 1.0288 | Val Acc: 0.5000\n",
      "Epoch 63/100 | Train Loss: 0.1245 | Train Acc: 1.0000 | Val Loss: 1.0296 | Val Acc: 0.5000\n",
      "Epoch 64/100 | Train Loss: 0.1222 | Train Acc: 1.0000 | Val Loss: 1.0304 | Val Acc: 0.5000\n",
      "Epoch 65/100 | Train Loss: 0.1200 | Train Acc: 1.0000 | Val Loss: 1.0312 | Val Acc: 0.5000\n",
      "Epoch 66/100 | Train Loss: 0.1178 | Train Acc: 1.0000 | Val Loss: 1.0320 | Val Acc: 0.5000\n",
      "Epoch 67/100 | Train Loss: 0.1157 | Train Acc: 1.0000 | Val Loss: 1.0328 | Val Acc: 0.5000\n",
      "Epoch 68/100 | Train Loss: 0.1137 | Train Acc: 1.0000 | Val Loss: 1.0336 | Val Acc: 0.5000\n",
      "Epoch 69/100 | Train Loss: 0.1117 | Train Acc: 1.0000 | Val Loss: 1.0344 | Val Acc: 0.5000\n",
      "Epoch 70/100 | Train Loss: 0.1098 | Train Acc: 1.0000 | Val Loss: 1.0352 | Val Acc: 0.5000\n",
      "Epoch 71/100 | Train Loss: 0.1080 | Train Acc: 1.0000 | Val Loss: 1.0360 | Val Acc: 0.5000\n",
      "Epoch 72/100 | Train Loss: 0.1062 | Train Acc: 1.0000 | Val Loss: 1.0368 | Val Acc: 0.5000\n",
      "Epoch 73/100 | Train Loss: 0.1044 | Train Acc: 1.0000 | Val Loss: 1.0376 | Val Acc: 0.5000\n",
      "Epoch 74/100 | Train Loss: 0.1028 | Train Acc: 1.0000 | Val Loss: 1.0384 | Val Acc: 0.5000\n",
      "Epoch 75/100 | Train Loss: 0.1011 | Train Acc: 1.0000 | Val Loss: 1.0392 | Val Acc: 0.5000\n",
      "Epoch 76/100 | Train Loss: 0.0996 | Train Acc: 1.0000 | Val Loss: 1.0400 | Val Acc: 0.5000\n",
      "Epoch 77/100 | Train Loss: 0.0980 | Train Acc: 1.0000 | Val Loss: 1.0408 | Val Acc: 0.5000\n",
      "Epoch 78/100 | Train Loss: 0.0966 | Train Acc: 1.0000 | Val Loss: 1.0416 | Val Acc: 0.5000\n",
      "Epoch 79/100 | Train Loss: 0.0951 | Train Acc: 1.0000 | Val Loss: 1.0424 | Val Acc: 0.5000\n",
      "Epoch 80/100 | Train Loss: 0.0937 | Train Acc: 1.0000 | Val Loss: 1.0431 | Val Acc: 0.5000\n",
      "Epoch 81/100 | Train Loss: 0.0923 | Train Acc: 1.0000 | Val Loss: 1.0439 | Val Acc: 0.5000\n",
      "Epoch 82/100 | Train Loss: 0.0910 | Train Acc: 1.0000 | Val Loss: 1.0447 | Val Acc: 0.5000\n",
      "Epoch 83/100 | Train Loss: 0.0897 | Train Acc: 1.0000 | Val Loss: 1.0455 | Val Acc: 0.5000\n",
      "Epoch 84/100 | Train Loss: 0.0885 | Train Acc: 1.0000 | Val Loss: 1.0463 | Val Acc: 0.5000\n",
      "Epoch 85/100 | Train Loss: 0.0872 | Train Acc: 1.0000 | Val Loss: 1.0471 | Val Acc: 0.5000\n",
      "Epoch 86/100 | Train Loss: 0.0860 | Train Acc: 1.0000 | Val Loss: 1.0478 | Val Acc: 0.5000\n",
      "Epoch 87/100 | Train Loss: 0.0849 | Train Acc: 1.0000 | Val Loss: 1.0486 | Val Acc: 0.5000\n",
      "Epoch 88/100 | Train Loss: 0.0838 | Train Acc: 1.0000 | Val Loss: 1.0494 | Val Acc: 0.5000\n",
      "Epoch 89/100 | Train Loss: 0.0826 | Train Acc: 1.0000 | Val Loss: 1.0501 | Val Acc: 0.5000\n",
      "Epoch 90/100 | Train Loss: 0.0816 | Train Acc: 1.0000 | Val Loss: 1.0509 | Val Acc: 0.5000\n",
      "Epoch 91/100 | Train Loss: 0.0805 | Train Acc: 1.0000 | Val Loss: 1.0517 | Val Acc: 0.5000\n",
      "Epoch 92/100 | Train Loss: 0.0795 | Train Acc: 1.0000 | Val Loss: 1.0524 | Val Acc: 0.5000\n",
      "Epoch 93/100 | Train Loss: 0.0785 | Train Acc: 1.0000 | Val Loss: 1.0532 | Val Acc: 0.5000\n",
      "Epoch 94/100 | Train Loss: 0.0775 | Train Acc: 1.0000 | Val Loss: 1.0539 | Val Acc: 0.5000\n",
      "Epoch 95/100 | Train Loss: 0.0766 | Train Acc: 1.0000 | Val Loss: 1.0547 | Val Acc: 0.5000\n",
      "Epoch 96/100 | Train Loss: 0.0756 | Train Acc: 1.0000 | Val Loss: 1.0554 | Val Acc: 0.5000\n",
      "Epoch 97/100 | Train Loss: 0.0747 | Train Acc: 1.0000 | Val Loss: 1.0562 | Val Acc: 0.5000\n",
      "Epoch 98/100 | Train Loss: 0.0738 | Train Acc: 1.0000 | Val Loss: 1.0569 | Val Acc: 0.5000\n",
      "Epoch 99/100 | Train Loss: 0.0730 | Train Acc: 1.0000 | Val Loss: 1.0576 | Val Acc: 0.5000\n",
      "Epoch 100/100 | Train Loss: 0.0721 | Train Acc: 1.0000 | Val Loss: 1.0584 | Val Acc: 0.5000\n"
     ]
    }
   ],
   "source": [
    "def test_train_loop():\n",
    "    import torch.nn as nn\n",
    "    import torch.optim as optim\n",
    "    import torch.utils.data as data\n",
    "\n",
    "    # init simple model, optimizer, loss_fn, dataloaders\n",
    "    linear_model = nn.Linear(2, 3)\n",
    "    optimizer = optim.SGD(linear_model.parameters(), lr=0.01)\n",
    "    loss_fn = nn.CrossEntropyLoss()\n",
    "    testing_loader_train = data.DataLoader(\n",
    "        data.TensorDataset(torch.randn(2, 2), torch.randint(0, 3, (2,)))\n",
    "    )\n",
    "    testing_loader_val = data.DataLoader(\n",
    "        data.TensorDataset(torch.randn(2, 2), torch.randint(0, 3, (2,)))\n",
    "    )\n",
    "\n",
    "    # copy parameters to check for changes\n",
    "    params_before_training = list(linear_model.parameters())\n",
    "    params_before_training = [p.clone().to(\"cpu\") for p in params_before_training]\n",
    "\n",
    "    print(\"Testing training loop, CPU\")\n",
    "    train_model(\n",
    "        model=linear_model,\n",
    "        optimizer=optimizer,\n",
    "        loss_fn=loss_fn,\n",
    "        num_epochs=100,\n",
    "        train_dataloader=testing_loader_train,\n",
    "        val_dataloader=testing_loader_val,\n",
    "        device=\"cpu\",\n",
    "    )\n",
    "    if torch.cuda.is_available():\n",
    "        print(\"Testing training loop, CUDA\")\n",
    "        train_model(\n",
    "            model=linear_model,\n",
    "            optimizer=optimizer,\n",
    "            loss_fn=loss_fn,\n",
    "            num_epochs=100,\n",
    "            train_dataloader=testing_loader_train,\n",
    "            val_dataloader=testing_loader_val,\n",
    "            device=\"cuda\" if torch.cuda.is_available() else \"cpu\",\n",
    "        )\n",
    "\n",
    "    params_after_training = list(linear_model.parameters())\n",
    "    params_after_training = [p.clone().to(\"cpu\") for p in params_after_training]\n",
    "    for p_before, p_after in zip(params_before_training, params_after_training):\n",
    "        assert torch.any(\n",
    "            p_before != p_after\n",
    "        ), \"Model parameters did not change during training\"\n",
    "\n",
    "    # check that we could overfit a single example\n",
    "    (x, y) = next(iter(testing_loader_train))\n",
    "    x.to(\"cpu\")\n",
    "    y.to(\"cpu\")\n",
    "    linear_model.to(\"cpu\")\n",
    "    assert (\n",
    "        linear_model(x).argmax().item() == y.item()\n",
    "    ), \"Model could not overfit a single example\"\n",
    "\n",
    "\n",
    "def test_accuracy():\n",
    "    y_pred = torch.tensor([[0.1, 0.8, 0.1], [0.3, 0.4, 0.3], [0.1, 0.1, 0.8]])\n",
    "    y_true = torch.tensor([1, 0, 2])\n",
    "    acc = accuracy(y_pred, y_true)\n",
    "    assert isinstance(acc, torch.Tensor), \"Accuracy should be a torch.Tensor\"\n",
    "    assert torch.isclose(acc, torch.tensor(2 / 3)), f\"Accuracy is {acc}, expected 2/3\"\n",
    "\n",
    "\n",
    "try:\n",
    "    test_train_loop()\n",
    "except Exception as e:\n",
    "    print(e)\n",
    "    assert False, \"Training test failed, see error above\"\n",
    "\n",
    "test_accuracy()"
   ]
  },
  {
   "cell_type": "markdown",
   "metadata": {
    "deletable": false,
    "editable": false,
    "nbgrader": {
     "cell_type": "markdown",
     "checksum": "bd84899c109e58d0664fc4fab26425a2",
     "grade": false,
     "grade_id": "cell-a13a4a8eef1c582f",
     "locked": true,
     "schema_version": 3,
     "solution": false,
     "task": false
    }
   },
   "source": [
    "Now, create a neural network using PyTorch. You can use any architecture you want. Save the model in the variable `model`."
   ]
  },
  {
   "cell_type": "code",
   "execution_count": 30,
   "metadata": {
    "deletable": false,
    "nbgrader": {
     "cell_type": "code",
     "checksum": "ccbab415641442556c01ed5667f4ea77",
     "grade": false,
     "grade_id": "cell-dff32f0d1dd91a72",
     "locked": false,
     "schema_version": 3,
     "solution": true,
     "task": false
    }
   },
   "outputs": [],
   "source": [
    "# Simple MLP for 2D input, 3-class output\n",
    "import torch\n",
    "import torch.nn as nn\n",
    "import torch.nn.functional as F\n",
    "\n",
    "class SimpleMLP(nn.Module):\n",
    "    def __init__(self, input_dim=2, hidden_dim=32, output_dim=3):\n",
    "        super().__init__()\n",
    "        self.fc1 = nn.Linear(input_dim, hidden_dim)\n",
    "        self.fc2 = nn.Linear(hidden_dim, output_dim)\n",
    "    def forward(self, x):\n",
    "        x = F.relu(self.fc1(x))\n",
    "        x = self.fc2(x)\n",
    "        return x\n",
    "\n",
    "model = SimpleMLP()"
   ]
  },
  {
   "cell_type": "code",
   "execution_count": 31,
   "metadata": {
    "deletable": false,
    "editable": false,
    "nbgrader": {
     "cell_type": "code",
     "checksum": "8d10331a48b8b11d2d2056d610b13b7f",
     "grade": true,
     "grade_id": "cell-a3f55091f5cbbdfe",
     "locked": true,
     "points": 1,
     "schema_version": 3,
     "solution": false,
     "task": false
    }
   },
   "outputs": [],
   "source": [
    "assert isinstance(model, nn.Module)\n",
    "\n",
    "\n",
    "# check that we can run input of shape (batch_size, 2) through the model, with batch_size=16\n",
    "def test_model_output_shape(model):\n",
    "    is_model_on_cuda = next(model.parameters()).is_cuda\n",
    "    device = torch.device(\"cuda\" if is_model_on_cuda else \"cpu\")\n",
    "    assert (\n",
    "        len(model(torch.randn(16, 2, device=device))) == 16\n",
    "    ), \"The model should not change the batch size\"\n",
    "\n",
    "\n",
    "test_model_output_shape(model)"
   ]
  },
  {
   "cell_type": "markdown",
   "metadata": {
    "deletable": false,
    "editable": false,
    "nbgrader": {
     "cell_type": "markdown",
     "checksum": "de0dda92011c512396593caba091db79",
     "grade": false,
     "grade_id": "cell-d91e1230c6b9225d",
     "locked": true,
     "schema_version": 3,
     "solution": false
    }
   },
   "source": [
    "Train the network. \n",
    "\n",
    "For you to pass this assignment, you must obtain an accuracy on the test set greater than 60%. You can use the validation set as a proxy during development, but remember that they can differ slightly. We use the test set, as this better represents the performance of the model on new, unseen data (which is the ultimate goal).\n",
    "\n",
    "To reach the level of performance, it may be necessary to search for a good architecture by trying several different ones. Last, if you want a challenge, try getting an accuracy greater than 75% (our reference solution achieves ~78%).\n",
    "\n",
    "Again, it might be useful to plot the loss and accuracy (for training and validation) during training."
   ]
  },
  {
   "cell_type": "code",
   "execution_count": 48,
   "metadata": {
    "deletable": false,
    "nbgrader": {
     "cell_type": "code",
     "checksum": "335efaf08cc5e4593fe97659a126cd84",
     "grade": false,
     "grade_id": "cell-711ca3d58ad725b4",
     "locked": false,
     "schema_version": 3,
     "solution": true,
     "task": false
    }
   },
   "outputs": [
    {
     "name": "stdout",
     "output_type": "stream",
     "text": [
      "Epoch 1/200 - Train Loss: 10.4916 - Val Loss: 2.9146 - Val Acc: 0.519 - LR: 0.007000\n",
      "Epoch 10/200 - Train Loss: 0.7824 - Val Loss: 0.8367 - Val Acc: 0.619 - LR: 0.007000\n",
      "Epoch 10/200 - Train Loss: 0.7824 - Val Loss: 0.8367 - Val Acc: 0.619 - LR: 0.007000\n",
      "Epoch 20/200 - Train Loss: 0.7783 - Val Loss: 0.8123 - Val Acc: 0.625 - LR: 0.007000\n",
      "Epoch 20/200 - Train Loss: 0.7783 - Val Loss: 0.8123 - Val Acc: 0.625 - LR: 0.007000\n",
      "Epoch 30/200 - Train Loss: 0.7510 - Val Loss: 0.8040 - Val Acc: 0.640 - LR: 0.007000\n",
      "Epoch 30/200 - Train Loss: 0.7510 - Val Loss: 0.8040 - Val Acc: 0.640 - LR: 0.007000\n",
      "Epoch 40/200 - Train Loss: 0.7529 - Val Loss: 0.7945 - Val Acc: 0.635 - LR: 0.007000\n",
      "Epoch 40/200 - Train Loss: 0.7529 - Val Loss: 0.7945 - Val Acc: 0.635 - LR: 0.007000\n",
      "Epoch 50/200 - Train Loss: 0.7495 - Val Loss: 0.8118 - Val Acc: 0.663 - LR: 0.003500\n",
      "Epoch 50/200 - Train Loss: 0.7495 - Val Loss: 0.8118 - Val Acc: 0.663 - LR: 0.003500\n",
      "Epoch 60/200 - Train Loss: 0.7386 - Val Loss: 0.8304 - Val Acc: 0.644 - LR: 0.003500\n",
      "Epoch 60/200 - Train Loss: 0.7386 - Val Loss: 0.8304 - Val Acc: 0.644 - LR: 0.003500\n",
      "Epoch 70/200 - Train Loss: 0.7338 - Val Loss: 0.8220 - Val Acc: 0.646 - LR: 0.003500\n",
      "Epoch 70/200 - Train Loss: 0.7338 - Val Loss: 0.8220 - Val Acc: 0.646 - LR: 0.003500\n",
      "Epoch 80/200 - Train Loss: 0.7543 - Val Loss: 0.8561 - Val Acc: 0.627 - LR: 0.003500\n",
      "Epoch 80/200 - Train Loss: 0.7543 - Val Loss: 0.8561 - Val Acc: 0.627 - LR: 0.003500\n",
      "Epoch 90/200 - Train Loss: 0.7333 - Val Loss: 0.8381 - Val Acc: 0.646 - LR: 0.003500\n",
      "Epoch 90/200 - Train Loss: 0.7333 - Val Loss: 0.8381 - Val Acc: 0.646 - LR: 0.003500\n",
      "Epoch 100/200 - Train Loss: 0.7289 - Val Loss: 0.8157 - Val Acc: 0.642 - LR: 0.001750\n",
      "Epoch 100/200 - Train Loss: 0.7289 - Val Loss: 0.8157 - Val Acc: 0.642 - LR: 0.001750\n",
      "Epoch 110/200 - Train Loss: 0.7256 - Val Loss: 0.7889 - Val Acc: 0.644 - LR: 0.001750\n",
      "Epoch 110/200 - Train Loss: 0.7256 - Val Loss: 0.7889 - Val Acc: 0.644 - LR: 0.001750\n",
      "Epoch 120/200 - Train Loss: 0.7256 - Val Loss: 0.8019 - Val Acc: 0.646 - LR: 0.001750\n",
      "Epoch 120/200 - Train Loss: 0.7256 - Val Loss: 0.8019 - Val Acc: 0.646 - LR: 0.001750\n",
      "Epoch 130/200 - Train Loss: 0.7218 - Val Loss: 0.7856 - Val Acc: 0.644 - LR: 0.001750\n",
      "Epoch 130/200 - Train Loss: 0.7218 - Val Loss: 0.7856 - Val Acc: 0.644 - LR: 0.001750\n",
      "Epoch 140/200 - Train Loss: 0.7206 - Val Loss: 0.7888 - Val Acc: 0.646 - LR: 0.001750\n",
      "Epoch 140/200 - Train Loss: 0.7206 - Val Loss: 0.7888 - Val Acc: 0.646 - LR: 0.001750\n",
      "Epoch 150/200 - Train Loss: 0.7188 - Val Loss: 0.7826 - Val Acc: 0.648 - LR: 0.000875\n",
      "Epoch 150/200 - Train Loss: 0.7188 - Val Loss: 0.7826 - Val Acc: 0.648 - LR: 0.000875\n",
      "Epoch 160/200 - Train Loss: 0.7110 - Val Loss: 0.7970 - Val Acc: 0.648 - LR: 0.000875\n",
      "Epoch 160/200 - Train Loss: 0.7110 - Val Loss: 0.7970 - Val Acc: 0.648 - LR: 0.000875\n",
      "Epoch 170/200 - Train Loss: 0.7134 - Val Loss: 0.8113 - Val Acc: 0.652 - LR: 0.000875\n",
      "Epoch 170/200 - Train Loss: 0.7134 - Val Loss: 0.8113 - Val Acc: 0.652 - LR: 0.000875\n",
      "Epoch 180/200 - Train Loss: 0.7151 - Val Loss: 0.7898 - Val Acc: 0.648 - LR: 0.000875\n",
      "Epoch 180/200 - Train Loss: 0.7151 - Val Loss: 0.7898 - Val Acc: 0.648 - LR: 0.000875\n",
      "Epoch 190/200 - Train Loss: 0.7124 - Val Loss: 0.8036 - Val Acc: 0.648 - LR: 0.000875\n",
      "Epoch 190/200 - Train Loss: 0.7124 - Val Loss: 0.8036 - Val Acc: 0.648 - LR: 0.000875\n",
      "Epoch 200/200 - Train Loss: 0.7164 - Val Loss: 0.7976 - Val Acc: 0.648 - LR: 0.000438\n",
      "Epoch 200/200 - Train Loss: 0.7164 - Val Loss: 0.7976 - Val Acc: 0.648 - LR: 0.000438\n"
     ]
    },
    {
     "data": {
      "image/png": "[encoded data removed]",
      "text/plain": [
       "<Figure size 1200x500 with 2 Axes>"
      ]
     },
     "metadata": {},
     "output_type": "display_data"
    },
    {
     "name": "stdout",
     "output_type": "stream",
     "text": [
      "Average validation accuracy (last 10 epochs): 0.646\n"
     ]
    }
   ],
   "source": [
    "# Improved training loop and model for higher accuracy\n",
    "import torch.optim as optim\n",
    "import matplotlib.pyplot as plt\n",
    "\n",
    "# Try a deeper/wider model for better accuracy\n",
    "class ImprovedMLP(nn.Module):\n",
    "    def __init__(self, input_dim=2, hidden_dim=256, output_dim=3):\n",
    "        super().__init__()\n",
    "        self.fc1 = nn.Linear(input_dim, hidden_dim)\n",
    "        self.fc2 = nn.Linear(hidden_dim, hidden_dim)\n",
    "        self.fc3 = nn.Linear(hidden_dim, output_dim)\n",
    "    def forward(self, x):\n",
    "        x = F.relu(self.fc1(x))\n",
    "        x = F.relu(self.fc2(x))\n",
    "        x = self.fc3(x)\n",
    "        return x\n",
    "\n",
    "model = ImprovedMLP()\n",
    "\n",
    "# Hyperparameters\n",
    "epochs = 200\n",
    "learning_rate = 0.007\n",
    "batch_size = 64\n",
    "\n",
    "criterion = nn.CrossEntropyLoss()\n",
    "optimizer = optim.Adam(model.parameters(), lr=learning_rate)\n",
    "# Add learning rate scheduler\n",
    "scheduler = optim.lr_scheduler.StepLR(optimizer, step_size=50, gamma=0.5)\n",
    "\n",
    "train_losses = []\n",
    "val_losses = []\n",
    "val_accuracies = []\n",
    "\n",
    "for epoch in range(epochs):\n",
    "    model.train()\n",
    "    running_loss = 0.0\n",
    "    for xb, yb in loader_train:\n",
    "        optimizer.zero_grad()\n",
    "        outputs = model(xb)\n",
    "        loss = criterion(outputs, yb)\n",
    "        loss.backward()\n",
    "        optimizer.step()\n",
    "        running_loss += loss.item() * xb.size(0)\n",
    "    train_loss = running_loss / len(loader_train.dataset)\n",
    "    train_losses.append(train_loss)\n",
    "\n",
    "    # Validation\n",
    "    model.eval()\n",
    "    val_loss = 0.0\n",
    "    correct = 0\n",
    "    total = 0\n",
    "    with torch.no_grad():\n",
    "        for xb, yb in loader_val:\n",
    "            outputs = model(xb)\n",
    "            loss = criterion(outputs, yb)\n",
    "            val_loss += loss.item() * xb.size(0)\n",
    "            _, predicted = torch.max(outputs, 1)\n",
    "            correct += (predicted == yb).sum().item()\n",
    "            total += yb.size(0)\n",
    "    val_loss = val_loss / len(loader_val.dataset)\n",
    "    val_losses.append(val_loss)\n",
    "    val_acc = correct / total\n",
    "    val_accuracies.append(val_acc)\n",
    "    scheduler.step()  # Step the scheduler at the end of each epoch\n",
    "    if (epoch+1) % 10 == 0 or epoch == 0:\n",
    "        print(f\"Epoch {epoch+1}/{epochs} - Train Loss: {train_loss:.4f} - Val Loss: {val_loss:.4f} - Val Acc: {val_acc:.3f} - LR: {scheduler.get_last_lr()[0]:.6f}\")\n",
    "\n",
    "# Plot loss and accuracy\n",
    "plt.figure(figsize=(12,5))\n",
    "plt.subplot(1,2,1)\n",
    "plt.plot(train_losses, label='Train Loss')\n",
    "plt.plot(val_losses, label='Val Loss')\n",
    "plt.legend()\n",
    "plt.title('Loss')\n",
    "plt.subplot(1,2,2)\n",
    "plt.plot(val_accuracies, label='Val Accuracy')\n",
    "plt.legend()\n",
    "plt.title('Validation Accuracy')\n",
    "plt.show()\n",
    "\n",
    "# Calculate average validation accuracy\n",
    "def moving_average(data, window_size=10):\n",
    "    if len(data) < window_size:\n",
    "        return sum(data) / len(data)\n",
    "    return sum(data[-window_size:]) / window_size\n",
    "\n",
    "avg_val_acc = moving_average(val_accuracies, window_size=10)\n",
    "print(f\"Average validation accuracy (last 10 epochs): {avg_val_acc:.3f}\")"
   ]
  },
  {
   "cell_type": "markdown",
   "metadata": {
    "deletable": false,
    "editable": false,
    "nbgrader": {
     "cell_type": "markdown",
     "checksum": "0ed7706ede3cdfcebbe0b86290eed0b0",
     "grade": false,
     "grade_id": "cell-f0963d119d02b778",
     "locked": true,
     "schema_version": 3,
     "solution": false,
     "task": false
    }
   },
   "source": [
    "Let's have a look at what we have learned! Create a function that visualizes the decision regions of the network. Overlap it with the points corresponding to the training data and validations data, such as in Section 2, by using the scatter plot function. The training and validation points should have different markers and/or colors. Last, call the function to visualize the decision regions of your network.\n",
    "\n",
    "Hint: A simple way to show the decision region is to generate a lot of points within a predefined range of longitude and latitude and apply your network to it. However, feel free to explore other ways."
   ]
  },
  {
   "cell_type": "code",
   "execution_count": 50,
   "metadata": {
    "deletable": false,
    "nbgrader": {
     "cell_type": "code",
     "checksum": "7aa9ff47eb2e3bba211130138b992462",
     "grade": false,
     "grade_id": "cell-38b52ac21b7b7100",
     "locked": false,
     "schema_version": 3,
     "solution": true,
     "task": false
    }
   },
   "outputs": [],
   "source": [
    "def plot_decision_region(model: nn.Module, x_train, y_train, x_val, y_val):\n",
    "    \"\"\"\n",
    "    Plot the decision region of the model.\n",
    "    \n",
    "    Args:\n",
    "        model: nn.Module: The trained model\n",
    "        x_train: Training features (numpy array or torch.Tensor)\n",
    "        y_train: Training labels (numpy array or torch.Tensor)\n",
    "        x_val: Validation features (numpy array or torch.Tensor)\n",
    "        y_val: Validation labels (numpy array or torch.Tensor)\n",
    "    \"\"\"\n",
    "    # Convert to numpy if needed\n",
    "    if torch.is_tensor(x_train): x_train = x_train.cpu().numpy()\n",
    "    if torch.is_tensor(y_train): y_train = y_train.cpu().numpy()\n",
    "    if torch.is_tensor(x_val): x_val = x_val.cpu().numpy()\n",
    "    if torch.is_tensor(y_val): y_val = y_val.cpu().numpy()\n",
    "\n",
    "    # Define grid\n",
    "    x_min, x_max = min(x_train[:,0].min(), x_val[:,0].min()) - 0.5, max(x_train[:,0].max(), x_val[:,0].max()) + 0.5\n",
    "    y_min, y_max = min(x_train[:,1].min(), x_val[:,1].min()) - 0.5, max(x_train[:,1].max(), x_val[:,1].max()) + 0.5\n",
    "    xx, yy = np.meshgrid(np.linspace(x_min, x_max, 300), np.linspace(y_min, y_max, 300))\n",
    "    grid = np.c_[xx.ravel(), yy.ravel()]\n",
    "\n",
    "    # Predict on grid\n",
    "    model.eval()\n",
    "    with torch.no_grad():\n",
    "        grid_tensor = torch.tensor(grid, dtype=torch.float32)\n",
    "        logits = model(grid_tensor)\n",
    "        preds = torch.argmax(logits, dim=1).cpu().numpy()\n",
    "    zz = preds.reshape(xx.shape)\n",
    "\n",
    "    # Plot decision region\n",
    "    plt.figure(figsize=(8,6))\n",
    "    plt.contourf(xx, yy, zz, alpha=0.3, cmap=plt.cm.coolwarm)\n",
    "    # Plot training points\n",
    "    plt.scatter(x_train[:,0], x_train[:,1], c=y_train, marker='o', cmap=plt.cm.coolwarm, edgecolor='k', label='Train')\n",
    "    # Plot validation points\n",
    "    plt.scatter(x_val[:,0], x_val[:,1], c=y_val, marker='^', cmap=plt.cm.coolwarm, edgecolor='k', label='Val')\n",
    "    plt.xlabel('Feature 1')\n",
    "    plt.ylabel('Feature 2')\n",
    "    plt.legend()\n",
    "    plt.title('Decision Regions')\n",
    "    plt.show()\n",
    "\n",
    "# Example usage (replace with your actual data variables):\n",
    "# plot_decision_region(model, x_train, y_train, x_val, y_val)"
   ]
  },
  {
   "cell_type": "markdown",
   "metadata": {
    "deletable": false,
    "editable": false,
    "nbgrader": {
     "cell_type": "markdown",
     "checksum": "b5fa85ea2a29fda505102ade681a780c",
     "grade": false,
     "grade_id": "cell-5bd22b55c4aecfa8",
     "locked": true,
     "schema_version": 3,
     "solution": false,
     "task": false
    }
   },
   "source": [
    "Do the learned decision regions look like you would expect? Can they be improved? In what sense, and how would that change your model? Please comment on your results. "
   ]
  },
  {
   "cell_type": "markdown",
   "metadata": {
    "deletable": false,
    "nbgrader": {
     "cell_type": "markdown",
     "checksum": "0e3a5bdcf2012e5e6a94fa67f3cf2e5e",
     "grade": true,
     "grade_id": "cell-d611e347ddec2871",
     "locked": false,
     "points": 0,
     "schema_version": 3,
     "solution": true,
     "task": false
    }
   },
   "source": [
    "**Your answer:** (fill in here)"
   ]
  },
  {
   "cell_type": "markdown",
   "metadata": {
    "deletable": false,
    "editable": false,
    "nbgrader": {
     "cell_type": "markdown",
     "checksum": "2d786c397dbdc99f25ccb68813feed32",
     "grade": false,
     "grade_id": "cell-383ffa6dc45f3da3",
     "locked": true,
     "schema_version": 3,
     "solution": false,
     "task": false
    }
   },
   "source": [
    "### 4.1. Model capacity and generalization\n",
    "\n",
    "Now we have all the neccessary tools to do a small experiment on model capacity and implications on generalization.\n",
    "\n",
    "Begin by defining a neural network `tiny_model` with a single linear layer and appropriate activation function. Then, train the network until convergence (should be fast)."
   ]
  },
  {
   "cell_type": "code",
   "execution_count": 34,
   "metadata": {
    "deletable": false,
    "nbgrader": {
     "cell_type": "code",
     "checksum": "23267595ed16c0c4b6d550280a68b430",
     "grade": false,
     "grade_id": "cell-00c94550168dad32",
     "locked": false,
     "schema_version": 3,
     "solution": true,
     "task": false
    }
   },
   "outputs": [],
   "source": [
    "# YOUR CODE HERE"
   ]
  },
  {
   "cell_type": "code",
   "execution_count": 35,
   "metadata": {
    "deletable": false,
    "editable": false,
    "nbgrader": {
     "cell_type": "code",
     "checksum": "947da7271bc82b1962e4a2f151e38cc7",
     "grade": true,
     "grade_id": "cell-5177de76d9ba3b95",
     "locked": true,
     "points": 0,
     "schema_version": 3,
     "solution": false,
     "task": false
    }
   },
   "outputs": [
    {
     "ename": "NameError",
     "evalue": "name 'tiny_model' is not defined",
     "output_type": "error",
     "traceback": [
      "\u001b[31m---------------------------------------------------------------------------\u001b[39m",
      "\u001b[31mNameError\u001b[39m                                 Traceback (most recent call last)",
      "\u001b[36mCell\u001b[39m\u001b[36m \u001b[39m\u001b[32mIn[35]\u001b[39m\u001b[32m, line 1\u001b[39m\n\u001b[32m----> \u001b[39m\u001b[32m1\u001b[39m \u001b[38;5;28;01massert\u001b[39;00m \u001b[38;5;28misinstance\u001b[39m(\u001b[43mtiny_model\u001b[49m, nn.Module), \u001b[33m\"\u001b[39m\u001b[33mtiny_model should be a torch.nn.Module\u001b[39m\u001b[33m\"\u001b[39m\n\u001b[32m      2\u001b[39m test_model_output_shape(tiny_model)\n",
      "\u001b[31mNameError\u001b[39m: name 'tiny_model' is not defined"
     ]
    }
   ],
   "source": [
    "assert isinstance(tiny_model, nn.Module), \"tiny_model should be a torch.nn.Module\"\n",
    "test_model_output_shape(tiny_model)"
   ]
  },
  {
   "cell_type": "markdown",
   "metadata": {
    "deletable": false,
    "editable": false,
    "nbgrader": {
     "cell_type": "markdown",
     "checksum": "5210c12d044cbd33369d11ff806d3713",
     "grade": false,
     "grade_id": "cell-08c57975b0623508",
     "locked": true,
     "schema_version": 3,
     "solution": false,
     "task": false
    }
   },
   "source": [
    "Now, draw the decision regions of the network as you did in the previous section. Before running the code, think about what you expect to see. What will the regions look like? How will they differ from the previous ones?"
   ]
  },
  {
   "cell_type": "code",
   "execution_count": null,
   "metadata": {
    "deletable": false,
    "nbgrader": {
     "cell_type": "code",
     "checksum": "f3a85fa9cff45032547dc23821abf17a",
     "grade": false,
     "grade_id": "cell-54d26c4853bef495",
     "locked": false,
     "schema_version": 3,
     "solution": true,
     "task": false
    }
   },
   "outputs": [],
   "source": [
    "# YOUR CODE HERE"
   ]
  },
  {
   "cell_type": "markdown",
   "metadata": {
    "deletable": false,
    "editable": false,
    "nbgrader": {
     "cell_type": "markdown",
     "checksum": "f7dd25b5a822f76d673abd2c19d04214",
     "grade": false,
     "grade_id": "cell-60ac824096c93c40",
     "locked": true,
     "schema_version": 3,
     "solution": false,
     "task": false
    }
   },
   "source": [
    "Are the decision regions any different? Why/why not? What does this tell you about the model capacity and generalization?"
   ]
  },
  {
   "cell_type": "markdown",
   "metadata": {
    "deletable": false,
    "nbgrader": {
     "cell_type": "markdown",
     "checksum": "3fab04c63006230a270e8d4cb6de097c",
     "grade": true,
     "grade_id": "cell-366b5ee2a98cf990",
     "locked": false,
     "points": 0,
     "schema_version": 3,
     "solution": true,
     "task": false
    }
   },
   "source": [
    "**Your answer:** (fill in here)"
   ]
  },
  {
   "cell_type": "markdown",
   "metadata": {
    "deletable": false,
    "editable": false,
    "nbgrader": {
     "cell_type": "markdown",
     "checksum": "6e3581287819f1a7727aeed0aae5e3e8",
     "grade": false,
     "grade_id": "cell-9b64a4381757316b",
     "locked": true,
     "schema_version": 3,
     "solution": false,
     "task": false
    }
   },
   "source": [
    "Next, create a neural network `large_model` with many layers and/or hidden units. Try to maximize the training accuracy (0.7-0.8). Getting these models to converge might be a bit tricky, so you might have to adjust the learning rate, the optimizer, etc. Also, might be easier to have a wide model (large number of hidden units, say 1024 per layer) than a deep model (more than 4 layers).\n",
    "\n",
    "Feel free to experiment, but if you get stuck, our model is a MLP with an input layer, 4 hidden layers with 1024 units each, and an output layer. We used the ReLU activation function between each layer and a softmax for the output layer. We used the Adam optimizer with a learning rate of 0.003 and a batch size of 512. We trained for at least a few hundred epochs. Also, normalizing the input can be helpful (zero mean and unit variance)."
   ]
  },
  {
   "cell_type": "code",
   "execution_count": 49,
   "metadata": {
    "deletable": false,
    "nbgrader": {
     "cell_type": "code",
     "checksum": "9f70d4de2747cd6ef9d0d501495dcb1a",
     "grade": false,
     "grade_id": "cell-9abb82db6e8413d1",
     "locked": false,
     "schema_version": 3,
     "solution": true,
     "task": false
    }
   },
   "outputs": [],
   "source": [
    "# Large model with more hidden layers and units\n",
    "import torch.nn as nn\n",
    "import torch.nn.functional as F\n",
    "\n",
    "class LargeMLP(nn.Module):\n",
    "    def __init__(self, input_dim=2, hidden_dim=1024, output_dim=3):\n",
    "        super().__init__()\n",
    "        self.fc1 = nn.Linear(input_dim, hidden_dim)\n",
    "        self.fc2 = nn.Linear(hidden_dim, hidden_dim)\n",
    "        self.fc3 = nn.Linear(hidden_dim, hidden_dim)\n",
    "        self.fc4 = nn.Linear(hidden_dim, hidden_dim)\n",
    "        self.fc5 = nn.Linear(hidden_dim, output_dim)\n",
    "    def forward(self, x):\n",
    "        x = F.relu(self.fc1(x))\n",
    "        x = F.relu(self.fc2(x))\n",
    "        x = F.relu(self.fc3(x))\n",
    "        x = F.relu(self.fc4(x))\n",
    "        x = self.fc5(x)\n",
    "        return x\n",
    "\n",
    "large_model = LargeMLP()"
   ]
  },
  {
   "cell_type": "code",
   "execution_count": null,
   "metadata": {
    "deletable": false,
    "editable": false,
    "nbgrader": {
     "cell_type": "code",
     "checksum": "380a2b65c2bb0730aa6cb147e7c4e74f",
     "grade": true,
     "grade_id": "cell-098f92715968886f",
     "locked": true,
     "points": 1,
     "schema_version": 3,
     "solution": false,
     "task": false
    }
   },
   "outputs": [],
   "source": [
    "assert isinstance(large_model, nn.Module), \"large_model should be a torch.nn.Module\"\n",
    "test_model_output_shape(large_model)"
   ]
  },
  {
   "cell_type": "markdown",
   "metadata": {
    "deletable": false,
    "editable": false,
    "nbgrader": {
     "cell_type": "markdown",
     "checksum": "f52e36900e80e083dbc6ba73f0d000d5",
     "grade": false,
     "grade_id": "cell-ea77af681fd56aaf",
     "locked": true,
     "schema_version": 3,
     "solution": false,
     "task": false
    }
   },
   "source": [
    "Again, draw the decision regions of the network. What do you expect to see now? How will the regions differ from the previous ones?"
   ]
  },
  {
   "cell_type": "code",
   "execution_count": null,
   "metadata": {
    "deletable": false,
    "nbgrader": {
     "cell_type": "code",
     "checksum": "88522dc56161b5b0ec1e47709327f81e",
     "grade": false,
     "grade_id": "cell-2386af80723e8770",
     "locked": false,
     "schema_version": 3,
     "solution": true,
     "task": false
    }
   },
   "outputs": [],
   "source": [
    "# YOUR CODE HERE"
   ]
  },
  {
   "cell_type": "markdown",
   "metadata": {
    "deletable": false,
    "editable": false,
    "nbgrader": {
     "cell_type": "markdown",
     "checksum": "9ef3d89592ae3e4b31d52cf243fb0d22",
     "grade": false,
     "grade_id": "cell-7ad8cc34d293f12f",
     "locked": true,
     "schema_version": 3,
     "solution": false,
     "task": false
    }
   },
   "source": [
    "How do the decision regions differ between the tiny, large and the network you trained? Can you explain why this happens? Relate your answer to the concepts you learned in the first lectures."
   ]
  },
  {
   "cell_type": "markdown",
   "metadata": {
    "deletable": false,
    "nbgrader": {
     "cell_type": "markdown",
     "checksum": "e61e4bd20e11dece795ed80558fa0c6f",
     "grade": true,
     "grade_id": "cell-b2b3d4743f149248",
     "locked": false,
     "points": 0,
     "schema_version": 3,
     "solution": true,
     "task": false
    }
   },
   "source": [
    "**Your answer:** (fill in here)"
   ]
  },
  {
   "cell_type": "markdown",
   "metadata": {
    "deletable": false,
    "editable": false,
    "nbgrader": {
     "cell_type": "markdown",
     "checksum": "08f25d921ab7040f778a202f5a69b1a7",
     "grade": false,
     "grade_id": "cell-effc356fff18a4b5",
     "locked": true,
     "schema_version": 3,
     "solution": false
    }
   },
   "source": [
    "## 5. Evaluation"
   ]
  },
  {
   "cell_type": "markdown",
   "metadata": {
    "deletable": false,
    "editable": false,
    "nbgrader": {
     "cell_type": "markdown",
     "checksum": "1b8c71783af4d4c94ae59eb356856591",
     "grade": false,
     "grade_id": "cell-b2bbee2adf94b7d3",
     "locked": true,
     "schema_version": 3,
     "solution": false
    }
   },
   "source": [
    "Back to your original model. Once you achieved at least 60% accuracy in the validation set with your main model, we are done with its training. Now we'll evaluate the performance of your classifier on the test set."
   ]
  },
  {
   "cell_type": "markdown",
   "metadata": {
    "deletable": false,
    "editable": false,
    "nbgrader": {
     "cell_type": "markdown",
     "checksum": "79420c8cb4af750ed05be42a2c4d528b",
     "grade": false,
     "grade_id": "cell-3f4ab762e2890554",
     "locked": true,
     "schema_version": 3,
     "solution": false
    }
   },
   "source": [
    "Compute the accuracy on the test set."
   ]
  },
  {
   "cell_type": "code",
   "execution_count": null,
   "metadata": {
    "deletable": false,
    "nbgrader": {
     "cell_type": "code",
     "checksum": "a28be10f6e90e487934989e8ef58b193",
     "grade": false,
     "grade_id": "cell-64d1008aafb3e518",
     "locked": false,
     "schema_version": 3,
     "solution": true,
     "task": false
    }
   },
   "outputs": [],
   "source": [
    "main_model_test_accuracy = 0\n",
    "# YOUR CODE HERE\n",
    "print(f\"Test accuracy: {main_model_test_accuracy:.3f}.\")"
   ]
  },
  {
   "cell_type": "code",
   "execution_count": null,
   "metadata": {
    "deletable": false,
    "editable": false,
    "nbgrader": {
     "cell_type": "code",
     "checksum": "3523a57a836d53349b06e311c4085fd5",
     "grade": true,
     "grade_id": "cell-8290e0d3e722c85f",
     "locked": true,
     "points": 1,
     "schema_version": 3,
     "solution": false,
     "task": false
    }
   },
   "outputs": [],
   "source": [
    "assert main_model_test_accuracy > 0.6"
   ]
  },
  {
   "cell_type": "markdown",
   "metadata": {
    "deletable": false,
    "editable": false,
    "nbgrader": {
     "cell_type": "markdown",
     "checksum": "4437b0233832d6897896b322856771a3",
     "grade": false,
     "grade_id": "cell-75bfc44531d04fb0",
     "locked": true,
     "schema_version": 3,
     "solution": false,
     "task": false
    }
   },
   "source": [
    "Most likely, you'll get a different (slightly worse) accuracy than the one you got on the validation set. Why is this? Also, why do we need both a test and validation set?"
   ]
  },
  {
   "cell_type": "markdown",
   "metadata": {
    "deletable": false,
    "nbgrader": {
     "cell_type": "markdown",
     "checksum": "c0737ad696946a7d4383701faa264867",
     "grade": true,
     "grade_id": "cell-249cc96508c4de0b",
     "locked": false,
     "points": 0,
     "schema_version": 3,
     "solution": true,
     "task": false
    }
   },
   "source": [
    "**Your answer:** (fill in here)"
   ]
  },
  {
   "cell_type": "markdown",
   "metadata": {
    "deletable": false,
    "editable": false,
    "nbgrader": {
     "cell_type": "markdown",
     "checksum": "c68e1c93373146e59048b2f847e15e6f",
     "grade": false,
     "grade_id": "cell-8232dd159f8d4887",
     "locked": true,
     "schema_version": 3,
     "solution": false
    }
   },
   "source": [
    "Next, compute the confusion matrix of your predictions on the test set and save it as `conf_mat`."
   ]
  },
  {
   "cell_type": "code",
   "execution_count": null,
   "metadata": {
    "deletable": false,
    "nbgrader": {
     "cell_type": "code",
     "checksum": "97c533c440746fc0b1f79274a2ceee25",
     "grade": false,
     "grade_id": "cell-9475a5163acc3249",
     "locked": false,
     "schema_version": 3,
     "solution": true,
     "task": false
    }
   },
   "outputs": [],
   "source": [
    "# YOUR CODE HERE\n",
    "print(conf_mat)"
   ]
  },
  {
   "cell_type": "code",
   "execution_count": null,
   "metadata": {
    "deletable": false,
    "editable": false,
    "nbgrader": {
     "cell_type": "code",
     "checksum": "5546a1442dec7b94a0696ee69a270bc6",
     "grade": true,
     "grade_id": "cell-d016323f6263c643",
     "locked": true,
     "points": 1,
     "schema_version": 3,
     "solution": false,
     "task": false
    }
   },
   "outputs": [],
   "source": [
    "assert isinstance(conf_mat, np.ndarray) or isinstance(\n",
    "    conf_mat, torch.Tensor\n",
    "), \"conf_mat should be a numpy array or torch.Tensor\"\n",
    "assert conf_mat.shape == (3, 3), \"conf_mat should have shape (3, 3), i.e. 3 classes\"\n",
    "assert np.sum(conf_mat) == len(\n",
    "    dataset_test\n",
    "), \"conf_mat should sum up to the number of test samples\""
   ]
  },
  {
   "cell_type": "markdown",
   "metadata": {
    "deletable": false,
    "editable": false,
    "nbgrader": {
     "cell_type": "markdown",
     "checksum": "742f3a87c97efede0dc19953c1db108b",
     "grade": false,
     "grade_id": "cell-a5e9c635fcf0e14d",
     "locked": true,
     "schema_version": 3,
     "solution": false
    }
   },
   "source": [
    "What can you conclude from the computed accuracy and confusion matrix?"
   ]
  },
  {
   "cell_type": "markdown",
   "metadata": {
    "deletable": false,
    "nbgrader": {
     "cell_type": "markdown",
     "checksum": "59b0c3fb373653839818423f7129f074",
     "grade": true,
     "grade_id": "cell-b93435335accba07",
     "locked": false,
     "points": 0,
     "schema_version": 3,
     "solution": true
    }
   },
   "source": [
    "**Your answer:** (fill in here)"
   ]
  },
  {
   "cell_type": "markdown",
   "metadata": {
    "deletable": false,
    "editable": false,
    "nbgrader": {
     "cell_type": "markdown",
     "checksum": "99a1266a62880be4cf1f724ed704ddb2",
     "grade": false,
     "grade_id": "cell-b731aebed710ae07",
     "locked": true,
     "schema_version": 3,
     "solution": false
    }
   },
   "source": [
    "## 6. Exploration"
   ]
  },
  {
   "cell_type": "markdown",
   "metadata": {
    "deletable": false,
    "editable": false,
    "nbgrader": {
     "cell_type": "markdown",
     "checksum": "ca3f2bc4e6ee91e121425e12e58b589d",
     "grade": false,
     "grade_id": "cell-79904bd828487a07",
     "locked": true,
     "schema_version": 3,
     "solution": false
    }
   },
   "source": [
    "You have now trained and evaluated a neural network for this particular classification task. Can you provide a brief explanation as to how you could use it to decide where to travel, if you're interested in capturing the aforementioned Pokemons?"
   ]
  },
  {
   "cell_type": "markdown",
   "metadata": {
    "deletable": false,
    "nbgrader": {
     "cell_type": "markdown",
     "checksum": "a8aeac76ab83248b3e84126f1200e50f",
     "grade": true,
     "grade_id": "cell-79ac9ff2b09a41b5",
     "locked": false,
     "points": 0,
     "schema_version": 3,
     "solution": true
    }
   },
   "source": [
    "**Your answer:** (fill in here)"
   ]
  },
  {
   "cell_type": "markdown",
   "metadata": {
    "deletable": false,
    "editable": false,
    "nbgrader": {
     "cell_type": "markdown",
     "checksum": "90283187bfd4f2f6aaf11df18a8e88ba",
     "grade": false,
     "grade_id": "cell-8041a4537430ba53",
     "locked": true,
     "schema_version": 3,
     "solution": false
    }
   },
   "source": [
    "Is (are) there any other feature(s) from the original dataset (e.g. hour of the day, pressure, wind speed, population density, etc.) which you think would be valuable to add as an input feature to your classifier to improve its performance? "
   ]
  },
  {
   "cell_type": "markdown",
   "metadata": {
    "deletable": false,
    "nbgrader": {
     "cell_type": "markdown",
     "checksum": "92bfb21c07460ec7bf06f56c3acee803",
     "grade": true,
     "grade_id": "cell-c2def6009a95f2a6",
     "locked": false,
     "points": 0,
     "schema_version": 3,
     "solution": true
    }
   },
   "source": [
    "**Your answer:** (fill in here)"
   ]
  },
  {
   "cell_type": "markdown",
   "metadata": {
    "deletable": false,
    "editable": false,
    "nbgrader": {
     "cell_type": "markdown",
     "checksum": "4e0eb26832febb3a136740004988db6b",
     "grade": false,
     "grade_id": "cell-e9f21e8b0fe33751",
     "locked": true,
     "schema_version": 3,
     "solution": false
    }
   },
   "source": [
    "To investigate your hypothesis, plot a histogram of the selected feature(s) for each one of the pokemons we're interested in. For example, if you think pressure and population density are valuable for prediction, plot 6 histograms. 3 of them will be the pressure histograms for each class ('Diglett', 'Seel' and 'Tauros'), and the other 3 will be the population density for each class."
   ]
  },
  {
   "cell_type": "code",
   "execution_count": null,
   "metadata": {
    "deletable": false,
    "nbgrader": {
     "cell_type": "code",
     "checksum": "6701fb6bd1284791b9c065777eaaebae",
     "grade": true,
     "grade_id": "cell-b18deaa33c46ec92",
     "locked": false,
     "points": 0,
     "schema_version": 3,
     "solution": true
    }
   },
   "outputs": [],
   "source": [
    "# YOUR CODE HERE"
   ]
  },
  {
   "cell_type": "markdown",
   "metadata": {
    "deletable": false,
    "editable": false,
    "nbgrader": {
     "cell_type": "markdown",
     "checksum": "6845805e5d221d5a320d0630b3fa0257",
     "grade": false,
     "grade_id": "cell-f51c8bdfaf2e03f4",
     "locked": true,
     "schema_version": 3,
     "solution": false
    }
   },
   "source": [
    "What does/do this/these histogram(s) show you? Could it be beneficial to add this/these new feature(s) as input? Explain why/why not."
   ]
  },
  {
   "cell_type": "markdown",
   "metadata": {
    "deletable": false,
    "nbgrader": {
     "cell_type": "markdown",
     "checksum": "c4810811a9300a653185a38c62a0f73c",
     "grade": true,
     "grade_id": "cell-f9522e4fa9c010be",
     "locked": false,
     "points": 0,
     "schema_version": 3,
     "solution": true
    }
   },
   "source": [
    "**Your answer:** (fill in here)"
   ]
  },
  {
   "cell_type": "markdown",
   "metadata": {
    "deletable": false,
    "editable": false,
    "nbgrader": {
     "cell_type": "markdown",
     "checksum": "dbf51d6ca2c3eed999d1e41aa1cec7de",
     "grade": false,
     "grade_id": "cell-284bf5af1750b1b5",
     "locked": true,
     "schema_version": 3,
     "solution": false,
     "task": false
    }
   },
   "source": [
    "The purpose was this assignment was mostly to make you design a network for classification, using this Pokemon dataset as use case. However, if you want to find those three particular Pokemons, most likely using a network for classification is not the best approach. An alternative would be to perform localization by using regression instead. **Can you state some pros and cons of approach this as a regression problem instead of a classification problem?** (We do not expect very detailed answers, you will pass the assignment as long as you make a reasonable attempt at explaining the pros and cons.)"
   ]
  },
  {
   "cell_type": "markdown",
   "metadata": {
    "deletable": false,
    "nbgrader": {
     "cell_type": "markdown",
     "checksum": "dd2cd90f071d43e463aea1a3f0852c49",
     "grade": true,
     "grade_id": "cell-bd241242621ae646",
     "locked": false,
     "points": 0,
     "schema_version": 3,
     "solution": true,
     "task": false
    }
   },
   "source": [
    "**Your answer:** (fill in here)"
   ]
  },
  {
   "cell_type": "markdown",
   "metadata": {
    "deletable": false,
    "editable": false,
    "nbgrader": {
     "cell_type": "markdown",
     "checksum": "c457c6ffe7696ea8b13215805bb2fa2c",
     "grade": false,
     "grade_id": "cell-fccdd48334c7c70c",
     "locked": true,
     "schema_version": 3,
     "solution": false
    }
   },
   "source": [
    "## 7. (optional)"
   ]
  },
  {
   "cell_type": "markdown",
   "metadata": {
    "deletable": false,
    "editable": false,
    "nbgrader": {
     "cell_type": "markdown",
     "checksum": "efe34b502ca4d51a53e7b32992411f97",
     "grade": false,
     "grade_id": "cell-3e8a75d10f4fb404",
     "locked": true,
     "schema_version": 3,
     "solution": false
    }
   },
   "source": [
    "Assuming you found useful new features in the last part of this assignment, train a new classifier that uses these featues as well. Did the accuracy on the validation set improve? What's the highest accuracy you can achieve?"
   ]
  },
  {
   "cell_type": "code",
   "execution_count": null,
   "metadata": {
    "deletable": false,
    "nbgrader": {
     "cell_type": "code",
     "checksum": "d483a1678e8725ea9ba41ce15bb78a64",
     "grade": true,
     "grade_id": "cell-c4a9ddfda9cd7a08",
     "locked": false,
     "points": 0,
     "schema_version": 3,
     "solution": true
    }
   },
   "outputs": [],
   "source": [
    "# YOUR CODE HERE"
   ]
  }
 ],
 "metadata": {
  "kernelspec": {
   "display_name": "Python 3",
   "language": "python",
   "name": "python3"
  },
  "language_info": {
   "codemirror_mode": {
    "name": "ipython",
    "version": 3
   },
   "file_extension": ".py",
   "mimetype": "text/x-python",
   "name": "python",
   "nbconvert_exporter": "python",
   "pygments_lexer": "ipython3",
   "version": "3.11.9"
  }
 },
 "nbformat": 4,
 "nbformat_minor": 4
}
