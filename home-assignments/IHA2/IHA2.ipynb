{
 "cells": [
  {
   "cell_type": "markdown",
   "metadata": {
    "deletable": false,
    "editable": false,
    "nbgrader": {
     "cell_type": "markdown",
     "checksum": "ad8b0feffaddac686389c323e8f7b862",
     "grade": false,
     "grade_id": "cell-5690119ead85e67e",
     "locked": true,
     "schema_version": 3,
     "solution": false,
     "task": false
    }
   },
   "source": [
    "### Checklist for submission\n",
    "\n",
    "It is extremely important to make sure that:\n",
    "\n",
    "1. Everything runs as expected (no bugs when running cells);\n",
    "2. The output from each cell corresponds to its code (don't change any cell's contents without rerunning it afterwards);\n",
    "3. All outputs are present (don't delete any of the outputs);\n",
    "4. Fill in all the places that say `# YOUR CODE HERE`, or \"**Your answer:** (fill in here)\".\n",
    "5. Never copy/paste any notebook cells. Inserting new cells is allowed, but it should not be necessary.\n",
    "6. The notebook contains some hidden metadata which is important during our grading process. **Make sure not to corrupt any of this metadata!** The metadata may for example be corrupted if you copy/paste any notebook cells, or if you perform an unsuccessful git merge / git pull. It may also be pruned completely if using Google Colab, so watch out for this. Searching for \"nbgrader\" when opening the notebook in a text editor should take you to the important metadata entries.\n",
    "7. Although we will try our very best to avoid this, it may happen that bugs are found after an assignment is released, and that we will push an updated version of the assignment to GitHub. If this happens, it is important that you update to the new version, while making sure the notebook metadata is properly updated as well. The safest way to make sure nothing gets messed up is to start from scratch on a clean updated version of the notebook, copy/pasting your code from the cells of the previous version into the cells of the new version.\n",
    "8. If you need to have multiple parallel versions of this notebook, make sure not to move them to another directory.\n",
    "9. Although not forced to work exclusively in the course `conda` environment, you need to make sure that the notebook will run in that environment, i.e. that you have not added any additional dependencies.\n",
    "\n",
    "Failing to meet any of these requirements might lead to a request for resubmission if the errors are serious enough.\n",
    "\n",
    "We advise you to perform the following steps before submission to ensure that requirements 1, 2, and 3 are always met: **Restart the kernel** (in the menubar, select Kernel$\\rightarrow$Restart) and then **run all cells** (in the menubar, select Cell$\\rightarrow$Run All). This might require a bit of time, so plan ahead for this (and possibly use a cloud GPU in HA1 and HA2 for this step). Finally press the \"Save and Checkout\" button before handing in, to make sure that all your changes are saved to this .ipynb file."
   ]
  },
  {
   "cell_type": "markdown",
   "metadata": {
    "deletable": false,
    "editable": false,
    "nbgrader": {
     "cell_type": "markdown",
     "checksum": "a6bb874a16c1ff767ac0f37ce0491265",
     "grade": false,
     "grade_id": "cell-774c93bf6433de68",
     "locked": true,
     "schema_version": 3,
     "solution": false,
     "task": false
    }
   },
   "source": [
    "### Fill in name of notebook file\n",
    "This might seem silly, but the version check below needs to know the filename of the current notebook, which is not trivial to find out programmatically.\n",
    "\n",
    "You might want to have several parallel versions of the notebook, and it is fine to rename the notebook as long as it stays in the same directory. **However**, if you do rename it, you also need to update its own filename below:"
   ]
  },
  {
   "cell_type": "code",
   "execution_count": 49,
   "metadata": {},
   "outputs": [],
   "source": [
    "nb_fname = \"IHA2.ipynb\""
   ]
  },
  {
   "cell_type": "markdown",
   "metadata": {
    "deletable": false,
    "editable": false,
    "nbgrader": {
     "cell_type": "markdown",
     "checksum": "270e43e75da54d7fb8afbda64083f4e3",
     "grade": false,
     "grade_id": "cell-5676bcf768a7f9be",
     "locked": true,
     "schema_version": 3,
     "solution": false,
     "task": false
    }
   },
   "source": [
    "### Fill in group number and member names (use NAME2 and GROUP only for HA1 and HA2):"
   ]
  },
  {
   "cell_type": "code",
   "execution_count": 50,
   "metadata": {},
   "outputs": [],
   "source": [
    "NAME1 = \"Majed Mazen\"\n",
    "NAME2 = \"\"\n",
    "GROUP = \"\""
   ]
  },
  {
   "cell_type": "markdown",
   "metadata": {
    "deletable": false,
    "editable": false,
    "nbgrader": {
     "cell_type": "markdown",
     "checksum": "42f960a95815e1aa3ce8132fcec59cd9",
     "grade": false,
     "grade_id": "cell-a15fe781533d9590",
     "locked": true,
     "schema_version": 3,
     "solution": false,
     "task": false
    }
   },
   "source": [
    "### Check Python version"
   ]
  },
  {
   "cell_type": "code",
   "execution_count": 51,
   "metadata": {
    "deletable": false,
    "editable": false,
    "nbgrader": {
     "cell_type": "code",
     "checksum": "72b2403e87a33f87371b150984248355",
     "grade": false,
     "grade_id": "cell-2b9c2390ee464c39",
     "locked": true,
     "schema_version": 3,
     "solution": false,
     "task": false
    }
   },
   "outputs": [],
   "source": [
    "from platform import python_version_tuple\n",
    "\n",
    "assert (\n",
    "    python_version_tuple()[:2] == (\"3\", \"11\")\n",
    "), \"You are not running Python 3.11. Make sure to run Python through the course Conda environment.\""
   ]
  },
  {
   "cell_type": "markdown",
   "metadata": {
    "deletable": false,
    "editable": false,
    "nbgrader": {
     "cell_type": "markdown",
     "checksum": "15ec4309f1e85f6e17bda73b9b6f48a2",
     "grade": false,
     "grade_id": "cell-4869b45600ce82f8",
     "locked": true,
     "schema_version": 3,
     "solution": false,
     "task": false
    }
   },
   "source": [
    "### Check that notebook server has access to all required resources, and that notebook has not moved"
   ]
  },
  {
   "cell_type": "code",
   "execution_count": 52,
   "metadata": {
    "deletable": false,
    "editable": false,
    "nbgrader": {
     "cell_type": "code",
     "checksum": "c741699084b67aa21d06ff931465b378",
     "grade": false,
     "grade_id": "cell-122ac3d9100b8afb",
     "locked": true,
     "schema_version": 3,
     "solution": false,
     "task": false
    }
   },
   "outputs": [],
   "source": [
    "import os\n",
    "\n",
    "nb_dirname = os.path.abspath(\"\")\n",
    "assignment_name = os.path.basename(nb_dirname)\n",
    "assert assignment_name in [\n",
    "    \"IHA1\",\n",
    "    \"IHA2\",\n",
    "    \"HA1\",\n",
    "    \"HA2\",\n",
    "], \"[ERROR] The notebook appears to have been moved from its original directory\""
   ]
  },
  {
   "cell_type": "markdown",
   "metadata": {
    "deletable": false,
    "editable": false,
    "nbgrader": {
     "cell_type": "markdown",
     "checksum": "f09f40b5350db83232189137c550f0a1",
     "grade": false,
     "grade_id": "cell-2455deee513cd39c",
     "locked": true,
     "schema_version": 3,
     "solution": false,
     "task": false
    }
   },
   "source": [
    "### Verify correct nb_fname"
   ]
  },
  {
   "cell_type": "code",
   "execution_count": 53,
   "metadata": {
    "deletable": false,
    "editable": false,
    "nbgrader": {
     "cell_type": "code",
     "checksum": "1709bd6d2b55a83969e44d70763b1167",
     "grade": false,
     "grade_id": "cell-0472e2fd710f1d72",
     "locked": true,
     "schema_version": 3,
     "solution": false,
     "task": false
    }
   },
   "outputs": [
    {
     "data": {
      "text/html": [
       "<script>if(\"IHA2.ipynb\" != IPython.notebook.notebook_name) { alert(\"You have filled in nb_fname = \\\"IHA2.ipynb\\\", but this does not seem to match the notebook filename \\\"\" + IPython.notebook.notebook_name + \"\\\".\"); }</script>"
      ],
      "text/plain": [
       "<IPython.core.display.HTML object>"
      ]
     },
     "metadata": {},
     "output_type": "display_data"
    }
   ],
   "source": [
    "from IPython.display import HTML, display\n",
    "\n",
    "try:\n",
    "    display(\n",
    "        HTML(\n",
    "            r'<script>if(\"{nb_fname}\" != IPython.notebook.notebook_name) {{ alert(\"You have filled in nb_fname = \\\"{nb_fname}\\\", but this does not seem to match the notebook filename \\\"\" + IPython.notebook.notebook_name + \"\\\".\"); }}</script>'.format(\n",
    "                nb_fname=nb_fname\n",
    "            )\n",
    "        )\n",
    "    )\n",
    "except NameError:\n",
    "    assert False, \"Make sure to fill in the nb_fname variable above!\""
   ]
  },
  {
   "cell_type": "markdown",
   "metadata": {
    "deletable": false,
    "editable": false,
    "nbgrader": {
     "cell_type": "markdown",
     "checksum": "98d88d8e8da19693053764f29dcc591d",
     "grade": false,
     "grade_id": "cell-ceacb1adcae4783d",
     "locked": true,
     "schema_version": 3,
     "solution": false,
     "task": false
    }
   },
   "source": [
    "### Verify that your notebook is up-to-date and not corrupted in any way"
   ]
  },
  {
   "cell_type": "code",
   "execution_count": 54,
   "metadata": {
    "deletable": false,
    "editable": false,
    "nbgrader": {
     "cell_type": "code",
     "checksum": "6f405c9cd7b9720915f79dba54c89375",
     "grade": false,
     "grade_id": "cell-f5a59288e11b4aec",
     "locked": true,
     "schema_version": 3,
     "solution": false,
     "task": false
    }
   },
   "outputs": [
    {
     "name": "stdout",
     "output_type": "stream",
     "text": [
      "Matching current notebook against the following URL:\n",
      "http://raw.githubusercontent.com/dml-cth/deep-machine-learning/master/home-assignments/IHA2/IHA2.ipynb\n",
      "Missing cells: ['cell-9abb82db6e8413d1']\n"
     ]
    },
    {
     "ename": "AssertionError",
     "evalue": "[ERROR] Notebook does not seem to be up-to-date. Please follow these instructions to sync with latest GitHub version: https://github.com/dml-cth/deep-machine-learning/blob/master/Instructions/YY_keep_git_repo_in_sync.md",
     "output_type": "error",
     "traceback": [
      "\u001b[31m---------------------------------------------------------------------------\u001b[39m",
      "\u001b[31mAssertionError\u001b[39m                            Traceback (most recent call last)",
      "\u001b[36mCell\u001b[39m\u001b[36m \u001b[39m\u001b[32mIn[54]\u001b[39m\u001b[32m, line 6\u001b[39m\n\u001b[32m      3\u001b[39m sys.path.append(\u001b[33m\"\u001b[39m\u001b[33m..\u001b[39m\u001b[33m\"\u001b[39m)\n\u001b[32m      4\u001b[39m \u001b[38;5;28;01mfrom\u001b[39;00m\u001b[38;5;250m \u001b[39m\u001b[34;01mha_utils\u001b[39;00m\u001b[38;5;250m \u001b[39m\u001b[38;5;28;01mimport\u001b[39;00m check_notebook_uptodate_and_not_corrupted\n\u001b[32m----> \u001b[39m\u001b[32m6\u001b[39m \u001b[43mcheck_notebook_uptodate_and_not_corrupted\u001b[49m\u001b[43m(\u001b[49m\u001b[43mnb_dirname\u001b[49m\u001b[43m,\u001b[49m\u001b[43m \u001b[49m\u001b[43mnb_fname\u001b[49m\u001b[43m)\u001b[49m\n",
      "\u001b[36mFile \u001b[39m\u001b[32mc:\\Users\\majed\\Git_local\\deep-machine-learning\\home-assignments\\IHA2\\..\\ha_utils.py:88\u001b[39m, in \u001b[36mcheck_notebook_uptodate_and_not_corrupted\u001b[39m\u001b[34m(nb_dirname, nb_fname)\u001b[39m\n\u001b[32m     85\u001b[39m \u001b[38;5;28;01mif\u001b[39;00m \u001b[38;5;28mlen\u001b[39m(curr_cell_ids - ref_cell_ids) > \u001b[32m0\u001b[39m:\n\u001b[32m     86\u001b[39m     \u001b[38;5;28mprint\u001b[39m(\u001b[33m\"\u001b[39m\u001b[33mFound unexpected cells: \u001b[39m\u001b[38;5;132;01m{}\u001b[39;00m\u001b[33m\"\u001b[39m.format(\u001b[38;5;28msorted\u001b[39m(curr_cell_ids - ref_cell_ids)))\n\u001b[32m     87\u001b[39m \u001b[38;5;28;01massert\u001b[39;00m (\n\u001b[32m---> \u001b[39m\u001b[32m88\u001b[39m     ref_cell_ids == curr_cell_ids\n\u001b[32m     89\u001b[39m ), \u001b[33m\"\u001b[39m\u001b[33m[ERROR] Notebook does not seem to be up-to-date. Please follow these instructions to sync with latest GitHub version: https://github.com/dml-cth/deep-machine-learning/blob/master/Instructions/YY_keep_git_repo_in_sync.md\u001b[39m\u001b[33m\"\u001b[39m\n\u001b[32m     91\u001b[39m \u001b[38;5;28mprint\u001b[39m(\n\u001b[32m     92\u001b[39m     \u001b[33m\"\u001b[39m\u001b[33m[SUCCESS] No major notebook mismatch found when comparing to latest GitHub version. (There might be minor updates, but even that is the case, submitting your work based on this notebook version would be acceptable.)\u001b[39m\u001b[33m\"\u001b[39m\n\u001b[32m     93\u001b[39m )\n",
      "\u001b[31mAssertionError\u001b[39m: [ERROR] Notebook does not seem to be up-to-date. Please follow these instructions to sync with latest GitHub version: https://github.com/dml-cth/deep-machine-learning/blob/master/Instructions/YY_keep_git_repo_in_sync.md"
     ]
    }
   ],
   "source": [
    "import sys\n",
    "\n",
    "sys.path.append(\"..\")\n",
    "from ha_utils import check_notebook_uptodate_and_not_corrupted\n",
    "\n",
    "check_notebook_uptodate_and_not_corrupted(nb_dirname, nb_fname)"
   ]
  },
  {
   "cell_type": "markdown",
   "metadata": {
    "deletable": false,
    "editable": false,
    "nbgrader": {
     "cell_type": "markdown",
     "checksum": "587eb0d471650fb68cb3c1f5021df2d4",
     "grade": false,
     "grade_id": "cell-1420bd2a80dfa7d5",
     "locked": true,
     "schema_version": 3,
     "solution": false
    }
   },
   "source": [
    "# IHA2 - Catching Pokemon"
   ]
  },
  {
   "cell_type": "markdown",
   "metadata": {
    "deletable": false,
    "editable": false,
    "nbgrader": {
     "cell_type": "markdown",
     "checksum": "57c5f7037fd0f1ca2377e5f021815405",
     "grade": false,
     "grade_id": "cell-c0cb4dde48293818",
     "locked": true,
     "schema_version": 3,
     "solution": false
    }
   },
   "source": [
    "![](https://upload.wikimedia.org/wikipedia/en/4/46/Pokemon_Go.png)"
   ]
  },
  {
   "cell_type": "markdown",
   "metadata": {
    "deletable": false,
    "editable": false,
    "nbgrader": {
     "cell_type": "markdown",
     "checksum": "9acef9de3d4fc4337e7dadd4fd579462",
     "grade": false,
     "grade_id": "cell-b16d667dd74a9079",
     "locked": true,
     "schema_version": 3,
     "solution": false
    }
   },
   "source": [
    "In this home assignment, you'll apply roughly the same principles we used when doing logistic regression on the Iris dataset in Computer Lab 1, but on a different and very interesting dataset. We'll use the [Predict'em All dataset from Kaggle](https://www.kaggle.com/semioniy/predictemall). To download the dataset you will need a Kaggle account. This dataset consists of roughly 293,000 [pokemon](http://www.pokemongo.com/) sightings (historical appearances of Pokemon in the Pokemon Go game), with geographical coordinates, time, weather, population density, distance to pokestops/gyms etc. as features. A comprehensive list of all the features is available at [the dataset's homepage](https://www.kaggle.com/semioniy/predictemall).\n",
    "\n",
    "The context is simple: you are a Pokemon hunter, and there are only three Pokemon left for you to complete your collection. You'll do anything to capture them, including changing where you'll spend your next holidays! You know that some Pokemon only spawn in certain places of the world. Since you like machine learning so much, you figure it would be a great idea to train a classifier that, based on a location's longitude and latitude, can tell us which Pokemon is more likely to appear there.\n",
    "\n",
    "The assignment is broken down into six steps.\n",
    "\n",
    "1. Loading the data and extracting the desired subset of it\n",
    "2. Visualization of the dataset\n",
    "3. Preprocessing\n",
    "4. Training\n",
    "5. Evaluation\n",
    "6. Exploration\n",
    "\n",
    "Feel free to temporarily add cells wherever you see fit, and play around with this notebook as much as you want when developing the solutions. However, the solution you upload to Canvas must have the exact format shown here, with only the cells present here.\n",
    "\n",
    "Don't restrict yourself only to what was taught so far. Some of the tasks might require you to search for new information. However, **be sure that you do the assignment using PyTorch** since we will be using it through the following assignments as well. [The Python docs](https://docs.python.org/3/), [PyTorch docs](https://pytorch.org/docs/stable/index.html), [stackoverflow](https://stackoverflow.com/), and Google are your friends!\n",
    "\n",
    "**Hint:** Solving Computer Lab 1 (CL1) is a good way to get prepared for this assignment.\n",
    "\n",
    "To pass this assignment, your solutions should pass all tests (`assert`-statements). Note that the tests shown to you are not exhaustive, and additional hidden tests exist for some of the tasks. Further, similar to IHA1, this notebook contains some questions where we ask you to reflect upon some results. These questions will not be graded in detail, but we still expect you to answer them."
   ]
  },
  {
   "cell_type": "markdown",
   "metadata": {
    "deletable": false,
    "editable": false,
    "nbgrader": {
     "cell_type": "markdown",
     "checksum": "6d8a3b20e9634f5c918019159cde8280",
     "grade": false,
     "grade_id": "cell-b9e4c4aa45490941",
     "locked": true,
     "schema_version": 3,
     "solution": false
    }
   },
   "source": [
    "## 0. Imports"
   ]
  },
  {
   "cell_type": "markdown",
   "metadata": {
    "deletable": false,
    "editable": false,
    "nbgrader": {
     "cell_type": "markdown",
     "checksum": "ca68d5a34a1d6f8633072976fad132a3",
     "grade": false,
     "grade_id": "cell-548d168c5c9e8c39",
     "locked": true,
     "schema_version": 3,
     "solution": false
    }
   },
   "source": [
    "Import any necessary modules here."
   ]
  },
  {
   "cell_type": "code",
   "execution_count": 55,
   "metadata": {
    "deletable": false,
    "nbgrader": {
     "cell_type": "code",
     "checksum": "4bd0c1d994ba501cd83cb86c40a43122",
     "grade": false,
     "grade_id": "cell-4e61b7fa879ef4a1",
     "locked": false,
     "schema_version": 3,
     "solution": true,
     "task": false
    }
   },
   "outputs": [],
   "source": [
    "# YOUR CODE HERE\n",
    "import numpy as np\n",
    "import matplotlib.pyplot as plt"
   ]
  },
  {
   "cell_type": "markdown",
   "metadata": {
    "deletable": false,
    "editable": false,
    "nbgrader": {
     "cell_type": "markdown",
     "checksum": "a576cdb7f1a3658a7eb906977c5e40fb",
     "grade": false,
     "grade_id": "cell-50c33a3517aea662",
     "locked": true,
     "schema_version": 3,
     "solution": false
    }
   },
   "source": [
    "## 1. Loading and extracting subset"
   ]
  },
  {
   "cell_type": "markdown",
   "metadata": {
    "deletable": false,
    "editable": false,
    "nbgrader": {
     "cell_type": "markdown",
     "checksum": "8f1178610f2a3de2652d78bf724e5c6a",
     "grade": false,
     "grade_id": "cell-32f6c44c22e84d42",
     "locked": true,
     "schema_version": 3,
     "solution": false
    }
   },
   "source": [
    "The first step consists of filtering the dataset by the three Pokémon you are interested at. \n",
    "\n",
    "Start by loading the `'300k.csv'` file using pandas. If you haven't downloaded it yet, either use [this link](https://www.kaggle.com/semioniy/predictemall) to do so (and place the file in the same folder as this notebook), or simply run the cell below. You might have to [create a new API token](https://www.kaggle.com/settings/account) before the commands work."
   ]
  },
  {
   "cell_type": "code",
   "execution_count": 56,
   "metadata": {
    "deletable": false,
    "editable": false,
    "nbgrader": {
     "cell_type": "code",
     "checksum": "f8b85c109b1e96fc2c692b69d07573ea",
     "grade": false,
     "grade_id": "cell-39c13080b772bfe5",
     "locked": true,
     "schema_version": 3,
     "solution": false,
     "task": false
    }
   },
   "outputs": [
    {
     "name": "stderr",
     "output_type": "stream",
     "text": [
      "'kaggle' is not recognized as an internal or external command,\n",
      "operable program or batch file.\n",
      "'unzip' is not recognized as an internal or external command,\n",
      "operable program or batch file.\n",
      "'rm' is not recognized as an internal or external command,\n",
      "operable program or batch file.\n"
     ]
    }
   ],
   "source": [
    "!kaggle datasets download -d semioniy/predictemall\n",
    "!unzip -u predictemall.zip\n",
    "!rm -rf predictemall.zip 300k_arff 300k.arff 300k_csv"
   ]
  },
  {
   "cell_type": "code",
   "execution_count": 57,
   "metadata": {
    "deletable": false,
    "nbgrader": {
     "cell_type": "code",
     "checksum": "1308d475120c2d9e46b37129e7221f99",
     "grade": false,
     "grade_id": "cell-53b2a6c0754fca1d",
     "locked": false,
     "schema_version": 3,
     "solution": true,
     "task": false
    }
   },
   "outputs": [
    {
     "name": "stderr",
     "output_type": "stream",
     "text": [
      "C:\\Users\\majed\\AppData\\Local\\Temp\\ipykernel_14828\\2336927798.py:5: DtypeWarning: Columns (49) have mixed types. Specify dtype option on import or set low_memory=False.\n",
      "  df = pd.read_csv(\"300k.csv\")\n"
     ]
    }
   ],
   "source": [
    "# TODO: load the dataset using pandas to a dataframe called df\n",
    "import pandas as pd\n",
    "\n",
    "# Load the dataset into a DataFrame\n",
    "df = pd.read_csv(\"300k.csv\")"
   ]
  },
  {
   "cell_type": "code",
   "execution_count": 58,
   "metadata": {
    "deletable": false,
    "editable": false,
    "nbgrader": {
     "cell_type": "code",
     "checksum": "937dc09867c39ed4282c3552a0a2d3fc",
     "grade": true,
     "grade_id": "cell-d7bd8d78c4388b4d",
     "locked": true,
     "points": 1,
     "schema_version": 3,
     "solution": false,
     "task": false
    }
   },
   "outputs": [],
   "source": [
    "assert df.shape == (\n",
    "    296021,\n",
    "    208,\n",
    "), f\"Dataframe has not the right shape. {df.shape} != (296021, 208)\"\n",
    "assert isinstance(df, pd.DataFrame), f\"df is not a dataframe. Was {type(df)}\""
   ]
  },
  {
   "cell_type": "markdown",
   "metadata": {
    "deletable": false,
    "editable": false,
    "nbgrader": {
     "cell_type": "markdown",
     "checksum": "9e5a6ed587a81abc562131a9a019da9a",
     "grade": false,
     "grade_id": "cell-5d36e8f9780ea946",
     "locked": true,
     "schema_version": 3,
     "solution": false
    }
   },
   "source": [
    "Modify `df` to only have the columns `latitude`, `longitude`, and `class`."
   ]
  },
  {
   "cell_type": "code",
   "execution_count": 59,
   "metadata": {
    "deletable": false,
    "nbgrader": {
     "cell_type": "code",
     "checksum": "32fe82a12426d7fd89c7b44803e9901d",
     "grade": false,
     "grade_id": "cell-318e20fd02ab7f30",
     "locked": false,
     "schema_version": 3,
     "solution": true,
     "task": false
    }
   },
   "outputs": [],
   "source": [
    "df = df[['latitude', 'longitude', 'class']]"
   ]
  },
  {
   "cell_type": "code",
   "execution_count": 60,
   "metadata": {
    "deletable": false,
    "editable": false,
    "nbgrader": {
     "cell_type": "code",
     "checksum": "334ba32ebb98cfbe793e8d06ee8d3b34",
     "grade": true,
     "grade_id": "cell-e8738beea1b331d0",
     "locked": true,
     "points": 1,
     "schema_version": 3,
     "solution": false,
     "task": false
    }
   },
   "outputs": [],
   "source": [
    "assert len(df.columns) == 3, \"There should be 3 columns\"\n",
    "assert len(df.shape) == 2, \"The dataframe should be 2 dimensional\"\n",
    "assert df.shape == (296021, 3), \"Wrong shape of the dataframe\"\n",
    "assert \"latitude\" in df.columns, \"latitude column is missing\"\n",
    "assert \"longitude\" in df.columns, \"longitude column is missing\"\n",
    "assert \"class\" in df.columns, \"class column is missing\""
   ]
  },
  {
   "cell_type": "markdown",
   "metadata": {
    "deletable": false,
    "editable": false,
    "nbgrader": {
     "cell_type": "markdown",
     "checksum": "9ef5470f58caaaea609c2fee299c5b7f",
     "grade": false,
     "grade_id": "cell-6f7970ff67af4649",
     "locked": true,
     "schema_version": 3,
     "solution": false
    }
   },
   "source": [
    "Note that the `class` column specifies which pokemon it is. However, it only has the numerical id of the pokemon. For your convenience, we provide the dictionary `name_dict` to convert between ids and names (we'll do this soon)."
   ]
  },
  {
   "cell_type": "code",
   "execution_count": 61,
   "metadata": {
    "deletable": false,
    "editable": false,
    "nbgrader": {
     "cell_type": "code",
     "checksum": "7e1c295d53b9c78e248276d093849a02",
     "grade": false,
     "grade_id": "cell-50ff16afeaf933cf",
     "locked": true,
     "schema_version": 3,
     "solution": false
    }
   },
   "outputs": [],
   "source": [
    "from utils import name_dict"
   ]
  },
  {
   "cell_type": "code",
   "execution_count": 62,
   "metadata": {
    "deletable": false,
    "editable": false,
    "nbgrader": {
     "cell_type": "code",
     "checksum": "3bae8f433b0632b5da39f4d675f7f9db",
     "grade": false,
     "grade_id": "cell-1acfd7cca7bf754e",
     "locked": true,
     "schema_version": 3,
     "solution": false,
     "task": false
    }
   },
   "outputs": [
    {
     "name": "stdout",
     "output_type": "stream",
     "text": [
      "94\n",
      "Gengar\n"
     ]
    }
   ],
   "source": [
    "# example usage (you can index either by name or id)\n",
    "print(name_dict[\"Gengar\"])\n",
    "print(name_dict[94])"
   ]
  },
  {
   "cell_type": "code",
   "execution_count": 63,
   "metadata": {
    "deletable": false,
    "editable": false,
    "nbgrader": {
     "cell_type": "code",
     "checksum": "8c4b53d1aadb72239ba22773f6cdace6",
     "grade": false,
     "grade_id": "cell-1fd0d8b0c9800de4",
     "locked": true,
     "schema_version": 3,
     "solution": false,
     "task": false
    }
   },
   "outputs": [
    {
     "name": "stdout",
     "output_type": "stream",
     "text": [
      "    latitude   longitude  class    name\n",
      "0  20.525745  -97.460829     16  Pidgey\n",
      "1  20.523695  -97.461167    133   Eevee\n",
      "2  38.903590  -77.199780     16  Pidgey\n",
      "3  47.665903 -122.312561     13  Weedle\n",
      "4  47.666454 -122.311628    133   Eevee\n"
     ]
    }
   ],
   "source": [
    "# for convenience, let's add a new column to the dataframe with the name of the pokemon\n",
    "df[\"name\"] = df[\"class\"].apply(lambda x: name_dict[x])\n",
    "print(df.head())"
   ]
  },
  {
   "cell_type": "markdown",
   "metadata": {
    "deletable": false,
    "editable": false,
    "nbgrader": {
     "cell_type": "markdown",
     "checksum": "09025bb17628db2a36bb21a5b3b6f1c5",
     "grade": false,
     "grade_id": "cell-eaa874b93b3b727c",
     "locked": true,
     "schema_version": 3,
     "solution": false
    }
   },
   "source": [
    "We are only interested in three specific pokemon: Diglett, Seel, and Tauros."
   ]
  },
  {
   "cell_type": "markdown",
   "metadata": {
    "deletable": false,
    "editable": false,
    "nbgrader": {
     "cell_type": "markdown",
     "checksum": "ca357363a50da71ade1d068b235fbd63",
     "grade": false,
     "grade_id": "cell-7e0898a53c5649b0",
     "locked": true,
     "schema_version": 3,
     "solution": false
    }
   },
   "source": [
    "<table style=\"width:100%\">\n",
    "  <tr>\n",
    "    <th> <center>Diglett</center> </th>\n",
    "    <th> <center>Seel</center> </th> \n",
    "    <th> <center>Tauros</center> </th>\n",
    "  </tr>\n",
    "  <tr>\n",
    "    <td><img src=https://assets.pokemon.com/assets/cms2/img/pokedex/full/050_f2.png alt=Digglet></td>\n",
    "    <td><img src=https://pokemon.gamepedia.com/media/pokemon.gamepedia.com/thumb/f/f1/Seel.png/200px-Seel.png?version=2c32fbe0af2d0da707e5dbcb40472fbf></td>\n",
    "    <td><img src=https://www.pokemon.com/static-assets/content-assets/cms2/img/pokedex/full/128.png></td>\n",
    "  </tr>\n",
    "</table>\n",
    "\n"
   ]
  },
  {
   "cell_type": "markdown",
   "metadata": {
    "deletable": false,
    "editable": false,
    "nbgrader": {
     "cell_type": "markdown",
     "checksum": "0f67b745d8f97bcaf04b6674bab71e2d",
     "grade": false,
     "grade_id": "cell-d091927bf7d7938f",
     "locked": true,
     "schema_version": 3,
     "solution": false
    }
   },
   "source": [
    "Filter the dataset to contain only these three types of pokemon and save it in the DataFrame `filtered_df`."
   ]
  },
  {
   "cell_type": "code",
   "execution_count": 64,
   "metadata": {
    "deletable": false,
    "nbgrader": {
     "cell_type": "code",
     "checksum": "3101497237b105c936f9b72972e4e06f",
     "grade": false,
     "grade_id": "cell-7089f3397cbc1f4a",
     "locked": false,
     "schema_version": 3,
     "solution": true,
     "task": false
    }
   },
   "outputs": [
    {
     "name": "stdout",
     "output_type": "stream",
     "text": [
      "We have 2083 instances of Diglett, Seel, and Tauros in the dataset.\n"
     ]
    }
   ],
   "source": [
    "# YOUR CODE HERE\n",
    "# filter the dataframe to only include Diglett, Seel, and Tauros\n",
    "filtered_df = df[df[\"name\"].isin([\"Diglett\", \"Seel\", \"Tauros\"])] #Keep rows where the 'name' column is either 'Diglett', 'Seel', or 'Tauros'\n",
    "\n",
    "print(\n",
    "    f\"We have {len(filtered_df)} instances of Diglett, Seel, and Tauros in the dataset.\"\n",
    ")"
   ]
  },
  {
   "cell_type": "code",
   "execution_count": 65,
   "metadata": {
    "deletable": false,
    "editable": false,
    "nbgrader": {
     "cell_type": "code",
     "checksum": "804e5464b130a64d22b06d0b882d0c89",
     "grade": true,
     "grade_id": "cell-c24e683b633a9f9b",
     "locked": true,
     "points": 1,
     "schema_version": 3,
     "solution": false,
     "task": false
    }
   },
   "outputs": [],
   "source": [
    "assert len(np.unique(filtered_df[\"class\"])) == 3, \"There should be 3 unique classes.\"\n",
    "assert filtered_df.shape == (\n",
    "    2083,\n",
    "    4,\n",
    "), \"The shape of the filtered dataframe is incorrect.\""
   ]
  },
  {
   "cell_type": "markdown",
   "metadata": {
    "deletable": false,
    "editable": false,
    "nbgrader": {
     "cell_type": "markdown",
     "checksum": "6b1f1246460c9e81025c5dd94d54e9e2",
     "grade": false,
     "grade_id": "cell-4e7ef21d67cb017e",
     "locked": true,
     "schema_version": 3,
     "solution": false,
     "task": false
    }
   },
   "source": [
    "In an earlier cell, you could see that the dataset has 208 features per pokemon sighting (`df.shape == (296021, 208)`). Why do we only use the `longitude` and `latitude` features and not all the features? "
   ]
  },
  {
   "cell_type": "markdown",
   "metadata": {
    "deletable": false,
    "nbgrader": {
     "cell_type": "markdown",
     "checksum": "345b05134d46ff03c9a71123906636f2",
     "grade": true,
     "grade_id": "cell-21cf8cbbffef4929",
     "locked": false,
     "points": 0,
     "schema_version": 3,
     "solution": true,
     "task": false
    }
   },
   "source": [
    "**Your answer:** Becuase we are interested in finding the pokemon's geographical location which we obtain by combining the latitude and longitude."
   ]
  },
  {
   "cell_type": "markdown",
   "metadata": {
    "deletable": false,
    "editable": false,
    "nbgrader": {
     "cell_type": "markdown",
     "checksum": "2641774ea6d909844fb9d2e930763382",
     "grade": false,
     "grade_id": "cell-01b988bb1bfa1f92",
     "locked": true,
     "schema_version": 3,
     "solution": false
    }
   },
   "source": [
    "## 2. Visualization of the dataset"
   ]
  },
  {
   "cell_type": "markdown",
   "metadata": {
    "deletable": false,
    "editable": false,
    "nbgrader": {
     "cell_type": "markdown",
     "checksum": "437148ed483b9f34a3cd87aae3129933",
     "grade": false,
     "grade_id": "cell-5c7b8fdcd18575fe",
     "locked": true,
     "schema_version": 3,
     "solution": false
    }
   },
   "source": [
    "The second step consists of visualizing the dataset. This will help you understand the distribution of the features and get an idea of how hard the task will be.\n",
    "\n",
    "Plot a bar chart of the number of occurrences of each class."
   ]
  },
  {
   "cell_type": "code",
   "execution_count": 66,
   "metadata": {
    "deletable": false,
    "nbgrader": {
     "cell_type": "code",
     "checksum": "b9b6048c83c3f3f72c51e4baa47b141b",
     "grade": true,
     "grade_id": "cell-c1a9921488e42992",
     "locked": false,
     "points": 0,
     "schema_version": 3,
     "solution": true
    }
   },
   "outputs": [
    {
     "data": {
      "text/plain": [
       "<Axes: title={'center': 'Number of Occurrences of Each Pokemon'}, xlabel='name'>"
      ]
     },
     "execution_count": 66,
     "metadata": {},
     "output_type": "execute_result"
    },
    {
     "data": {
      "image/png": "[encoded data removed]",
      "text/plain": [
       "<Figure size 640x480 with 1 Axes>"
      ]
     },
     "metadata": {},
     "output_type": "display_data"
    }
   ],
   "source": [
    "# YOUR CODE HERE\n",
    "filtered_df['name'].value_counts().plot.bar(title='Number of Occurrences of Each Pokemon')\n"
   ]
  },
  {
   "cell_type": "markdown",
   "metadata": {
    "deletable": false,
    "editable": false,
    "nbgrader": {
     "cell_type": "markdown",
     "checksum": "e4c3c67ecc7c5b85749d001b0a622061",
     "grade": false,
     "grade_id": "cell-c22d835bdc58fe68",
     "locked": true,
     "schema_version": 3,
     "solution": false
    }
   },
   "source": [
    "Is the dataset balanced? Why/why not? Why is this important?"
   ]
  },
  {
   "cell_type": "markdown",
   "metadata": {
    "deletable": false,
    "nbgrader": {
     "cell_type": "markdown",
     "checksum": "c918f9b5d190f5f83c8dbd622e59d062",
     "grade": true,
     "grade_id": "cell-3d060bda26842b5d",
     "locked": false,
     "points": 0,
     "schema_version": 3,
     "solution": true
    }
   },
   "source": [
    "**Your answer:** It seems to be balanced which is a good thing because that helps the model learn all classes equally and not be biased toward any single class."
   ]
  },
  {
   "cell_type": "markdown",
   "metadata": {
    "deletable": false,
    "editable": false,
    "nbgrader": {
     "cell_type": "markdown",
     "checksum": "4382ce93389defee634b029f25edda16",
     "grade": false,
     "grade_id": "cell-931cbd9e3ec95da5",
     "locked": true,
     "schema_version": 3,
     "solution": false
    }
   },
   "source": [
    "Plot a scatter plot where the first dimension is longitude, the second is latitude, and each point is a Pokemon. Further, the color of each point should represent which Pokemon it is. Lastly, the marker at each point should be an `'x'`. Make sure to label each axis.\n",
    "\n",
    "Hints:\n",
    "\n",
    "- The `scatter` method from `matplotlib` accepts an argument called `c`.\n",
    "- The `scatter` method also accepts an argument called `marker`."
   ]
  },
  {
   "cell_type": "code",
   "execution_count": 67,
   "metadata": {
    "deletable": false,
    "nbgrader": {
     "cell_type": "code",
     "checksum": "f6f749d2605a9f0d0ae2dff5d584d414",
     "grade": true,
     "grade_id": "cell-1120bd5aa8abeae1",
     "locked": false,
     "points": 0,
     "schema_version": 3,
     "solution": true
    }
   },
   "outputs": [
    {
     "data": {
      "image/png": "[encoded data removed]",
      "text/plain": [
       "<Figure size 800x600 with 1 Axes>"
      ]
     },
     "metadata": {},
     "output_type": "display_data"
    }
   ],
   "source": [
    "# Scatter plot: longitude vs latitude, colored by Pokemon name\n",
    "colors = {'Diglett': 'orange', 'Seel': 'blue', 'Tauros': 'green'}\n",
    "plt.figure(figsize=(8,6))\n",
    "for name, group in filtered_df.groupby('name'):\n",
    "    plt.scatter(group['longitude'], group['latitude'], c=colors[name], label=name, marker='x', alpha=0.7)\n",
    "plt.xlabel('Longitude')\n",
    "plt.ylabel('Latitude')\n",
    "plt.title('Pokemon Sightings by Location')\n",
    "plt.legend()\n",
    "plt.show()"
   ]
  },
  {
   "cell_type": "markdown",
   "metadata": {
    "deletable": false,
    "editable": false,
    "nbgrader": {
     "cell_type": "markdown",
     "checksum": "4cad292133d28b4b0fe7f2245b0bc567",
     "grade": false,
     "grade_id": "cell-76f326a05bf22e09",
     "locked": true,
     "schema_version": 3,
     "solution": false
    }
   },
   "source": [
    "Is there any other visualization you think would be useful? If so, insert them here."
   ]
  },
  {
   "cell_type": "code",
   "execution_count": 68,
   "metadata": {
    "deletable": false,
    "nbgrader": {
     "cell_type": "code",
     "checksum": "ad81f10f7f24ca21197794fdcd7fb04c",
     "grade": true,
     "grade_id": "cell-86724bfd3955c5ed",
     "locked": false,
     "points": 0,
     "schema_version": 3,
     "solution": true
    }
   },
   "outputs": [],
   "source": [
    "# YOUR CODE HERE"
   ]
  },
  {
   "cell_type": "markdown",
   "metadata": {
    "deletable": false,
    "editable": false,
    "nbgrader": {
     "cell_type": "markdown",
     "checksum": "6140988fa08ca186bbe62a74e82ddddd",
     "grade": false,
     "grade_id": "cell-7af3ac7849dc5252",
     "locked": true,
     "schema_version": 3,
     "solution": false
    }
   },
   "source": [
    "How hard do you think the problem is? Which classes can/cannot be easily separated?\n"
   ]
  },
  {
   "cell_type": "markdown",
   "metadata": {
    "deletable": false,
    "nbgrader": {
     "cell_type": "markdown",
     "checksum": "6bb25f67d0cf2e55d60f2b63646ce9fe",
     "grade": true,
     "grade_id": "cell-62e50deb2cca74b2",
     "locked": false,
     "points": 0,
     "schema_version": 3,
     "solution": true
    }
   },
   "source": [
    "**Your answer:** I think it is difficult since the diglett and seel are quite separated and therefore difficult to classify their probable position. A part of seel and the entire taurus are however easier to classify since they are very close to each other. Making it easier for the classifier to guess correctly when looking at those geographical locations. "
   ]
  },
  {
   "cell_type": "markdown",
   "metadata": {
    "deletable": false,
    "editable": false,
    "nbgrader": {
     "cell_type": "markdown",
     "checksum": "9e6bfdd82abab0b61a471c52bfc9dff3",
     "grade": false,
     "grade_id": "cell-3d322369934aa289",
     "locked": true,
     "schema_version": 3,
     "solution": false
    }
   },
   "source": [
    "Which accuracy do you expect to achieve?"
   ]
  },
  {
   "cell_type": "markdown",
   "metadata": {
    "deletable": false,
    "nbgrader": {
     "cell_type": "markdown",
     "checksum": "931b0e510dcc8867fb3efb7e50fe8a25",
     "grade": true,
     "grade_id": "cell-f2c255ad5dd7e5fc",
     "locked": false,
     "points": 0,
     "schema_version": 3,
     "solution": true
    }
   },
   "source": [
    "**Your answer:** 60%"
   ]
  },
  {
   "cell_type": "markdown",
   "metadata": {
    "deletable": false,
    "editable": false,
    "nbgrader": {
     "cell_type": "markdown",
     "checksum": "d5510f4a800380ecc156cd9d2f3898e5",
     "grade": false,
     "grade_id": "cell-451e0813fca28b8b",
     "locked": true,
     "schema_version": 3,
     "solution": false
    }
   },
   "source": [
    "## 3. Preprocessing"
   ]
  },
  {
   "cell_type": "markdown",
   "metadata": {
    "deletable": false,
    "editable": false,
    "nbgrader": {
     "cell_type": "markdown",
     "checksum": "7a6c54a6e0bfe71ad1da3f834fbcb3d7",
     "grade": false,
     "grade_id": "cell-3eed8190495b60ac",
     "locked": true,
     "schema_version": 3,
     "solution": false
    }
   },
   "source": [
    "The third step consists of processing the data before training, such as dividing the dataset into training, validation, and test sets. Some tranformations can also be applied to the dataset in order to improve the performance of the network. We will use some PyTorch utilities to help us with this task.\n",
    "\n",
    "Start by creating the input and output vectors, `x` and `y`. The input should be latitude and longitude, and the output should be the class of the pokemon. Note that you cannot use the class names directly, as they are strings. You need to introduce some mapping to convert them to integers (0, 1, and 2) or one-hot vectors."
   ]
  },
  {
   "cell_type": "code",
   "execution_count": 69,
   "metadata": {
    "deletable": false,
    "nbgrader": {
     "cell_type": "code",
     "checksum": "a001f72e92feb0435ca66ca282c5eb6c",
     "grade": false,
     "grade_id": "cell-c61cb8065babf0c5",
     "locked": false,
     "schema_version": 3,
     "solution": true,
     "task": false
    }
   },
   "outputs": [
    {
     "name": "stdout",
     "output_type": "stream",
     "text": [
      "Shape of input data: (2083, 2)\n",
      "Shape of labels: (2083,)\n"
     ]
    }
   ],
   "source": [
    "# YOUR CODE HERE\n",
    "x = filtered_df[['longitude','latitude']].to_numpy(dtype=np.float32)\n",
    "name_to_label = {'Diglett': 0, 'Seel': 1, 'Tauros': 2}\n",
    "y = filtered_df['name'].map(name_to_label).to_numpy(dtype=np.int64)\n",
    "print(f\"Shape of input data: {x.shape}\")\n",
    "print(f\"Shape of labels: {y.shape}\")"
   ]
  },
  {
   "cell_type": "code",
   "execution_count": 70,
   "metadata": {
    "deletable": false,
    "editable": false,
    "nbgrader": {
     "cell_type": "code",
     "checksum": "c29016eeb4001be249e61f5364c9c294",
     "grade": true,
     "grade_id": "cell-e3cfcf9955f6809c",
     "locked": true,
     "points": 1,
     "schema_version": 3,
     "solution": false,
     "task": false
    }
   },
   "outputs": [],
   "source": [
    "assert isinstance(x, np.ndarray), \"x should be a numpy array\"\n",
    "assert isinstance(y, np.ndarray), \"y should be a numpy array\"\n",
    "\n",
    "assert x.shape[0] == y.shape[0], \"x and y should have the same number of samples\"\n",
    "assert x.shape[-1] == 2, \"x should have 2 features\"\n",
    "assert x.dtype == np.float32, \"x should be of type float32\"\n",
    "if y.shape[-1] == 3:  # one-hot encoded\n",
    "    assert y.max() == 1, \"one-hot encoded y, at least one entry should be 1\"\n",
    "    assert y.min() == 0, \"one-hot encoded y, at least one entry should be 0\"\n",
    "    assert y.sum(axis=1).all() == 1\n",
    "else:  # label encoded\n",
    "    assert y.max() == 2, \"label encoded y, should have a max value of 2\"\n",
    "    assert y.min() == 0, \"label encoded y, should have a min value of 0\""
   ]
  },
  {
   "cell_type": "markdown",
   "metadata": {
    "deletable": false,
    "editable": false,
    "nbgrader": {
     "cell_type": "markdown",
     "checksum": "667ef8d517475a54aca21e510c96761d",
     "grade": false,
     "grade_id": "cell-566d2f340fa57d49",
     "locked": true,
     "schema_version": 3,
     "solution": false
    }
   },
   "source": [
    "Separate your data into training (55%), validation (25%) and test sets (20%) and save them as `dataset_train`, `dataset_val`, `dataset_test`. If you wish to apply any transformation to the dataset, do it here as well. \n",
    "\n",
    "Further, create a class, PokemonDataset, inheriting from PyTorch [`Dataset`](https://pytorch.org/docs/stable/data.html#torch.utils.data.Dataset) and use this for storing the data. In other words, `dataset_train`, `dataset_val`, `dataset_test` should have type PokemonDataset. You will need to implement a `__getitem__`, `__len__` and `__init__` method. Although perhaps a bit overkill for this assignment, it is a good practice for handling datasets in PyTorch.\n",
    "\n",
    "Last, instantiate a [`DataLoader`](https://pytorch.org/docs/stable/data.html#torch.utils.data.DataLoader) for each dataset, i.e., `loader_train`, `loader_val`, `loader_test`. This will fetch samples from the datasets and combine them into batches. Remember to select a suitable batch size."
   ]
  },
  {
   "cell_type": "code",
   "execution_count": 71,
   "metadata": {
    "deletable": false,
    "nbgrader": {
     "cell_type": "code",
     "checksum": "e2a4956e2e49a791cfcf70933886dacd",
     "grade": false,
     "grade_id": "cell-918e3bb4d74472bd",
     "locked": false,
     "schema_version": 3,
     "solution": true,
     "task": false
    }
   },
   "outputs": [],
   "source": [
    "from torch.utils.data import Dataset, DataLoader\n",
    "import torch\n",
    "num_samples = filtered_df.shape[0]\n",
    "random = np.random.permutation(num_samples)\n",
    "train_end = int(0.55 * num_samples)\n",
    "val_end = train_end + int(0.25 * num_samples)\n",
    "train_indices = random[:train_end]\n",
    "val_indices = random[train_end:val_end]\n",
    "test_indices = random[val_end:]\n",
    "\n",
    "x_train, y_train = x[train_indices], y[train_indices]\n",
    "x_val, y_val = x[val_indices], y[val_indices]\n",
    "x_test, y_test = x[test_indices], y[test_indices]\n",
    "\n",
    "class PokemonDataset(Dataset):\n",
    "    def __init__(self, x, y):\n",
    "        self.x = torch.tensor(x, dtype=torch.float32)\n",
    "        self.y = torch.tensor(y, dtype=torch.long)\n",
    "    def __len__(self):\n",
    "        return len(self.x)\n",
    "    def __getitem__(self, idx):\n",
    "        return self.x[idx], self.y[idx]\n",
    "\n",
    "dataset_train = PokemonDataset(x_train, y_train)\n",
    "dataset_val = PokemonDataset(x_val, y_val)\n",
    "dataset_test = PokemonDataset(x_test, y_test)\n",
    "\n",
    "loader_train = DataLoader(dataset_train, batch_size=64, shuffle=True)\n",
    "loader_val = DataLoader(dataset_val, batch_size=64, shuffle=False)\n",
    "loader_test = DataLoader(dataset_test, batch_size=64, shuffle=False)"
   ]
  },
  {
   "cell_type": "code",
   "execution_count": 72,
   "metadata": {
    "deletable": false,
    "editable": false,
    "nbgrader": {
     "cell_type": "code",
     "checksum": "679946ba2a8db7542fb0a009ebdec14b",
     "grade": true,
     "grade_id": "cell-26a6a53ab59cb075",
     "locked": true,
     "points": 1,
     "schema_version": 3,
     "solution": false,
     "task": false
    }
   },
   "outputs": [],
   "source": [
    "assert isinstance(\n",
    "    dataset_train, PokemonDataset\n",
    "), \"dataset_train should be an instance of PokemonDataset\"\n",
    "assert isinstance(\n",
    "    dataset_val, PokemonDataset\n",
    "), \"dataset_val should be an instance of PokemonDataset\"\n",
    "assert isinstance(\n",
    "    dataset_test, PokemonDataset\n",
    "), \"dataset_test should be an instance of PokemonDataset\"\n",
    "\n",
    "assert (\n",
    "    abs(len(dataset_train) / len(x) - 0.55) < 0.01\n",
    "), \"dataset_train has the wrong length, should be 55% of the data\"\n",
    "assert (\n",
    "    abs(len(dataset_val) / len(x) - 0.25) < 0.01\n",
    "), \"dataset_val has the wrong length, should be 25% of the data\"\n",
    "assert (\n",
    "    abs(len(dataset_test) / len(x) - 0.20) < 0.01\n",
    "), \"dataset_test has the wrong length, should be 20% of the data\"\n",
    "\n",
    "assert isinstance(\n",
    "    loader_train, DataLoader\n",
    "), \"loader_train should be an instance of DataLoader\"\n",
    "assert isinstance(\n",
    "    loader_val, DataLoader\n",
    "), \"loader_val should be an instance of DataLoader\"\n",
    "assert isinstance(\n",
    "    loader_test, DataLoader\n",
    "), \"loader_test should be an instance of DataLoader\"\n",
    "\n",
    "assert len(loader_train), \"loader_train should have a length\"\n",
    "assert len(loader_val), \"loader_val should have a length\"\n",
    "assert len(loader_test), \"loader_test should have a length\""
   ]
  },
  {
   "cell_type": "markdown",
   "metadata": {
    "deletable": false,
    "editable": false,
    "nbgrader": {
     "cell_type": "markdown",
     "checksum": "c9b5ffa094240411cb43919a003ba914",
     "grade": false,
     "grade_id": "cell-b9088197f0ab661c",
     "locked": true,
     "schema_version": 3,
     "solution": false
    }
   },
   "source": [
    "## 4. Training"
   ]
  },
  {
   "cell_type": "markdown",
   "metadata": {
    "deletable": false,
    "editable": false,
    "nbgrader": {
     "cell_type": "markdown",
     "checksum": "6c5d33400a0aa71b9c81a01181b7cb3b",
     "grade": false,
     "grade_id": "cell-1c4e4c6b7186c418",
     "locked": true,
     "schema_version": 3,
     "solution": false
    }
   },
   "source": [
    "The fourth step is where you will choose the architecture of your network (number of hidden layers, activation functions, etc.), optimizer, loss function and then train the network. \n",
    "\n",
    "Start by implementing a training loop, and a helper function to calculate the accuracy. The training loop should calculate the loss and accuracy for both the training and validation set and print it with some regular interval (each epoch, or every few epochs, for instance). It can also be helpful to plot the loss and accuracy for both the training and validation set, either in the training loop, or after it has finished (i.e., you have to store the values during training and return them).\n",
    "\n",
    "We have prepared the `train_model` function with the arguments you need, but you have access to *args and **kwargs if you want to pass additional arguments to the function."
   ]
  },
  {
   "cell_type": "code",
   "execution_count": 73,
   "metadata": {
    "deletable": false,
    "nbgrader": {
     "cell_type": "code",
     "checksum": "651fa27aab4bd856b89ccdb51201cdf9",
     "grade": false,
     "grade_id": "cell-e1cb09a6dcbdb401",
     "locked": false,
     "schema_version": 3,
     "solution": true,
     "task": false
    }
   },
   "outputs": [],
   "source": [
    "from typing import Callable, Union\n",
    "\n",
    "import torch\n",
    "import torch.nn as nn\n",
    "import torch.utils\n",
    "\n",
    "def accuracy(y_hat: torch.Tensor, y: torch.Tensor) -> torch.Tensor:\n",
    "    \"\"\"\n",
    "    Compute the accuracy of the model.\n",
    "\n",
    "    Args:\n",
    "    y_hat: torch.Tensor: The model predictions (probability per class), shape: [batch_size, num_classes]\n",
    "    y: torch.Tensor: The true labels, shape: [batch_size]\n",
    "\n",
    "    Returns:\n",
    "    torch.Tensor: The accuracy of the model\n",
    "    \"\"\"\n",
    "    #YOUR CODE HERE\n",
    "    if y.dim() == 2 and y.shape == y_hat.shape:\n",
    "        y_true = y.argmax(dim=1)\n",
    "    else:\n",
    "        y_true = y.squeeze().long()\n",
    "\n",
    "    # multiclass vs binary/logit\n",
    "    if y_hat.dim() > 1 and y_hat.size(1) > 1:\n",
    "        preds = y_hat.argmax(dim=1)\n",
    "    else:\n",
    "        preds = (torch.sigmoid(y_hat.squeeze()) > 0.5).long()\n",
    "\n",
    "    return (preds == y_true).float().mean()\n",
    "\n",
    "def train_model(\n",
    "    model: nn.Module,\n",
    "    optimizer: torch.optim,\n",
    "    loss_fn: Union[Callable, nn.Module],\n",
    "    num_epochs: int,\n",
    "    train_dataloader: torch.utils.data.DataLoader,\n",
    "    val_dataloader: torch.utils.data.DataLoader,\n",
    "    device: Union[str, torch.device],\n",
    "    *args,\n",
    "    **kwargs,\n",
    "):\n",
    "    \"\"\"\n",
    "    Train the model.\n",
    "\n",
    "    Args:\n",
    "    model: nn.Module: The neural network model\n",
    "    optimizer: torch.optim: The optimizer used to update the model parameters\n",
    "    loss_fn: Union[Callable, nn.Module]: The loss function used to compute the loss\n",
    "    num_epochs: int: The number of epochs to train the model\n",
    "    train_dataloader: torch.utils.data.DataLoader: The training dataloader\n",
    "    val_dataloader: torch.utils.data.DataLoader: The validation dataloader\n",
    "    device: Union[str, torch.device]: The device to run the training on\n",
    "    *args: Additional arguments to pass to the train function\n",
    "    **kwargs: Additional keyword arguments to pass to the train function\n",
    "    \"\"\"\n",
    "    model.to(device)\n",
    "    for epoch in range(num_epochs):\n",
    "        model.train()\n",
    "        train_loss = 0.0\n",
    "        train_acc = 0.0\n",
    "        for xb, yb in train_dataloader:\n",
    "            xb, yb = xb.to(device), yb.to(device)\n",
    "            optimizer.zero_grad()\n",
    "            y_hat = model(xb)\n",
    "            loss = loss_fn(y_hat, yb)\n",
    "            loss.backward()\n",
    "            optimizer.step()\n",
    "            train_loss += loss.item() * xb.size(0)\n",
    "            train_acc += (y_hat.argmax(dim=1) == yb).float().sum().item()\n",
    "        train_loss /= len(train_dataloader.dataset)\n",
    "        train_acc /= len(train_dataloader.dataset)\n",
    "\n",
    "        model.eval()\n",
    "        val_loss = 0.0\n",
    "        val_acc = 0.0\n",
    "        with torch.no_grad():\n",
    "            for xb, yb in val_dataloader:\n",
    "                xb, yb = xb.to(device), yb.to(device)\n",
    "                y_hat = model(xb)\n",
    "                loss = loss_fn(y_hat, yb)\n",
    "                val_loss += loss.item() * xb.size(0)\n",
    "                val_acc += (y_hat.argmax(dim=1) == yb).float().sum().item()\n",
    "        val_loss /= len(val_dataloader.dataset)\n",
    "        val_acc /= len(val_dataloader.dataset)\n",
    "\n",
    "        print(f\"Epoch {epoch+1}/{num_epochs} | Train Loss: {train_loss:.4f} | Train Acc: {train_acc:.4f} | Val Loss: {val_loss:.4f} | Val Acc: {val_acc:.4f}\")\n"
   ]
  },
  {
   "cell_type": "markdown",
   "metadata": {
    "deletable": false,
    "editable": false,
    "nbgrader": {
     "cell_type": "markdown",
     "checksum": "f120e556ca9bee3969022ccd95c884d5",
     "grade": false,
     "grade_id": "cell-abd73fe36efa945d",
     "locked": true,
     "schema_version": 3,
     "solution": false,
     "task": false
    }
   },
   "source": [
    "Next, we'll test that your training loop is correct. A [common sanity check in deep learning](https://karpathy.github.io/2019/04/25/recipe/) is to overfit to a small dataset, like a single batch of data. This ensures that shapes and devices are correctly set, and the network can learn/memorize the training data, which is a good starting point before training on the full dataset."
   ]
  },
  {
   "cell_type": "code",
   "execution_count": 74,
   "metadata": {
    "deletable": false,
    "editable": false,
    "nbgrader": {
     "cell_type": "code",
     "checksum": "4f4c52b6973df138e3fbe8f0ce30b32d",
     "grade": true,
     "grade_id": "cell-be96e21b4495aa27",
     "locked": true,
     "points": 1,
     "schema_version": 3,
     "solution": false,
     "task": false
    }
   },
   "outputs": [
    {
     "name": "stdout",
     "output_type": "stream",
     "text": [
      "Testing training loop, CPU\n",
      "Epoch 1/100 | Train Loss: 1.2971 | Train Acc: 0.0000 | Val Loss: 1.5652 | Val Acc: 0.5000\n",
      "Epoch 2/100 | Train Loss: 1.2839 | Train Acc: 0.0000 | Val Loss: 1.5580 | Val Acc: 0.5000\n",
      "Epoch 3/100 | Train Loss: 1.2709 | Train Acc: 0.0000 | Val Loss: 1.5509 | Val Acc: 0.5000\n",
      "Epoch 4/100 | Train Loss: 1.2582 | Train Acc: 0.0000 | Val Loss: 1.5439 | Val Acc: 0.5000\n",
      "Epoch 5/100 | Train Loss: 1.2457 | Train Acc: 0.0000 | Val Loss: 1.5370 | Val Acc: 0.5000\n",
      "Epoch 6/100 | Train Loss: 1.2334 | Train Acc: 0.0000 | Val Loss: 1.5301 | Val Acc: 0.5000\n",
      "Epoch 7/100 | Train Loss: 1.2212 | Train Acc: 0.0000 | Val Loss: 1.5234 | Val Acc: 0.5000\n",
      "Epoch 8/100 | Train Loss: 1.2093 | Train Acc: 0.0000 | Val Loss: 1.5167 | Val Acc: 0.5000\n",
      "Epoch 9/100 | Train Loss: 1.1976 | Train Acc: 0.0000 | Val Loss: 1.5100 | Val Acc: 0.5000\n",
      "Epoch 10/100 | Train Loss: 1.1861 | Train Acc: 0.0000 | Val Loss: 1.5034 | Val Acc: 0.5000\n",
      "Epoch 11/100 | Train Loss: 1.1748 | Train Acc: 0.0000 | Val Loss: 1.4969 | Val Acc: 0.5000\n",
      "Epoch 12/100 | Train Loss: 1.1636 | Train Acc: 0.0000 | Val Loss: 1.4905 | Val Acc: 0.5000\n",
      "Epoch 13/100 | Train Loss: 1.1527 | Train Acc: 0.0000 | Val Loss: 1.4841 | Val Acc: 0.5000\n",
      "Epoch 14/100 | Train Loss: 1.1419 | Train Acc: 0.0000 | Val Loss: 1.4778 | Val Acc: 0.5000\n",
      "Epoch 15/100 | Train Loss: 1.1313 | Train Acc: 0.0000 | Val Loss: 1.4716 | Val Acc: 0.5000\n",
      "Epoch 16/100 | Train Loss: 1.1209 | Train Acc: 0.0000 | Val Loss: 1.4654 | Val Acc: 0.5000\n",
      "Epoch 17/100 | Train Loss: 1.1106 | Train Acc: 0.0000 | Val Loss: 1.4592 | Val Acc: 0.5000\n",
      "Epoch 18/100 | Train Loss: 1.1005 | Train Acc: 0.0000 | Val Loss: 1.4532 | Val Acc: 0.5000\n",
      "Epoch 19/100 | Train Loss: 1.0906 | Train Acc: 0.5000 | Val Loss: 1.4471 | Val Acc: 0.5000\n",
      "Epoch 20/100 | Train Loss: 1.0808 | Train Acc: 0.5000 | Val Loss: 1.4412 | Val Acc: 0.5000\n",
      "Epoch 21/100 | Train Loss: 1.0712 | Train Acc: 0.5000 | Val Loss: 1.4352 | Val Acc: 0.5000\n",
      "Epoch 22/100 | Train Loss: 1.0618 | Train Acc: 0.5000 | Val Loss: 1.4294 | Val Acc: 0.5000\n",
      "Epoch 23/100 | Train Loss: 1.0525 | Train Acc: 0.5000 | Val Loss: 1.4235 | Val Acc: 0.5000\n",
      "Epoch 24/100 | Train Loss: 1.0433 | Train Acc: 0.5000 | Val Loss: 1.4177 | Val Acc: 0.5000\n",
      "Epoch 25/100 | Train Loss: 1.0343 | Train Acc: 0.5000 | Val Loss: 1.4120 | Val Acc: 0.5000\n",
      "Epoch 26/100 | Train Loss: 1.0254 | Train Acc: 0.5000 | Val Loss: 1.4063 | Val Acc: 0.5000\n",
      "Epoch 27/100 | Train Loss: 1.0167 | Train Acc: 0.5000 | Val Loss: 1.4007 | Val Acc: 0.5000\n",
      "Epoch 28/100 | Train Loss: 1.0081 | Train Acc: 0.5000 | Val Loss: 1.3951 | Val Acc: 0.5000\n",
      "Epoch 29/100 | Train Loss: 0.9997 | Train Acc: 0.5000 | Val Loss: 1.3895 | Val Acc: 0.5000\n",
      "Epoch 30/100 | Train Loss: 0.9913 | Train Acc: 0.5000 | Val Loss: 1.3840 | Val Acc: 0.5000\n",
      "Epoch 31/100 | Train Loss: 0.9831 | Train Acc: 0.5000 | Val Loss: 1.3785 | Val Acc: 0.5000\n",
      "Epoch 32/100 | Train Loss: 0.9750 | Train Acc: 0.5000 | Val Loss: 1.3731 | Val Acc: 0.5000\n",
      "Epoch 33/100 | Train Loss: 0.9671 | Train Acc: 0.5000 | Val Loss: 1.3677 | Val Acc: 0.5000\n",
      "Epoch 34/100 | Train Loss: 0.9592 | Train Acc: 0.5000 | Val Loss: 1.3623 | Val Acc: 0.5000\n",
      "Epoch 35/100 | Train Loss: 0.9515 | Train Acc: 0.5000 | Val Loss: 1.3570 | Val Acc: 0.5000\n",
      "Epoch 36/100 | Train Loss: 0.9439 | Train Acc: 0.5000 | Val Loss: 1.3517 | Val Acc: 0.5000\n",
      "Epoch 37/100 | Train Loss: 0.9364 | Train Acc: 0.5000 | Val Loss: 1.3465 | Val Acc: 0.5000\n",
      "Epoch 38/100 | Train Loss: 0.9291 | Train Acc: 0.5000 | Val Loss: 1.3412 | Val Acc: 0.5000\n",
      "Epoch 39/100 | Train Loss: 0.9218 | Train Acc: 0.5000 | Val Loss: 1.3360 | Val Acc: 0.5000\n",
      "Epoch 40/100 | Train Loss: 0.9146 | Train Acc: 0.5000 | Val Loss: 1.3309 | Val Acc: 0.5000\n",
      "Epoch 41/100 | Train Loss: 0.9076 | Train Acc: 0.5000 | Val Loss: 1.3258 | Val Acc: 0.5000\n",
      "Epoch 42/100 | Train Loss: 0.9006 | Train Acc: 0.5000 | Val Loss: 1.3207 | Val Acc: 0.5000\n",
      "Epoch 43/100 | Train Loss: 0.8937 | Train Acc: 0.5000 | Val Loss: 1.3156 | Val Acc: 0.5000\n",
      "Epoch 44/100 | Train Loss: 0.8870 | Train Acc: 0.5000 | Val Loss: 1.3106 | Val Acc: 0.5000\n",
      "Epoch 45/100 | Train Loss: 0.8803 | Train Acc: 0.5000 | Val Loss: 1.3056 | Val Acc: 0.5000\n",
      "Epoch 46/100 | Train Loss: 0.8737 | Train Acc: 0.5000 | Val Loss: 1.3006 | Val Acc: 0.5000\n",
      "Epoch 47/100 | Train Loss: 0.8672 | Train Acc: 0.5000 | Val Loss: 1.2957 | Val Acc: 0.5000\n",
      "Epoch 48/100 | Train Loss: 0.8608 | Train Acc: 0.5000 | Val Loss: 1.2907 | Val Acc: 0.5000\n",
      "Epoch 49/100 | Train Loss: 0.8545 | Train Acc: 0.5000 | Val Loss: 1.2859 | Val Acc: 0.5000\n",
      "Epoch 50/100 | Train Loss: 0.8483 | Train Acc: 1.0000 | Val Loss: 1.2810 | Val Acc: 0.5000\n",
      "Epoch 51/100 | Train Loss: 0.8422 | Train Acc: 1.0000 | Val Loss: 1.2762 | Val Acc: 0.5000\n",
      "Epoch 52/100 | Train Loss: 0.8361 | Train Acc: 1.0000 | Val Loss: 1.2714 | Val Acc: 0.5000\n",
      "Epoch 53/100 | Train Loss: 0.8301 | Train Acc: 1.0000 | Val Loss: 1.2666 | Val Acc: 0.5000\n",
      "Epoch 54/100 | Train Loss: 0.8242 | Train Acc: 1.0000 | Val Loss: 1.2618 | Val Acc: 0.5000\n",
      "Epoch 55/100 | Train Loss: 0.8184 | Train Acc: 1.0000 | Val Loss: 1.2571 | Val Acc: 0.5000\n",
      "Epoch 56/100 | Train Loss: 0.8127 | Train Acc: 1.0000 | Val Loss: 1.2524 | Val Acc: 0.5000\n",
      "Epoch 57/100 | Train Loss: 0.8070 | Train Acc: 1.0000 | Val Loss: 1.2477 | Val Acc: 0.5000\n",
      "Epoch 58/100 | Train Loss: 0.8014 | Train Acc: 1.0000 | Val Loss: 1.2430 | Val Acc: 0.5000\n",
      "Epoch 59/100 | Train Loss: 0.7959 | Train Acc: 1.0000 | Val Loss: 1.2384 | Val Acc: 0.5000\n",
      "Epoch 60/100 | Train Loss: 0.7904 | Train Acc: 1.0000 | Val Loss: 1.2338 | Val Acc: 0.5000\n",
      "Epoch 61/100 | Train Loss: 0.7850 | Train Acc: 1.0000 | Val Loss: 1.2292 | Val Acc: 0.5000\n",
      "Epoch 62/100 | Train Loss: 0.7797 | Train Acc: 1.0000 | Val Loss: 1.2247 | Val Acc: 0.5000\n",
      "Epoch 63/100 | Train Loss: 0.7744 | Train Acc: 1.0000 | Val Loss: 1.2201 | Val Acc: 0.5000\n",
      "Epoch 64/100 | Train Loss: 0.7692 | Train Acc: 1.0000 | Val Loss: 1.2156 | Val Acc: 0.5000\n",
      "Epoch 65/100 | Train Loss: 0.7641 | Train Acc: 1.0000 | Val Loss: 1.2111 | Val Acc: 0.5000\n",
      "Epoch 66/100 | Train Loss: 0.7591 | Train Acc: 1.0000 | Val Loss: 1.2066 | Val Acc: 0.5000\n",
      "Epoch 67/100 | Train Loss: 0.7541 | Train Acc: 1.0000 | Val Loss: 1.2022 | Val Acc: 0.5000\n",
      "Epoch 68/100 | Train Loss: 0.7491 | Train Acc: 1.0000 | Val Loss: 1.1978 | Val Acc: 0.5000\n",
      "Epoch 69/100 | Train Loss: 0.7442 | Train Acc: 1.0000 | Val Loss: 1.1934 | Val Acc: 0.5000\n",
      "Epoch 70/100 | Train Loss: 0.7394 | Train Acc: 1.0000 | Val Loss: 1.1890 | Val Acc: 0.5000\n",
      "Epoch 71/100 | Train Loss: 0.7346 | Train Acc: 1.0000 | Val Loss: 1.1846 | Val Acc: 0.5000\n",
      "Epoch 72/100 | Train Loss: 0.7299 | Train Acc: 1.0000 | Val Loss: 1.1803 | Val Acc: 0.5000\n",
      "Epoch 73/100 | Train Loss: 0.7253 | Train Acc: 1.0000 | Val Loss: 1.1759 | Val Acc: 0.5000\n",
      "Epoch 74/100 | Train Loss: 0.7206 | Train Acc: 1.0000 | Val Loss: 1.1716 | Val Acc: 0.5000\n",
      "Epoch 75/100 | Train Loss: 0.7161 | Train Acc: 1.0000 | Val Loss: 1.1673 | Val Acc: 0.5000\n",
      "Epoch 76/100 | Train Loss: 0.7116 | Train Acc: 1.0000 | Val Loss: 1.1631 | Val Acc: 0.5000\n",
      "Epoch 77/100 | Train Loss: 0.7071 | Train Acc: 1.0000 | Val Loss: 1.1588 | Val Acc: 0.5000\n",
      "Epoch 78/100 | Train Loss: 0.7027 | Train Acc: 1.0000 | Val Loss: 1.1546 | Val Acc: 0.5000\n",
      "Epoch 79/100 | Train Loss: 0.6984 | Train Acc: 1.0000 | Val Loss: 1.1504 | Val Acc: 0.5000\n",
      "Epoch 80/100 | Train Loss: 0.6941 | Train Acc: 1.0000 | Val Loss: 1.1462 | Val Acc: 0.5000\n",
      "Epoch 81/100 | Train Loss: 0.6898 | Train Acc: 1.0000 | Val Loss: 1.1421 | Val Acc: 0.5000\n",
      "Epoch 82/100 | Train Loss: 0.6856 | Train Acc: 1.0000 | Val Loss: 1.1379 | Val Acc: 0.5000\n",
      "Epoch 83/100 | Train Loss: 0.6814 | Train Acc: 1.0000 | Val Loss: 1.1338 | Val Acc: 0.5000\n",
      "Epoch 84/100 | Train Loss: 0.6773 | Train Acc: 1.0000 | Val Loss: 1.1297 | Val Acc: 0.5000\n",
      "Epoch 85/100 | Train Loss: 0.6732 | Train Acc: 1.0000 | Val Loss: 1.1256 | Val Acc: 0.5000\n",
      "Epoch 86/100 | Train Loss: 0.6692 | Train Acc: 1.0000 | Val Loss: 1.1215 | Val Acc: 0.5000\n",
      "Epoch 87/100 | Train Loss: 0.6652 | Train Acc: 1.0000 | Val Loss: 1.1175 | Val Acc: 0.5000\n",
      "Epoch 88/100 | Train Loss: 0.6613 | Train Acc: 1.0000 | Val Loss: 1.1135 | Val Acc: 0.5000\n",
      "Epoch 89/100 | Train Loss: 0.6574 | Train Acc: 1.0000 | Val Loss: 1.1094 | Val Acc: 0.5000\n",
      "Epoch 90/100 | Train Loss: 0.6535 | Train Acc: 1.0000 | Val Loss: 1.1054 | Val Acc: 0.5000\n",
      "Epoch 91/100 | Train Loss: 0.6497 | Train Acc: 1.0000 | Val Loss: 1.1015 | Val Acc: 0.5000\n",
      "Epoch 92/100 | Train Loss: 0.6459 | Train Acc: 1.0000 | Val Loss: 1.0975 | Val Acc: 0.5000\n",
      "Epoch 93/100 | Train Loss: 0.6421 | Train Acc: 1.0000 | Val Loss: 1.0936 | Val Acc: 0.5000\n",
      "Epoch 94/100 | Train Loss: 0.6384 | Train Acc: 1.0000 | Val Loss: 1.0897 | Val Acc: 0.5000\n",
      "Epoch 95/100 | Train Loss: 0.6347 | Train Acc: 1.0000 | Val Loss: 1.0857 | Val Acc: 0.5000\n",
      "Epoch 96/100 | Train Loss: 0.6311 | Train Acc: 1.0000 | Val Loss: 1.0819 | Val Acc: 0.5000\n",
      "Epoch 97/100 | Train Loss: 0.6275 | Train Acc: 1.0000 | Val Loss: 1.0780 | Val Acc: 0.5000\n",
      "Epoch 98/100 | Train Loss: 0.6239 | Train Acc: 1.0000 | Val Loss: 1.0741 | Val Acc: 0.5000\n",
      "Epoch 99/100 | Train Loss: 0.6204 | Train Acc: 1.0000 | Val Loss: 1.0703 | Val Acc: 0.5000\n",
      "Epoch 100/100 | Train Loss: 0.6169 | Train Acc: 1.0000 | Val Loss: 1.0665 | Val Acc: 0.5000\n"
     ]
    }
   ],
   "source": [
    "def test_train_loop():\n",
    "    import torch.nn as nn\n",
    "    import torch.optim as optim\n",
    "    import torch.utils.data as data\n",
    "\n",
    "    # init simple model, optimizer, loss_fn, dataloaders\n",
    "    linear_model = nn.Linear(2, 3)\n",
    "    optimizer = optim.SGD(linear_model.parameters(), lr=0.01)\n",
    "    loss_fn = nn.CrossEntropyLoss()\n",
    "    testing_loader_train = data.DataLoader(\n",
    "        data.TensorDataset(torch.randn(2, 2), torch.randint(0, 3, (2,)))\n",
    "    )\n",
    "    testing_loader_val = data.DataLoader(\n",
    "        data.TensorDataset(torch.randn(2, 2), torch.randint(0, 3, (2,)))\n",
    "    )\n",
    "\n",
    "    # copy parameters to check for changes\n",
    "    params_before_training = list(linear_model.parameters())\n",
    "    params_before_training = [p.clone().to(\"cpu\") for p in params_before_training]\n",
    "\n",
    "    print(\"Testing training loop, CPU\")\n",
    "    train_model(\n",
    "        model=linear_model,\n",
    "        optimizer=optimizer,\n",
    "        loss_fn=loss_fn,\n",
    "        num_epochs=100,\n",
    "        train_dataloader=testing_loader_train,\n",
    "        val_dataloader=testing_loader_val,\n",
    "        device=\"cpu\",\n",
    "    )\n",
    "    if torch.cuda.is_available():\n",
    "        print(\"Testing training loop, CUDA\")\n",
    "        train_model(\n",
    "            model=linear_model,\n",
    "            optimizer=optimizer,\n",
    "            loss_fn=loss_fn,\n",
    "            num_epochs=100,\n",
    "            train_dataloader=testing_loader_train,\n",
    "            val_dataloader=testing_loader_val,\n",
    "            device=\"cuda\" if torch.cuda.is_available() else \"cpu\",\n",
    "        )\n",
    "\n",
    "    params_after_training = list(linear_model.parameters())\n",
    "    params_after_training = [p.clone().to(\"cpu\") for p in params_after_training]\n",
    "    for p_before, p_after in zip(params_before_training, params_after_training):\n",
    "        assert torch.any(\n",
    "            p_before != p_after\n",
    "        ), \"Model parameters did not change during training\"\n",
    "\n",
    "    # check that we could overfit a single example\n",
    "    (x, y) = next(iter(testing_loader_train))\n",
    "    x.to(\"cpu\")\n",
    "    y.to(\"cpu\")\n",
    "    linear_model.to(\"cpu\")\n",
    "    assert (\n",
    "        linear_model(x).argmax().item() == y.item()\n",
    "    ), \"Model could not overfit a single example\"\n",
    "\n",
    "\n",
    "def test_accuracy():\n",
    "    y_pred = torch.tensor([[0.1, 0.8, 0.1], [0.3, 0.4, 0.3], [0.1, 0.1, 0.8]])\n",
    "    y_true = torch.tensor([1, 0, 2])\n",
    "    acc = accuracy(y_pred, y_true)\n",
    "    assert isinstance(acc, torch.Tensor), \"Accuracy should be a torch.Tensor\"\n",
    "    assert torch.isclose(acc, torch.tensor(2 / 3)), f\"Accuracy is {acc}, expected 2/3\"\n",
    "\n",
    "\n",
    "try:\n",
    "    test_train_loop()\n",
    "except Exception as e:\n",
    "    print(e)\n",
    "    assert False, \"Training test failed, see error above\"\n",
    "\n",
    "test_accuracy()"
   ]
  },
  {
   "cell_type": "markdown",
   "metadata": {
    "deletable": false,
    "editable": false,
    "nbgrader": {
     "cell_type": "markdown",
     "checksum": "bd84899c109e58d0664fc4fab26425a2",
     "grade": false,
     "grade_id": "cell-a13a4a8eef1c582f",
     "locked": true,
     "schema_version": 3,
     "solution": false,
     "task": false
    }
   },
   "source": [
    "Now, create a neural network using PyTorch. You can use any architecture you want. Save the model in the variable `model`."
   ]
  },
  {
   "cell_type": "code",
   "execution_count": null,
   "metadata": {
    "deletable": false,
    "nbgrader": {
     "cell_type": "code",
     "checksum": "ccbab415641442556c01ed5667f4ea77",
     "grade": false,
     "grade_id": "cell-dff32f0d1dd91a72",
     "locked": false,
     "schema_version": 3,
     "solution": true,
     "task": false
    }
   },
   "outputs": [],
   "source": [
    "model = nn.Sequential(\n",
    "    nn.Linear(2, 64),\n",
    "    nn.ReLU(),\n",
    "    nn.Linear(64, 64),\n",
    "    nn.ReLU(),\n",
    "    nn.Linear(64, 128),\n",
    "    nn.ReLU(),\n",
    "    nn.Linear(128, 128),\n",
    "    nn.ReLU(),\n",
    "    nn.Linear(128, 64),\n",
    "    nn.ReLU(),\n",
    "    nn.Linear(64, 32),\n",
    "    nn.ReLU(),\n",
    "    nn.Linear(32, 3),\n",
    ")"
   ]
  },
  {
   "cell_type": "code",
   "execution_count": 94,
   "metadata": {
    "deletable": false,
    "editable": false,
    "nbgrader": {
     "cell_type": "code",
     "checksum": "8d10331a48b8b11d2d2056d610b13b7f",
     "grade": true,
     "grade_id": "cell-a3f55091f5cbbdfe",
     "locked": true,
     "points": 1,
     "schema_version": 3,
     "solution": false,
     "task": false
    }
   },
   "outputs": [],
   "source": [
    "assert isinstance(model, nn.Module)\n",
    "# check that we can run input of shape (batch_size, 2) through the model, with batch_size=16\n",
    "def test_model_output_shape(model):\n",
    "    is_model_on_cuda = next(model.parameters()).is_cuda\n",
    "    device = torch.device(\"cuda\" if is_model_on_cuda else \"cpu\")\n",
    "    assert (\n",
    "        len(model(torch.randn(16, 2, device=device))) == 16\n",
    "    ), \"The model should not change the batch size\"\n",
    "\n",
    "\n",
    "test_model_output_shape(model)"
   ]
  },
  {
   "cell_type": "markdown",
   "metadata": {
    "deletable": false,
    "editable": false,
    "nbgrader": {
     "cell_type": "markdown",
     "checksum": "de0dda92011c512396593caba091db79",
     "grade": false,
     "grade_id": "cell-d91e1230c6b9225d",
     "locked": true,
     "schema_version": 3,
     "solution": false
    }
   },
   "source": [
    "Train the network. \n",
    "\n",
    "For you to pass this assignment, you must obtain an accuracy on the test set greater than 60%. You can use the validation set as a proxy during development, but remember that they can differ slightly. We use the test set, as this better represents the performance of the model on new, unseen data (which is the ultimate goal).\n",
    "\n",
    "To reach the level of performance, it may be necessary to search for a good architecture by trying several different ones. Last, if you want a challenge, try getting an accuracy greater than 75% (our reference solution achieves ~78%).\n",
    "\n",
    "Again, it might be useful to plot the loss and accuracy (for training and validation) during training."
   ]
  },
  {
   "cell_type": "code",
   "execution_count": 95,
   "metadata": {},
   "outputs": [
    {
     "name": "stdout",
     "output_type": "stream",
     "text": [
      "Epoch 1/200 | Train Loss: 0.7476 | Train Acc: 0.6559 | Val Loss: 0.7251 | Val Acc: 0.6808\n",
      "Epoch 2/200 | Train Loss: 0.7322 | Train Acc: 0.6830 | Val Loss: 0.7152 | Val Acc: 0.6962\n",
      "Epoch 3/200 | Train Loss: 0.7274 | Train Acc: 0.6786 | Val Loss: 0.6974 | Val Acc: 0.7231\n",
      "Epoch 4/200 | Train Loss: 0.7183 | Train Acc: 0.6847 | Val Loss: 0.7264 | Val Acc: 0.6865\n",
      "Epoch 5/200 | Train Loss: 0.7407 | Train Acc: 0.6786 | Val Loss: 0.7460 | Val Acc: 0.6788\n",
      "Epoch 6/200 | Train Loss: 0.7264 | Train Acc: 0.6838 | Val Loss: 0.7135 | Val Acc: 0.6788\n",
      "Epoch 7/200 | Train Loss: 0.7198 | Train Acc: 0.6900 | Val Loss: 0.7000 | Val Acc: 0.7135\n",
      "Epoch 8/200 | Train Loss: 0.7138 | Train Acc: 0.6821 | Val Loss: 0.7012 | Val Acc: 0.7308\n",
      "Epoch 9/200 | Train Loss: 0.7115 | Train Acc: 0.6934 | Val Loss: 0.7091 | Val Acc: 0.7173\n",
      "Epoch 10/200 | Train Loss: 0.7228 | Train Acc: 0.6769 | Val Loss: 0.7150 | Val Acc: 0.7154\n",
      "Epoch 11/200 | Train Loss: 0.7329 | Train Acc: 0.6777 | Val Loss: 0.7373 | Val Acc: 0.6712\n",
      "Epoch 12/200 | Train Loss: 0.7409 | Train Acc: 0.6725 | Val Loss: 0.7249 | Val Acc: 0.6885\n",
      "Epoch 13/200 | Train Loss: 0.7316 | Train Acc: 0.6795 | Val Loss: 0.7248 | Val Acc: 0.7058\n",
      "Epoch 14/200 | Train Loss: 0.7153 | Train Acc: 0.6873 | Val Loss: 0.7319 | Val Acc: 0.7173\n",
      "Epoch 15/200 | Train Loss: 0.7310 | Train Acc: 0.6629 | Val Loss: 0.7343 | Val Acc: 0.6750\n",
      "Epoch 16/200 | Train Loss: 0.7248 | Train Acc: 0.6803 | Val Loss: 0.7311 | Val Acc: 0.6865\n",
      "Epoch 17/200 | Train Loss: 0.7295 | Train Acc: 0.6830 | Val Loss: 0.7149 | Val Acc: 0.7058\n",
      "Epoch 18/200 | Train Loss: 0.7198 | Train Acc: 0.6786 | Val Loss: 0.7216 | Val Acc: 0.6981\n",
      "Epoch 19/200 | Train Loss: 0.7094 | Train Acc: 0.6882 | Val Loss: 0.7124 | Val Acc: 0.6962\n",
      "Epoch 20/200 | Train Loss: 0.7083 | Train Acc: 0.6847 | Val Loss: 0.7154 | Val Acc: 0.7058\n",
      "Epoch 21/200 | Train Loss: 0.7037 | Train Acc: 0.6952 | Val Loss: 0.7223 | Val Acc: 0.7038\n",
      "Epoch 22/200 | Train Loss: 0.7156 | Train Acc: 0.6926 | Val Loss: 0.7261 | Val Acc: 0.7019\n",
      "Epoch 23/200 | Train Loss: 0.7216 | Train Acc: 0.6961 | Val Loss: 0.7227 | Val Acc: 0.7346\n",
      "Epoch 24/200 | Train Loss: 0.7154 | Train Acc: 0.6987 | Val Loss: 0.7305 | Val Acc: 0.7000\n",
      "Epoch 25/200 | Train Loss: 0.7077 | Train Acc: 0.6908 | Val Loss: 0.7144 | Val Acc: 0.7250\n",
      "Epoch 26/200 | Train Loss: 0.7048 | Train Acc: 0.6952 | Val Loss: 0.7262 | Val Acc: 0.7058\n",
      "Epoch 27/200 | Train Loss: 0.7038 | Train Acc: 0.6969 | Val Loss: 0.7192 | Val Acc: 0.6788\n",
      "Epoch 28/200 | Train Loss: 0.7303 | Train Acc: 0.6707 | Val Loss: 0.6963 | Val Acc: 0.7096\n",
      "Epoch 29/200 | Train Loss: 0.7167 | Train Acc: 0.6838 | Val Loss: 0.6947 | Val Acc: 0.7096\n",
      "Epoch 30/200 | Train Loss: 0.7184 | Train Acc: 0.6900 | Val Loss: 0.7151 | Val Acc: 0.6827\n",
      "Epoch 31/200 | Train Loss: 0.7142 | Train Acc: 0.6707 | Val Loss: 0.6961 | Val Acc: 0.6865\n",
      "Epoch 32/200 | Train Loss: 0.7200 | Train Acc: 0.6734 | Val Loss: 0.7057 | Val Acc: 0.6750\n",
      "Epoch 33/200 | Train Loss: 0.7106 | Train Acc: 0.6821 | Val Loss: 0.7145 | Val Acc: 0.7135\n",
      "Epoch 34/200 | Train Loss: 0.7220 | Train Acc: 0.6856 | Val Loss: 0.7070 | Val Acc: 0.7250\n",
      "Epoch 35/200 | Train Loss: 0.7076 | Train Acc: 0.7039 | Val Loss: 0.7099 | Val Acc: 0.6962\n",
      "Epoch 36/200 | Train Loss: 0.7228 | Train Acc: 0.6734 | Val Loss: 0.7230 | Val Acc: 0.7173\n",
      "Epoch 37/200 | Train Loss: 0.7195 | Train Acc: 0.6865 | Val Loss: 0.6979 | Val Acc: 0.6962\n",
      "Epoch 38/200 | Train Loss: 0.7235 | Train Acc: 0.6690 | Val Loss: 0.7488 | Val Acc: 0.7038\n",
      "Epoch 39/200 | Train Loss: 0.7284 | Train Acc: 0.6838 | Val Loss: 0.7270 | Val Acc: 0.6846\n",
      "Epoch 40/200 | Train Loss: 0.7177 | Train Acc: 0.6934 | Val Loss: 0.7123 | Val Acc: 0.7327\n",
      "Epoch 41/200 | Train Loss: 0.7088 | Train Acc: 0.7039 | Val Loss: 0.7155 | Val Acc: 0.7192\n",
      "Epoch 42/200 | Train Loss: 0.7013 | Train Acc: 0.6987 | Val Loss: 0.7117 | Val Acc: 0.7135\n",
      "Epoch 43/200 | Train Loss: 0.7058 | Train Acc: 0.6987 | Val Loss: 0.7023 | Val Acc: 0.7250\n",
      "Epoch 44/200 | Train Loss: 0.6979 | Train Acc: 0.6969 | Val Loss: 0.6979 | Val Acc: 0.7269\n",
      "Epoch 45/200 | Train Loss: 0.7056 | Train Acc: 0.6926 | Val Loss: 0.7844 | Val Acc: 0.6904\n",
      "Epoch 46/200 | Train Loss: 0.7123 | Train Acc: 0.6847 | Val Loss: 0.6987 | Val Acc: 0.7327\n",
      "Epoch 47/200 | Train Loss: 0.7097 | Train Acc: 0.7031 | Val Loss: 0.7042 | Val Acc: 0.7058\n",
      "Epoch 48/200 | Train Loss: 0.7137 | Train Acc: 0.6856 | Val Loss: 0.7031 | Val Acc: 0.6981\n",
      "Epoch 49/200 | Train Loss: 0.7223 | Train Acc: 0.6786 | Val Loss: 0.6845 | Val Acc: 0.7327\n",
      "Epoch 50/200 | Train Loss: 0.7083 | Train Acc: 0.7066 | Val Loss: 0.6931 | Val Acc: 0.7231\n",
      "Epoch 51/200 | Train Loss: 0.7035 | Train Acc: 0.7013 | Val Loss: 0.7102 | Val Acc: 0.7135\n",
      "Epoch 52/200 | Train Loss: 0.7039 | Train Acc: 0.7022 | Val Loss: 0.6946 | Val Acc: 0.7096\n",
      "Epoch 53/200 | Train Loss: 0.7055 | Train Acc: 0.7048 | Val Loss: 0.7162 | Val Acc: 0.7115\n",
      "Epoch 54/200 | Train Loss: 0.7010 | Train Acc: 0.6969 | Val Loss: 0.6857 | Val Acc: 0.7250\n",
      "Epoch 55/200 | Train Loss: 0.7169 | Train Acc: 0.7013 | Val Loss: 0.7205 | Val Acc: 0.7288\n",
      "Epoch 56/200 | Train Loss: 0.7171 | Train Acc: 0.7022 | Val Loss: 0.7053 | Val Acc: 0.7038\n",
      "Epoch 57/200 | Train Loss: 0.7179 | Train Acc: 0.6838 | Val Loss: 0.7039 | Val Acc: 0.6923\n",
      "Epoch 58/200 | Train Loss: 0.7116 | Train Acc: 0.6987 | Val Loss: 0.7010 | Val Acc: 0.7192\n",
      "Epoch 59/200 | Train Loss: 0.7062 | Train Acc: 0.7057 | Val Loss: 0.6938 | Val Acc: 0.7308\n",
      "Epoch 60/200 | Train Loss: 0.7317 | Train Acc: 0.6734 | Val Loss: 0.7205 | Val Acc: 0.6962\n",
      "Epoch 61/200 | Train Loss: 0.7131 | Train Acc: 0.6908 | Val Loss: 0.6977 | Val Acc: 0.7058\n",
      "Epoch 62/200 | Train Loss: 0.7000 | Train Acc: 0.7083 | Val Loss: 0.6925 | Val Acc: 0.7192\n",
      "Epoch 63/200 | Train Loss: 0.7018 | Train Acc: 0.7022 | Val Loss: 0.6911 | Val Acc: 0.7269\n",
      "Epoch 64/200 | Train Loss: 0.6922 | Train Acc: 0.7066 | Val Loss: 0.7111 | Val Acc: 0.7077\n",
      "Epoch 65/200 | Train Loss: 0.7048 | Train Acc: 0.6978 | Val Loss: 0.6975 | Val Acc: 0.7212\n",
      "Epoch 66/200 | Train Loss: 0.7034 | Train Acc: 0.6934 | Val Loss: 0.6952 | Val Acc: 0.7346\n",
      "Epoch 67/200 | Train Loss: 0.7272 | Train Acc: 0.6821 | Val Loss: 0.7040 | Val Acc: 0.7000\n",
      "Epoch 68/200 | Train Loss: 0.7283 | Train Acc: 0.6777 | Val Loss: 0.7083 | Val Acc: 0.7019\n",
      "Epoch 69/200 | Train Loss: 0.7145 | Train Acc: 0.6803 | Val Loss: 0.6930 | Val Acc: 0.7096\n",
      "Epoch 70/200 | Train Loss: 0.7064 | Train Acc: 0.6952 | Val Loss: 0.7014 | Val Acc: 0.7212\n",
      "Epoch 71/200 | Train Loss: 0.7047 | Train Acc: 0.6996 | Val Loss: 0.7055 | Val Acc: 0.7058\n",
      "Epoch 72/200 | Train Loss: 0.7126 | Train Acc: 0.6926 | Val Loss: 0.6894 | Val Acc: 0.7154\n",
      "Epoch 73/200 | Train Loss: 0.7093 | Train Acc: 0.6908 | Val Loss: 0.7058 | Val Acc: 0.7019\n",
      "Epoch 74/200 | Train Loss: 0.7078 | Train Acc: 0.7109 | Val Loss: 0.7040 | Val Acc: 0.7288\n",
      "Epoch 75/200 | Train Loss: 0.6990 | Train Acc: 0.7057 | Val Loss: 0.7073 | Val Acc: 0.7231\n",
      "Epoch 76/200 | Train Loss: 0.7039 | Train Acc: 0.6961 | Val Loss: 0.7076 | Val Acc: 0.6827\n",
      "Epoch 77/200 | Train Loss: 0.7072 | Train Acc: 0.6830 | Val Loss: 0.7202 | Val Acc: 0.6885\n",
      "Epoch 78/200 | Train Loss: 0.7038 | Train Acc: 0.6943 | Val Loss: 0.6961 | Val Acc: 0.7173\n",
      "Epoch 79/200 | Train Loss: 0.6910 | Train Acc: 0.7074 | Val Loss: 0.6905 | Val Acc: 0.7385\n",
      "Epoch 80/200 | Train Loss: 0.6960 | Train Acc: 0.7066 | Val Loss: 0.6896 | Val Acc: 0.7288\n",
      "Epoch 81/200 | Train Loss: 0.6875 | Train Acc: 0.7127 | Val Loss: 0.6875 | Val Acc: 0.7308\n",
      "Epoch 82/200 | Train Loss: 0.7041 | Train Acc: 0.6987 | Val Loss: 0.7019 | Val Acc: 0.7192\n",
      "Epoch 83/200 | Train Loss: 0.7152 | Train Acc: 0.6812 | Val Loss: 0.6950 | Val Acc: 0.7212\n",
      "Epoch 84/200 | Train Loss: 0.6930 | Train Acc: 0.7109 | Val Loss: 0.6990 | Val Acc: 0.7365\n",
      "Epoch 85/200 | Train Loss: 0.6915 | Train Acc: 0.7118 | Val Loss: 0.7067 | Val Acc: 0.7212\n",
      "Epoch 86/200 | Train Loss: 0.7011 | Train Acc: 0.7013 | Val Loss: 0.7297 | Val Acc: 0.7000\n",
      "Epoch 87/200 | Train Loss: 0.7057 | Train Acc: 0.7004 | Val Loss: 0.6991 | Val Acc: 0.7212\n",
      "Epoch 88/200 | Train Loss: 0.7082 | Train Acc: 0.6987 | Val Loss: 0.7329 | Val Acc: 0.6846\n",
      "Epoch 89/200 | Train Loss: 0.7012 | Train Acc: 0.6978 | Val Loss: 0.6926 | Val Acc: 0.7173\n",
      "Epoch 90/200 | Train Loss: 0.6918 | Train Acc: 0.7004 | Val Loss: 0.7152 | Val Acc: 0.6827\n",
      "Epoch 91/200 | Train Loss: 0.7023 | Train Acc: 0.6934 | Val Loss: 0.6918 | Val Acc: 0.7077\n",
      "Epoch 92/200 | Train Loss: 0.6987 | Train Acc: 0.7013 | Val Loss: 0.6974 | Val Acc: 0.7135\n",
      "Epoch 93/200 | Train Loss: 0.6940 | Train Acc: 0.7100 | Val Loss: 0.6916 | Val Acc: 0.7327\n",
      "Epoch 94/200 | Train Loss: 0.6924 | Train Acc: 0.7039 | Val Loss: 0.6932 | Val Acc: 0.7365\n",
      "Epoch 95/200 | Train Loss: 0.6864 | Train Acc: 0.7118 | Val Loss: 0.6890 | Val Acc: 0.7212\n",
      "Epoch 96/200 | Train Loss: 0.6868 | Train Acc: 0.7127 | Val Loss: 0.6739 | Val Acc: 0.7288\n",
      "Epoch 97/200 | Train Loss: 0.6939 | Train Acc: 0.7074 | Val Loss: 0.6894 | Val Acc: 0.7346\n",
      "Epoch 98/200 | Train Loss: 0.6931 | Train Acc: 0.7057 | Val Loss: 0.7023 | Val Acc: 0.7269\n",
      "Epoch 99/200 | Train Loss: 0.6920 | Train Acc: 0.6996 | Val Loss: 0.6983 | Val Acc: 0.7212\n",
      "Epoch 100/200 | Train Loss: 0.6833 | Train Acc: 0.7153 | Val Loss: 0.6859 | Val Acc: 0.7308\n",
      "Epoch 101/200 | Train Loss: 0.6809 | Train Acc: 0.7074 | Val Loss: 0.7321 | Val Acc: 0.7096\n",
      "Epoch 102/200 | Train Loss: 0.6956 | Train Acc: 0.7004 | Val Loss: 0.7081 | Val Acc: 0.7288\n",
      "Epoch 103/200 | Train Loss: 0.6865 | Train Acc: 0.7170 | Val Loss: 0.6980 | Val Acc: 0.7212\n",
      "Epoch 104/200 | Train Loss: 0.7006 | Train Acc: 0.7022 | Val Loss: 0.7075 | Val Acc: 0.7231\n",
      "Epoch 105/200 | Train Loss: 0.6960 | Train Acc: 0.7100 | Val Loss: 0.9483 | Val Acc: 0.7154\n",
      "Epoch 106/200 | Train Loss: 0.7881 | Train Acc: 0.6882 | Val Loss: 0.7100 | Val Acc: 0.6885\n",
      "Epoch 107/200 | Train Loss: 0.7125 | Train Acc: 0.7022 | Val Loss: 0.7000 | Val Acc: 0.7365\n",
      "Epoch 108/200 | Train Loss: 0.6970 | Train Acc: 0.7092 | Val Loss: 0.6964 | Val Acc: 0.7231\n",
      "Epoch 109/200 | Train Loss: 0.6898 | Train Acc: 0.7188 | Val Loss: 0.6920 | Val Acc: 0.7385\n",
      "Epoch 110/200 | Train Loss: 0.6953 | Train Acc: 0.7039 | Val Loss: 0.7129 | Val Acc: 0.7000\n",
      "Epoch 111/200 | Train Loss: 0.7033 | Train Acc: 0.6926 | Val Loss: 0.6853 | Val Acc: 0.7269\n",
      "Epoch 112/200 | Train Loss: 0.7116 | Train Acc: 0.6917 | Val Loss: 0.6823 | Val Acc: 0.7327\n",
      "Epoch 113/200 | Train Loss: 0.7053 | Train Acc: 0.7031 | Val Loss: 0.6889 | Val Acc: 0.7000\n",
      "Epoch 114/200 | Train Loss: 0.7003 | Train Acc: 0.6830 | Val Loss: 0.6910 | Val Acc: 0.7019\n",
      "Epoch 115/200 | Train Loss: 0.6936 | Train Acc: 0.7066 | Val Loss: 0.6808 | Val Acc: 0.7269\n",
      "Epoch 116/200 | Train Loss: 0.6934 | Train Acc: 0.7127 | Val Loss: 0.7090 | Val Acc: 0.6981\n",
      "Epoch 117/200 | Train Loss: 0.6933 | Train Acc: 0.6987 | Val Loss: 0.6730 | Val Acc: 0.7288\n",
      "Epoch 118/200 | Train Loss: 0.6831 | Train Acc: 0.7118 | Val Loss: 0.6778 | Val Acc: 0.7288\n",
      "Epoch 119/200 | Train Loss: 0.6827 | Train Acc: 0.7144 | Val Loss: 0.6811 | Val Acc: 0.7269\n",
      "Epoch 120/200 | Train Loss: 0.6770 | Train Acc: 0.7162 | Val Loss: 0.6779 | Val Acc: 0.7308\n",
      "Epoch 121/200 | Train Loss: 0.6782 | Train Acc: 0.7162 | Val Loss: 0.6957 | Val Acc: 0.7173\n",
      "Epoch 122/200 | Train Loss: 0.6841 | Train Acc: 0.7066 | Val Loss: 0.6816 | Val Acc: 0.7327\n",
      "Epoch 123/200 | Train Loss: 0.7198 | Train Acc: 0.6769 | Val Loss: 0.6829 | Val Acc: 0.7288\n",
      "Epoch 124/200 | Train Loss: 0.6853 | Train Acc: 0.7092 | Val Loss: 0.6843 | Val Acc: 0.7288\n",
      "Epoch 125/200 | Train Loss: 0.6790 | Train Acc: 0.7188 | Val Loss: 0.6780 | Val Acc: 0.7346\n",
      "Epoch 126/200 | Train Loss: 0.6776 | Train Acc: 0.7066 | Val Loss: 0.6780 | Val Acc: 0.7365\n",
      "Epoch 127/200 | Train Loss: 0.6770 | Train Acc: 0.7135 | Val Loss: 0.6947 | Val Acc: 0.7308\n",
      "Epoch 128/200 | Train Loss: 0.6984 | Train Acc: 0.7066 | Val Loss: 0.6901 | Val Acc: 0.7308\n",
      "Epoch 129/200 | Train Loss: 0.6878 | Train Acc: 0.7031 | Val Loss: 0.7011 | Val Acc: 0.7000\n",
      "Epoch 130/200 | Train Loss: 0.6952 | Train Acc: 0.7048 | Val Loss: 0.6757 | Val Acc: 0.7308\n",
      "Epoch 131/200 | Train Loss: 0.6884 | Train Acc: 0.6978 | Val Loss: 0.6638 | Val Acc: 0.7269\n",
      "Epoch 132/200 | Train Loss: 0.6780 | Train Acc: 0.7214 | Val Loss: 0.7055 | Val Acc: 0.7135\n",
      "Epoch 133/200 | Train Loss: 0.6794 | Train Acc: 0.7092 | Val Loss: 0.6719 | Val Acc: 0.7288\n",
      "Epoch 134/200 | Train Loss: 0.6935 | Train Acc: 0.7039 | Val Loss: 0.6986 | Val Acc: 0.7192\n",
      "Epoch 135/200 | Train Loss: 0.6854 | Train Acc: 0.7083 | Val Loss: 0.6840 | Val Acc: 0.7250\n",
      "Epoch 136/200 | Train Loss: 0.6825 | Train Acc: 0.7074 | Val Loss: 0.7031 | Val Acc: 0.7135\n",
      "Epoch 137/200 | Train Loss: 0.6857 | Train Acc: 0.7074 | Val Loss: 0.6734 | Val Acc: 0.7365\n",
      "Epoch 138/200 | Train Loss: 0.6735 | Train Acc: 0.7118 | Val Loss: 0.6815 | Val Acc: 0.7308\n",
      "Epoch 139/200 | Train Loss: 0.6881 | Train Acc: 0.7066 | Val Loss: 0.6918 | Val Acc: 0.7250\n",
      "Epoch 140/200 | Train Loss: 0.6841 | Train Acc: 0.7144 | Val Loss: 0.7394 | Val Acc: 0.6981\n",
      "Epoch 141/200 | Train Loss: 0.7534 | Train Acc: 0.6795 | Val Loss: 0.7216 | Val Acc: 0.6808\n",
      "Epoch 142/200 | Train Loss: 0.7077 | Train Acc: 0.6961 | Val Loss: 0.7038 | Val Acc: 0.6904\n",
      "Epoch 143/200 | Train Loss: 0.7017 | Train Acc: 0.6969 | Val Loss: 0.6888 | Val Acc: 0.7077\n",
      "Epoch 144/200 | Train Loss: 0.6950 | Train Acc: 0.7066 | Val Loss: 0.6740 | Val Acc: 0.7308\n",
      "Epoch 145/200 | Train Loss: 0.6803 | Train Acc: 0.7144 | Val Loss: 0.6804 | Val Acc: 0.7327\n",
      "Epoch 146/200 | Train Loss: 0.6867 | Train Acc: 0.6978 | Val Loss: 0.6848 | Val Acc: 0.7096\n",
      "Epoch 147/200 | Train Loss: 0.6834 | Train Acc: 0.7135 | Val Loss: 0.6788 | Val Acc: 0.7346\n",
      "Epoch 148/200 | Train Loss: 0.7017 | Train Acc: 0.6987 | Val Loss: 0.6880 | Val Acc: 0.7154\n",
      "Epoch 149/200 | Train Loss: 0.6801 | Train Acc: 0.7109 | Val Loss: 0.6958 | Val Acc: 0.7250\n",
      "Epoch 150/200 | Train Loss: 0.6827 | Train Acc: 0.7144 | Val Loss: 0.7079 | Val Acc: 0.7115\n",
      "Epoch 151/200 | Train Loss: 0.6765 | Train Acc: 0.7135 | Val Loss: 0.6835 | Val Acc: 0.7365\n",
      "Epoch 152/200 | Train Loss: 0.6760 | Train Acc: 0.7170 | Val Loss: 0.6879 | Val Acc: 0.7231\n",
      "Epoch 153/200 | Train Loss: 0.6793 | Train Acc: 0.7197 | Val Loss: 0.6943 | Val Acc: 0.7308\n",
      "Epoch 154/200 | Train Loss: 0.6795 | Train Acc: 0.7118 | Val Loss: 0.6837 | Val Acc: 0.7385\n",
      "Epoch 155/200 | Train Loss: 0.6772 | Train Acc: 0.7066 | Val Loss: 0.6999 | Val Acc: 0.7173\n",
      "Epoch 156/200 | Train Loss: 0.6728 | Train Acc: 0.7170 | Val Loss: 0.6847 | Val Acc: 0.7288\n",
      "Epoch 157/200 | Train Loss: 0.6744 | Train Acc: 0.7109 | Val Loss: 0.7101 | Val Acc: 0.7135\n",
      "Epoch 158/200 | Train Loss: 0.6823 | Train Acc: 0.7048 | Val Loss: 0.6923 | Val Acc: 0.7231\n",
      "Epoch 159/200 | Train Loss: 0.6798 | Train Acc: 0.7092 | Val Loss: 0.7210 | Val Acc: 0.7096\n",
      "Epoch 160/200 | Train Loss: 0.6797 | Train Acc: 0.7031 | Val Loss: 0.6936 | Val Acc: 0.7115\n",
      "Epoch 161/200 | Train Loss: 0.6767 | Train Acc: 0.7031 | Val Loss: 0.6904 | Val Acc: 0.7231\n",
      "Epoch 162/200 | Train Loss: 0.6736 | Train Acc: 0.7127 | Val Loss: 0.7024 | Val Acc: 0.7192\n",
      "Epoch 163/200 | Train Loss: 0.6783 | Train Acc: 0.7127 | Val Loss: 0.6937 | Val Acc: 0.7288\n",
      "Epoch 164/200 | Train Loss: 0.6944 | Train Acc: 0.7013 | Val Loss: 0.6856 | Val Acc: 0.7288\n",
      "Epoch 165/200 | Train Loss: 0.6771 | Train Acc: 0.7109 | Val Loss: 0.6849 | Val Acc: 0.7192\n",
      "Epoch 166/200 | Train Loss: 0.6794 | Train Acc: 0.7074 | Val Loss: 0.6839 | Val Acc: 0.7269\n",
      "Epoch 167/200 | Train Loss: 0.6670 | Train Acc: 0.7179 | Val Loss: 0.6704 | Val Acc: 0.7327\n",
      "Epoch 168/200 | Train Loss: 0.6659 | Train Acc: 0.7179 | Val Loss: 0.6773 | Val Acc: 0.7192\n",
      "Epoch 169/200 | Train Loss: 0.6711 | Train Acc: 0.7162 | Val Loss: 0.6720 | Val Acc: 0.7346\n",
      "Epoch 170/200 | Train Loss: 0.6647 | Train Acc: 0.7205 | Val Loss: 0.6717 | Val Acc: 0.7288\n",
      "Epoch 171/200 | Train Loss: 0.6859 | Train Acc: 0.6969 | Val Loss: 0.7114 | Val Acc: 0.7231\n",
      "Epoch 172/200 | Train Loss: 0.7098 | Train Acc: 0.7066 | Val Loss: 0.6914 | Val Acc: 0.7231\n",
      "Epoch 173/200 | Train Loss: 0.6919 | Train Acc: 0.7074 | Val Loss: 0.6762 | Val Acc: 0.7231\n",
      "Epoch 174/200 | Train Loss: 0.6812 | Train Acc: 0.7170 | Val Loss: 0.6841 | Val Acc: 0.7173\n",
      "Epoch 175/200 | Train Loss: 0.6759 | Train Acc: 0.7170 | Val Loss: 0.6784 | Val Acc: 0.7365\n",
      "Epoch 176/200 | Train Loss: 0.6779 | Train Acc: 0.7118 | Val Loss: 0.6997 | Val Acc: 0.6942\n",
      "Epoch 177/200 | Train Loss: 0.6689 | Train Acc: 0.7127 | Val Loss: 0.6723 | Val Acc: 0.7308\n",
      "Epoch 178/200 | Train Loss: 0.6725 | Train Acc: 0.7118 | Val Loss: 0.6774 | Val Acc: 0.7308\n",
      "Epoch 179/200 | Train Loss: 0.6763 | Train Acc: 0.7109 | Val Loss: 0.7041 | Val Acc: 0.6942\n",
      "Epoch 180/200 | Train Loss: 0.6882 | Train Acc: 0.7013 | Val Loss: 0.6749 | Val Acc: 0.7346\n",
      "Epoch 181/200 | Train Loss: 0.6798 | Train Acc: 0.7127 | Val Loss: 0.6831 | Val Acc: 0.7231\n",
      "Epoch 182/200 | Train Loss: 0.6700 | Train Acc: 0.7170 | Val Loss: 0.6732 | Val Acc: 0.7154\n",
      "Epoch 183/200 | Train Loss: 0.6681 | Train Acc: 0.7258 | Val Loss: 0.6702 | Val Acc: 0.7288\n",
      "Epoch 184/200 | Train Loss: 0.6665 | Train Acc: 0.7231 | Val Loss: 0.6814 | Val Acc: 0.7288\n",
      "Epoch 185/200 | Train Loss: 0.6669 | Train Acc: 0.7223 | Val Loss: 0.6756 | Val Acc: 0.7327\n",
      "Epoch 186/200 | Train Loss: 0.6625 | Train Acc: 0.7188 | Val Loss: 0.6740 | Val Acc: 0.7308\n",
      "Epoch 187/200 | Train Loss: 0.6750 | Train Acc: 0.7127 | Val Loss: 0.7109 | Val Acc: 0.7115\n",
      "Epoch 188/200 | Train Loss: 0.6982 | Train Acc: 0.6934 | Val Loss: 0.6900 | Val Acc: 0.7154\n",
      "Epoch 189/200 | Train Loss: 0.6747 | Train Acc: 0.7057 | Val Loss: 0.6726 | Val Acc: 0.7462\n",
      "Epoch 190/200 | Train Loss: 0.6592 | Train Acc: 0.7170 | Val Loss: 0.6749 | Val Acc: 0.7346\n",
      "Epoch 191/200 | Train Loss: 0.6635 | Train Acc: 0.7214 | Val Loss: 0.6839 | Val Acc: 0.7346\n",
      "Epoch 192/200 | Train Loss: 0.6698 | Train Acc: 0.7144 | Val Loss: 0.7041 | Val Acc: 0.7231\n",
      "Epoch 193/200 | Train Loss: 0.6849 | Train Acc: 0.7144 | Val Loss: 0.6748 | Val Acc: 0.7308\n",
      "Epoch 194/200 | Train Loss: 0.6683 | Train Acc: 0.7179 | Val Loss: 0.7039 | Val Acc: 0.7288\n",
      "Epoch 195/200 | Train Loss: 0.6773 | Train Acc: 0.7144 | Val Loss: 0.7041 | Val Acc: 0.7038\n",
      "Epoch 196/200 | Train Loss: 0.6753 | Train Acc: 0.7118 | Val Loss: 0.6716 | Val Acc: 0.7385\n",
      "Epoch 197/200 | Train Loss: 0.6676 | Train Acc: 0.7170 | Val Loss: 0.6946 | Val Acc: 0.7212\n",
      "Epoch 198/200 | Train Loss: 0.6775 | Train Acc: 0.7100 | Val Loss: 0.6905 | Val Acc: 0.7192\n",
      "Epoch 199/200 | Train Loss: 0.6660 | Train Acc: 0.7118 | Val Loss: 0.6996 | Val Acc: 0.7135\n",
      "Epoch 200/200 | Train Loss: 0.6597 | Train Acc: 0.7240 | Val Loss: 0.6928 | Val Acc: 0.7462\n"
     ]
    }
   ],
   "source": [
    "train_model(\n",
    "    model=model,\n",
    "    optimizer=torch.optim.Adam(model.parameters(), lr=0.003),\n",
    "    loss_fn=nn.CrossEntropyLoss(),\n",
    "    num_epochs=200,\n",
    "    train_dataloader=loader_train,\n",
    "    val_dataloader=loader_val,\n",
    "    device=\"cuda\" if torch.cuda.is_available() else \"cpu\",\n",
    ")"
   ]
  },
  {
   "cell_type": "code",
   "execution_count": 77,
   "metadata": {
    "deletable": false,
    "nbgrader": {
     "cell_type": "code",
     "checksum": "335efaf08cc5e4593fe97659a126cd84",
     "grade": false,
     "grade_id": "cell-711ca3d58ad725b4",
     "locked": false,
     "schema_version": 3,
     "solution": true,
     "task": false
    }
   },
   "outputs": [],
   "source": [
    "\n",
    "# import torch.optim as optim\n",
    "# import matplotlib.pyplot as plt\n",
    "\n",
    "# epochs = 200\n",
    "# learning_rate = 0.007\n",
    "# def training(model, epochs, learning_rate, loader_val, loader_train):\n",
    "\n",
    "#     # Hyperparameters\n",
    "    \n",
    "#     criterion = nn.CrossEntropyLoss()\n",
    "#     optimizer = optim.Adam(model.parameters(), lr=learning_rate)\n",
    "#     scheduler = optim.lr_scheduler.StepLR(optimizer, step_size=50, gamma=0.5)\n",
    "\n",
    "#     train_losses = []\n",
    "#     val_losses = []\n",
    "#     val_accuracies = []\n",
    "\n",
    "#     for epoch in range(epochs):\n",
    "#         model.train()\n",
    "#         running_loss = 0.0\n",
    "#         for xb, yb in loader_train:\n",
    "#             optimizer.zero_grad()\n",
    "#             outputs = model(xb)\n",
    "#             loss = criterion(outputs, yb)\n",
    "#             loss.backward()\n",
    "#             optimizer.step()\n",
    "#             running_loss += loss.item() * xb.size(0)\n",
    "#         train_loss = running_loss / len(loader_train.dataset)\n",
    "#         train_losses.append(train_loss)\n",
    "\n",
    "#         # Validation\n",
    "#         model.eval()\n",
    "#         val_loss = 0.0\n",
    "#         correct = 0\n",
    "#         total = 0\n",
    "#         with torch.no_grad():\n",
    "#             for xb, yb in loader_val:\n",
    "#                 outputs = model(xb)\n",
    "#                 loss = criterion(outputs, yb)\n",
    "#                 val_loss += loss.item() * xb.size(0)\n",
    "#                 _, predicted = torch.max(outputs, 1)\n",
    "#                 correct += (predicted == yb).sum().item()\n",
    "#                 total += yb.size(0)\n",
    "#         val_loss = val_loss / len(loader_val.dataset)\n",
    "#         val_losses.append(val_loss)\n",
    "#         val_acc = correct / total\n",
    "#         val_accuracies.append(val_acc)\n",
    "#         scheduler.step() \n",
    "#         if (epoch+1) % 10 == 0 or epoch == 0:\n",
    "#             print(f\"Epoch {epoch+1}/{epochs} - Train Loss: {train_loss:.4f} - Val Loss: {val_loss:.4f} - Val Acc: {val_acc:.3f} - LR: {scheduler.get_last_lr()[0]:.6f}\")\n"
   ]
  },
  {
   "cell_type": "markdown",
   "metadata": {
    "deletable": false,
    "editable": false,
    "nbgrader": {
     "cell_type": "markdown",
     "checksum": "0ed7706ede3cdfcebbe0b86290eed0b0",
     "grade": false,
     "grade_id": "cell-f0963d119d02b778",
     "locked": true,
     "schema_version": 3,
     "solution": false,
     "task": false
    }
   },
   "source": [
    "Let's have a look at what we have learned! Create a function that visualizes the decision regions of the network. Overlap it with the points corresponding to the training data and validations data, such as in Section 2, by using the scatter plot function. The training and validation points should have different markers and/or colors. Last, call the function to visualize the decision regions of your network.\n",
    "\n",
    "Hint: A simple way to show the decision region is to generate a lot of points within a predefined range of longitude and latitude and apply your network to it. However, feel free to explore other ways."
   ]
  },
  {
   "cell_type": "code",
   "execution_count": 96,
   "metadata": {
    "deletable": false,
    "nbgrader": {
     "cell_type": "code",
     "checksum": "7aa9ff47eb2e3bba211130138b992462",
     "grade": false,
     "grade_id": "cell-38b52ac21b7b7100",
     "locked": false,
     "schema_version": 3,
     "solution": true,
     "task": false
    }
   },
   "outputs": [
    {
     "data": {
      "image/png": "[encoded data removed]",
      "text/plain": [
       "<Figure size 800x600 with 1 Axes>"
      ]
     },
     "metadata": {},
     "output_type": "display_data"
    }
   ],
   "source": [
    "def plot_decision_region(model: nn.Module, x_train, y_train, x_val, y_val):\n",
    "    \"\"\"\n",
    "    Plot the decision region of the model.\n",
    "    \n",
    "    Args:\n",
    "        model: nn.Module: The trained model\n",
    "        x_train: Training features (numpy array or torch.Tensor)\n",
    "        y_train: Training labels (numpy array or torch.Tensor)\n",
    "        x_val: Validation features (numpy array or torch.Tensor)\n",
    "        y_val: Validation labels (numpy array or torch.Tensor)\n",
    "    \"\"\"\n",
    "    # Convert to numpy if needed\n",
    "    if torch.is_tensor(x_train): x_train = x_train.cpu().numpy()\n",
    "    if torch.is_tensor(y_train): y_train = y_train.cpu().numpy()\n",
    "    if torch.is_tensor(x_val): x_val = x_val.cpu().numpy()\n",
    "    if torch.is_tensor(y_val): y_val = y_val.cpu().numpy()\n",
    "\n",
    "    # Define grid\n",
    "    x_min, x_max = min(x_train[:,0].min(), x_val[:,0].min()) - 0.5, max(x_train[:,0].max(), x_val[:,0].max()) + 0.5\n",
    "    y_min, y_max = min(x_train[:,1].min(), x_val[:,1].min()) - 0.5, max(x_train[:,1].max(), x_val[:,1].max()) + 0.5\n",
    "    xx, yy = np.meshgrid(np.linspace(x_min, x_max, 300), np.linspace(y_min, y_max, 300))\n",
    "    grid = np.c_[xx.ravel(), yy.ravel()]\n",
    "\n",
    "    # Predict on grid\n",
    "    model.eval()\n",
    "    with torch.no_grad():\n",
    "        grid_tensor = torch.tensor(grid, dtype=torch.float32)\n",
    "        logits = model(grid_tensor)\n",
    "        preds = torch.argmax(logits, dim=1).cpu().numpy()\n",
    "    zz = preds.reshape(xx.shape)\n",
    "\n",
    "    # Plot decision region\n",
    "    plt.figure(figsize=(8,6))\n",
    "    plt.contourf(xx, yy, zz, alpha=0.3, cmap=plt.cm.coolwarm)\n",
    "    # Plot training points\n",
    "    plt.scatter(x_train[:,0], x_train[:,1], c=y_train, marker='o', cmap=plt.cm.coolwarm, edgecolor='k', label='Train')\n",
    "    # Plot validation points\n",
    "    plt.scatter(x_val[:,0], x_val[:,1], c=y_val, marker='^', cmap=plt.cm.coolwarm, edgecolor='k', label='Val')\n",
    "    plt.xlabel('Longitude')\n",
    "    plt.ylabel('Latitude')\n",
    "    plt.legend()\n",
    "    plt.title('Decision Regions')\n",
    "    plt.show()\n",
    "\n",
    "# Example usage (replace with your actual data variables):\n",
    "plot_decision_region(model, x_train, y_train, x_val, y_val)"
   ]
  },
  {
   "cell_type": "markdown",
   "metadata": {
    "deletable": false,
    "editable": false,
    "nbgrader": {
     "cell_type": "markdown",
     "checksum": "b5fa85ea2a29fda505102ade681a780c",
     "grade": false,
     "grade_id": "cell-5bd22b55c4aecfa8",
     "locked": true,
     "schema_version": 3,
     "solution": false,
     "task": false
    }
   },
   "source": [
    "Do the learned decision regions look like you would expect? Can they be improved? In what sense, and how would that change your model? Please comment on your results. "
   ]
  },
  {
   "cell_type": "markdown",
   "metadata": {
    "deletable": false,
    "nbgrader": {
     "cell_type": "markdown",
     "checksum": "0e3a5bdcf2012e5e6a94fa67f3cf2e5e",
     "grade": true,
     "grade_id": "cell-d611e347ddec2871",
     "locked": false,
     "points": 0,
     "schema_version": 3,
     "solution": true,
     "task": false
    }
   },
   "source": [
    "**Your answer:** Yes since the data was all over the place in the beginning, it makes sense that the regions look like a mess. Higher accuracy in the network would result in better regions. It is however still very difficult since many datapoints were on top of each other."
   ]
  },
  {
   "cell_type": "markdown",
   "metadata": {
    "deletable": false,
    "editable": false,
    "nbgrader": {
     "cell_type": "markdown",
     "checksum": "2d786c397dbdc99f25ccb68813feed32",
     "grade": false,
     "grade_id": "cell-383ffa6dc45f3da3",
     "locked": true,
     "schema_version": 3,
     "solution": false,
     "task": false
    }
   },
   "source": [
    "### 4.1. Model capacity and generalization\n",
    "\n",
    "Now we have all the neccessary tools to do a small experiment on model capacity and implications on generalization.\n",
    "\n",
    "Begin by defining a neural network `tiny_model` with a single linear layer and appropriate activation function. Then, train the network until convergence (should be fast)."
   ]
  },
  {
   "cell_type": "code",
   "execution_count": 79,
   "metadata": {
    "deletable": false,
    "nbgrader": {
     "cell_type": "code",
     "checksum": "23267595ed16c0c4b6d550280a68b430",
     "grade": false,
     "grade_id": "cell-00c94550168dad32",
     "locked": false,
     "schema_version": 3,
     "solution": true,
     "task": false
    }
   },
   "outputs": [
    {
     "name": "stdout",
     "output_type": "stream",
     "text": [
      "Epoch 1/100 | Train Loss: 10.2422 | Train Acc: 0.4882 | Val Loss: 6.7821 | Val Acc: 0.4788\n",
      "Epoch 2/100 | Train Loss: 3.6111 | Train Acc: 0.5293 | Val Loss: 1.9329 | Val Acc: 0.6288\n",
      "Epoch 3/100 | Train Loss: 1.7221 | Train Acc: 0.6044 | Val Loss: 1.4640 | Val Acc: 0.5673\n",
      "Epoch 4/100 | Train Loss: 1.2409 | Train Acc: 0.6000 | Val Loss: 0.9993 | Val Acc: 0.6173\n",
      "Epoch 5/100 | Train Loss: 0.9347 | Train Acc: 0.6096 | Val Loss: 0.9104 | Val Acc: 0.5865\n",
      "Epoch 6/100 | Train Loss: 0.9345 | Train Acc: 0.5921 | Val Loss: 0.9174 | Val Acc: 0.6538\n",
      "Epoch 7/100 | Train Loss: 0.9249 | Train Acc: 0.6096 | Val Loss: 0.8689 | Val Acc: 0.6038\n",
      "Epoch 8/100 | Train Loss: 0.9221 | Train Acc: 0.6026 | Val Loss: 0.8560 | Val Acc: 0.6481\n",
      "Epoch 9/100 | Train Loss: 0.9142 | Train Acc: 0.6166 | Val Loss: 0.8936 | Val Acc: 0.5654\n",
      "Epoch 10/100 | Train Loss: 0.9196 | Train Acc: 0.5991 | Val Loss: 0.8902 | Val Acc: 0.6346\n",
      "Epoch 11/100 | Train Loss: 0.9252 | Train Acc: 0.6183 | Val Loss: 0.8627 | Val Acc: 0.6077\n",
      "Epoch 12/100 | Train Loss: 0.8968 | Train Acc: 0.6140 | Val Loss: 0.8469 | Val Acc: 0.6654\n",
      "Epoch 13/100 | Train Loss: 0.8838 | Train Acc: 0.6087 | Val Loss: 0.8340 | Val Acc: 0.6635\n",
      "Epoch 14/100 | Train Loss: 0.8734 | Train Acc: 0.6279 | Val Loss: 0.8326 | Val Acc: 0.6365\n",
      "Epoch 15/100 | Train Loss: 0.8729 | Train Acc: 0.6262 | Val Loss: 0.8525 | Val Acc: 0.6481\n",
      "Epoch 16/100 | Train Loss: 0.9016 | Train Acc: 0.6148 | Val Loss: 0.8342 | Val Acc: 0.6481\n",
      "Epoch 17/100 | Train Loss: 0.8751 | Train Acc: 0.6210 | Val Loss: 0.8214 | Val Acc: 0.6423\n",
      "Epoch 18/100 | Train Loss: 0.8742 | Train Acc: 0.6148 | Val Loss: 0.8267 | Val Acc: 0.6750\n",
      "Epoch 19/100 | Train Loss: 0.8602 | Train Acc: 0.6218 | Val Loss: 0.8184 | Val Acc: 0.6654\n",
      "Epoch 20/100 | Train Loss: 0.8746 | Train Acc: 0.6201 | Val Loss: 0.8204 | Val Acc: 0.6500\n",
      "Epoch 21/100 | Train Loss: 0.8722 | Train Acc: 0.6140 | Val Loss: 0.8195 | Val Acc: 0.6654\n",
      "Epoch 22/100 | Train Loss: 0.8572 | Train Acc: 0.6183 | Val Loss: 0.8169 | Val Acc: 0.6635\n",
      "Epoch 23/100 | Train Loss: 0.8693 | Train Acc: 0.6358 | Val Loss: 0.8196 | Val Acc: 0.6673\n",
      "Epoch 24/100 | Train Loss: 0.8653 | Train Acc: 0.6122 | Val Loss: 0.8649 | Val Acc: 0.5942\n",
      "Epoch 25/100 | Train Loss: 0.8659 | Train Acc: 0.6323 | Val Loss: 0.8202 | Val Acc: 0.6673\n",
      "Epoch 26/100 | Train Loss: 0.8705 | Train Acc: 0.6210 | Val Loss: 0.8562 | Val Acc: 0.6481\n",
      "Epoch 27/100 | Train Loss: 0.8924 | Train Acc: 0.6175 | Val Loss: 0.8713 | Val Acc: 0.5692\n",
      "Epoch 28/100 | Train Loss: 0.8712 | Train Acc: 0.5983 | Val Loss: 0.8494 | Val Acc: 0.6192\n",
      "Epoch 29/100 | Train Loss: 0.8603 | Train Acc: 0.6122 | Val Loss: 0.8343 | Val Acc: 0.6519\n",
      "Epoch 30/100 | Train Loss: 0.8690 | Train Acc: 0.6131 | Val Loss: 0.8331 | Val Acc: 0.6327\n",
      "Epoch 31/100 | Train Loss: 0.8550 | Train Acc: 0.6341 | Val Loss: 0.8213 | Val Acc: 0.6731\n",
      "Epoch 32/100 | Train Loss: 0.8495 | Train Acc: 0.6393 | Val Loss: 0.8264 | Val Acc: 0.6481\n",
      "Epoch 33/100 | Train Loss: 0.8538 | Train Acc: 0.6367 | Val Loss: 0.8280 | Val Acc: 0.6500\n",
      "Epoch 34/100 | Train Loss: 0.8620 | Train Acc: 0.6201 | Val Loss: 0.8197 | Val Acc: 0.6558\n",
      "Epoch 35/100 | Train Loss: 0.8635 | Train Acc: 0.6210 | Val Loss: 0.8224 | Val Acc: 0.6481\n",
      "Epoch 36/100 | Train Loss: 0.8732 | Train Acc: 0.6210 | Val Loss: 0.8222 | Val Acc: 0.6231\n",
      "Epoch 37/100 | Train Loss: 0.8732 | Train Acc: 0.6271 | Val Loss: 0.8718 | Val Acc: 0.6327\n",
      "Epoch 38/100 | Train Loss: 0.8757 | Train Acc: 0.6122 | Val Loss: 0.8189 | Val Acc: 0.6288\n",
      "Epoch 39/100 | Train Loss: 0.8572 | Train Acc: 0.6122 | Val Loss: 0.8355 | Val Acc: 0.6038\n",
      "Epoch 40/100 | Train Loss: 0.8639 | Train Acc: 0.6218 | Val Loss: 0.8266 | Val Acc: 0.6827\n",
      "Epoch 41/100 | Train Loss: 0.8637 | Train Acc: 0.6201 | Val Loss: 0.8207 | Val Acc: 0.6212\n",
      "Epoch 42/100 | Train Loss: 0.8931 | Train Acc: 0.6131 | Val Loss: 0.8504 | Val Acc: 0.6385\n",
      "Epoch 43/100 | Train Loss: 0.8562 | Train Acc: 0.6175 | Val Loss: 0.8499 | Val Acc: 0.6115\n",
      "Epoch 44/100 | Train Loss: 0.8832 | Train Acc: 0.6044 | Val Loss: 0.8285 | Val Acc: 0.6538\n",
      "Epoch 45/100 | Train Loss: 0.8637 | Train Acc: 0.6140 | Val Loss: 0.8255 | Val Acc: 0.6731\n",
      "Epoch 46/100 | Train Loss: 0.8668 | Train Acc: 0.6297 | Val Loss: 0.8630 | Val Acc: 0.6077\n",
      "Epoch 47/100 | Train Loss: 0.8720 | Train Acc: 0.6061 | Val Loss: 0.8197 | Val Acc: 0.6731\n",
      "Epoch 48/100 | Train Loss: 0.8754 | Train Acc: 0.6114 | Val Loss: 0.8949 | Val Acc: 0.5731\n",
      "Epoch 49/100 | Train Loss: 0.8710 | Train Acc: 0.5948 | Val Loss: 0.8281 | Val Acc: 0.6250\n",
      "Epoch 50/100 | Train Loss: 0.8725 | Train Acc: 0.6201 | Val Loss: 0.8220 | Val Acc: 0.6558\n",
      "Epoch 51/100 | Train Loss: 0.8683 | Train Acc: 0.6035 | Val Loss: 0.8669 | Val Acc: 0.6635\n",
      "Epoch 52/100 | Train Loss: 0.8688 | Train Acc: 0.6210 | Val Loss: 0.8312 | Val Acc: 0.6538\n",
      "Epoch 53/100 | Train Loss: 0.8580 | Train Acc: 0.6367 | Val Loss: 0.8150 | Val Acc: 0.6500\n",
      "Epoch 54/100 | Train Loss: 0.8532 | Train Acc: 0.6306 | Val Loss: 0.8309 | Val Acc: 0.6558\n",
      "Epoch 55/100 | Train Loss: 0.8726 | Train Acc: 0.6122 | Val Loss: 0.8167 | Val Acc: 0.6154\n",
      "Epoch 56/100 | Train Loss: 0.8667 | Train Acc: 0.5991 | Val Loss: 0.8211 | Val Acc: 0.6231\n",
      "Epoch 57/100 | Train Loss: 0.8730 | Train Acc: 0.6245 | Val Loss: 0.8236 | Val Acc: 0.6019\n",
      "Epoch 58/100 | Train Loss: 0.8539 | Train Acc: 0.6288 | Val Loss: 0.8712 | Val Acc: 0.6327\n",
      "Epoch 59/100 | Train Loss: 0.8769 | Train Acc: 0.6131 | Val Loss: 0.8404 | Val Acc: 0.6500\n",
      "Epoch 60/100 | Train Loss: 0.8681 | Train Acc: 0.6271 | Val Loss: 0.8409 | Val Acc: 0.6750\n",
      "Epoch 61/100 | Train Loss: 0.8659 | Train Acc: 0.6218 | Val Loss: 0.8469 | Val Acc: 0.5981\n",
      "Epoch 62/100 | Train Loss: 0.8717 | Train Acc: 0.6131 | Val Loss: 0.8170 | Val Acc: 0.6654\n",
      "Epoch 63/100 | Train Loss: 0.8601 | Train Acc: 0.6210 | Val Loss: 0.8265 | Val Acc: 0.6442\n",
      "Epoch 64/100 | Train Loss: 0.8680 | Train Acc: 0.6262 | Val Loss: 0.9060 | Val Acc: 0.6250\n",
      "Epoch 65/100 | Train Loss: 0.8812 | Train Acc: 0.6314 | Val Loss: 0.8520 | Val Acc: 0.5750\n",
      "Epoch 66/100 | Train Loss: 0.8920 | Train Acc: 0.5913 | Val Loss: 0.8275 | Val Acc: 0.6500\n",
      "Epoch 67/100 | Train Loss: 0.8643 | Train Acc: 0.6367 | Val Loss: 0.8752 | Val Acc: 0.6038\n",
      "Epoch 68/100 | Train Loss: 0.8708 | Train Acc: 0.6236 | Val Loss: 0.8607 | Val Acc: 0.5692\n",
      "Epoch 69/100 | Train Loss: 0.8689 | Train Acc: 0.6079 | Val Loss: 0.8167 | Val Acc: 0.6538\n",
      "Epoch 70/100 | Train Loss: 0.8543 | Train Acc: 0.6279 | Val Loss: 0.8160 | Val Acc: 0.6346\n",
      "Epoch 71/100 | Train Loss: 0.8525 | Train Acc: 0.6061 | Val Loss: 0.8293 | Val Acc: 0.6462\n",
      "Epoch 72/100 | Train Loss: 0.8729 | Train Acc: 0.6236 | Val Loss: 0.8954 | Val Acc: 0.5750\n",
      "Epoch 73/100 | Train Loss: 0.8732 | Train Acc: 0.6114 | Val Loss: 0.8787 | Val Acc: 0.6519\n",
      "Epoch 74/100 | Train Loss: 0.8816 | Train Acc: 0.6070 | Val Loss: 0.8248 | Val Acc: 0.6673\n",
      "Epoch 75/100 | Train Loss: 0.8503 | Train Acc: 0.6332 | Val Loss: 0.8155 | Val Acc: 0.6327\n",
      "Epoch 76/100 | Train Loss: 0.8705 | Train Acc: 0.6166 | Val Loss: 0.8627 | Val Acc: 0.6135\n",
      "Epoch 77/100 | Train Loss: 0.8655 | Train Acc: 0.6253 | Val Loss: 0.8160 | Val Acc: 0.6385\n",
      "Epoch 78/100 | Train Loss: 0.8861 | Train Acc: 0.5965 | Val Loss: 0.8983 | Val Acc: 0.5712\n",
      "Epoch 79/100 | Train Loss: 0.8878 | Train Acc: 0.6148 | Val Loss: 0.8553 | Val Acc: 0.6538\n",
      "Epoch 80/100 | Train Loss: 0.8598 | Train Acc: 0.6218 | Val Loss: 0.8446 | Val Acc: 0.6212\n",
      "Epoch 81/100 | Train Loss: 0.8530 | Train Acc: 0.6341 | Val Loss: 0.8380 | Val Acc: 0.6519\n",
      "Epoch 82/100 | Train Loss: 0.8714 | Train Acc: 0.6306 | Val Loss: 0.8437 | Val Acc: 0.5942\n",
      "Epoch 83/100 | Train Loss: 0.8561 | Train Acc: 0.6183 | Val Loss: 0.8542 | Val Acc: 0.6269\n",
      "Epoch 84/100 | Train Loss: 0.9017 | Train Acc: 0.6035 | Val Loss: 0.8812 | Val Acc: 0.5731\n",
      "Epoch 85/100 | Train Loss: 0.8965 | Train Acc: 0.5965 | Val Loss: 0.8165 | Val Acc: 0.6173\n",
      "Epoch 86/100 | Train Loss: 0.8886 | Train Acc: 0.5991 | Val Loss: 0.8175 | Val Acc: 0.6327\n",
      "Epoch 87/100 | Train Loss: 0.8661 | Train Acc: 0.6201 | Val Loss: 0.8147 | Val Acc: 0.6481\n",
      "Epoch 88/100 | Train Loss: 0.8857 | Train Acc: 0.5983 | Val Loss: 0.8395 | Val Acc: 0.6538\n",
      "Epoch 89/100 | Train Loss: 0.8818 | Train Acc: 0.6122 | Val Loss: 0.8998 | Val Acc: 0.5750\n",
      "Epoch 90/100 | Train Loss: 0.8628 | Train Acc: 0.6297 | Val Loss: 0.8198 | Val Acc: 0.6500\n",
      "Epoch 91/100 | Train Loss: 0.8518 | Train Acc: 0.6166 | Val Loss: 0.8258 | Val Acc: 0.6500\n",
      "Epoch 92/100 | Train Loss: 0.8792 | Train Acc: 0.6087 | Val Loss: 0.8430 | Val Acc: 0.6500\n",
      "Epoch 93/100 | Train Loss: 0.8894 | Train Acc: 0.5974 | Val Loss: 0.8841 | Val Acc: 0.6231\n",
      "Epoch 94/100 | Train Loss: 0.9142 | Train Acc: 0.6035 | Val Loss: 0.8492 | Val Acc: 0.6519\n",
      "Epoch 95/100 | Train Loss: 0.8609 | Train Acc: 0.6114 | Val Loss: 0.8179 | Val Acc: 0.6346\n",
      "Epoch 96/100 | Train Loss: 0.8576 | Train Acc: 0.6314 | Val Loss: 0.8153 | Val Acc: 0.6635\n",
      "Epoch 97/100 | Train Loss: 0.8620 | Train Acc: 0.6245 | Val Loss: 0.8426 | Val Acc: 0.6500\n",
      "Epoch 98/100 | Train Loss: 0.8674 | Train Acc: 0.6218 | Val Loss: 0.8263 | Val Acc: 0.6385\n",
      "Epoch 99/100 | Train Loss: 0.8602 | Train Acc: 0.6367 | Val Loss: 0.8480 | Val Acc: 0.6500\n",
      "Epoch 100/100 | Train Loss: 0.8700 | Train Acc: 0.6175 | Val Loss: 0.8257 | Val Acc: 0.6750\n"
     ]
    }
   ],
   "source": [
    "# YOUR CODE HERE\n",
    "tiny_model = nn.Sequential(nn.Linear(2,3), nn.ReLU())\n",
    "train_model(\n",
    "    model=tiny_model,\n",
    "    optimizer=torch.optim.Adam(tiny_model.parameters(), lr=0.01),\n",
    "    loss_fn=nn.CrossEntropyLoss(),\n",
    "    num_epochs=100,\n",
    "    train_dataloader=loader_train,\n",
    "    val_dataloader=loader_val,\n",
    "    device=\"cuda\" if torch.cuda.is_available() else \"cpu\",\n",
    ")"
   ]
  },
  {
   "cell_type": "code",
   "execution_count": 80,
   "metadata": {
    "deletable": false,
    "editable": false,
    "nbgrader": {
     "cell_type": "code",
     "checksum": "947da7271bc82b1962e4a2f151e38cc7",
     "grade": true,
     "grade_id": "cell-5177de76d9ba3b95",
     "locked": true,
     "points": 0,
     "schema_version": 3,
     "solution": false,
     "task": false
    }
   },
   "outputs": [],
   "source": [
    "assert isinstance(tiny_model, nn.Module), \"tiny_model should be a torch.nn.Module\"\n",
    "test_model_output_shape(tiny_model)"
   ]
  },
  {
   "cell_type": "markdown",
   "metadata": {
    "deletable": false,
    "editable": false,
    "nbgrader": {
     "cell_type": "markdown",
     "checksum": "5210c12d044cbd33369d11ff806d3713",
     "grade": false,
     "grade_id": "cell-08c57975b0623508",
     "locked": true,
     "schema_version": 3,
     "solution": false,
     "task": false
    }
   },
   "source": [
    "Now, draw the decision regions of the network as you did in the previous section. Before running the code, think about what you expect to see. What will the regions look like? How will they differ from the previous ones?"
   ]
  },
  {
   "cell_type": "code",
   "execution_count": 81,
   "metadata": {
    "deletable": false,
    "nbgrader": {
     "cell_type": "code",
     "checksum": "f3a85fa9cff45032547dc23821abf17a",
     "grade": false,
     "grade_id": "cell-54d26c4853bef495",
     "locked": false,
     "schema_version": 3,
     "solution": true,
     "task": false
    }
   },
   "outputs": [
    {
     "data": {
      "image/png": "[encoded data removed]",
      "text/plain": [
       "<Figure size 800x600 with 1 Axes>"
      ]
     },
     "metadata": {},
     "output_type": "display_data"
    }
   ],
   "source": [
    "plot_decision_region(tiny_model, x_train, y_train, x_val, y_val)"
   ]
  },
  {
   "cell_type": "markdown",
   "metadata": {
    "deletable": false,
    "editable": false,
    "nbgrader": {
     "cell_type": "markdown",
     "checksum": "f7dd25b5a822f76d673abd2c19d04214",
     "grade": false,
     "grade_id": "cell-60ac824096c93c40",
     "locked": true,
     "schema_version": 3,
     "solution": false,
     "task": false
    }
   },
   "source": [
    "Are the decision regions any different? Why/why not? What does this tell you about the model capacity and generalization?"
   ]
  },
  {
   "cell_type": "markdown",
   "metadata": {
    "deletable": false,
    "nbgrader": {
     "cell_type": "markdown",
     "checksum": "3fab04c63006230a270e8d4cb6de097c",
     "grade": true,
     "grade_id": "cell-366b5ee2a98cf990",
     "locked": false,
     "points": 0,
     "schema_version": 3,
     "solution": true,
     "task": false
    }
   },
   "source": [
    "**Your answer:** It is different because it is less accurate. The decision boundaries seem to also be very simple with not many lines to differentiate them, an effect of having a more simple model i assume."
   ]
  },
  {
   "cell_type": "markdown",
   "metadata": {
    "deletable": false,
    "editable": false,
    "nbgrader": {
     "cell_type": "markdown",
     "checksum": "6e3581287819f1a7727aeed0aae5e3e8",
     "grade": false,
     "grade_id": "cell-9b64a4381757316b",
     "locked": true,
     "schema_version": 3,
     "solution": false,
     "task": false
    }
   },
   "source": [
    "Next, create a neural network `large_model` with many layers and/or hidden units. Try to maximize the training accuracy (0.7-0.8). Getting these models to converge might be a bit tricky, so you might have to adjust the learning rate, the optimizer, etc. Also, might be easier to have a wide model (large number of hidden units, say 1024 per layer) than a deep model (more than 4 layers).\n",
    "\n",
    "Feel free to experiment, but if you get stuck, our model is a MLP with an input layer, 4 hidden layers with 1024 units each, and an output layer. We used the ReLU activation function between each layer and a softmax for the output layer. We used the Adam optimizer with a learning rate of 0.003 and a batch size of 512. We trained for at least a few hundred epochs. Also, normalizing the input can be helpful (zero mean and unit variance)."
   ]
  },
  {
   "cell_type": "code",
   "execution_count": 85,
   "metadata": {
    "deletable": false,
    "nbgrader": {
     "cell_type": "code",
     "checksum": "9f70d4de2747cd6ef9d0d501495dcb1a",
     "grade": false,
     "grade_id": "cell-9abb82db6e8413d1",
     "locked": false,
     "schema_version": 3,
     "solution": true,
     "task": false
    }
   },
   "outputs": [
    {
     "name": "stdout",
     "output_type": "stream",
     "text": [
      "Epoch 1/500 | Train Loss: 0.9330 | Train Acc: 0.5459 | Val Loss: 0.8424 | Val Acc: 0.5962\n",
      "Epoch 2/500 | Train Loss: 0.8284 | Train Acc: 0.6079 | Val Loss: 0.7575 | Val Acc: 0.6577\n",
      "Epoch 3/500 | Train Loss: 0.8118 | Train Acc: 0.6349 | Val Loss: 0.7917 | Val Acc: 0.6500\n",
      "Epoch 4/500 | Train Loss: 0.7965 | Train Acc: 0.6183 | Val Loss: 0.7667 | Val Acc: 0.6519\n",
      "Epoch 5/500 | Train Loss: 0.8038 | Train Acc: 0.6114 | Val Loss: 0.7751 | Val Acc: 0.6308\n",
      "Epoch 6/500 | Train Loss: 0.7944 | Train Acc: 0.6349 | Val Loss: 0.7549 | Val Acc: 0.6769\n",
      "Epoch 7/500 | Train Loss: 0.7909 | Train Acc: 0.6559 | Val Loss: 0.8115 | Val Acc: 0.6538\n",
      "Epoch 8/500 | Train Loss: 0.8053 | Train Acc: 0.6437 | Val Loss: 0.8036 | Val Acc: 0.6788\n",
      "Epoch 9/500 | Train Loss: 0.8078 | Train Acc: 0.6236 | Val Loss: 0.7671 | Val Acc: 0.6558\n",
      "Epoch 10/500 | Train Loss: 0.8090 | Train Acc: 0.6253 | Val Loss: 0.7633 | Val Acc: 0.6519\n",
      "Epoch 11/500 | Train Loss: 0.7883 | Train Acc: 0.6262 | Val Loss: 0.7599 | Val Acc: 0.6519\n",
      "Epoch 12/500 | Train Loss: 0.7992 | Train Acc: 0.6253 | Val Loss: 0.7742 | Val Acc: 0.6615\n",
      "Epoch 13/500 | Train Loss: 0.7908 | Train Acc: 0.6367 | Val Loss: 0.7568 | Val Acc: 0.6538\n",
      "Epoch 14/500 | Train Loss: 0.7807 | Train Acc: 0.6314 | Val Loss: 0.7599 | Val Acc: 0.6750\n",
      "Epoch 15/500 | Train Loss: 0.7793 | Train Acc: 0.6332 | Val Loss: 0.7854 | Val Acc: 0.6423\n",
      "Epoch 16/500 | Train Loss: 0.8154 | Train Acc: 0.6349 | Val Loss: 0.7659 | Val Acc: 0.6385\n",
      "Epoch 17/500 | Train Loss: 0.7762 | Train Acc: 0.6349 | Val Loss: 0.7629 | Val Acc: 0.6885\n",
      "Epoch 18/500 | Train Loss: 0.7908 | Train Acc: 0.6271 | Val Loss: 0.7858 | Val Acc: 0.6500\n",
      "Epoch 19/500 | Train Loss: 0.7893 | Train Acc: 0.6183 | Val Loss: 0.7415 | Val Acc: 0.6577\n",
      "Epoch 20/500 | Train Loss: 0.7944 | Train Acc: 0.6358 | Val Loss: 0.7523 | Val Acc: 0.6519\n",
      "Epoch 21/500 | Train Loss: 0.7950 | Train Acc: 0.6279 | Val Loss: 0.7678 | Val Acc: 0.6750\n",
      "Epoch 22/500 | Train Loss: 0.7974 | Train Acc: 0.6306 | Val Loss: 0.7689 | Val Acc: 0.6846\n",
      "Epoch 23/500 | Train Loss: 0.7876 | Train Acc: 0.6367 | Val Loss: 0.7511 | Val Acc: 0.6481\n",
      "Epoch 24/500 | Train Loss: 0.7785 | Train Acc: 0.6349 | Val Loss: 0.7578 | Val Acc: 0.6577\n",
      "Epoch 25/500 | Train Loss: 0.7696 | Train Acc: 0.6323 | Val Loss: 0.7413 | Val Acc: 0.6481\n",
      "Epoch 26/500 | Train Loss: 0.7700 | Train Acc: 0.6358 | Val Loss: 0.7451 | Val Acc: 0.6615\n",
      "Epoch 27/500 | Train Loss: 0.7843 | Train Acc: 0.6227 | Val Loss: 0.7822 | Val Acc: 0.5827\n",
      "Epoch 28/500 | Train Loss: 0.8003 | Train Acc: 0.6096 | Val Loss: 0.7746 | Val Acc: 0.6558\n",
      "Epoch 29/500 | Train Loss: 0.7762 | Train Acc: 0.6419 | Val Loss: 0.7487 | Val Acc: 0.6865\n",
      "Epoch 30/500 | Train Loss: 0.7699 | Train Acc: 0.6454 | Val Loss: 0.7395 | Val Acc: 0.6846\n",
      "Epoch 31/500 | Train Loss: 0.7774 | Train Acc: 0.6428 | Val Loss: 0.7483 | Val Acc: 0.6846\n",
      "Epoch 32/500 | Train Loss: 0.7723 | Train Acc: 0.6428 | Val Loss: 0.7448 | Val Acc: 0.6712\n",
      "Epoch 33/500 | Train Loss: 0.7680 | Train Acc: 0.6402 | Val Loss: 0.7497 | Val Acc: 0.6885\n",
      "Epoch 34/500 | Train Loss: 0.7854 | Train Acc: 0.6472 | Val Loss: 0.7579 | Val Acc: 0.6519\n",
      "Epoch 35/500 | Train Loss: 0.7670 | Train Acc: 0.6410 | Val Loss: 0.7384 | Val Acc: 0.6712\n",
      "Epoch 36/500 | Train Loss: 0.7667 | Train Acc: 0.6428 | Val Loss: 0.7429 | Val Acc: 0.6615\n",
      "Epoch 37/500 | Train Loss: 0.7683 | Train Acc: 0.6376 | Val Loss: 0.7688 | Val Acc: 0.6519\n",
      "Epoch 38/500 | Train Loss: 0.7801 | Train Acc: 0.6480 | Val Loss: 0.7523 | Val Acc: 0.6788\n",
      "Epoch 39/500 | Train Loss: 0.7725 | Train Acc: 0.6445 | Val Loss: 0.7399 | Val Acc: 0.6750\n",
      "Epoch 40/500 | Train Loss: 0.7684 | Train Acc: 0.6463 | Val Loss: 0.7445 | Val Acc: 0.6788\n",
      "Epoch 41/500 | Train Loss: 0.7681 | Train Acc: 0.6428 | Val Loss: 0.7387 | Val Acc: 0.6827\n",
      "Epoch 42/500 | Train Loss: 0.7769 | Train Acc: 0.6253 | Val Loss: 0.7753 | Val Acc: 0.6519\n",
      "Epoch 43/500 | Train Loss: 0.7785 | Train Acc: 0.6341 | Val Loss: 0.7520 | Val Acc: 0.6846\n",
      "Epoch 44/500 | Train Loss: 0.7683 | Train Acc: 0.6271 | Val Loss: 0.7403 | Val Acc: 0.6750\n",
      "Epoch 45/500 | Train Loss: 0.7636 | Train Acc: 0.6480 | Val Loss: 0.7380 | Val Acc: 0.6769\n",
      "Epoch 46/500 | Train Loss: 0.7605 | Train Acc: 0.6524 | Val Loss: 0.7287 | Val Acc: 0.6788\n",
      "Epoch 47/500 | Train Loss: 0.7649 | Train Acc: 0.6463 | Val Loss: 0.7495 | Val Acc: 0.6981\n",
      "Epoch 48/500 | Train Loss: 0.7637 | Train Acc: 0.6376 | Val Loss: 0.7335 | Val Acc: 0.7000\n",
      "Epoch 49/500 | Train Loss: 0.7713 | Train Acc: 0.6550 | Val Loss: 0.7377 | Val Acc: 0.6731\n",
      "Epoch 50/500 | Train Loss: 0.7629 | Train Acc: 0.6463 | Val Loss: 0.7396 | Val Acc: 0.6788\n",
      "Epoch 51/500 | Train Loss: 0.7614 | Train Acc: 0.6463 | Val Loss: 0.7388 | Val Acc: 0.6808\n",
      "Epoch 52/500 | Train Loss: 0.7595 | Train Acc: 0.6638 | Val Loss: 0.7428 | Val Acc: 0.6827\n",
      "Epoch 53/500 | Train Loss: 0.7617 | Train Acc: 0.6594 | Val Loss: 0.7367 | Val Acc: 0.6962\n",
      "Epoch 54/500 | Train Loss: 0.7729 | Train Acc: 0.6445 | Val Loss: 0.7419 | Val Acc: 0.6846\n",
      "Epoch 55/500 | Train Loss: 0.7662 | Train Acc: 0.6428 | Val Loss: 0.7385 | Val Acc: 0.6769\n",
      "Epoch 56/500 | Train Loss: 0.7737 | Train Acc: 0.6472 | Val Loss: 0.7513 | Val Acc: 0.6731\n",
      "Epoch 57/500 | Train Loss: 0.7722 | Train Acc: 0.6271 | Val Loss: 0.7344 | Val Acc: 0.6788\n",
      "Epoch 58/500 | Train Loss: 0.7710 | Train Acc: 0.6498 | Val Loss: 0.7494 | Val Acc: 0.6808\n",
      "Epoch 59/500 | Train Loss: 0.7717 | Train Acc: 0.6314 | Val Loss: 0.7508 | Val Acc: 0.6827\n",
      "Epoch 60/500 | Train Loss: 0.7639 | Train Acc: 0.6603 | Val Loss: 0.7508 | Val Acc: 0.6923\n",
      "Epoch 61/500 | Train Loss: 0.7560 | Train Acc: 0.6428 | Val Loss: 0.7719 | Val Acc: 0.6442\n",
      "Epoch 62/500 | Train Loss: 0.7854 | Train Acc: 0.6410 | Val Loss: 0.7620 | Val Acc: 0.6827\n",
      "Epoch 63/500 | Train Loss: 0.7611 | Train Acc: 0.6489 | Val Loss: 0.7544 | Val Acc: 0.6981\n",
      "Epoch 64/500 | Train Loss: 0.7670 | Train Acc: 0.6498 | Val Loss: 0.7384 | Val Acc: 0.6846\n",
      "Epoch 65/500 | Train Loss: 0.7722 | Train Acc: 0.6507 | Val Loss: 0.7389 | Val Acc: 0.6788\n",
      "Epoch 66/500 | Train Loss: 0.7578 | Train Acc: 0.6541 | Val Loss: 0.7260 | Val Acc: 0.6788\n",
      "Epoch 67/500 | Train Loss: 0.7557 | Train Acc: 0.6681 | Val Loss: 0.7361 | Val Acc: 0.6942\n",
      "Epoch 68/500 | Train Loss: 0.7562 | Train Acc: 0.6384 | Val Loss: 0.7283 | Val Acc: 0.6788\n",
      "Epoch 69/500 | Train Loss: 0.7671 | Train Acc: 0.6524 | Val Loss: 0.7379 | Val Acc: 0.6808\n",
      "Epoch 70/500 | Train Loss: 0.7565 | Train Acc: 0.6454 | Val Loss: 0.7482 | Val Acc: 0.6865\n",
      "Epoch 71/500 | Train Loss: 0.7596 | Train Acc: 0.6419 | Val Loss: 0.7275 | Val Acc: 0.6846\n",
      "Epoch 72/500 | Train Loss: 0.7552 | Train Acc: 0.6603 | Val Loss: 0.7280 | Val Acc: 0.6788\n",
      "Epoch 73/500 | Train Loss: 0.7659 | Train Acc: 0.6367 | Val Loss: 0.7387 | Val Acc: 0.6904\n",
      "Epoch 74/500 | Train Loss: 0.7659 | Train Acc: 0.6620 | Val Loss: 0.7691 | Val Acc: 0.6635\n",
      "Epoch 75/500 | Train Loss: 0.7662 | Train Acc: 0.6419 | Val Loss: 0.7560 | Val Acc: 0.6731\n",
      "Epoch 76/500 | Train Loss: 0.7628 | Train Acc: 0.6341 | Val Loss: 0.7425 | Val Acc: 0.7038\n",
      "Epoch 77/500 | Train Loss: 0.7599 | Train Acc: 0.6498 | Val Loss: 0.7405 | Val Acc: 0.6981\n",
      "Epoch 78/500 | Train Loss: 0.7566 | Train Acc: 0.6472 | Val Loss: 0.7518 | Val Acc: 0.6885\n",
      "Epoch 79/500 | Train Loss: 0.7560 | Train Acc: 0.6489 | Val Loss: 0.7407 | Val Acc: 0.6981\n",
      "Epoch 80/500 | Train Loss: 0.7546 | Train Acc: 0.6541 | Val Loss: 0.7425 | Val Acc: 0.6904\n",
      "Epoch 81/500 | Train Loss: 0.7732 | Train Acc: 0.6454 | Val Loss: 0.7477 | Val Acc: 0.6558\n",
      "Epoch 82/500 | Train Loss: 0.7597 | Train Acc: 0.6533 | Val Loss: 0.7317 | Val Acc: 0.6865\n",
      "Epoch 83/500 | Train Loss: 0.7603 | Train Acc: 0.6507 | Val Loss: 0.7468 | Val Acc: 0.7058\n",
      "Epoch 84/500 | Train Loss: 0.7586 | Train Acc: 0.6742 | Val Loss: 0.7371 | Val Acc: 0.6981\n",
      "Epoch 85/500 | Train Loss: 0.7525 | Train Acc: 0.6533 | Val Loss: 0.7325 | Val Acc: 0.6577\n",
      "Epoch 86/500 | Train Loss: 0.7572 | Train Acc: 0.6437 | Val Loss: 0.7414 | Val Acc: 0.7192\n",
      "Epoch 87/500 | Train Loss: 0.7514 | Train Acc: 0.6620 | Val Loss: 0.7404 | Val Acc: 0.6654\n",
      "Epoch 88/500 | Train Loss: 0.7553 | Train Acc: 0.6672 | Val Loss: 0.7345 | Val Acc: 0.6615\n",
      "Epoch 89/500 | Train Loss: 0.7413 | Train Acc: 0.6594 | Val Loss: 0.7201 | Val Acc: 0.6981\n",
      "Epoch 90/500 | Train Loss: 0.7484 | Train Acc: 0.6603 | Val Loss: 0.7312 | Val Acc: 0.6750\n",
      "Epoch 91/500 | Train Loss: 0.7512 | Train Acc: 0.6472 | Val Loss: 0.7650 | Val Acc: 0.6538\n",
      "Epoch 92/500 | Train Loss: 0.7766 | Train Acc: 0.6376 | Val Loss: 0.7245 | Val Acc: 0.6769\n",
      "Epoch 93/500 | Train Loss: 0.7644 | Train Acc: 0.6489 | Val Loss: 0.7406 | Val Acc: 0.6654\n",
      "Epoch 94/500 | Train Loss: 0.7570 | Train Acc: 0.6507 | Val Loss: 0.7251 | Val Acc: 0.6538\n",
      "Epoch 95/500 | Train Loss: 0.7462 | Train Acc: 0.6480 | Val Loss: 0.7308 | Val Acc: 0.6904\n",
      "Epoch 96/500 | Train Loss: 0.7434 | Train Acc: 0.6568 | Val Loss: 0.7320 | Val Acc: 0.6596\n",
      "Epoch 97/500 | Train Loss: 0.7415 | Train Acc: 0.6507 | Val Loss: 0.7253 | Val Acc: 0.6865\n",
      "Epoch 98/500 | Train Loss: 0.7416 | Train Acc: 0.6454 | Val Loss: 0.7125 | Val Acc: 0.6885\n",
      "Epoch 99/500 | Train Loss: 0.7411 | Train Acc: 0.6681 | Val Loss: 0.7212 | Val Acc: 0.6827\n",
      "Epoch 100/500 | Train Loss: 0.7335 | Train Acc: 0.6568 | Val Loss: 0.7193 | Val Acc: 0.7173\n",
      "Epoch 101/500 | Train Loss: 0.7358 | Train Acc: 0.6638 | Val Loss: 0.7255 | Val Acc: 0.6500\n",
      "Epoch 102/500 | Train Loss: 0.7310 | Train Acc: 0.6568 | Val Loss: 0.7244 | Val Acc: 0.7038\n",
      "Epoch 103/500 | Train Loss: 0.7433 | Train Acc: 0.6611 | Val Loss: 0.7506 | Val Acc: 0.6846\n",
      "Epoch 104/500 | Train Loss: 0.7439 | Train Acc: 0.6769 | Val Loss: 0.7354 | Val Acc: 0.6769\n",
      "Epoch 105/500 | Train Loss: 0.7761 | Train Acc: 0.6332 | Val Loss: 0.7485 | Val Acc: 0.6635\n",
      "Epoch 106/500 | Train Loss: 0.7814 | Train Acc: 0.6236 | Val Loss: 0.7444 | Val Acc: 0.6577\n",
      "Epoch 107/500 | Train Loss: 0.7734 | Train Acc: 0.6349 | Val Loss: 0.7490 | Val Acc: 0.6692\n",
      "Epoch 108/500 | Train Loss: 0.7703 | Train Acc: 0.6332 | Val Loss: 0.7405 | Val Acc: 0.6538\n",
      "Epoch 109/500 | Train Loss: 0.7707 | Train Acc: 0.6253 | Val Loss: 0.7373 | Val Acc: 0.6519\n",
      "Epoch 110/500 | Train Loss: 0.7605 | Train Acc: 0.6288 | Val Loss: 0.7321 | Val Acc: 0.6731\n",
      "Epoch 111/500 | Train Loss: 0.7560 | Train Acc: 0.6480 | Val Loss: 0.7281 | Val Acc: 0.6788\n",
      "Epoch 112/500 | Train Loss: 0.7574 | Train Acc: 0.6620 | Val Loss: 0.7342 | Val Acc: 0.6904\n",
      "Epoch 113/500 | Train Loss: 0.7634 | Train Acc: 0.6620 | Val Loss: 0.7346 | Val Acc: 0.6788\n",
      "Epoch 114/500 | Train Loss: 0.7474 | Train Acc: 0.6672 | Val Loss: 0.7342 | Val Acc: 0.6865\n",
      "Epoch 115/500 | Train Loss: 0.7518 | Train Acc: 0.6620 | Val Loss: 0.7271 | Val Acc: 0.6731\n",
      "Epoch 116/500 | Train Loss: 0.7500 | Train Acc: 0.6629 | Val Loss: 0.7284 | Val Acc: 0.6769\n",
      "Epoch 117/500 | Train Loss: 0.7680 | Train Acc: 0.6463 | Val Loss: 0.7269 | Val Acc: 0.6769\n",
      "Epoch 118/500 | Train Loss: 0.7500 | Train Acc: 0.6585 | Val Loss: 0.7371 | Val Acc: 0.6788\n",
      "Epoch 119/500 | Train Loss: 0.7473 | Train Acc: 0.6576 | Val Loss: 0.7223 | Val Acc: 0.7000\n",
      "Epoch 120/500 | Train Loss: 0.7461 | Train Acc: 0.6559 | Val Loss: 0.7238 | Val Acc: 0.7077\n",
      "Epoch 121/500 | Train Loss: 0.7461 | Train Acc: 0.6533 | Val Loss: 0.7340 | Val Acc: 0.6788\n",
      "Epoch 122/500 | Train Loss: 0.7548 | Train Acc: 0.6428 | Val Loss: 0.7290 | Val Acc: 0.6750\n",
      "Epoch 123/500 | Train Loss: 0.7439 | Train Acc: 0.6568 | Val Loss: 0.7259 | Val Acc: 0.6788\n",
      "Epoch 124/500 | Train Loss: 0.7457 | Train Acc: 0.6515 | Val Loss: 0.7388 | Val Acc: 0.6654\n",
      "Epoch 125/500 | Train Loss: 0.7362 | Train Acc: 0.6681 | Val Loss: 0.7214 | Val Acc: 0.6962\n",
      "Epoch 126/500 | Train Loss: 0.7446 | Train Acc: 0.6620 | Val Loss: 0.7132 | Val Acc: 0.6962\n",
      "Epoch 127/500 | Train Loss: 0.7323 | Train Acc: 0.6638 | Val Loss: 0.7180 | Val Acc: 0.6788\n",
      "Epoch 128/500 | Train Loss: 0.7327 | Train Acc: 0.6611 | Val Loss: 0.7134 | Val Acc: 0.6692\n",
      "Epoch 129/500 | Train Loss: 0.7316 | Train Acc: 0.6559 | Val Loss: 0.7240 | Val Acc: 0.6962\n",
      "Epoch 130/500 | Train Loss: 0.7314 | Train Acc: 0.6620 | Val Loss: 0.7215 | Val Acc: 0.6635\n",
      "Epoch 131/500 | Train Loss: 0.7336 | Train Acc: 0.6603 | Val Loss: 0.7294 | Val Acc: 0.6635\n",
      "Epoch 132/500 | Train Loss: 0.7467 | Train Acc: 0.6576 | Val Loss: 0.7425 | Val Acc: 0.6846\n",
      "Epoch 133/500 | Train Loss: 0.7396 | Train Acc: 0.6576 | Val Loss: 0.7562 | Val Acc: 0.6635\n",
      "Epoch 134/500 | Train Loss: 0.7307 | Train Acc: 0.6489 | Val Loss: 0.7170 | Val Acc: 0.6635\n",
      "Epoch 135/500 | Train Loss: 0.7344 | Train Acc: 0.6428 | Val Loss: 0.7167 | Val Acc: 0.6692\n",
      "Epoch 136/500 | Train Loss: 0.7280 | Train Acc: 0.6472 | Val Loss: 0.7096 | Val Acc: 0.6962\n",
      "Epoch 137/500 | Train Loss: 0.7258 | Train Acc: 0.6585 | Val Loss: 0.6994 | Val Acc: 0.6981\n",
      "Epoch 138/500 | Train Loss: 0.7256 | Train Acc: 0.6463 | Val Loss: 0.7159 | Val Acc: 0.6904\n",
      "Epoch 139/500 | Train Loss: 0.7150 | Train Acc: 0.6725 | Val Loss: 0.7173 | Val Acc: 0.6962\n",
      "Epoch 140/500 | Train Loss: 0.7283 | Train Acc: 0.6786 | Val Loss: 0.7118 | Val Acc: 0.7135\n",
      "Epoch 141/500 | Train Loss: 0.7243 | Train Acc: 0.6830 | Val Loss: 0.7125 | Val Acc: 0.6827\n",
      "Epoch 142/500 | Train Loss: 0.7237 | Train Acc: 0.6655 | Val Loss: 0.7815 | Val Acc: 0.6712\n",
      "Epoch 143/500 | Train Loss: 0.7403 | Train Acc: 0.6690 | Val Loss: 0.7306 | Val Acc: 0.6788\n",
      "Epoch 144/500 | Train Loss: 0.7338 | Train Acc: 0.6594 | Val Loss: 0.7110 | Val Acc: 0.7019\n",
      "Epoch 145/500 | Train Loss: 0.7362 | Train Acc: 0.6917 | Val Loss: 0.7236 | Val Acc: 0.6846\n",
      "Epoch 146/500 | Train Loss: 0.7416 | Train Acc: 0.6681 | Val Loss: 0.7081 | Val Acc: 0.7096\n",
      "Epoch 147/500 | Train Loss: 0.7276 | Train Acc: 0.6707 | Val Loss: 0.7171 | Val Acc: 0.6962\n",
      "Epoch 148/500 | Train Loss: 0.7214 | Train Acc: 0.6742 | Val Loss: 0.7434 | Val Acc: 0.7019\n",
      "Epoch 149/500 | Train Loss: 0.7400 | Train Acc: 0.6725 | Val Loss: 0.7483 | Val Acc: 0.7038\n",
      "Epoch 150/500 | Train Loss: 0.7388 | Train Acc: 0.6629 | Val Loss: 0.7203 | Val Acc: 0.6788\n",
      "Epoch 151/500 | Train Loss: 0.7320 | Train Acc: 0.6550 | Val Loss: 0.7217 | Val Acc: 0.6846\n",
      "Epoch 152/500 | Train Loss: 0.7236 | Train Acc: 0.6620 | Val Loss: 0.7402 | Val Acc: 0.6673\n",
      "Epoch 153/500 | Train Loss: 0.7249 | Train Acc: 0.6699 | Val Loss: 0.7382 | Val Acc: 0.6692\n",
      "Epoch 154/500 | Train Loss: 0.7601 | Train Acc: 0.6533 | Val Loss: 0.7352 | Val Acc: 0.6904\n",
      "Epoch 155/500 | Train Loss: 0.7471 | Train Acc: 0.6690 | Val Loss: 0.7197 | Val Acc: 0.7019\n",
      "Epoch 156/500 | Train Loss: 0.7403 | Train Acc: 0.6751 | Val Loss: 0.7211 | Val Acc: 0.6731\n",
      "Epoch 157/500 | Train Loss: 0.7416 | Train Acc: 0.6620 | Val Loss: 0.7315 | Val Acc: 0.6923\n",
      "Epoch 158/500 | Train Loss: 0.7398 | Train Acc: 0.6742 | Val Loss: 0.7086 | Val Acc: 0.7115\n",
      "Epoch 159/500 | Train Loss: 0.7254 | Train Acc: 0.6943 | Val Loss: 0.6970 | Val Acc: 0.7135\n",
      "Epoch 160/500 | Train Loss: 0.7336 | Train Acc: 0.6856 | Val Loss: 0.7308 | Val Acc: 0.6827\n",
      "Epoch 161/500 | Train Loss: 0.7352 | Train Acc: 0.6795 | Val Loss: 0.7041 | Val Acc: 0.7077\n",
      "Epoch 162/500 | Train Loss: 0.7264 | Train Acc: 0.6707 | Val Loss: 0.7130 | Val Acc: 0.6750\n",
      "Epoch 163/500 | Train Loss: 0.7138 | Train Acc: 0.6734 | Val Loss: 0.7732 | Val Acc: 0.6596\n",
      "Epoch 164/500 | Train Loss: 0.7218 | Train Acc: 0.6882 | Val Loss: 0.7144 | Val Acc: 0.7077\n",
      "Epoch 165/500 | Train Loss: 0.7139 | Train Acc: 0.6856 | Val Loss: 0.6936 | Val Acc: 0.7115\n",
      "Epoch 166/500 | Train Loss: 0.7148 | Train Acc: 0.6847 | Val Loss: 0.7154 | Val Acc: 0.6981\n",
      "Epoch 167/500 | Train Loss: 0.7307 | Train Acc: 0.6803 | Val Loss: 0.7190 | Val Acc: 0.6942\n",
      "Epoch 168/500 | Train Loss: 0.7187 | Train Acc: 0.6847 | Val Loss: 0.6966 | Val Acc: 0.7096\n",
      "Epoch 169/500 | Train Loss: 0.7192 | Train Acc: 0.6882 | Val Loss: 0.7204 | Val Acc: 0.7096\n",
      "Epoch 170/500 | Train Loss: 0.7254 | Train Acc: 0.6882 | Val Loss: 0.7296 | Val Acc: 0.6865\n",
      "Epoch 171/500 | Train Loss: 0.7169 | Train Acc: 0.6795 | Val Loss: 0.7162 | Val Acc: 0.6846\n",
      "Epoch 172/500 | Train Loss: 0.7261 | Train Acc: 0.6681 | Val Loss: 0.7073 | Val Acc: 0.6904\n",
      "Epoch 173/500 | Train Loss: 0.7143 | Train Acc: 0.6900 | Val Loss: 0.7259 | Val Acc: 0.7192\n",
      "Epoch 174/500 | Train Loss: 0.7107 | Train Acc: 0.6856 | Val Loss: 0.7039 | Val Acc: 0.7077\n",
      "Epoch 175/500 | Train Loss: 0.7077 | Train Acc: 0.6830 | Val Loss: 0.7011 | Val Acc: 0.7058\n",
      "Epoch 176/500 | Train Loss: 0.7160 | Train Acc: 0.6900 | Val Loss: 0.7667 | Val Acc: 0.6481\n",
      "Epoch 177/500 | Train Loss: 0.7410 | Train Acc: 0.6559 | Val Loss: 0.7317 | Val Acc: 0.6385\n",
      "Epoch 178/500 | Train Loss: 0.7338 | Train Acc: 0.6559 | Val Loss: 0.7313 | Val Acc: 0.7000\n",
      "Epoch 179/500 | Train Loss: 0.7273 | Train Acc: 0.6472 | Val Loss: 0.7166 | Val Acc: 0.6769\n",
      "Epoch 180/500 | Train Loss: 0.7284 | Train Acc: 0.6716 | Val Loss: 0.7039 | Val Acc: 0.7000\n",
      "Epoch 181/500 | Train Loss: 0.7302 | Train Acc: 0.6707 | Val Loss: 0.7249 | Val Acc: 0.6827\n",
      "Epoch 182/500 | Train Loss: 0.7257 | Train Acc: 0.6620 | Val Loss: 0.7033 | Val Acc: 0.6885\n",
      "Epoch 183/500 | Train Loss: 0.7173 | Train Acc: 0.6777 | Val Loss: 0.7042 | Val Acc: 0.7269\n",
      "Epoch 184/500 | Train Loss: 0.7113 | Train Acc: 0.7013 | Val Loss: 0.7168 | Val Acc: 0.7212\n",
      "Epoch 185/500 | Train Loss: 0.7129 | Train Acc: 0.7039 | Val Loss: 0.7232 | Val Acc: 0.6865\n",
      "Epoch 186/500 | Train Loss: 0.7053 | Train Acc: 0.6996 | Val Loss: 0.7191 | Val Acc: 0.7192\n",
      "Epoch 187/500 | Train Loss: 0.6983 | Train Acc: 0.7066 | Val Loss: 0.7186 | Val Acc: 0.7346\n",
      "Epoch 188/500 | Train Loss: 0.7126 | Train Acc: 0.6812 | Val Loss: 0.7004 | Val Acc: 0.6962\n",
      "Epoch 189/500 | Train Loss: 0.7060 | Train Acc: 0.7039 | Val Loss: 0.7317 | Val Acc: 0.7250\n",
      "Epoch 190/500 | Train Loss: 0.7218 | Train Acc: 0.6734 | Val Loss: 0.7196 | Val Acc: 0.7096\n",
      "Epoch 191/500 | Train Loss: 0.7111 | Train Acc: 0.6882 | Val Loss: 0.7293 | Val Acc: 0.7058\n",
      "Epoch 192/500 | Train Loss: 0.7136 | Train Acc: 0.6821 | Val Loss: 0.6896 | Val Acc: 0.7115\n",
      "Epoch 193/500 | Train Loss: 0.7043 | Train Acc: 0.7004 | Val Loss: 0.7174 | Val Acc: 0.7019\n",
      "Epoch 194/500 | Train Loss: 0.7011 | Train Acc: 0.7004 | Val Loss: 0.7136 | Val Acc: 0.7173\n",
      "Epoch 195/500 | Train Loss: 0.7017 | Train Acc: 0.6908 | Val Loss: 0.7041 | Val Acc: 0.7096\n",
      "Epoch 196/500 | Train Loss: 0.7113 | Train Acc: 0.7100 | Val Loss: 0.7333 | Val Acc: 0.7327\n",
      "Epoch 197/500 | Train Loss: 0.6974 | Train Acc: 0.7162 | Val Loss: 0.7125 | Val Acc: 0.7288\n",
      "Epoch 198/500 | Train Loss: 0.6951 | Train Acc: 0.7214 | Val Loss: 0.7364 | Val Acc: 0.7269\n",
      "Epoch 199/500 | Train Loss: 0.6821 | Train Acc: 0.7266 | Val Loss: 0.7053 | Val Acc: 0.7250\n",
      "Epoch 200/500 | Train Loss: 0.6917 | Train Acc: 0.7092 | Val Loss: 0.7187 | Val Acc: 0.7019\n",
      "Epoch 201/500 | Train Loss: 0.7081 | Train Acc: 0.7004 | Val Loss: 0.6984 | Val Acc: 0.7115\n",
      "Epoch 202/500 | Train Loss: 0.6889 | Train Acc: 0.7118 | Val Loss: 0.7072 | Val Acc: 0.7365\n",
      "Epoch 203/500 | Train Loss: 0.6749 | Train Acc: 0.7188 | Val Loss: 0.6901 | Val Acc: 0.7269\n",
      "Epoch 204/500 | Train Loss: 0.6874 | Train Acc: 0.6996 | Val Loss: 0.6930 | Val Acc: 0.7423\n",
      "Epoch 205/500 | Train Loss: 0.6815 | Train Acc: 0.7135 | Val Loss: 0.7245 | Val Acc: 0.7192\n",
      "Epoch 206/500 | Train Loss: 0.7191 | Train Acc: 0.6961 | Val Loss: 0.6726 | Val Acc: 0.7346\n",
      "Epoch 207/500 | Train Loss: 0.6862 | Train Acc: 0.7083 | Val Loss: 0.6777 | Val Acc: 0.7404\n",
      "Epoch 208/500 | Train Loss: 0.6855 | Train Acc: 0.7100 | Val Loss: 0.7081 | Val Acc: 0.7231\n",
      "Epoch 209/500 | Train Loss: 0.6653 | Train Acc: 0.7231 | Val Loss: 0.6838 | Val Acc: 0.7423\n",
      "Epoch 210/500 | Train Loss: 0.6802 | Train Acc: 0.7197 | Val Loss: 0.7577 | Val Acc: 0.6788\n",
      "Epoch 211/500 | Train Loss: 0.7127 | Train Acc: 0.6934 | Val Loss: 0.6739 | Val Acc: 0.7404\n",
      "Epoch 212/500 | Train Loss: 0.6752 | Train Acc: 0.7293 | Val Loss: 0.6887 | Val Acc: 0.7250\n",
      "Epoch 213/500 | Train Loss: 0.6711 | Train Acc: 0.7214 | Val Loss: 0.6857 | Val Acc: 0.7500\n",
      "Epoch 214/500 | Train Loss: 0.7176 | Train Acc: 0.6952 | Val Loss: 0.7158 | Val Acc: 0.6923\n",
      "Epoch 215/500 | Train Loss: 0.7374 | Train Acc: 0.6891 | Val Loss: 0.6988 | Val Acc: 0.7327\n",
      "Epoch 216/500 | Train Loss: 0.6725 | Train Acc: 0.7258 | Val Loss: 0.6966 | Val Acc: 0.7327\n",
      "Epoch 217/500 | Train Loss: 0.6653 | Train Acc: 0.7328 | Val Loss: 0.6809 | Val Acc: 0.7500\n",
      "Epoch 218/500 | Train Loss: 0.6555 | Train Acc: 0.7284 | Val Loss: 0.6681 | Val Acc: 0.7404\n",
      "Epoch 219/500 | Train Loss: 0.6706 | Train Acc: 0.7100 | Val Loss: 0.6835 | Val Acc: 0.7423\n",
      "Epoch 220/500 | Train Loss: 0.6768 | Train Acc: 0.7135 | Val Loss: 0.7297 | Val Acc: 0.6962\n",
      "Epoch 221/500 | Train Loss: 0.6955 | Train Acc: 0.7039 | Val Loss: 0.7081 | Val Acc: 0.7212\n",
      "Epoch 222/500 | Train Loss: 0.6723 | Train Acc: 0.7153 | Val Loss: 0.6956 | Val Acc: 0.7269\n",
      "Epoch 223/500 | Train Loss: 0.6630 | Train Acc: 0.7258 | Val Loss: 0.6846 | Val Acc: 0.7442\n",
      "Epoch 224/500 | Train Loss: 0.6530 | Train Acc: 0.7336 | Val Loss: 0.6725 | Val Acc: 0.7558\n",
      "Epoch 225/500 | Train Loss: 0.6465 | Train Acc: 0.7371 | Val Loss: 0.6618 | Val Acc: 0.7558\n",
      "Epoch 226/500 | Train Loss: 0.6630 | Train Acc: 0.7301 | Val Loss: 0.7720 | Val Acc: 0.6923\n",
      "Epoch 227/500 | Train Loss: 0.6778 | Train Acc: 0.7197 | Val Loss: 0.6731 | Val Acc: 0.7442\n",
      "Epoch 228/500 | Train Loss: 0.6731 | Train Acc: 0.7284 | Val Loss: 0.6905 | Val Acc: 0.7346\n",
      "Epoch 229/500 | Train Loss: 0.6996 | Train Acc: 0.7057 | Val Loss: 0.7062 | Val Acc: 0.7212\n",
      "Epoch 230/500 | Train Loss: 0.6618 | Train Acc: 0.7231 | Val Loss: 0.6760 | Val Acc: 0.7385\n",
      "Epoch 231/500 | Train Loss: 0.6500 | Train Acc: 0.7336 | Val Loss: 0.6672 | Val Acc: 0.7481\n",
      "Epoch 232/500 | Train Loss: 0.6551 | Train Acc: 0.7293 | Val Loss: 0.6824 | Val Acc: 0.7404\n",
      "Epoch 233/500 | Train Loss: 0.6465 | Train Acc: 0.7397 | Val Loss: 0.6654 | Val Acc: 0.7538\n",
      "Epoch 234/500 | Train Loss: 0.6393 | Train Acc: 0.7389 | Val Loss: 0.6726 | Val Acc: 0.7481\n",
      "Epoch 235/500 | Train Loss: 0.6480 | Train Acc: 0.7371 | Val Loss: 0.6672 | Val Acc: 0.7519\n",
      "Epoch 236/500 | Train Loss: 0.6531 | Train Acc: 0.7354 | Val Loss: 0.6823 | Val Acc: 0.7481\n",
      "Epoch 237/500 | Train Loss: 0.6722 | Train Acc: 0.7293 | Val Loss: 0.6833 | Val Acc: 0.7327\n",
      "Epoch 238/500 | Train Loss: 0.6558 | Train Acc: 0.7301 | Val Loss: 0.6797 | Val Acc: 0.7423\n",
      "Epoch 239/500 | Train Loss: 0.6556 | Train Acc: 0.7345 | Val Loss: 0.6776 | Val Acc: 0.7423\n",
      "Epoch 240/500 | Train Loss: 0.6732 | Train Acc: 0.7188 | Val Loss: 0.6708 | Val Acc: 0.7462\n",
      "Epoch 241/500 | Train Loss: 0.6563 | Train Acc: 0.7231 | Val Loss: 0.6650 | Val Acc: 0.7269\n",
      "Epoch 242/500 | Train Loss: 0.6512 | Train Acc: 0.7301 | Val Loss: 0.6576 | Val Acc: 0.7462\n",
      "Epoch 243/500 | Train Loss: 0.6555 | Train Acc: 0.7258 | Val Loss: 0.7079 | Val Acc: 0.7346\n",
      "Epoch 244/500 | Train Loss: 0.6932 | Train Acc: 0.7083 | Val Loss: 0.7490 | Val Acc: 0.6885\n",
      "Epoch 245/500 | Train Loss: 0.6666 | Train Acc: 0.7170 | Val Loss: 0.6622 | Val Acc: 0.7538\n",
      "Epoch 246/500 | Train Loss: 0.6620 | Train Acc: 0.7328 | Val Loss: 0.7402 | Val Acc: 0.7192\n",
      "Epoch 247/500 | Train Loss: 0.6603 | Train Acc: 0.7258 | Val Loss: 0.6600 | Val Acc: 0.7462\n",
      "Epoch 248/500 | Train Loss: 0.6393 | Train Acc: 0.7397 | Val Loss: 0.6533 | Val Acc: 0.7462\n",
      "Epoch 249/500 | Train Loss: 0.6378 | Train Acc: 0.7415 | Val Loss: 0.6571 | Val Acc: 0.7481\n",
      "Epoch 250/500 | Train Loss: 0.6409 | Train Acc: 0.7371 | Val Loss: 0.6505 | Val Acc: 0.7558\n",
      "Epoch 251/500 | Train Loss: 0.6276 | Train Acc: 0.7441 | Val Loss: 0.6604 | Val Acc: 0.7462\n",
      "Epoch 252/500 | Train Loss: 0.6581 | Train Acc: 0.7249 | Val Loss: 0.7291 | Val Acc: 0.7115\n",
      "Epoch 253/500 | Train Loss: 0.6616 | Train Acc: 0.7328 | Val Loss: 0.6603 | Val Acc: 0.7577\n",
      "Epoch 254/500 | Train Loss: 0.6449 | Train Acc: 0.7389 | Val Loss: 0.6806 | Val Acc: 0.7404\n",
      "Epoch 255/500 | Train Loss: 0.6694 | Train Acc: 0.7301 | Val Loss: 0.7138 | Val Acc: 0.7115\n",
      "Epoch 256/500 | Train Loss: 0.7160 | Train Acc: 0.6978 | Val Loss: 0.7263 | Val Acc: 0.7115\n",
      "Epoch 257/500 | Train Loss: 0.6779 | Train Acc: 0.7153 | Val Loss: 0.6644 | Val Acc: 0.7423\n",
      "Epoch 258/500 | Train Loss: 0.6665 | Train Acc: 0.7284 | Val Loss: 0.6472 | Val Acc: 0.7385\n",
      "Epoch 259/500 | Train Loss: 0.6571 | Train Acc: 0.7249 | Val Loss: 0.6608 | Val Acc: 0.7423\n",
      "Epoch 260/500 | Train Loss: 0.6480 | Train Acc: 0.7380 | Val Loss: 0.6546 | Val Acc: 0.7538\n",
      "Epoch 261/500 | Train Loss: 0.6416 | Train Acc: 0.7389 | Val Loss: 0.6607 | Val Acc: 0.7519\n",
      "Epoch 262/500 | Train Loss: 0.6416 | Train Acc: 0.7371 | Val Loss: 0.6831 | Val Acc: 0.7192\n",
      "Epoch 263/500 | Train Loss: 0.6381 | Train Acc: 0.7371 | Val Loss: 0.6643 | Val Acc: 0.7615\n",
      "Epoch 264/500 | Train Loss: 0.6230 | Train Acc: 0.7459 | Val Loss: 0.6638 | Val Acc: 0.7596\n",
      "Epoch 265/500 | Train Loss: 0.6348 | Train Acc: 0.7380 | Val Loss: 0.6878 | Val Acc: 0.7423\n",
      "Epoch 266/500 | Train Loss: 0.6535 | Train Acc: 0.7310 | Val Loss: 0.6739 | Val Acc: 0.7481\n",
      "Epoch 267/500 | Train Loss: 0.6495 | Train Acc: 0.7214 | Val Loss: 0.6904 | Val Acc: 0.7135\n",
      "Epoch 268/500 | Train Loss: 0.6472 | Train Acc: 0.7240 | Val Loss: 0.6820 | Val Acc: 0.7500\n",
      "Epoch 269/500 | Train Loss: 0.6401 | Train Acc: 0.7336 | Val Loss: 0.6637 | Val Acc: 0.7423\n",
      "Epoch 270/500 | Train Loss: 0.6346 | Train Acc: 0.7345 | Val Loss: 0.6484 | Val Acc: 0.7500\n",
      "Epoch 271/500 | Train Loss: 0.6441 | Train Acc: 0.7336 | Val Loss: 0.6525 | Val Acc: 0.7519\n",
      "Epoch 272/500 | Train Loss: 0.6465 | Train Acc: 0.7319 | Val Loss: 0.6872 | Val Acc: 0.7269\n",
      "Epoch 273/500 | Train Loss: 0.6539 | Train Acc: 0.7284 | Val Loss: 0.6737 | Val Acc: 0.7385\n",
      "Epoch 274/500 | Train Loss: 0.6443 | Train Acc: 0.7380 | Val Loss: 0.6546 | Val Acc: 0.7538\n",
      "Epoch 275/500 | Train Loss: 0.6298 | Train Acc: 0.7441 | Val Loss: 0.6596 | Val Acc: 0.7481\n",
      "Epoch 276/500 | Train Loss: 0.6289 | Train Acc: 0.7406 | Val Loss: 0.6659 | Val Acc: 0.7481\n",
      "Epoch 277/500 | Train Loss: 0.6290 | Train Acc: 0.7345 | Val Loss: 0.6625 | Val Acc: 0.7481\n",
      "Epoch 278/500 | Train Loss: 0.6461 | Train Acc: 0.7275 | Val Loss: 0.6800 | Val Acc: 0.7404\n",
      "Epoch 279/500 | Train Loss: 0.6389 | Train Acc: 0.7424 | Val Loss: 0.6621 | Val Acc: 0.7481\n",
      "Epoch 280/500 | Train Loss: 0.6317 | Train Acc: 0.7432 | Val Loss: 0.6715 | Val Acc: 0.7385\n",
      "Epoch 281/500 | Train Loss: 0.6295 | Train Acc: 0.7389 | Val Loss: 0.6554 | Val Acc: 0.7519\n",
      "Epoch 282/500 | Train Loss: 0.6267 | Train Acc: 0.7432 | Val Loss: 0.6596 | Val Acc: 0.7442\n",
      "Epoch 283/500 | Train Loss: 0.6319 | Train Acc: 0.7397 | Val Loss: 0.6521 | Val Acc: 0.7423\n",
      "Epoch 284/500 | Train Loss: 0.6419 | Train Acc: 0.7397 | Val Loss: 0.6869 | Val Acc: 0.7212\n",
      "Epoch 285/500 | Train Loss: 0.6404 | Train Acc: 0.7354 | Val Loss: 0.6596 | Val Acc: 0.7481\n",
      "Epoch 286/500 | Train Loss: 0.6354 | Train Acc: 0.7345 | Val Loss: 0.6569 | Val Acc: 0.7481\n",
      "Epoch 287/500 | Train Loss: 0.6204 | Train Acc: 0.7450 | Val Loss: 0.6697 | Val Acc: 0.7538\n",
      "Epoch 288/500 | Train Loss: 0.6191 | Train Acc: 0.7502 | Val Loss: 0.7520 | Val Acc: 0.7058\n",
      "Epoch 289/500 | Train Loss: 0.6640 | Train Acc: 0.7205 | Val Loss: 0.6731 | Val Acc: 0.7519\n",
      "Epoch 290/500 | Train Loss: 0.6317 | Train Acc: 0.7336 | Val Loss: 0.6646 | Val Acc: 0.7500\n",
      "Epoch 291/500 | Train Loss: 0.6232 | Train Acc: 0.7397 | Val Loss: 0.6651 | Val Acc: 0.7500\n",
      "Epoch 292/500 | Train Loss: 0.6170 | Train Acc: 0.7493 | Val Loss: 0.6698 | Val Acc: 0.7481\n",
      "Epoch 293/500 | Train Loss: 0.6188 | Train Acc: 0.7432 | Val Loss: 0.6717 | Val Acc: 0.7558\n",
      "Epoch 294/500 | Train Loss: 0.6168 | Train Acc: 0.7511 | Val Loss: 0.6775 | Val Acc: 0.7500\n",
      "Epoch 295/500 | Train Loss: 0.6242 | Train Acc: 0.7406 | Val Loss: 0.6711 | Val Acc: 0.7365\n",
      "Epoch 296/500 | Train Loss: 0.6524 | Train Acc: 0.7293 | Val Loss: 0.6772 | Val Acc: 0.7462\n",
      "Epoch 297/500 | Train Loss: 0.6437 | Train Acc: 0.7301 | Val Loss: 0.7384 | Val Acc: 0.7115\n",
      "Epoch 298/500 | Train Loss: 0.6570 | Train Acc: 0.7336 | Val Loss: 0.6940 | Val Acc: 0.7423\n",
      "Epoch 299/500 | Train Loss: 0.6298 | Train Acc: 0.7459 | Val Loss: 0.6762 | Val Acc: 0.7558\n",
      "Epoch 300/500 | Train Loss: 0.6253 | Train Acc: 0.7441 | Val Loss: 0.6690 | Val Acc: 0.7538\n",
      "Epoch 301/500 | Train Loss: 0.6123 | Train Acc: 0.7485 | Val Loss: 0.6662 | Val Acc: 0.7538\n",
      "Epoch 302/500 | Train Loss: 0.6197 | Train Acc: 0.7415 | Val Loss: 0.6908 | Val Acc: 0.7558\n",
      "Epoch 303/500 | Train Loss: 0.6421 | Train Acc: 0.7310 | Val Loss: 0.6879 | Val Acc: 0.7519\n",
      "Epoch 304/500 | Train Loss: 0.6435 | Train Acc: 0.7328 | Val Loss: 0.6694 | Val Acc: 0.7481\n",
      "Epoch 305/500 | Train Loss: 0.6223 | Train Acc: 0.7380 | Val Loss: 0.6695 | Val Acc: 0.7481\n",
      "Epoch 306/500 | Train Loss: 0.6228 | Train Acc: 0.7415 | Val Loss: 0.6754 | Val Acc: 0.7558\n",
      "Epoch 307/500 | Train Loss: 0.6329 | Train Acc: 0.7450 | Val Loss: 0.6787 | Val Acc: 0.7481\n",
      "Epoch 308/500 | Train Loss: 0.6204 | Train Acc: 0.7397 | Val Loss: 0.6794 | Val Acc: 0.7596\n",
      "Epoch 309/500 | Train Loss: 0.6097 | Train Acc: 0.7511 | Val Loss: 0.6932 | Val Acc: 0.7500\n",
      "Epoch 310/500 | Train Loss: 0.6166 | Train Acc: 0.7441 | Val Loss: 0.6995 | Val Acc: 0.7500\n",
      "Epoch 311/500 | Train Loss: 0.6256 | Train Acc: 0.7397 | Val Loss: 0.6860 | Val Acc: 0.7538\n",
      "Epoch 312/500 | Train Loss: 0.6209 | Train Acc: 0.7371 | Val Loss: 0.6843 | Val Acc: 0.7538\n",
      "Epoch 313/500 | Train Loss: 0.6131 | Train Acc: 0.7424 | Val Loss: 0.7050 | Val Acc: 0.7558\n",
      "Epoch 314/500 | Train Loss: 0.6171 | Train Acc: 0.7502 | Val Loss: 0.6779 | Val Acc: 0.7500\n",
      "Epoch 315/500 | Train Loss: 0.6082 | Train Acc: 0.7450 | Val Loss: 0.6744 | Val Acc: 0.7577\n",
      "Epoch 316/500 | Train Loss: 0.6407 | Train Acc: 0.7354 | Val Loss: 0.6804 | Val Acc: 0.7500\n",
      "Epoch 317/500 | Train Loss: 0.6185 | Train Acc: 0.7502 | Val Loss: 0.6667 | Val Acc: 0.7577\n",
      "Epoch 318/500 | Train Loss: 0.6204 | Train Acc: 0.7415 | Val Loss: 0.6769 | Val Acc: 0.7519\n",
      "Epoch 319/500 | Train Loss: 0.6639 | Train Acc: 0.7284 | Val Loss: 0.7570 | Val Acc: 0.7077\n",
      "Epoch 320/500 | Train Loss: 0.6652 | Train Acc: 0.7214 | Val Loss: 0.6723 | Val Acc: 0.7231\n",
      "Epoch 321/500 | Train Loss: 0.6363 | Train Acc: 0.7371 | Val Loss: 0.6777 | Val Acc: 0.7308\n",
      "Epoch 322/500 | Train Loss: 0.6484 | Train Acc: 0.7319 | Val Loss: 0.6625 | Val Acc: 0.7481\n",
      "Epoch 323/500 | Train Loss: 0.6214 | Train Acc: 0.7485 | Val Loss: 0.6612 | Val Acc: 0.7577\n",
      "Epoch 324/500 | Train Loss: 0.6097 | Train Acc: 0.7537 | Val Loss: 0.6629 | Val Acc: 0.7538\n",
      "Epoch 325/500 | Train Loss: 0.6081 | Train Acc: 0.7520 | Val Loss: 0.6632 | Val Acc: 0.7538\n",
      "Epoch 326/500 | Train Loss: 0.6078 | Train Acc: 0.7476 | Val Loss: 0.6670 | Val Acc: 0.7615\n",
      "Epoch 327/500 | Train Loss: 0.6156 | Train Acc: 0.7485 | Val Loss: 0.6786 | Val Acc: 0.7519\n",
      "Epoch 328/500 | Train Loss: 0.6233 | Train Acc: 0.7424 | Val Loss: 0.6707 | Val Acc: 0.7538\n",
      "Epoch 329/500 | Train Loss: 0.6258 | Train Acc: 0.7476 | Val Loss: 0.6781 | Val Acc: 0.7462\n",
      "Epoch 330/500 | Train Loss: 0.6248 | Train Acc: 0.7432 | Val Loss: 0.6706 | Val Acc: 0.7500\n",
      "Epoch 331/500 | Train Loss: 0.6109 | Train Acc: 0.7432 | Val Loss: 0.6709 | Val Acc: 0.7538\n",
      "Epoch 332/500 | Train Loss: 0.6238 | Train Acc: 0.7432 | Val Loss: 0.7253 | Val Acc: 0.7327\n",
      "Epoch 333/500 | Train Loss: 0.6536 | Train Acc: 0.7310 | Val Loss: 0.6745 | Val Acc: 0.7500\n",
      "Epoch 334/500 | Train Loss: 0.6300 | Train Acc: 0.7476 | Val Loss: 0.6789 | Val Acc: 0.7538\n",
      "Epoch 335/500 | Train Loss: 0.6135 | Train Acc: 0.7432 | Val Loss: 0.6637 | Val Acc: 0.7519\n",
      "Epoch 336/500 | Train Loss: 0.6103 | Train Acc: 0.7450 | Val Loss: 0.6674 | Val Acc: 0.7462\n",
      "Epoch 337/500 | Train Loss: 0.6126 | Train Acc: 0.7450 | Val Loss: 0.6706 | Val Acc: 0.7500\n",
      "Epoch 338/500 | Train Loss: 0.6142 | Train Acc: 0.7467 | Val Loss: 0.6685 | Val Acc: 0.7404\n",
      "Epoch 339/500 | Train Loss: 0.6270 | Train Acc: 0.7397 | Val Loss: 0.7016 | Val Acc: 0.7404\n",
      "Epoch 340/500 | Train Loss: 0.6291 | Train Acc: 0.7441 | Val Loss: 0.6862 | Val Acc: 0.7365\n",
      "Epoch 341/500 | Train Loss: 0.6272 | Train Acc: 0.7319 | Val Loss: 0.6828 | Val Acc: 0.7500\n",
      "Epoch 342/500 | Train Loss: 0.6208 | Train Acc: 0.7450 | Val Loss: 0.6828 | Val Acc: 0.7365\n",
      "Epoch 343/500 | Train Loss: 0.6224 | Train Acc: 0.7502 | Val Loss: 0.6942 | Val Acc: 0.7269\n",
      "Epoch 344/500 | Train Loss: 0.6217 | Train Acc: 0.7467 | Val Loss: 0.6798 | Val Acc: 0.7404\n",
      "Epoch 345/500 | Train Loss: 0.6220 | Train Acc: 0.7371 | Val Loss: 0.6846 | Val Acc: 0.7327\n",
      "Epoch 346/500 | Train Loss: 0.6509 | Train Acc: 0.7284 | Val Loss: 0.6729 | Val Acc: 0.7442\n",
      "Epoch 347/500 | Train Loss: 0.6295 | Train Acc: 0.7450 | Val Loss: 0.6856 | Val Acc: 0.7481\n",
      "Epoch 348/500 | Train Loss: 0.6513 | Train Acc: 0.7389 | Val Loss: 0.6549 | Val Acc: 0.7500\n",
      "Epoch 349/500 | Train Loss: 0.6619 | Train Acc: 0.7197 | Val Loss: 0.6712 | Val Acc: 0.7288\n",
      "Epoch 350/500 | Train Loss: 0.6399 | Train Acc: 0.7362 | Val Loss: 0.6556 | Val Acc: 0.7500\n",
      "Epoch 351/500 | Train Loss: 0.6207 | Train Acc: 0.7493 | Val Loss: 0.6457 | Val Acc: 0.7519\n",
      "Epoch 352/500 | Train Loss: 0.6243 | Train Acc: 0.7485 | Val Loss: 0.6510 | Val Acc: 0.7442\n",
      "Epoch 353/500 | Train Loss: 0.6332 | Train Acc: 0.7389 | Val Loss: 0.6562 | Val Acc: 0.7423\n",
      "Epoch 354/500 | Train Loss: 0.6234 | Train Acc: 0.7424 | Val Loss: 0.6547 | Val Acc: 0.7404\n",
      "Epoch 355/500 | Train Loss: 0.6133 | Train Acc: 0.7502 | Val Loss: 0.6385 | Val Acc: 0.7538\n",
      "Epoch 356/500 | Train Loss: 0.6139 | Train Acc: 0.7502 | Val Loss: 0.6468 | Val Acc: 0.7442\n",
      "Epoch 357/500 | Train Loss: 0.6205 | Train Acc: 0.7450 | Val Loss: 0.6573 | Val Acc: 0.7365\n",
      "Epoch 358/500 | Train Loss: 0.6290 | Train Acc: 0.7397 | Val Loss: 0.6644 | Val Acc: 0.7442\n",
      "Epoch 359/500 | Train Loss: 0.6379 | Train Acc: 0.7459 | Val Loss: 0.6647 | Val Acc: 0.7462\n",
      "Epoch 360/500 | Train Loss: 0.6216 | Train Acc: 0.7467 | Val Loss: 0.6590 | Val Acc: 0.7442\n",
      "Epoch 361/500 | Train Loss: 0.6130 | Train Acc: 0.7511 | Val Loss: 0.6721 | Val Acc: 0.7519\n",
      "Epoch 362/500 | Train Loss: 0.6078 | Train Acc: 0.7555 | Val Loss: 0.6589 | Val Acc: 0.7462\n",
      "Epoch 363/500 | Train Loss: 0.6084 | Train Acc: 0.7590 | Val Loss: 0.6625 | Val Acc: 0.7519\n",
      "Epoch 364/500 | Train Loss: 0.6024 | Train Acc: 0.7546 | Val Loss: 0.6556 | Val Acc: 0.7538\n",
      "Epoch 365/500 | Train Loss: 0.6076 | Train Acc: 0.7476 | Val Loss: 0.6698 | Val Acc: 0.7442\n",
      "Epoch 366/500 | Train Loss: 0.6310 | Train Acc: 0.7362 | Val Loss: 0.6635 | Val Acc: 0.7500\n",
      "Epoch 367/500 | Train Loss: 0.6282 | Train Acc: 0.7354 | Val Loss: 0.6645 | Val Acc: 0.7596\n",
      "Epoch 368/500 | Train Loss: 0.6413 | Train Acc: 0.7389 | Val Loss: 0.7045 | Val Acc: 0.7519\n",
      "Epoch 369/500 | Train Loss: 0.6400 | Train Acc: 0.7362 | Val Loss: 0.6740 | Val Acc: 0.7500\n",
      "Epoch 370/500 | Train Loss: 0.6131 | Train Acc: 0.7511 | Val Loss: 0.6647 | Val Acc: 0.7519\n",
      "Epoch 371/500 | Train Loss: 0.6078 | Train Acc: 0.7415 | Val Loss: 0.6823 | Val Acc: 0.7308\n",
      "Epoch 372/500 | Train Loss: 0.6081 | Train Acc: 0.7520 | Val Loss: 0.6620 | Val Acc: 0.7558\n",
      "Epoch 373/500 | Train Loss: 0.6080 | Train Acc: 0.7459 | Val Loss: 0.6554 | Val Acc: 0.7558\n",
      "Epoch 374/500 | Train Loss: 0.6000 | Train Acc: 0.7546 | Val Loss: 0.6708 | Val Acc: 0.7596\n",
      "Epoch 375/500 | Train Loss: 0.6016 | Train Acc: 0.7563 | Val Loss: 0.6647 | Val Acc: 0.7596\n",
      "Epoch 376/500 | Train Loss: 0.6033 | Train Acc: 0.7502 | Val Loss: 0.6741 | Val Acc: 0.7577\n",
      "Epoch 377/500 | Train Loss: 0.6130 | Train Acc: 0.7432 | Val Loss: 0.6733 | Val Acc: 0.7596\n",
      "Epoch 378/500 | Train Loss: 0.6258 | Train Acc: 0.7336 | Val Loss: 0.6682 | Val Acc: 0.7577\n",
      "Epoch 379/500 | Train Loss: 0.6137 | Train Acc: 0.7450 | Val Loss: 0.6660 | Val Acc: 0.7558\n",
      "Epoch 380/500 | Train Loss: 0.6022 | Train Acc: 0.7537 | Val Loss: 0.6759 | Val Acc: 0.7538\n",
      "Epoch 381/500 | Train Loss: 0.6103 | Train Acc: 0.7511 | Val Loss: 0.6656 | Val Acc: 0.7615\n",
      "Epoch 382/500 | Train Loss: 0.6304 | Train Acc: 0.7459 | Val Loss: 0.6818 | Val Acc: 0.7577\n",
      "Epoch 383/500 | Train Loss: 0.6445 | Train Acc: 0.7336 | Val Loss: 0.6637 | Val Acc: 0.7558\n",
      "Epoch 384/500 | Train Loss: 0.6494 | Train Acc: 0.7354 | Val Loss: 0.7435 | Val Acc: 0.7115\n",
      "Epoch 385/500 | Train Loss: 0.6616 | Train Acc: 0.7284 | Val Loss: 0.6634 | Val Acc: 0.7385\n",
      "Epoch 386/500 | Train Loss: 0.6328 | Train Acc: 0.7389 | Val Loss: 0.6574 | Val Acc: 0.7558\n",
      "Epoch 387/500 | Train Loss: 0.6283 | Train Acc: 0.7389 | Val Loss: 0.6499 | Val Acc: 0.7538\n",
      "Epoch 388/500 | Train Loss: 0.6126 | Train Acc: 0.7502 | Val Loss: 0.6634 | Val Acc: 0.7500\n",
      "Epoch 389/500 | Train Loss: 0.6160 | Train Acc: 0.7511 | Val Loss: 0.6626 | Val Acc: 0.7481\n",
      "Epoch 390/500 | Train Loss: 0.6090 | Train Acc: 0.7537 | Val Loss: 0.6708 | Val Acc: 0.7519\n",
      "Epoch 391/500 | Train Loss: 0.6073 | Train Acc: 0.7563 | Val Loss: 0.6708 | Val Acc: 0.7558\n",
      "Epoch 392/500 | Train Loss: 0.6029 | Train Acc: 0.7476 | Val Loss: 0.6777 | Val Acc: 0.7538\n",
      "Epoch 393/500 | Train Loss: 0.6252 | Train Acc: 0.7502 | Val Loss: 0.7001 | Val Acc: 0.7308\n",
      "Epoch 394/500 | Train Loss: 0.6534 | Train Acc: 0.7336 | Val Loss: 0.6898 | Val Acc: 0.7327\n",
      "Epoch 395/500 | Train Loss: 0.6293 | Train Acc: 0.7467 | Val Loss: 0.7000 | Val Acc: 0.7288\n",
      "Epoch 396/500 | Train Loss: 0.6355 | Train Acc: 0.7362 | Val Loss: 0.7092 | Val Acc: 0.7308\n",
      "Epoch 397/500 | Train Loss: 0.6232 | Train Acc: 0.7476 | Val Loss: 0.6699 | Val Acc: 0.7538\n",
      "Epoch 398/500 | Train Loss: 0.6077 | Train Acc: 0.7528 | Val Loss: 0.6924 | Val Acc: 0.7462\n",
      "Epoch 399/500 | Train Loss: 0.6156 | Train Acc: 0.7432 | Val Loss: 0.6556 | Val Acc: 0.7596\n",
      "Epoch 400/500 | Train Loss: 0.6056 | Train Acc: 0.7493 | Val Loss: 0.6693 | Val Acc: 0.7500\n",
      "Epoch 401/500 | Train Loss: 0.6097 | Train Acc: 0.7493 | Val Loss: 0.6869 | Val Acc: 0.7442\n",
      "Epoch 402/500 | Train Loss: 0.6151 | Train Acc: 0.7493 | Val Loss: 0.6640 | Val Acc: 0.7500\n",
      "Epoch 403/500 | Train Loss: 0.6112 | Train Acc: 0.7511 | Val Loss: 0.6862 | Val Acc: 0.7538\n",
      "Epoch 404/500 | Train Loss: 0.6057 | Train Acc: 0.7493 | Val Loss: 0.7207 | Val Acc: 0.7269\n",
      "Epoch 405/500 | Train Loss: 0.6298 | Train Acc: 0.7336 | Val Loss: 0.7212 | Val Acc: 0.7327\n",
      "Epoch 406/500 | Train Loss: 0.6551 | Train Acc: 0.7197 | Val Loss: 0.6742 | Val Acc: 0.7462\n",
      "Epoch 407/500 | Train Loss: 0.6094 | Train Acc: 0.7511 | Val Loss: 0.6661 | Val Acc: 0.7538\n",
      "Epoch 408/500 | Train Loss: 0.5979 | Train Acc: 0.7555 | Val Loss: 0.6564 | Val Acc: 0.7538\n",
      "Epoch 409/500 | Train Loss: 0.5999 | Train Acc: 0.7502 | Val Loss: 0.6821 | Val Acc: 0.7500\n",
      "Epoch 410/500 | Train Loss: 0.6009 | Train Acc: 0.7520 | Val Loss: 0.6654 | Val Acc: 0.7635\n",
      "Epoch 411/500 | Train Loss: 0.6020 | Train Acc: 0.7520 | Val Loss: 0.6646 | Val Acc: 0.7442\n",
      "Epoch 412/500 | Train Loss: 0.6063 | Train Acc: 0.7520 | Val Loss: 0.6706 | Val Acc: 0.7596\n",
      "Epoch 413/500 | Train Loss: 0.6001 | Train Acc: 0.7511 | Val Loss: 0.6737 | Val Acc: 0.7596\n",
      "Epoch 414/500 | Train Loss: 0.6433 | Train Acc: 0.7432 | Val Loss: 0.6986 | Val Acc: 0.7404\n",
      "Epoch 415/500 | Train Loss: 0.6629 | Train Acc: 0.7319 | Val Loss: 0.6912 | Val Acc: 0.7385\n",
      "Epoch 416/500 | Train Loss: 0.6315 | Train Acc: 0.7406 | Val Loss: 0.6694 | Val Acc: 0.7538\n",
      "Epoch 417/500 | Train Loss: 0.6244 | Train Acc: 0.7441 | Val Loss: 0.6671 | Val Acc: 0.7519\n",
      "Epoch 418/500 | Train Loss: 0.6107 | Train Acc: 0.7432 | Val Loss: 0.6741 | Val Acc: 0.7462\n",
      "Epoch 419/500 | Train Loss: 0.6431 | Train Acc: 0.7371 | Val Loss: 0.7136 | Val Acc: 0.7212\n",
      "Epoch 420/500 | Train Loss: 0.6312 | Train Acc: 0.7371 | Val Loss: 0.6700 | Val Acc: 0.7481\n",
      "Epoch 421/500 | Train Loss: 0.6178 | Train Acc: 0.7397 | Val Loss: 0.6993 | Val Acc: 0.7404\n",
      "Epoch 422/500 | Train Loss: 0.6313 | Train Acc: 0.7380 | Val Loss: 0.6916 | Val Acc: 0.7558\n",
      "Epoch 423/500 | Train Loss: 0.6327 | Train Acc: 0.7397 | Val Loss: 0.6597 | Val Acc: 0.7442\n",
      "Epoch 424/500 | Train Loss: 0.6446 | Train Acc: 0.7371 | Val Loss: 0.6617 | Val Acc: 0.7462\n",
      "Epoch 425/500 | Train Loss: 0.6179 | Train Acc: 0.7459 | Val Loss: 0.6511 | Val Acc: 0.7519\n",
      "Epoch 426/500 | Train Loss: 0.6193 | Train Acc: 0.7380 | Val Loss: 0.6600 | Val Acc: 0.7538\n",
      "Epoch 427/500 | Train Loss: 0.6238 | Train Acc: 0.7459 | Val Loss: 0.6705 | Val Acc: 0.7519\n",
      "Epoch 428/500 | Train Loss: 0.6124 | Train Acc: 0.7459 | Val Loss: 0.6589 | Val Acc: 0.7500\n",
      "Epoch 429/500 | Train Loss: 0.6036 | Train Acc: 0.7493 | Val Loss: 0.6591 | Val Acc: 0.7500\n",
      "Epoch 430/500 | Train Loss: 0.6020 | Train Acc: 0.7476 | Val Loss: 0.6701 | Val Acc: 0.7481\n",
      "Epoch 431/500 | Train Loss: 0.6141 | Train Acc: 0.7493 | Val Loss: 0.6648 | Val Acc: 0.7500\n",
      "Epoch 432/500 | Train Loss: 0.6324 | Train Acc: 0.7319 | Val Loss: 0.6598 | Val Acc: 0.7500\n",
      "Epoch 433/500 | Train Loss: 0.6392 | Train Acc: 0.7328 | Val Loss: 0.7532 | Val Acc: 0.6962\n",
      "Epoch 434/500 | Train Loss: 0.6615 | Train Acc: 0.7284 | Val Loss: 0.6565 | Val Acc: 0.7481\n",
      "Epoch 435/500 | Train Loss: 0.6370 | Train Acc: 0.7319 | Val Loss: 0.6445 | Val Acc: 0.7538\n",
      "Epoch 436/500 | Train Loss: 0.6192 | Train Acc: 0.7432 | Val Loss: 0.6510 | Val Acc: 0.7519\n",
      "Epoch 437/500 | Train Loss: 0.6080 | Train Acc: 0.7511 | Val Loss: 0.6482 | Val Acc: 0.7519\n",
      "Epoch 438/500 | Train Loss: 0.6075 | Train Acc: 0.7459 | Val Loss: 0.6531 | Val Acc: 0.7481\n",
      "Epoch 439/500 | Train Loss: 0.6126 | Train Acc: 0.7467 | Val Loss: 0.6548 | Val Acc: 0.7519\n",
      "Epoch 440/500 | Train Loss: 0.6082 | Train Acc: 0.7493 | Val Loss: 0.6791 | Val Acc: 0.7500\n",
      "Epoch 441/500 | Train Loss: 0.6278 | Train Acc: 0.7415 | Val Loss: 0.6946 | Val Acc: 0.7346\n",
      "Epoch 442/500 | Train Loss: 0.6298 | Train Acc: 0.7389 | Val Loss: 0.6606 | Val Acc: 0.7500\n",
      "Epoch 443/500 | Train Loss: 0.6084 | Train Acc: 0.7520 | Val Loss: 0.6587 | Val Acc: 0.7519\n",
      "Epoch 444/500 | Train Loss: 0.6111 | Train Acc: 0.7441 | Val Loss: 0.6668 | Val Acc: 0.7519\n",
      "Epoch 445/500 | Train Loss: 0.6039 | Train Acc: 0.7502 | Val Loss: 0.6624 | Val Acc: 0.7558\n",
      "Epoch 446/500 | Train Loss: 0.6004 | Train Acc: 0.7502 | Val Loss: 0.6573 | Val Acc: 0.7462\n",
      "Epoch 447/500 | Train Loss: 0.6009 | Train Acc: 0.7467 | Val Loss: 0.6697 | Val Acc: 0.7538\n",
      "Epoch 448/500 | Train Loss: 0.6069 | Train Acc: 0.7450 | Val Loss: 0.7091 | Val Acc: 0.7519\n",
      "Epoch 449/500 | Train Loss: 0.6293 | Train Acc: 0.7424 | Val Loss: 0.6729 | Val Acc: 0.7462\n",
      "Epoch 450/500 | Train Loss: 0.6197 | Train Acc: 0.7336 | Val Loss: 0.6845 | Val Acc: 0.7442\n",
      "Epoch 451/500 | Train Loss: 0.6142 | Train Acc: 0.7424 | Val Loss: 0.6808 | Val Acc: 0.7385\n",
      "Epoch 452/500 | Train Loss: 0.6163 | Train Acc: 0.7511 | Val Loss: 0.6674 | Val Acc: 0.7519\n",
      "Epoch 453/500 | Train Loss: 0.6115 | Train Acc: 0.7450 | Val Loss: 0.6619 | Val Acc: 0.7481\n",
      "Epoch 454/500 | Train Loss: 0.6006 | Train Acc: 0.7476 | Val Loss: 0.6745 | Val Acc: 0.7538\n",
      "Epoch 455/500 | Train Loss: 0.6012 | Train Acc: 0.7502 | Val Loss: 0.6722 | Val Acc: 0.7538\n",
      "Epoch 456/500 | Train Loss: 0.6258 | Train Acc: 0.7432 | Val Loss: 0.6944 | Val Acc: 0.7250\n",
      "Epoch 457/500 | Train Loss: 0.6255 | Train Acc: 0.7493 | Val Loss: 0.6810 | Val Acc: 0.7481\n",
      "Epoch 458/500 | Train Loss: 0.6060 | Train Acc: 0.7502 | Val Loss: 0.6634 | Val Acc: 0.7577\n",
      "Epoch 459/500 | Train Loss: 0.6042 | Train Acc: 0.7467 | Val Loss: 0.6867 | Val Acc: 0.7500\n",
      "Epoch 460/500 | Train Loss: 0.6155 | Train Acc: 0.7432 | Val Loss: 0.6909 | Val Acc: 0.7538\n",
      "Epoch 461/500 | Train Loss: 0.6176 | Train Acc: 0.7432 | Val Loss: 0.6953 | Val Acc: 0.7404\n",
      "Epoch 462/500 | Train Loss: 0.6259 | Train Acc: 0.7450 | Val Loss: 0.6952 | Val Acc: 0.7500\n",
      "Epoch 463/500 | Train Loss: 0.6087 | Train Acc: 0.7485 | Val Loss: 0.6739 | Val Acc: 0.7462\n",
      "Epoch 464/500 | Train Loss: 0.6001 | Train Acc: 0.7528 | Val Loss: 0.6977 | Val Acc: 0.7404\n",
      "Epoch 465/500 | Train Loss: 0.6093 | Train Acc: 0.7502 | Val Loss: 0.6784 | Val Acc: 0.7519\n",
      "Epoch 466/500 | Train Loss: 0.6125 | Train Acc: 0.7520 | Val Loss: 0.7053 | Val Acc: 0.7615\n",
      "Epoch 467/500 | Train Loss: 0.6028 | Train Acc: 0.7572 | Val Loss: 0.6702 | Val Acc: 0.7500\n",
      "Epoch 468/500 | Train Loss: 0.6043 | Train Acc: 0.7476 | Val Loss: 0.6851 | Val Acc: 0.7365\n",
      "Epoch 469/500 | Train Loss: 0.6212 | Train Acc: 0.7476 | Val Loss: 0.6891 | Val Acc: 0.7423\n",
      "Epoch 470/500 | Train Loss: 0.6032 | Train Acc: 0.7493 | Val Loss: 0.6832 | Val Acc: 0.7577\n",
      "Epoch 471/500 | Train Loss: 0.5970 | Train Acc: 0.7572 | Val Loss: 0.6817 | Val Acc: 0.7558\n",
      "Epoch 472/500 | Train Loss: 0.6292 | Train Acc: 0.7406 | Val Loss: 0.6954 | Val Acc: 0.7327\n",
      "Epoch 473/500 | Train Loss: 0.6326 | Train Acc: 0.7362 | Val Loss: 0.6799 | Val Acc: 0.7462\n",
      "Epoch 474/500 | Train Loss: 0.6194 | Train Acc: 0.7424 | Val Loss: 0.6683 | Val Acc: 0.7500\n",
      "Epoch 475/500 | Train Loss: 0.5931 | Train Acc: 0.7546 | Val Loss: 0.6516 | Val Acc: 0.7519\n",
      "Epoch 476/500 | Train Loss: 0.6006 | Train Acc: 0.7520 | Val Loss: 0.6722 | Val Acc: 0.7462\n",
      "Epoch 477/500 | Train Loss: 0.6088 | Train Acc: 0.7432 | Val Loss: 0.6599 | Val Acc: 0.7558\n",
      "Epoch 478/500 | Train Loss: 0.6038 | Train Acc: 0.7511 | Val Loss: 0.6955 | Val Acc: 0.7442\n",
      "Epoch 479/500 | Train Loss: 0.6157 | Train Acc: 0.7467 | Val Loss: 0.6669 | Val Acc: 0.7615\n",
      "Epoch 480/500 | Train Loss: 0.6171 | Train Acc: 0.7406 | Val Loss: 0.6706 | Val Acc: 0.7462\n",
      "Epoch 481/500 | Train Loss: 0.6327 | Train Acc: 0.7310 | Val Loss: 0.6834 | Val Acc: 0.7423\n",
      "Epoch 482/500 | Train Loss: 0.6078 | Train Acc: 0.7537 | Val Loss: 0.6704 | Val Acc: 0.7481\n",
      "Epoch 483/500 | Train Loss: 0.6104 | Train Acc: 0.7432 | Val Loss: 0.6805 | Val Acc: 0.7519\n",
      "Epoch 484/500 | Train Loss: 0.5995 | Train Acc: 0.7493 | Val Loss: 0.6765 | Val Acc: 0.7500\n",
      "Epoch 485/500 | Train Loss: 0.6265 | Train Acc: 0.7424 | Val Loss: 0.6897 | Val Acc: 0.7519\n",
      "Epoch 486/500 | Train Loss: 0.6202 | Train Acc: 0.7406 | Val Loss: 0.6686 | Val Acc: 0.7423\n",
      "Epoch 487/500 | Train Loss: 0.6213 | Train Acc: 0.7424 | Val Loss: 0.6708 | Val Acc: 0.7519\n",
      "Epoch 488/500 | Train Loss: 0.6004 | Train Acc: 0.7511 | Val Loss: 0.6707 | Val Acc: 0.7481\n",
      "Epoch 489/500 | Train Loss: 0.5967 | Train Acc: 0.7563 | Val Loss: 0.6706 | Val Acc: 0.7538\n",
      "Epoch 490/500 | Train Loss: 0.6031 | Train Acc: 0.7563 | Val Loss: 0.6883 | Val Acc: 0.7577\n",
      "Epoch 491/500 | Train Loss: 0.6036 | Train Acc: 0.7467 | Val Loss: 0.6768 | Val Acc: 0.7519\n",
      "Epoch 492/500 | Train Loss: 0.5949 | Train Acc: 0.7563 | Val Loss: 0.6949 | Val Acc: 0.7308\n",
      "Epoch 493/500 | Train Loss: 0.5986 | Train Acc: 0.7476 | Val Loss: 0.6833 | Val Acc: 0.7500\n",
      "Epoch 494/500 | Train Loss: 0.5963 | Train Acc: 0.7502 | Val Loss: 0.6688 | Val Acc: 0.7596\n",
      "Epoch 495/500 | Train Loss: 0.5936 | Train Acc: 0.7555 | Val Loss: 0.6768 | Val Acc: 0.7538\n",
      "Epoch 496/500 | Train Loss: 0.5932 | Train Acc: 0.7581 | Val Loss: 0.6765 | Val Acc: 0.7519\n",
      "Epoch 497/500 | Train Loss: 0.6013 | Train Acc: 0.7476 | Val Loss: 0.6837 | Val Acc: 0.7462\n",
      "Epoch 498/500 | Train Loss: 0.5965 | Train Acc: 0.7493 | Val Loss: 0.6766 | Val Acc: 0.7462\n",
      "Epoch 499/500 | Train Loss: 0.6084 | Train Acc: 0.7432 | Val Loss: 0.6842 | Val Acc: 0.7577\n",
      "Epoch 500/500 | Train Loss: 0.6070 | Train Acc: 0.7511 | Val Loss: 0.6785 | Val Acc: 0.7462\n"
     ]
    }
   ],
   "source": [
    "large_model = nn.Sequential(\n",
    "    nn.Linear(2, 64),\n",
    "    nn.ReLU(),\n",
    "    nn.Linear(64, 64),\n",
    "    nn.ReLU(),\n",
    "    nn.Linear(64, 128),\n",
    "    nn.ReLU(),\n",
    "    nn.Linear(128, 128),\n",
    "    nn.ReLU(),\n",
    "    nn.Linear(128, 64),\n",
    "    nn.ReLU(),\n",
    "    nn.Linear(64, 32),\n",
    "    nn.ReLU(),\n",
    "    nn.Linear(32, 3),\n",
    ")\n",
    "train_model(\n",
    "    model=large_model,\n",
    "    optimizer=torch.optim.Adam(large_model.parameters(), lr=0.003),\n",
    "    loss_fn=nn.CrossEntropyLoss(),\n",
    "    num_epochs=500,\n",
    "    train_dataloader=loader_train,\n",
    "    val_dataloader=loader_val,\n",
    "    device=\"cuda\" if torch.cuda.is_available() else \"cpu\",\n",
    ")"
   ]
  },
  {
   "cell_type": "markdown",
   "metadata": {
    "deletable": false,
    "editable": false,
    "nbgrader": {
     "cell_type": "markdown",
     "checksum": "f52e36900e80e083dbc6ba73f0d000d5",
     "grade": false,
     "grade_id": "cell-ea77af681fd56aaf",
     "locked": true,
     "schema_version": 3,
     "solution": false,
     "task": false
    }
   },
   "source": [
    "Again, draw the decision regions of the network. What do you expect to see now? How will the regions differ from the previous ones?"
   ]
  },
  {
   "cell_type": "code",
   "execution_count": 86,
   "metadata": {
    "deletable": false,
    "nbgrader": {
     "cell_type": "code",
     "checksum": "88522dc56161b5b0ec1e47709327f81e",
     "grade": false,
     "grade_id": "cell-2386af80723e8770",
     "locked": false,
     "schema_version": 3,
     "solution": true,
     "task": false
    }
   },
   "outputs": [
    {
     "data": {
      "image/png": "[encoded data removed]",
      "text/plain": [
       "<Figure size 800x600 with 1 Axes>"
      ]
     },
     "metadata": {},
     "output_type": "display_data"
    }
   ],
   "source": [
    "plot_decision_region(large_model, x_train, y_train, x_val, y_val)\n"
   ]
  },
  {
   "cell_type": "markdown",
   "metadata": {
    "deletable": false,
    "editable": false,
    "nbgrader": {
     "cell_type": "markdown",
     "checksum": "9ef3d89592ae3e4b31d52cf243fb0d22",
     "grade": false,
     "grade_id": "cell-7ad8cc34d293f12f",
     "locked": true,
     "schema_version": 3,
     "solution": false,
     "task": false
    }
   },
   "source": [
    "How do the decision regions differ between the tiny, large and the network you trained? Can you explain why this happens? Relate your answer to the concepts you learned in the first lectures."
   ]
  },
  {
   "cell_type": "markdown",
   "metadata": {
    "deletable": false,
    "nbgrader": {
     "cell_type": "markdown",
     "checksum": "e61e4bd20e11dece795ed80558fa0c6f",
     "grade": true,
     "grade_id": "cell-b2b3d4743f149248",
     "locked": false,
     "points": 0,
     "schema_version": 3,
     "solution": true,
     "task": false
    }
   },
   "source": [
    "**Your answer:** the decision region gets more complex with more outlines the deeper the network becomes. Indicating better accuracy on targeting the correct areas for the data classes. The complexity can be seen on the small \"bursts\" of areas in the picture above for instance."
   ]
  },
  {
   "cell_type": "markdown",
   "metadata": {
    "deletable": false,
    "editable": false,
    "nbgrader": {
     "cell_type": "markdown",
     "checksum": "08f25d921ab7040f778a202f5a69b1a7",
     "grade": false,
     "grade_id": "cell-effc356fff18a4b5",
     "locked": true,
     "schema_version": 3,
     "solution": false
    }
   },
   "source": [
    "## 5. Evaluation"
   ]
  },
  {
   "cell_type": "markdown",
   "metadata": {
    "deletable": false,
    "editable": false,
    "nbgrader": {
     "cell_type": "markdown",
     "checksum": "1b8c71783af4d4c94ae59eb356856591",
     "grade": false,
     "grade_id": "cell-b2bbee2adf94b7d3",
     "locked": true,
     "schema_version": 3,
     "solution": false
    }
   },
   "source": [
    "Back to your original model. Once you achieved at least 60% accuracy in the validation set with your main model, we are done with its training. Now we'll evaluate the performance of your classifier on the test set."
   ]
  },
  {
   "cell_type": "markdown",
   "metadata": {
    "deletable": false,
    "editable": false,
    "nbgrader": {
     "cell_type": "markdown",
     "checksum": "79420c8cb4af750ed05be42a2c4d528b",
     "grade": false,
     "grade_id": "cell-3f4ab762e2890554",
     "locked": true,
     "schema_version": 3,
     "solution": false
    }
   },
   "source": [
    "Compute the accuracy on the test set."
   ]
  },
  {
   "cell_type": "code",
   "execution_count": 97,
   "metadata": {
    "deletable": false,
    "nbgrader": {
     "cell_type": "code",
     "checksum": "a28be10f6e90e487934989e8ef58b193",
     "grade": false,
     "grade_id": "cell-64d1008aafb3e518",
     "locked": false,
     "schema_version": 3,
     "solution": true,
     "task": false
    }
   },
   "outputs": [
    {
     "name": "stdout",
     "output_type": "stream",
     "text": [
      "Test accuracy: 0.722.\n"
     ]
    }
   ],
   "source": [
    "main_model_test_accuracy = 0\n",
    "model.eval()\n",
    "with torch.no_grad():\n",
    "    test_output = model(dataset_test.x)\n",
    "    main_model_test_accuracy = accuracy(test_output, dataset_test.y)\n",
    "print(f\"Test accuracy: {main_model_test_accuracy:.3f}.\")"
   ]
  },
  {
   "cell_type": "code",
   "execution_count": 98,
   "metadata": {
    "deletable": false,
    "editable": false,
    "nbgrader": {
     "cell_type": "code",
     "checksum": "3523a57a836d53349b06e311c4085fd5",
     "grade": true,
     "grade_id": "cell-8290e0d3e722c85f",
     "locked": true,
     "points": 1,
     "schema_version": 3,
     "solution": false,
     "task": false
    }
   },
   "outputs": [],
   "source": [
    "assert main_model_test_accuracy > 0.6"
   ]
  },
  {
   "cell_type": "markdown",
   "metadata": {
    "deletable": false,
    "editable": false,
    "nbgrader": {
     "cell_type": "markdown",
     "checksum": "4437b0233832d6897896b322856771a3",
     "grade": false,
     "grade_id": "cell-75bfc44531d04fb0",
     "locked": true,
     "schema_version": 3,
     "solution": false,
     "task": false
    }
   },
   "source": [
    "Most likely, you'll get a different (slightly worse) accuracy than the one you got on the validation set. Why is this? Also, why do we need both a test and validation set?"
   ]
  },
  {
   "cell_type": "markdown",
   "metadata": {
    "deletable": false,
    "nbgrader": {
     "cell_type": "markdown",
     "checksum": "c0737ad696946a7d4383701faa264867",
     "grade": true,
     "grade_id": "cell-249cc96508c4de0b",
     "locked": false,
     "points": 0,
     "schema_version": 3,
     "solution": true,
     "task": false
    }
   },
   "source": [
    "**Your answer:** We need test set to have an unbiased set to measure how well it works on general data, while the validation set is used to tune hyperparameters and monitor overfitting during training."
   ]
  },
  {
   "cell_type": "markdown",
   "metadata": {
    "deletable": false,
    "editable": false,
    "nbgrader": {
     "cell_type": "markdown",
     "checksum": "c68e1c93373146e59048b2f847e15e6f",
     "grade": false,
     "grade_id": "cell-8232dd159f8d4887",
     "locked": true,
     "schema_version": 3,
     "solution": false
    }
   },
   "source": [
    "Next, compute the confusion matrix of your predictions on the test set and save it as `conf_mat`."
   ]
  },
  {
   "cell_type": "code",
   "execution_count": null,
   "metadata": {
    "deletable": false,
    "nbgrader": {
     "cell_type": "code",
     "checksum": "97c533c440746fc0b1f79274a2ceee25",
     "grade": false,
     "grade_id": "cell-9475a5163acc3249",
     "locked": false,
     "schema_version": 3,
     "solution": true,
     "task": false
    }
   },
   "outputs": [],
   "source": [
    "# YOUR CODE HERE\n",
    "\n",
    "print(conf_mat)"
   ]
  },
  {
   "cell_type": "code",
   "execution_count": null,
   "metadata": {
    "deletable": false,
    "editable": false,
    "nbgrader": {
     "cell_type": "code",
     "checksum": "5546a1442dec7b94a0696ee69a270bc6",
     "grade": true,
     "grade_id": "cell-d016323f6263c643",
     "locked": true,
     "points": 1,
     "schema_version": 3,
     "solution": false,
     "task": false
    }
   },
   "outputs": [],
   "source": [
    "assert isinstance(conf_mat, np.ndarray) or isinstance(\n",
    "    conf_mat, torch.Tensor\n",
    "), \"conf_mat should be a numpy array or torch.Tensor\"\n",
    "assert conf_mat.shape == (3, 3), \"conf_mat should have shape (3, 3), i.e. 3 classes\"\n",
    "assert np.sum(conf_mat) == len(\n",
    "    dataset_test\n",
    "), \"conf_mat should sum up to the number of test samples\""
   ]
  },
  {
   "cell_type": "markdown",
   "metadata": {
    "deletable": false,
    "editable": false,
    "nbgrader": {
     "cell_type": "markdown",
     "checksum": "742f3a87c97efede0dc19953c1db108b",
     "grade": false,
     "grade_id": "cell-a5e9c635fcf0e14d",
     "locked": true,
     "schema_version": 3,
     "solution": false
    }
   },
   "source": [
    "What can you conclude from the computed accuracy and confusion matrix?"
   ]
  },
  {
   "cell_type": "markdown",
   "metadata": {
    "deletable": false,
    "nbgrader": {
     "cell_type": "markdown",
     "checksum": "59b0c3fb373653839818423f7129f074",
     "grade": true,
     "grade_id": "cell-b93435335accba07",
     "locked": false,
     "points": 0,
     "schema_version": 3,
     "solution": true
    }
   },
   "source": [
    "**Your answer:** (fill in here)"
   ]
  },
  {
   "cell_type": "markdown",
   "metadata": {
    "deletable": false,
    "editable": false,
    "nbgrader": {
     "cell_type": "markdown",
     "checksum": "99a1266a62880be4cf1f724ed704ddb2",
     "grade": false,
     "grade_id": "cell-b731aebed710ae07",
     "locked": true,
     "schema_version": 3,
     "solution": false
    }
   },
   "source": [
    "## 6. Exploration"
   ]
  },
  {
   "cell_type": "markdown",
   "metadata": {
    "deletable": false,
    "editable": false,
    "nbgrader": {
     "cell_type": "markdown",
     "checksum": "ca3f2bc4e6ee91e121425e12e58b589d",
     "grade": false,
     "grade_id": "cell-79904bd828487a07",
     "locked": true,
     "schema_version": 3,
     "solution": false
    }
   },
   "source": [
    "You have now trained and evaluated a neural network for this particular classification task. Can you provide a brief explanation as to how you could use it to decide where to travel, if you're interested in capturing the aforementioned Pokemons?"
   ]
  },
  {
   "cell_type": "markdown",
   "metadata": {
    "deletable": false,
    "nbgrader": {
     "cell_type": "markdown",
     "checksum": "a8aeac76ab83248b3e84126f1200e50f",
     "grade": true,
     "grade_id": "cell-79ac9ff2b09a41b5",
     "locked": false,
     "points": 0,
     "schema_version": 3,
     "solution": true
    }
   },
   "source": [
    "**Your answer:** (fill in here)"
   ]
  },
  {
   "cell_type": "markdown",
   "metadata": {
    "deletable": false,
    "editable": false,
    "nbgrader": {
     "cell_type": "markdown",
     "checksum": "90283187bfd4f2f6aaf11df18a8e88ba",
     "grade": false,
     "grade_id": "cell-8041a4537430ba53",
     "locked": true,
     "schema_version": 3,
     "solution": false
    }
   },
   "source": [
    "Is (are) there any other feature(s) from the original dataset (e.g. hour of the day, pressure, wind speed, population density, etc.) which you think would be valuable to add as an input feature to your classifier to improve its performance? "
   ]
  },
  {
   "cell_type": "markdown",
   "metadata": {
    "deletable": false,
    "nbgrader": {
     "cell_type": "markdown",
     "checksum": "92bfb21c07460ec7bf06f56c3acee803",
     "grade": true,
     "grade_id": "cell-c2def6009a95f2a6",
     "locked": false,
     "points": 0,
     "schema_version": 3,
     "solution": true
    }
   },
   "source": [
    "**Your answer:** (fill in here)"
   ]
  },
  {
   "cell_type": "markdown",
   "metadata": {
    "deletable": false,
    "editable": false,
    "nbgrader": {
     "cell_type": "markdown",
     "checksum": "4e0eb26832febb3a136740004988db6b",
     "grade": false,
     "grade_id": "cell-e9f21e8b0fe33751",
     "locked": true,
     "schema_version": 3,
     "solution": false
    }
   },
   "source": [
    "To investigate your hypothesis, plot a histogram of the selected feature(s) for each one of the pokemons we're interested in. For example, if you think pressure and population density are valuable for prediction, plot 6 histograms. 3 of them will be the pressure histograms for each class ('Diglett', 'Seel' and 'Tauros'), and the other 3 will be the population density for each class."
   ]
  },
  {
   "cell_type": "code",
   "execution_count": null,
   "metadata": {
    "deletable": false,
    "nbgrader": {
     "cell_type": "code",
     "checksum": "6701fb6bd1284791b9c065777eaaebae",
     "grade": true,
     "grade_id": "cell-b18deaa33c46ec92",
     "locked": false,
     "points": 0,
     "schema_version": 3,
     "solution": true
    }
   },
   "outputs": [],
   "source": [
    "# YOUR CODE HERE"
   ]
  },
  {
   "cell_type": "markdown",
   "metadata": {
    "deletable": false,
    "editable": false,
    "nbgrader": {
     "cell_type": "markdown",
     "checksum": "6845805e5d221d5a320d0630b3fa0257",
     "grade": false,
     "grade_id": "cell-f51c8bdfaf2e03f4",
     "locked": true,
     "schema_version": 3,
     "solution": false
    }
   },
   "source": [
    "What does/do this/these histogram(s) show you? Could it be beneficial to add this/these new feature(s) as input? Explain why/why not."
   ]
  },
  {
   "cell_type": "markdown",
   "metadata": {
    "deletable": false,
    "nbgrader": {
     "cell_type": "markdown",
     "checksum": "c4810811a9300a653185a38c62a0f73c",
     "grade": true,
     "grade_id": "cell-f9522e4fa9c010be",
     "locked": false,
     "points": 0,
     "schema_version": 3,
     "solution": true
    }
   },
   "source": [
    "**Your answer:** (fill in here)"
   ]
  },
  {
   "cell_type": "markdown",
   "metadata": {
    "deletable": false,
    "editable": false,
    "nbgrader": {
     "cell_type": "markdown",
     "checksum": "dbf51d6ca2c3eed999d1e41aa1cec7de",
     "grade": false,
     "grade_id": "cell-284bf5af1750b1b5",
     "locked": true,
     "schema_version": 3,
     "solution": false,
     "task": false
    }
   },
   "source": [
    "The purpose was this assignment was mostly to make you design a network for classification, using this Pokemon dataset as use case. However, if you want to find those three particular Pokemons, most likely using a network for classification is not the best approach. An alternative would be to perform localization by using regression instead. **Can you state some pros and cons of approach this as a regression problem instead of a classification problem?** (We do not expect very detailed answers, you will pass the assignment as long as you make a reasonable attempt at explaining the pros and cons.)"
   ]
  },
  {
   "cell_type": "markdown",
   "metadata": {
    "deletable": false,
    "nbgrader": {
     "cell_type": "markdown",
     "checksum": "dd2cd90f071d43e463aea1a3f0852c49",
     "grade": true,
     "grade_id": "cell-bd241242621ae646",
     "locked": false,
     "points": 0,
     "schema_version": 3,
     "solution": true,
     "task": false
    }
   },
   "source": [
    "**Your answer:** (fill in here)"
   ]
  },
  {
   "cell_type": "markdown",
   "metadata": {
    "deletable": false,
    "editable": false,
    "nbgrader": {
     "cell_type": "markdown",
     "checksum": "c457c6ffe7696ea8b13215805bb2fa2c",
     "grade": false,
     "grade_id": "cell-fccdd48334c7c70c",
     "locked": true,
     "schema_version": 3,
     "solution": false
    }
   },
   "source": [
    "## 7. (optional)"
   ]
  },
  {
   "cell_type": "markdown",
   "metadata": {
    "deletable": false,
    "editable": false,
    "nbgrader": {
     "cell_type": "markdown",
     "checksum": "efe34b502ca4d51a53e7b32992411f97",
     "grade": false,
     "grade_id": "cell-3e8a75d10f4fb404",
     "locked": true,
     "schema_version": 3,
     "solution": false
    }
   },
   "source": [
    "Assuming you found useful new features in the last part of this assignment, train a new classifier that uses these featues as well. Did the accuracy on the validation set improve? What's the highest accuracy you can achieve?"
   ]
  },
  {
   "cell_type": "code",
   "execution_count": null,
   "metadata": {
    "deletable": false,
    "nbgrader": {
     "cell_type": "code",
     "checksum": "d483a1678e8725ea9ba41ce15bb78a64",
     "grade": true,
     "grade_id": "cell-c4a9ddfda9cd7a08",
     "locked": false,
     "points": 0,
     "schema_version": 3,
     "solution": true
    }
   },
   "outputs": [],
   "source": [
    "# YOUR CODE HERE"
   ]
  }
 ],
 "metadata": {
  "kernelspec": {
   "display_name": "Python 3",
   "language": "python",
   "name": "python3"
  },
  "language_info": {
   "codemirror_mode": {
    "name": "ipython",
    "version": 3
   },
   "file_extension": ".py",
   "mimetype": "text/x-python",
   "name": "python",
   "nbconvert_exporter": "python",
   "pygments_lexer": "ipython3",
   "version": "3.11.9"
  }
 },
 "nbformat": 4,
 "nbformat_minor": 4
}
