{
 "cells": [
  {
   "cell_type": "markdown",
   "metadata": {
    "deletable": false,
    "editable": false,
    "nbgrader": {
     "cell_type": "markdown",
     "checksum": "ad8b0feffaddac686389c323e8f7b862",
     "grade": false,
     "grade_id": "cell-5690119ead85e67e",
     "locked": true,
     "schema_version": 3,
     "solution": false,
     "task": false
    }
   },
   "source": [
    "### Checklist for submission\n",
    "\n",
    "It is extremely important to make sure that:\n",
    "\n",
    "1. Everything runs as expected (no bugs when running cells);\n",
    "2. The output from each cell corresponds to its code (don't change any cell's contents without rerunning it afterwards);\n",
    "3. All outputs are present (don't delete any of the outputs);\n",
    "4. Fill in all the places that say `# YOUR CODE HERE`, or \"**Your answer:** (fill in here)\".\n",
    "5. Never copy/paste any notebook cells. Inserting new cells is allowed, but it should not be necessary.\n",
    "6. The notebook contains some hidden metadata which is important during our grading process. **Make sure not to corrupt any of this metadata!** The metadata may for example be corrupted if you copy/paste any notebook cells, or if you perform an unsuccessful git merge / git pull. It may also be pruned completely if using Google Colab, so watch out for this. Searching for \"nbgrader\" when opening the notebook in a text editor should take you to the important metadata entries.\n",
    "7. Although we will try our very best to avoid this, it may happen that bugs are found after an assignment is released, and that we will push an updated version of the assignment to GitHub. If this happens, it is important that you update to the new version, while making sure the notebook metadata is properly updated as well. The safest way to make sure nothing gets messed up is to start from scratch on a clean updated version of the notebook, copy/pasting your code from the cells of the previous version into the cells of the new version.\n",
    "8. If you need to have multiple parallel versions of this notebook, make sure not to move them to another directory.\n",
    "9. Although not forced to work exclusively in the course `conda` environment, you need to make sure that the notebook will run in that environment, i.e. that you have not added any additional dependencies.\n",
    "\n",
    "Failing to meet any of these requirements might lead to a request for resubmission if the errors are serious enough.\n",
    "\n",
    "We advise you to perform the following steps before submission to ensure that requirements 1, 2, and 3 are always met: **Restart the kernel** (in the menubar, select Kernel$\\rightarrow$Restart) and then **run all cells** (in the menubar, select Cell$\\rightarrow$Run All). This might require a bit of time, so plan ahead for this (and possibly use a cloud GPU in HA1 and HA2 for this step). Finally press the \"Save and Checkout\" button before handing in, to make sure that all your changes are saved to this .ipynb file."
   ]
  },
  {
   "cell_type": "markdown",
   "metadata": {
    "deletable": false,
    "editable": false,
    "nbgrader": {
     "cell_type": "markdown",
     "checksum": "a6bb874a16c1ff767ac0f37ce0491265",
     "grade": false,
     "grade_id": "cell-774c93bf6433de68",
     "locked": true,
     "schema_version": 3,
     "solution": false,
     "task": false
    }
   },
   "source": [
    "### Fill in name of notebook file\n",
    "This might seem silly, but the version check below needs to know the filename of the current notebook, which is not trivial to find out programmatically.\n",
    "\n",
    "You might want to have several parallel versions of the notebook, and it is fine to rename the notebook as long as it stays in the same directory. **However**, if you do rename it, you also need to update its own filename below:"
   ]
  },
  {
   "cell_type": "code",
   "execution_count": 2,
   "metadata": {},
   "outputs": [],
   "source": [
    "nb_fname = \"IHA2.ipynb\""
   ]
  },
  {
   "cell_type": "markdown",
   "metadata": {
    "deletable": false,
    "editable": false,
    "nbgrader": {
     "cell_type": "markdown",
     "checksum": "270e43e75da54d7fb8afbda64083f4e3",
     "grade": false,
     "grade_id": "cell-5676bcf768a7f9be",
     "locked": true,
     "schema_version": 3,
     "solution": false,
     "task": false
    }
   },
   "source": [
    "### Fill in group number and member names (use NAME2 and GROUP only for HA1 and HA2):"
   ]
  },
  {
   "cell_type": "code",
   "execution_count": 3,
   "metadata": {},
   "outputs": [],
   "source": [
    "NAME1 = \"Majed Mazen\"\n",
    "NAME2 = \"\"\n",
    "GROUP = \"\""
   ]
  },
  {
   "cell_type": "markdown",
   "metadata": {
    "deletable": false,
    "editable": false,
    "nbgrader": {
     "cell_type": "markdown",
     "checksum": "42f960a95815e1aa3ce8132fcec59cd9",
     "grade": false,
     "grade_id": "cell-a15fe781533d9590",
     "locked": true,
     "schema_version": 3,
     "solution": false,
     "task": false
    }
   },
   "source": [
    "### Check Python version"
   ]
  },
  {
   "cell_type": "code",
   "execution_count": 4,
   "metadata": {
    "deletable": false,
    "editable": false,
    "nbgrader": {
     "cell_type": "code",
     "checksum": "72b2403e87a33f87371b150984248355",
     "grade": false,
     "grade_id": "cell-2b9c2390ee464c39",
     "locked": true,
     "schema_version": 3,
     "solution": false,
     "task": false
    }
   },
   "outputs": [],
   "source": [
    "from platform import python_version_tuple\n",
    "\n",
    "assert (\n",
    "    python_version_tuple()[:2] == (\"3\", \"11\")\n",
    "), \"You are not running Python 3.11. Make sure to run Python through the course Conda environment.\""
   ]
  },
  {
   "cell_type": "markdown",
   "metadata": {
    "deletable": false,
    "editable": false,
    "nbgrader": {
     "cell_type": "markdown",
     "checksum": "15ec4309f1e85f6e17bda73b9b6f48a2",
     "grade": false,
     "grade_id": "cell-4869b45600ce82f8",
     "locked": true,
     "schema_version": 3,
     "solution": false,
     "task": false
    }
   },
   "source": [
    "### Check that notebook server has access to all required resources, and that notebook has not moved"
   ]
  },
  {
   "cell_type": "code",
   "execution_count": 5,
   "metadata": {
    "deletable": false,
    "editable": false,
    "nbgrader": {
     "cell_type": "code",
     "checksum": "c741699084b67aa21d06ff931465b378",
     "grade": false,
     "grade_id": "cell-122ac3d9100b8afb",
     "locked": true,
     "schema_version": 3,
     "solution": false,
     "task": false
    }
   },
   "outputs": [],
   "source": [
    "import os\n",
    "\n",
    "nb_dirname = os.path.abspath(\"\")\n",
    "assignment_name = os.path.basename(nb_dirname)\n",
    "assert assignment_name in [\n",
    "    \"IHA1\",\n",
    "    \"IHA2\",\n",
    "    \"HA1\",\n",
    "    \"HA2\",\n",
    "], \"[ERROR] The notebook appears to have been moved from its original directory\""
   ]
  },
  {
   "cell_type": "markdown",
   "metadata": {
    "deletable": false,
    "editable": false,
    "nbgrader": {
     "cell_type": "markdown",
     "checksum": "f09f40b5350db83232189137c550f0a1",
     "grade": false,
     "grade_id": "cell-2455deee513cd39c",
     "locked": true,
     "schema_version": 3,
     "solution": false,
     "task": false
    }
   },
   "source": [
    "### Verify correct nb_fname"
   ]
  },
  {
   "cell_type": "code",
   "execution_count": 6,
   "metadata": {
    "deletable": false,
    "editable": false,
    "nbgrader": {
     "cell_type": "code",
     "checksum": "1709bd6d2b55a83969e44d70763b1167",
     "grade": false,
     "grade_id": "cell-0472e2fd710f1d72",
     "locked": true,
     "schema_version": 3,
     "solution": false,
     "task": false
    }
   },
   "outputs": [
    {
     "data": {
      "text/html": [
       "<script>if(\"IHA2.ipynb\" != IPython.notebook.notebook_name) { alert(\"You have filled in nb_fname = \\\"IHA2.ipynb\\\", but this does not seem to match the notebook filename \\\"\" + IPython.notebook.notebook_name + \"\\\".\"); }</script>"
      ],
      "text/plain": [
       "<IPython.core.display.HTML object>"
      ]
     },
     "metadata": {},
     "output_type": "display_data"
    }
   ],
   "source": [
    "from IPython.display import HTML, display\n",
    "\n",
    "try:\n",
    "    display(\n",
    "        HTML(\n",
    "            r'<script>if(\"{nb_fname}\" != IPython.notebook.notebook_name) {{ alert(\"You have filled in nb_fname = \\\"{nb_fname}\\\", but this does not seem to match the notebook filename \\\"\" + IPython.notebook.notebook_name + \"\\\".\"); }}</script>'.format(\n",
    "                nb_fname=nb_fname\n",
    "            )\n",
    "        )\n",
    "    )\n",
    "except NameError:\n",
    "    assert False, \"Make sure to fill in the nb_fname variable above!\""
   ]
  },
  {
   "cell_type": "markdown",
   "metadata": {
    "deletable": false,
    "editable": false,
    "nbgrader": {
     "cell_type": "markdown",
     "checksum": "98d88d8e8da19693053764f29dcc591d",
     "grade": false,
     "grade_id": "cell-ceacb1adcae4783d",
     "locked": true,
     "schema_version": 3,
     "solution": false,
     "task": false
    }
   },
   "source": [
    "### Verify that your notebook is up-to-date and not corrupted in any way"
   ]
  },
  {
   "cell_type": "code",
   "execution_count": 7,
   "metadata": {
    "deletable": false,
    "editable": false,
    "nbgrader": {
     "cell_type": "code",
     "checksum": "6f405c9cd7b9720915f79dba54c89375",
     "grade": false,
     "grade_id": "cell-f5a59288e11b4aec",
     "locked": true,
     "schema_version": 3,
     "solution": false,
     "task": false
    }
   },
   "outputs": [
    {
     "name": "stdout",
     "output_type": "stream",
     "text": [
      "Matching current notebook against the following URL:\n",
      "http://raw.githubusercontent.com/dml-cth/deep-machine-learning/master/home-assignments/IHA2/IHA2.ipynb\n",
      "[SUCCESS] No major notebook mismatch found when comparing to latest GitHub version. (There might be minor updates, but even that is the case, submitting your work based on this notebook version would be acceptable.)\n"
     ]
    }
   ],
   "source": [
    "import sys\n",
    "\n",
    "sys.path.append(\"..\")\n",
    "from ha_utils import check_notebook_uptodate_and_not_corrupted\n",
    "\n",
    "check_notebook_uptodate_and_not_corrupted(nb_dirname, nb_fname)"
   ]
  },
  {
   "cell_type": "markdown",
   "metadata": {
    "deletable": false,
    "editable": false,
    "nbgrader": {
     "cell_type": "markdown",
     "checksum": "587eb0d471650fb68cb3c1f5021df2d4",
     "grade": false,
     "grade_id": "cell-1420bd2a80dfa7d5",
     "locked": true,
     "schema_version": 3,
     "solution": false
    }
   },
   "source": [
    "# IHA2 - Catching Pokemon"
   ]
  },
  {
   "cell_type": "markdown",
   "metadata": {
    "deletable": false,
    "editable": false,
    "nbgrader": {
     "cell_type": "markdown",
     "checksum": "57c5f7037fd0f1ca2377e5f021815405",
     "grade": false,
     "grade_id": "cell-c0cb4dde48293818",
     "locked": true,
     "schema_version": 3,
     "solution": false
    }
   },
   "source": [
    "![](https://upload.wikimedia.org/wikipedia/en/4/46/Pokemon_Go.png)"
   ]
  },
  {
   "cell_type": "markdown",
   "metadata": {
    "deletable": false,
    "editable": false,
    "nbgrader": {
     "cell_type": "markdown",
     "checksum": "9acef9de3d4fc4337e7dadd4fd579462",
     "grade": false,
     "grade_id": "cell-b16d667dd74a9079",
     "locked": true,
     "schema_version": 3,
     "solution": false
    }
   },
   "source": [
    "In this home assignment, you'll apply roughly the same principles we used when doing logistic regression on the Iris dataset in Computer Lab 1, but on a different and very interesting dataset. We'll use the [Predict'em All dataset from Kaggle](https://www.kaggle.com/semioniy/predictemall). To download the dataset you will need a Kaggle account. This dataset consists of roughly 293,000 [pokemon](http://www.pokemongo.com/) sightings (historical appearances of Pokemon in the Pokemon Go game), with geographical coordinates, time, weather, population density, distance to pokestops/gyms etc. as features. A comprehensive list of all the features is available at [the dataset's homepage](https://www.kaggle.com/semioniy/predictemall).\n",
    "\n",
    "The context is simple: you are a Pokemon hunter, and there are only three Pokemon left for you to complete your collection. You'll do anything to capture them, including changing where you'll spend your next holidays! You know that some Pokemon only spawn in certain places of the world. Since you like machine learning so much, you figure it would be a great idea to train a classifier that, based on a location's longitude and latitude, can tell us which Pokemon is more likely to appear there.\n",
    "\n",
    "The assignment is broken down into six steps.\n",
    "\n",
    "1. Loading the data and extracting the desired subset of it\n",
    "2. Visualization of the dataset\n",
    "3. Preprocessing\n",
    "4. Training\n",
    "5. Evaluation\n",
    "6. Exploration\n",
    "\n",
    "Feel free to temporarily add cells wherever you see fit, and play around with this notebook as much as you want when developing the solutions. However, the solution you upload to Canvas must have the exact format shown here, with only the cells present here.\n",
    "\n",
    "Don't restrict yourself only to what was taught so far. Some of the tasks might require you to search for new information. However, **be sure that you do the assignment using PyTorch** since we will be using it through the following assignments as well. [The Python docs](https://docs.python.org/3/), [PyTorch docs](https://pytorch.org/docs/stable/index.html), [stackoverflow](https://stackoverflow.com/), and Google are your friends!\n",
    "\n",
    "**Hint:** Solving Computer Lab 1 (CL1) is a good way to get prepared for this assignment.\n",
    "\n",
    "To pass this assignment, your solutions should pass all tests (`assert`-statements). Note that the tests shown to you are not exhaustive, and additional hidden tests exist for some of the tasks. Further, similar to IHA1, this notebook contains some questions where we ask you to reflect upon some results. These questions will not be graded in detail, but we still expect you to answer them."
   ]
  },
  {
   "cell_type": "markdown",
   "metadata": {
    "deletable": false,
    "editable": false,
    "nbgrader": {
     "cell_type": "markdown",
     "checksum": "6d8a3b20e9634f5c918019159cde8280",
     "grade": false,
     "grade_id": "cell-b9e4c4aa45490941",
     "locked": true,
     "schema_version": 3,
     "solution": false
    }
   },
   "source": [
    "## 0. Imports"
   ]
  },
  {
   "cell_type": "markdown",
   "metadata": {
    "deletable": false,
    "editable": false,
    "nbgrader": {
     "cell_type": "markdown",
     "checksum": "ca68d5a34a1d6f8633072976fad132a3",
     "grade": false,
     "grade_id": "cell-548d168c5c9e8c39",
     "locked": true,
     "schema_version": 3,
     "solution": false
    }
   },
   "source": [
    "Import any necessary modules here."
   ]
  },
  {
   "cell_type": "code",
   "execution_count": 8,
   "metadata": {
    "deletable": false,
    "nbgrader": {
     "cell_type": "code",
     "checksum": "4bd0c1d994ba501cd83cb86c40a43122",
     "grade": false,
     "grade_id": "cell-4e61b7fa879ef4a1",
     "locked": false,
     "schema_version": 3,
     "solution": true,
     "task": false
    }
   },
   "outputs": [],
   "source": [
    "# YOUR CODE HERE\n",
    "import numpy as np\n",
    "import matplotlib.pyplot as plt"
   ]
  },
  {
   "cell_type": "markdown",
   "metadata": {
    "deletable": false,
    "editable": false,
    "nbgrader": {
     "cell_type": "markdown",
     "checksum": "a576cdb7f1a3658a7eb906977c5e40fb",
     "grade": false,
     "grade_id": "cell-50c33a3517aea662",
     "locked": true,
     "schema_version": 3,
     "solution": false
    }
   },
   "source": [
    "## 1. Loading and extracting subset"
   ]
  },
  {
   "cell_type": "markdown",
   "metadata": {
    "deletable": false,
    "editable": false,
    "nbgrader": {
     "cell_type": "markdown",
     "checksum": "8f1178610f2a3de2652d78bf724e5c6a",
     "grade": false,
     "grade_id": "cell-32f6c44c22e84d42",
     "locked": true,
     "schema_version": 3,
     "solution": false
    }
   },
   "source": [
    "The first step consists of filtering the dataset by the three Pokémon you are interested at. \n",
    "\n",
    "Start by loading the `'300k.csv'` file using pandas. If you haven't downloaded it yet, either use [this link](https://www.kaggle.com/semioniy/predictemall) to do so (and place the file in the same folder as this notebook), or simply run the cell below. You might have to [create a new API token](https://www.kaggle.com/settings/account) before the commands work."
   ]
  },
  {
   "cell_type": "code",
   "execution_count": 9,
   "metadata": {
    "deletable": false,
    "editable": false,
    "nbgrader": {
     "cell_type": "code",
     "checksum": "f8b85c109b1e96fc2c692b69d07573ea",
     "grade": false,
     "grade_id": "cell-39c13080b772bfe5",
     "locked": true,
     "schema_version": 3,
     "solution": false,
     "task": false
    }
   },
   "outputs": [
    {
     "name": "stderr",
     "output_type": "stream",
     "text": [
      "'kaggle' is not recognized as an internal or external command,\n",
      "operable program or batch file.\n",
      "'unzip' is not recognized as an internal or external command,\n",
      "operable program or batch file.\n",
      "'unzip' is not recognized as an internal or external command,\n",
      "operable program or batch file.\n",
      "'rm' is not recognized as an internal or external command,\n",
      "operable program or batch file.\n",
      "'rm' is not recognized as an internal or external command,\n",
      "operable program or batch file.\n"
     ]
    }
   ],
   "source": [
    "!kaggle datasets download -d semioniy/predictemall\n",
    "!unzip -u predictemall.zip\n",
    "!rm -rf predictemall.zip 300k_arff 300k.arff 300k_csv"
   ]
  },
  {
   "cell_type": "code",
   "execution_count": 10,
   "metadata": {
    "deletable": false,
    "nbgrader": {
     "cell_type": "code",
     "checksum": "1308d475120c2d9e46b37129e7221f99",
     "grade": false,
     "grade_id": "cell-53b2a6c0754fca1d",
     "locked": false,
     "schema_version": 3,
     "solution": true,
     "task": false
    }
   },
   "outputs": [
    {
     "name": "stderr",
     "output_type": "stream",
     "text": [
      "C:\\Users\\majed\\AppData\\Local\\Temp\\ipykernel_15508\\2336927798.py:5: DtypeWarning: Columns (49) have mixed types. Specify dtype option on import or set low_memory=False.\n",
      "  df = pd.read_csv(\"300k.csv\")\n"
     ]
    }
   ],
   "source": [
    "# TODO: load the dataset using pandas to a dataframe called df\n",
    "import pandas as pd\n",
    "\n",
    "# Load the dataset into a DataFrame\n",
    "df = pd.read_csv(\"300k.csv\")"
   ]
  },
  {
   "cell_type": "code",
   "execution_count": 11,
   "metadata": {
    "deletable": false,
    "editable": false,
    "nbgrader": {
     "cell_type": "code",
     "checksum": "937dc09867c39ed4282c3552a0a2d3fc",
     "grade": true,
     "grade_id": "cell-d7bd8d78c4388b4d",
     "locked": true,
     "points": 1,
     "schema_version": 3,
     "solution": false,
     "task": false
    }
   },
   "outputs": [],
   "source": [
    "assert df.shape == (\n",
    "    296021,\n",
    "    208,\n",
    "), f\"Dataframe has not the right shape. {df.shape} != (296021, 208)\"\n",
    "assert isinstance(df, pd.DataFrame), f\"df is not a dataframe. Was {type(df)}\""
   ]
  },
  {
   "cell_type": "markdown",
   "metadata": {
    "deletable": false,
    "editable": false,
    "nbgrader": {
     "cell_type": "markdown",
     "checksum": "9e5a6ed587a81abc562131a9a019da9a",
     "grade": false,
     "grade_id": "cell-5d36e8f9780ea946",
     "locked": true,
     "schema_version": 3,
     "solution": false
    }
   },
   "source": [
    "Modify `df` to only have the columns `latitude`, `longitude`, and `class`."
   ]
  },
  {
   "cell_type": "code",
   "execution_count": 12,
   "metadata": {
    "deletable": false,
    "nbgrader": {
     "cell_type": "code",
     "checksum": "32fe82a12426d7fd89c7b44803e9901d",
     "grade": false,
     "grade_id": "cell-318e20fd02ab7f30",
     "locked": false,
     "schema_version": 3,
     "solution": true,
     "task": false
    }
   },
   "outputs": [],
   "source": [
    "df = df[['latitude', 'longitude', 'class']]"
   ]
  },
  {
   "cell_type": "code",
   "execution_count": 13,
   "metadata": {
    "deletable": false,
    "editable": false,
    "nbgrader": {
     "cell_type": "code",
     "checksum": "334ba32ebb98cfbe793e8d06ee8d3b34",
     "grade": true,
     "grade_id": "cell-e8738beea1b331d0",
     "locked": true,
     "points": 1,
     "schema_version": 3,
     "solution": false,
     "task": false
    }
   },
   "outputs": [],
   "source": [
    "assert len(df.columns) == 3, \"There should be 3 columns\"\n",
    "assert len(df.shape) == 2, \"The dataframe should be 2 dimensional\"\n",
    "assert df.shape == (296021, 3), \"Wrong shape of the dataframe\"\n",
    "assert \"latitude\" in df.columns, \"latitude column is missing\"\n",
    "assert \"longitude\" in df.columns, \"longitude column is missing\"\n",
    "assert \"class\" in df.columns, \"class column is missing\""
   ]
  },
  {
   "cell_type": "markdown",
   "metadata": {
    "deletable": false,
    "editable": false,
    "nbgrader": {
     "cell_type": "markdown",
     "checksum": "9ef5470f58caaaea609c2fee299c5b7f",
     "grade": false,
     "grade_id": "cell-6f7970ff67af4649",
     "locked": true,
     "schema_version": 3,
     "solution": false
    }
   },
   "source": [
    "Note that the `class` column specifies which pokemon it is. However, it only has the numerical id of the pokemon. For your convenience, we provide the dictionary `name_dict` to convert between ids and names (we'll do this soon)."
   ]
  },
  {
   "cell_type": "code",
   "execution_count": 14,
   "metadata": {
    "deletable": false,
    "editable": false,
    "nbgrader": {
     "cell_type": "code",
     "checksum": "7e1c295d53b9c78e248276d093849a02",
     "grade": false,
     "grade_id": "cell-50ff16afeaf933cf",
     "locked": true,
     "schema_version": 3,
     "solution": false
    }
   },
   "outputs": [],
   "source": [
    "from utils import name_dict"
   ]
  },
  {
   "cell_type": "code",
   "execution_count": 15,
   "metadata": {
    "deletable": false,
    "editable": false,
    "nbgrader": {
     "cell_type": "code",
     "checksum": "3bae8f433b0632b5da39f4d675f7f9db",
     "grade": false,
     "grade_id": "cell-1acfd7cca7bf754e",
     "locked": true,
     "schema_version": 3,
     "solution": false,
     "task": false
    }
   },
   "outputs": [
    {
     "name": "stdout",
     "output_type": "stream",
     "text": [
      "94\n",
      "Gengar\n"
     ]
    }
   ],
   "source": [
    "# example usage (you can index either by name or id)\n",
    "print(name_dict[\"Gengar\"])\n",
    "print(name_dict[94])"
   ]
  },
  {
   "cell_type": "code",
   "execution_count": 16,
   "metadata": {
    "deletable": false,
    "editable": false,
    "nbgrader": {
     "cell_type": "code",
     "checksum": "8c4b53d1aadb72239ba22773f6cdace6",
     "grade": false,
     "grade_id": "cell-1fd0d8b0c9800de4",
     "locked": true,
     "schema_version": 3,
     "solution": false,
     "task": false
    }
   },
   "outputs": [
    {
     "name": "stdout",
     "output_type": "stream",
     "text": [
      "    latitude   longitude  class    name\n",
      "0  20.525745  -97.460829     16  Pidgey\n",
      "1  20.523695  -97.461167    133   Eevee\n",
      "2  38.903590  -77.199780     16  Pidgey\n",
      "3  47.665903 -122.312561     13  Weedle\n",
      "4  47.666454 -122.311628    133   Eevee\n"
     ]
    }
   ],
   "source": [
    "# for convenience, let's add a new column to the dataframe with the name of the pokemon\n",
    "df[\"name\"] = df[\"class\"].apply(lambda x: name_dict[x])\n",
    "print(df.head())"
   ]
  },
  {
   "cell_type": "markdown",
   "metadata": {
    "deletable": false,
    "editable": false,
    "nbgrader": {
     "cell_type": "markdown",
     "checksum": "09025bb17628db2a36bb21a5b3b6f1c5",
     "grade": false,
     "grade_id": "cell-eaa874b93b3b727c",
     "locked": true,
     "schema_version": 3,
     "solution": false
    }
   },
   "source": [
    "We are only interested in three specific pokemon: Diglett, Seel, and Tauros."
   ]
  },
  {
   "cell_type": "markdown",
   "metadata": {
    "deletable": false,
    "editable": false,
    "nbgrader": {
     "cell_type": "markdown",
     "checksum": "ca357363a50da71ade1d068b235fbd63",
     "grade": false,
     "grade_id": "cell-7e0898a53c5649b0",
     "locked": true,
     "schema_version": 3,
     "solution": false
    }
   },
   "source": [
    "<table style=\"width:100%\">\n",
    "  <tr>\n",
    "    <th> <center>Diglett</center> </th>\n",
    "    <th> <center>Seel</center> </th> \n",
    "    <th> <center>Tauros</center> </th>\n",
    "  </tr>\n",
    "  <tr>\n",
    "    <td><img src=https://assets.pokemon.com/assets/cms2/img/pokedex/full/050_f2.png alt=Digglet></td>\n",
    "    <td><img src=https://pokemon.gamepedia.com/media/pokemon.gamepedia.com/thumb/f/f1/Seel.png/200px-Seel.png?version=2c32fbe0af2d0da707e5dbcb40472fbf></td>\n",
    "    <td><img src=https://www.pokemon.com/static-assets/content-assets/cms2/img/pokedex/full/128.png></td>\n",
    "  </tr>\n",
    "</table>\n",
    "\n"
   ]
  },
  {
   "cell_type": "markdown",
   "metadata": {
    "deletable": false,
    "editable": false,
    "nbgrader": {
     "cell_type": "markdown",
     "checksum": "0f67b745d8f97bcaf04b6674bab71e2d",
     "grade": false,
     "grade_id": "cell-d091927bf7d7938f",
     "locked": true,
     "schema_version": 3,
     "solution": false
    }
   },
   "source": [
    "Filter the dataset to contain only these three types of pokemon and save it in the DataFrame `filtered_df`."
   ]
  },
  {
   "cell_type": "code",
   "execution_count": 17,
   "metadata": {
    "deletable": false,
    "nbgrader": {
     "cell_type": "code",
     "checksum": "3101497237b105c936f9b72972e4e06f",
     "grade": false,
     "grade_id": "cell-7089f3397cbc1f4a",
     "locked": false,
     "schema_version": 3,
     "solution": true,
     "task": false
    }
   },
   "outputs": [
    {
     "name": "stdout",
     "output_type": "stream",
     "text": [
      "We have 2083 instances of Diglett, Seel, and Tauros in the dataset.\n"
     ]
    }
   ],
   "source": [
    "# YOUR CODE HERE\n",
    "# filter the dataframe to only include Diglett, Seel, and Tauros\n",
    "filtered_df = df[df[\"name\"].isin([\"Diglett\", \"Seel\", \"Tauros\"])] #Keep rows where the 'name' column is either 'Diglett', 'Seel', or 'Tauros'\n",
    "\n",
    "print(\n",
    "    f\"We have {len(filtered_df)} instances of Diglett, Seel, and Tauros in the dataset.\"\n",
    ")"
   ]
  },
  {
   "cell_type": "code",
   "execution_count": 18,
   "metadata": {
    "deletable": false,
    "editable": false,
    "nbgrader": {
     "cell_type": "code",
     "checksum": "804e5464b130a64d22b06d0b882d0c89",
     "grade": true,
     "grade_id": "cell-c24e683b633a9f9b",
     "locked": true,
     "points": 1,
     "schema_version": 3,
     "solution": false,
     "task": false
    }
   },
   "outputs": [],
   "source": [
    "assert len(np.unique(filtered_df[\"class\"])) == 3, \"There should be 3 unique classes.\"\n",
    "assert filtered_df.shape == (\n",
    "    2083,\n",
    "    4,\n",
    "), \"The shape of the filtered dataframe is incorrect.\""
   ]
  },
  {
   "cell_type": "markdown",
   "metadata": {
    "deletable": false,
    "editable": false,
    "nbgrader": {
     "cell_type": "markdown",
     "checksum": "6b1f1246460c9e81025c5dd94d54e9e2",
     "grade": false,
     "grade_id": "cell-4e7ef21d67cb017e",
     "locked": true,
     "schema_version": 3,
     "solution": false,
     "task": false
    }
   },
   "source": [
    "In an earlier cell, you could see that the dataset has 208 features per pokemon sighting (`df.shape == (296021, 208)`). Why do we only use the `longitude` and `latitude` features and not all the features? "
   ]
  },
  {
   "cell_type": "markdown",
   "metadata": {
    "deletable": false,
    "nbgrader": {
     "cell_type": "markdown",
     "checksum": "345b05134d46ff03c9a71123906636f2",
     "grade": true,
     "grade_id": "cell-21cf8cbbffef4929",
     "locked": false,
     "points": 0,
     "schema_version": 3,
     "solution": true,
     "task": false
    }
   },
   "source": [
    "**Your answer:** Becuase we are interested in finding the pokemon's geographical location which we obtain by combining the latitude and longitude."
   ]
  },
  {
   "cell_type": "markdown",
   "metadata": {
    "deletable": false,
    "editable": false,
    "nbgrader": {
     "cell_type": "markdown",
     "checksum": "2641774ea6d909844fb9d2e930763382",
     "grade": false,
     "grade_id": "cell-01b988bb1bfa1f92",
     "locked": true,
     "schema_version": 3,
     "solution": false
    }
   },
   "source": [
    "## 2. Visualization of the dataset"
   ]
  },
  {
   "cell_type": "markdown",
   "metadata": {
    "deletable": false,
    "editable": false,
    "nbgrader": {
     "cell_type": "markdown",
     "checksum": "437148ed483b9f34a3cd87aae3129933",
     "grade": false,
     "grade_id": "cell-5c7b8fdcd18575fe",
     "locked": true,
     "schema_version": 3,
     "solution": false
    }
   },
   "source": [
    "The second step consists of visualizing the dataset. This will help you understand the distribution of the features and get an idea of how hard the task will be.\n",
    "\n",
    "Plot a bar chart of the number of occurrences of each class."
   ]
  },
  {
   "cell_type": "code",
   "execution_count": 19,
   "metadata": {
    "deletable": false,
    "nbgrader": {
     "cell_type": "code",
     "checksum": "b9b6048c83c3f3f72c51e4baa47b141b",
     "grade": true,
     "grade_id": "cell-c1a9921488e42992",
     "locked": false,
     "points": 0,
     "schema_version": 3,
     "solution": true
    }
   },
   "outputs": [
    {
     "data": {
      "text/plain": [
       "<Axes: title={'center': 'Number of Occurrences of Each Pokemon'}, xlabel='name'>"
      ]
     },
     "execution_count": 19,
     "metadata": {},
     "output_type": "execute_result"
    },
    {
     "data": {
      "text/plain": [
       "<Axes: title={'center': 'Number of Occurrences of Each Pokemon'}, xlabel='name'>"
      ]
     },
     "execution_count": 19,
     "metadata": {},
     "output_type": "execute_result"
    },
    {
     "data": {
      "image/png": "[encoded data removed]",
      "text/plain": [
       "<Figure size 640x480 with 1 Axes>"
      ]
     },
     "metadata": {},
     "output_type": "display_data"
    }
   ],
   "source": [
    "# YOUR CODE HERE\n",
    "filtered_df['name'].value_counts().plot.bar(title='Number of Occurrences of Each Pokemon')\n"
   ]
  },
  {
   "cell_type": "markdown",
   "metadata": {
    "deletable": false,
    "editable": false,
    "nbgrader": {
     "cell_type": "markdown",
     "checksum": "e4c3c67ecc7c5b85749d001b0a622061",
     "grade": false,
     "grade_id": "cell-c22d835bdc58fe68",
     "locked": true,
     "schema_version": 3,
     "solution": false
    }
   },
   "source": [
    "Is the dataset balanced? Why/why not? Why is this important?"
   ]
  },
  {
   "cell_type": "markdown",
   "metadata": {
    "deletable": false,
    "nbgrader": {
     "cell_type": "markdown",
     "checksum": "c918f9b5d190f5f83c8dbd622e59d062",
     "grade": true,
     "grade_id": "cell-3d060bda26842b5d",
     "locked": false,
     "points": 0,
     "schema_version": 3,
     "solution": true
    }
   },
   "source": [
    "**Your answer:** It seems to be balanced which is a good thing because that helps the model learn all classes equally and not be biased toward any single class."
   ]
  },
  {
   "cell_type": "markdown",
   "metadata": {
    "deletable": false,
    "editable": false,
    "nbgrader": {
     "cell_type": "markdown",
     "checksum": "4382ce93389defee634b029f25edda16",
     "grade": false,
     "grade_id": "cell-931cbd9e3ec95da5",
     "locked": true,
     "schema_version": 3,
     "solution": false
    }
   },
   "source": [
    "Plot a scatter plot where the first dimension is longitude, the second is latitude, and each point is a Pokemon. Further, the color of each point should represent which Pokemon it is. Lastly, the marker at each point should be an `'x'`. Make sure to label each axis.\n",
    "\n",
    "Hints:\n",
    "\n",
    "- The `scatter` method from `matplotlib` accepts an argument called `c`.\n",
    "- The `scatter` method also accepts an argument called `marker`."
   ]
  },
  {
   "cell_type": "code",
   "execution_count": 20,
   "metadata": {
    "deletable": false,
    "nbgrader": {
     "cell_type": "code",
     "checksum": "f6f749d2605a9f0d0ae2dff5d584d414",
     "grade": true,
     "grade_id": "cell-1120bd5aa8abeae1",
     "locked": false,
     "points": 0,
     "schema_version": 3,
     "solution": true
    }
   },
   "outputs": [
    {
     "data": {
      "image/png": "[encoded data removed]",
      "text/plain": [
       "<Figure size 800x600 with 1 Axes>"
      ]
     },
     "metadata": {},
     "output_type": "display_data"
    }
   ],
   "source": [
    "# Scatter plot: longitude vs latitude, colored by Pokemon name\n",
    "colors = {'Diglett': 'orange', 'Seel': 'blue', 'Tauros': 'green'}\n",
    "plt.figure(figsize=(8,6))\n",
    "for name, group in filtered_df.groupby('name'):\n",
    "    plt.scatter(group['longitude'], group['latitude'], c=colors[name], label=name, marker='x', alpha=0.7)\n",
    "plt.xlabel('Longitude')\n",
    "plt.ylabel('Latitude')\n",
    "plt.title('Pokemon Sightings by Location')\n",
    "plt.legend()\n",
    "plt.show()"
   ]
  },
  {
   "cell_type": "markdown",
   "metadata": {
    "deletable": false,
    "editable": false,
    "nbgrader": {
     "cell_type": "markdown",
     "checksum": "4cad292133d28b4b0fe7f2245b0bc567",
     "grade": false,
     "grade_id": "cell-76f326a05bf22e09",
     "locked": true,
     "schema_version": 3,
     "solution": false
    }
   },
   "source": [
    "Is there any other visualization you think would be useful? If so, insert them here."
   ]
  },
  {
   "cell_type": "code",
   "execution_count": 21,
   "metadata": {
    "deletable": false,
    "nbgrader": {
     "cell_type": "code",
     "checksum": "ad81f10f7f24ca21197794fdcd7fb04c",
     "grade": true,
     "grade_id": "cell-86724bfd3955c5ed",
     "locked": false,
     "points": 0,
     "schema_version": 3,
     "solution": true
    }
   },
   "outputs": [],
   "source": [
    "# YOUR CODE HERE"
   ]
  },
  {
   "cell_type": "markdown",
   "metadata": {
    "deletable": false,
    "editable": false,
    "nbgrader": {
     "cell_type": "markdown",
     "checksum": "6140988fa08ca186bbe62a74e82ddddd",
     "grade": false,
     "grade_id": "cell-7af3ac7849dc5252",
     "locked": true,
     "schema_version": 3,
     "solution": false
    }
   },
   "source": [
    "How hard do you think the problem is? Which classes can/cannot be easily separated?\n"
   ]
  },
  {
   "cell_type": "markdown",
   "metadata": {
    "deletable": false,
    "nbgrader": {
     "cell_type": "markdown",
     "checksum": "6bb25f67d0cf2e55d60f2b63646ce9fe",
     "grade": true,
     "grade_id": "cell-62e50deb2cca74b2",
     "locked": false,
     "points": 0,
     "schema_version": 3,
     "solution": true
    }
   },
   "source": [
    "**Your answer:** I think it is difficult since the diglett and seel are quite separated and therefore difficult to classify their probable position. A part of seel and the entire taurus are however easier to classify since they are very close to each other. Making it easier for the classifier to guess correctly when looking at those geographical locations. "
   ]
  },
  {
   "cell_type": "markdown",
   "metadata": {
    "deletable": false,
    "editable": false,
    "nbgrader": {
     "cell_type": "markdown",
     "checksum": "9e6bfdd82abab0b61a471c52bfc9dff3",
     "grade": false,
     "grade_id": "cell-3d322369934aa289",
     "locked": true,
     "schema_version": 3,
     "solution": false
    }
   },
   "source": [
    "Which accuracy do you expect to achieve?"
   ]
  },
  {
   "cell_type": "markdown",
   "metadata": {
    "deletable": false,
    "nbgrader": {
     "cell_type": "markdown",
     "checksum": "931b0e510dcc8867fb3efb7e50fe8a25",
     "grade": true,
     "grade_id": "cell-f2c255ad5dd7e5fc",
     "locked": false,
     "points": 0,
     "schema_version": 3,
     "solution": true
    }
   },
   "source": [
    "**Your answer:** 60%"
   ]
  },
  {
   "cell_type": "markdown",
   "metadata": {
    "deletable": false,
    "editable": false,
    "nbgrader": {
     "cell_type": "markdown",
     "checksum": "d5510f4a800380ecc156cd9d2f3898e5",
     "grade": false,
     "grade_id": "cell-451e0813fca28b8b",
     "locked": true,
     "schema_version": 3,
     "solution": false
    }
   },
   "source": [
    "## 3. Preprocessing"
   ]
  },
  {
   "cell_type": "markdown",
   "metadata": {
    "deletable": false,
    "editable": false,
    "nbgrader": {
     "cell_type": "markdown",
     "checksum": "7a6c54a6e0bfe71ad1da3f834fbcb3d7",
     "grade": false,
     "grade_id": "cell-3eed8190495b60ac",
     "locked": true,
     "schema_version": 3,
     "solution": false
    }
   },
   "source": [
    "The third step consists of processing the data before training, such as dividing the dataset into training, validation, and test sets. Some tranformations can also be applied to the dataset in order to improve the performance of the network. We will use some PyTorch utilities to help us with this task.\n",
    "\n",
    "Start by creating the input and output vectors, `x` and `y`. The input should be latitude and longitude, and the output should be the class of the pokemon. Note that you cannot use the class names directly, as they are strings. You need to introduce some mapping to convert them to integers (0, 1, and 2) or one-hot vectors."
   ]
  },
  {
   "cell_type": "code",
   "execution_count": 22,
   "metadata": {
    "deletable": false,
    "nbgrader": {
     "cell_type": "code",
     "checksum": "a001f72e92feb0435ca66ca282c5eb6c",
     "grade": false,
     "grade_id": "cell-c61cb8065babf0c5",
     "locked": false,
     "schema_version": 3,
     "solution": true,
     "task": false
    }
   },
   "outputs": [
    {
     "name": "stdout",
     "output_type": "stream",
     "text": [
      "Shape of input data: (2083, 2)\n",
      "Shape of labels: (2083,)\n"
     ]
    }
   ],
   "source": [
    "# YOUR CODE HERE\n",
    "x = filtered_df[['longitude','latitude']].to_numpy(dtype=np.float32)\n",
    "name_to_label = {'Diglett': 0, 'Seel': 1, 'Tauros': 2}\n",
    "y = filtered_df['name'].map(name_to_label).to_numpy(dtype=np.int64)\n",
    "print(f\"Shape of input data: {x.shape}\")\n",
    "print(f\"Shape of labels: {y.shape}\")"
   ]
  },
  {
   "cell_type": "code",
   "execution_count": 23,
   "metadata": {
    "deletable": false,
    "editable": false,
    "nbgrader": {
     "cell_type": "code",
     "checksum": "c29016eeb4001be249e61f5364c9c294",
     "grade": true,
     "grade_id": "cell-e3cfcf9955f6809c",
     "locked": true,
     "points": 1,
     "schema_version": 3,
     "solution": false,
     "task": false
    }
   },
   "outputs": [],
   "source": [
    "assert isinstance(x, np.ndarray), \"x should be a numpy array\"\n",
    "assert isinstance(y, np.ndarray), \"y should be a numpy array\"\n",
    "\n",
    "assert x.shape[0] == y.shape[0], \"x and y should have the same number of samples\"\n",
    "assert x.shape[-1] == 2, \"x should have 2 features\"\n",
    "assert x.dtype == np.float32, \"x should be of type float32\"\n",
    "if y.shape[-1] == 3:  # one-hot encoded\n",
    "    assert y.max() == 1, \"one-hot encoded y, at least one entry should be 1\"\n",
    "    assert y.min() == 0, \"one-hot encoded y, at least one entry should be 0\"\n",
    "    assert y.sum(axis=1).all() == 1\n",
    "else:  # label encoded\n",
    "    assert y.max() == 2, \"label encoded y, should have a max value of 2\"\n",
    "    assert y.min() == 0, \"label encoded y, should have a min value of 0\""
   ]
  },
  {
   "cell_type": "markdown",
   "metadata": {
    "deletable": false,
    "editable": false,
    "nbgrader": {
     "cell_type": "markdown",
     "checksum": "667ef8d517475a54aca21e510c96761d",
     "grade": false,
     "grade_id": "cell-566d2f340fa57d49",
     "locked": true,
     "schema_version": 3,
     "solution": false
    }
   },
   "source": [
    "Separate your data into training (55%), validation (25%) and test sets (20%) and save them as `dataset_train`, `dataset_val`, `dataset_test`. If you wish to apply any transformation to the dataset, do it here as well. \n",
    "\n",
    "Further, create a class, PokemonDataset, inheriting from PyTorch [`Dataset`](https://pytorch.org/docs/stable/data.html#torch.utils.data.Dataset) and use this for storing the data. In other words, `dataset_train`, `dataset_val`, `dataset_test` should have type PokemonDataset. You will need to implement a `__getitem__`, `__len__` and `__init__` method. Although perhaps a bit overkill for this assignment, it is a good practice for handling datasets in PyTorch.\n",
    "\n",
    "Last, instantiate a [`DataLoader`](https://pytorch.org/docs/stable/data.html#torch.utils.data.DataLoader) for each dataset, i.e., `loader_train`, `loader_val`, `loader_test`. This will fetch samples from the datasets and combine them into batches. Remember to select a suitable batch size."
   ]
  },
  {
   "cell_type": "code",
   "execution_count": 24,
   "metadata": {
    "deletable": false,
    "nbgrader": {
     "cell_type": "code",
     "checksum": "e2a4956e2e49a791cfcf70933886dacd",
     "grade": false,
     "grade_id": "cell-918e3bb4d74472bd",
     "locked": false,
     "schema_version": 3,
     "solution": true,
     "task": false
    }
   },
   "outputs": [],
   "source": [
    "from torch.utils.data import Dataset, DataLoader\n",
    "import torch\n",
    "num_samples = filtered_df.shape[0]\n",
    "random = np.random.permutation(num_samples)\n",
    "train_end = int(0.55 * num_samples)\n",
    "val_end = train_end + int(0.25 * num_samples)\n",
    "train_indices = random[:train_end]\n",
    "val_indices = random[train_end:val_end]\n",
    "test_indices = random[val_end:]\n",
    "\n",
    "x_train, y_train = x[train_indices], y[train_indices]\n",
    "x_val, y_val = x[val_indices], y[val_indices]\n",
    "x_test, y_test = x[test_indices], y[test_indices]\n",
    "\n",
    "class PokemonDataset(Dataset):\n",
    "    def __init__(self, x, y):\n",
    "        self.x = torch.tensor(x, dtype=torch.float32)\n",
    "        self.y = torch.tensor(y, dtype=torch.long)\n",
    "    def __len__(self):\n",
    "        return len(self.x)\n",
    "    def __getitem__(self, idx):\n",
    "        return self.x[idx], self.y[idx]\n",
    "\n",
    "dataset_train = PokemonDataset(x_train, y_train)\n",
    "dataset_val = PokemonDataset(x_val, y_val)\n",
    "dataset_test = PokemonDataset(x_test, y_test)\n",
    "\n",
    "loader_train = DataLoader(dataset_train, batch_size=64, shuffle=True)\n",
    "loader_val = DataLoader(dataset_val, batch_size=64, shuffle=False)\n",
    "loader_test = DataLoader(dataset_test, batch_size=64, shuffle=False)"
   ]
  },
  {
   "cell_type": "code",
   "execution_count": 25,
   "metadata": {
    "deletable": false,
    "editable": false,
    "nbgrader": {
     "cell_type": "code",
     "checksum": "679946ba2a8db7542fb0a009ebdec14b",
     "grade": true,
     "grade_id": "cell-26a6a53ab59cb075",
     "locked": true,
     "points": 1,
     "schema_version": 3,
     "solution": false,
     "task": false
    }
   },
   "outputs": [],
   "source": [
    "assert isinstance(\n",
    "    dataset_train, PokemonDataset\n",
    "), \"dataset_train should be an instance of PokemonDataset\"\n",
    "assert isinstance(\n",
    "    dataset_val, PokemonDataset\n",
    "), \"dataset_val should be an instance of PokemonDataset\"\n",
    "assert isinstance(\n",
    "    dataset_test, PokemonDataset\n",
    "), \"dataset_test should be an instance of PokemonDataset\"\n",
    "\n",
    "assert (\n",
    "    abs(len(dataset_train) / len(x) - 0.55) < 0.01\n",
    "), \"dataset_train has the wrong length, should be 55% of the data\"\n",
    "assert (\n",
    "    abs(len(dataset_val) / len(x) - 0.25) < 0.01\n",
    "), \"dataset_val has the wrong length, should be 25% of the data\"\n",
    "assert (\n",
    "    abs(len(dataset_test) / len(x) - 0.20) < 0.01\n",
    "), \"dataset_test has the wrong length, should be 20% of the data\"\n",
    "\n",
    "assert isinstance(\n",
    "    loader_train, DataLoader\n",
    "), \"loader_train should be an instance of DataLoader\"\n",
    "assert isinstance(\n",
    "    loader_val, DataLoader\n",
    "), \"loader_val should be an instance of DataLoader\"\n",
    "assert isinstance(\n",
    "    loader_test, DataLoader\n",
    "), \"loader_test should be an instance of DataLoader\"\n",
    "\n",
    "assert len(loader_train), \"loader_train should have a length\"\n",
    "assert len(loader_val), \"loader_val should have a length\"\n",
    "assert len(loader_test), \"loader_test should have a length\""
   ]
  },
  {
   "cell_type": "markdown",
   "metadata": {
    "deletable": false,
    "editable": false,
    "nbgrader": {
     "cell_type": "markdown",
     "checksum": "c9b5ffa094240411cb43919a003ba914",
     "grade": false,
     "grade_id": "cell-b9088197f0ab661c",
     "locked": true,
     "schema_version": 3,
     "solution": false
    }
   },
   "source": [
    "## 4. Training"
   ]
  },
  {
   "cell_type": "markdown",
   "metadata": {
    "deletable": false,
    "editable": false,
    "nbgrader": {
     "cell_type": "markdown",
     "checksum": "6c5d33400a0aa71b9c81a01181b7cb3b",
     "grade": false,
     "grade_id": "cell-1c4e4c6b7186c418",
     "locked": true,
     "schema_version": 3,
     "solution": false
    }
   },
   "source": [
    "The fourth step is where you will choose the architecture of your network (number of hidden layers, activation functions, etc.), optimizer, loss function and then train the network. \n",
    "\n",
    "Start by implementing a training loop, and a helper function to calculate the accuracy. The training loop should calculate the loss and accuracy for both the training and validation set and print it with some regular interval (each epoch, or every few epochs, for instance). It can also be helpful to plot the loss and accuracy for both the training and validation set, either in the training loop, or after it has finished (i.e., you have to store the values during training and return them).\n",
    "\n",
    "We have prepared the `train_model` function with the arguments you need, but you have access to *args and **kwargs if you want to pass additional arguments to the function."
   ]
  },
  {
   "cell_type": "code",
   "execution_count": 26,
   "metadata": {
    "deletable": false,
    "nbgrader": {
     "cell_type": "code",
     "checksum": "651fa27aab4bd856b89ccdb51201cdf9",
     "grade": false,
     "grade_id": "cell-e1cb09a6dcbdb401",
     "locked": false,
     "schema_version": 3,
     "solution": true,
     "task": false
    }
   },
   "outputs": [],
   "source": [
    "from typing import Callable, Union\n",
    "\n",
    "import torch\n",
    "import torch.nn as nn\n",
    "import torch.utils\n",
    "\n",
    "def accuracy(y_hat: torch.Tensor, y: torch.Tensor) -> torch.Tensor:\n",
    "    \"\"\"\n",
    "    Compute the accuracy of the model.\n",
    "\n",
    "    Args:\n",
    "    y_hat: torch.Tensor: The model predictions (probability per class), shape: [batch_size, num_classes]\n",
    "    y: torch.Tensor: The true labels, shape: [batch_size]\n",
    "\n",
    "    Returns:\n",
    "    torch.Tensor: The accuracy of the model\n",
    "    \"\"\"\n",
    "    #YOUR CODE HERE\n",
    "    if y.dim() == 2 and y.shape == y_hat.shape:\n",
    "        y_true = y.argmax(dim=1)\n",
    "    else:\n",
    "        y_true = y.squeeze().long()\n",
    "\n",
    "    # multiclass vs binary/logit\n",
    "    if y_hat.dim() > 1 and y_hat.size(1) > 1:\n",
    "        preds = y_hat.argmax(dim=1)\n",
    "    else:\n",
    "        preds = (torch.sigmoid(y_hat.squeeze()) > 0.5).long()\n",
    "\n",
    "    return (preds == y_true).float().mean()\n",
    "\n",
    "def train_model(\n",
    "    model: nn.Module,\n",
    "    optimizer: torch.optim,\n",
    "    loss_fn: Union[Callable, nn.Module],\n",
    "    num_epochs: int,\n",
    "    train_dataloader: torch.utils.data.DataLoader,\n",
    "    val_dataloader: torch.utils.data.DataLoader,\n",
    "    device: Union[str, torch.device],\n",
    "    *args,\n",
    "    **kwargs,\n",
    "):\n",
    "    \"\"\"\n",
    "    Train the model.\n",
    "\n",
    "    Args:\n",
    "    model: nn.Module: The neural network model\n",
    "    optimizer: torch.optim: The optimizer used to update the model parameters\n",
    "    loss_fn: Union[Callable, nn.Module]: The loss function used to compute the loss\n",
    "    num_epochs: int: The number of epochs to train the model\n",
    "    train_dataloader: torch.utils.data.DataLoader: The training dataloader\n",
    "    val_dataloader: torch.utils.data.DataLoader: The validation dataloader\n",
    "    device: Union[str, torch.device]: The device to run the training on\n",
    "    *args: Additional arguments to pass to the train function\n",
    "    **kwargs: Additional keyword arguments to pass to the train function\n",
    "    \"\"\"\n",
    "    model.to(device)\n",
    "    for epoch in range(num_epochs):\n",
    "        model.train()\n",
    "        train_loss = 0.0\n",
    "        train_acc = 0.0\n",
    "        for xb, yb in train_dataloader:\n",
    "            xb, yb = xb.to(device), yb.to(device)\n",
    "            optimizer.zero_grad()\n",
    "            y_hat = model(xb)\n",
    "            loss = loss_fn(y_hat, yb)\n",
    "            loss.backward()\n",
    "            optimizer.step()\n",
    "            train_loss += loss.item() * xb.size(0)\n",
    "            train_acc += (y_hat.argmax(dim=1) == yb).float().sum().item()\n",
    "        train_loss /= len(train_dataloader.dataset)\n",
    "        train_acc /= len(train_dataloader.dataset)\n",
    "\n",
    "        model.eval()\n",
    "        val_loss = 0.0\n",
    "        val_acc = 0.0\n",
    "        with torch.no_grad():\n",
    "            for xb, yb in val_dataloader:\n",
    "                xb, yb = xb.to(device), yb.to(device)\n",
    "                y_hat = model(xb)\n",
    "                loss = loss_fn(y_hat, yb)\n",
    "                val_loss += loss.item() * xb.size(0)\n",
    "                val_acc += (y_hat.argmax(dim=1) == yb).float().sum().item()\n",
    "        val_loss /= len(val_dataloader.dataset)\n",
    "        val_acc /= len(val_dataloader.dataset)\n",
    "\n",
    "        print(f\"Epoch {epoch+1}/{num_epochs} | Train Loss: {train_loss:.4f} | Train Acc: {train_acc:.4f} | Val Loss: {val_loss:.4f} | Val Acc: {val_acc:.4f}\")\n"
   ]
  },
  {
   "cell_type": "markdown",
   "metadata": {
    "deletable": false,
    "editable": false,
    "nbgrader": {
     "cell_type": "markdown",
     "checksum": "f120e556ca9bee3969022ccd95c884d5",
     "grade": false,
     "grade_id": "cell-abd73fe36efa945d",
     "locked": true,
     "schema_version": 3,
     "solution": false,
     "task": false
    }
   },
   "source": [
    "Next, we'll test that your training loop is correct. A [common sanity check in deep learning](https://karpathy.github.io/2019/04/25/recipe/) is to overfit to a small dataset, like a single batch of data. This ensures that shapes and devices are correctly set, and the network can learn/memorize the training data, which is a good starting point before training on the full dataset."
   ]
  },
  {
   "cell_type": "code",
   "execution_count": 28,
   "metadata": {
    "deletable": false,
    "editable": false,
    "nbgrader": {
     "cell_type": "code",
     "checksum": "4f4c52b6973df138e3fbe8f0ce30b32d",
     "grade": true,
     "grade_id": "cell-be96e21b4495aa27",
     "locked": true,
     "points": 1,
     "schema_version": 3,
     "solution": false,
     "task": false
    }
   },
   "outputs": [
    {
     "name": "stdout",
     "output_type": "stream",
     "text": [
      "Testing training loop, CPU\n",
      "Epoch 1/100 | Train Loss: 1.3260 | Train Acc: 0.0000 | Val Loss: 1.0975 | Val Acc: 0.5000\n",
      "Epoch 2/100 | Train Loss: 1.2955 | Train Acc: 0.0000 | Val Loss: 1.1047 | Val Acc: 0.5000\n",
      "Epoch 3/100 | Train Loss: 1.2657 | Train Acc: 0.0000 | Val Loss: 1.1119 | Val Acc: 0.5000\n",
      "Epoch 4/100 | Train Loss: 1.2366 | Train Acc: 0.0000 | Val Loss: 1.1193 | Val Acc: 0.5000\n",
      "Epoch 5/100 | Train Loss: 1.2081 | Train Acc: 0.0000 | Val Loss: 1.1267 | Val Acc: 0.5000\n",
      "Epoch 6/100 | Train Loss: 1.1803 | Train Acc: 0.0000 | Val Loss: 1.1343 | Val Acc: 0.5000\n",
      "Epoch 7/100 | Train Loss: 1.1531 | Train Acc: 0.0000 | Val Loss: 1.1419 | Val Acc: 0.5000\n",
      "Epoch 8/100 | Train Loss: 1.1267 | Train Acc: 0.0000 | Val Loss: 1.1495 | Val Acc: 0.5000\n",
      "Epoch 9/100 | Train Loss: 1.1008 | Train Acc: 0.5000 | Val Loss: 1.1573 | Val Acc: 0.5000\n",
      "Epoch 10/100 | Train Loss: 1.0756 | Train Acc: 0.5000 | Val Loss: 1.1651 | Val Acc: 0.5000\n",
      "Epoch 11/100 | Train Loss: 1.0511 | Train Acc: 0.5000 | Val Loss: 1.1730 | Val Acc: 0.5000\n",
      "Epoch 12/100 | Train Loss: 1.0272 | Train Acc: 0.5000 | Val Loss: 1.1810 | Val Acc: 0.5000\n",
      "Epoch 13/100 | Train Loss: 1.0039 | Train Acc: 0.5000 | Val Loss: 1.1890 | Val Acc: 0.5000\n",
      "Epoch 14/100 | Train Loss: 0.9812 | Train Acc: 0.5000 | Val Loss: 1.1970 | Val Acc: 0.5000\n",
      "Epoch 15/100 | Train Loss: 0.9591 | Train Acc: 0.5000 | Val Loss: 1.2051 | Val Acc: 0.5000\n",
      "Epoch 16/100 | Train Loss: 0.9376 | Train Acc: 0.5000 | Val Loss: 1.2133 | Val Acc: 0.5000\n",
      "Epoch 17/100 | Train Loss: 0.9167 | Train Acc: 0.5000 | Val Loss: 1.2215 | Val Acc: 0.5000\n",
      "Epoch 18/100 | Train Loss: 0.8963 | Train Acc: 0.5000 | Val Loss: 1.2297 | Val Acc: 0.5000\n",
      "Epoch 19/100 | Train Loss: 0.8765 | Train Acc: 0.5000 | Val Loss: 1.2380 | Val Acc: 0.5000\n",
      "Epoch 20/100 | Train Loss: 0.8572 | Train Acc: 0.5000 | Val Loss: 1.2462 | Val Acc: 0.5000\n",
      "Epoch 21/100 | Train Loss: 0.8385 | Train Acc: 0.5000 | Val Loss: 1.2545 | Val Acc: 0.5000\n",
      "Epoch 22/100 | Train Loss: 0.8203 | Train Acc: 0.5000 | Val Loss: 1.2629 | Val Acc: 0.5000\n",
      "Epoch 23/100 | Train Loss: 0.8026 | Train Acc: 0.5000 | Val Loss: 1.2712 | Val Acc: 0.5000\n",
      "Epoch 24/100 | Train Loss: 0.7854 | Train Acc: 0.5000 | Val Loss: 1.2795 | Val Acc: 0.5000\n",
      "Epoch 25/100 | Train Loss: 0.7687 | Train Acc: 0.5000 | Val Loss: 1.2879 | Val Acc: 0.5000\n",
      "Epoch 26/100 | Train Loss: 0.7524 | Train Acc: 0.5000 | Val Loss: 1.2962 | Val Acc: 0.5000\n",
      "Epoch 27/100 | Train Loss: 0.7367 | Train Acc: 0.5000 | Val Loss: 1.3046 | Val Acc: 0.5000\n",
      "Epoch 28/100 | Train Loss: 0.7213 | Train Acc: 0.5000 | Val Loss: 1.3129 | Val Acc: 0.5000\n",
      "Epoch 29/100 | Train Loss: 0.7064 | Train Acc: 1.0000 | Val Loss: 1.3212 | Val Acc: 0.5000\n",
      "Epoch 30/100 | Train Loss: 0.6920 | Train Acc: 1.0000 | Val Loss: 1.3295 | Val Acc: 0.0000\n",
      "Epoch 31/100 | Train Loss: 0.6779 | Train Acc: 1.0000 | Val Loss: 1.3378 | Val Acc: 0.0000\n",
      "Epoch 32/100 | Train Loss: 0.6643 | Train Acc: 1.0000 | Val Loss: 1.3461 | Val Acc: 0.0000\n",
      "Epoch 33/100 | Train Loss: 0.6510 | Train Acc: 1.0000 | Val Loss: 1.3544 | Val Acc: 0.0000\n",
      "Epoch 34/100 | Train Loss: 0.6381 | Train Acc: 1.0000 | Val Loss: 1.3626 | Val Acc: 0.0000\n",
      "Epoch 35/100 | Train Loss: 0.6256 | Train Acc: 1.0000 | Val Loss: 1.3708 | Val Acc: 0.0000\n",
      "Epoch 36/100 | Train Loss: 0.6134 | Train Acc: 1.0000 | Val Loss: 1.3790 | Val Acc: 0.0000\n",
      "Epoch 37/100 | Train Loss: 0.6016 | Train Acc: 1.0000 | Val Loss: 1.3872 | Val Acc: 0.0000\n",
      "Epoch 38/100 | Train Loss: 0.5901 | Train Acc: 1.0000 | Val Loss: 1.3953 | Val Acc: 0.0000\n",
      "Epoch 39/100 | Train Loss: 0.5790 | Train Acc: 1.0000 | Val Loss: 1.4034 | Val Acc: 0.0000\n",
      "Epoch 40/100 | Train Loss: 0.5682 | Train Acc: 1.0000 | Val Loss: 1.4114 | Val Acc: 0.0000\n",
      "Epoch 41/100 | Train Loss: 0.5576 | Train Acc: 1.0000 | Val Loss: 1.4194 | Val Acc: 0.0000\n",
      "Epoch 42/100 | Train Loss: 0.5474 | Train Acc: 1.0000 | Val Loss: 1.4274 | Val Acc: 0.0000\n",
      "Epoch 43/100 | Train Loss: 0.5375 | Train Acc: 1.0000 | Val Loss: 1.4353 | Val Acc: 0.0000\n",
      "Epoch 44/100 | Train Loss: 0.5278 | Train Acc: 1.0000 | Val Loss: 1.4432 | Val Acc: 0.0000\n",
      "Epoch 45/100 | Train Loss: 0.5184 | Train Acc: 1.0000 | Val Loss: 1.4510 | Val Acc: 0.0000\n",
      "Epoch 46/100 | Train Loss: 0.5092 | Train Acc: 1.0000 | Val Loss: 1.4588 | Val Acc: 0.0000\n",
      "Epoch 47/100 | Train Loss: 0.5003 | Train Acc: 1.0000 | Val Loss: 1.4665 | Val Acc: 0.0000\n",
      "Epoch 48/100 | Train Loss: 0.4917 | Train Acc: 1.0000 | Val Loss: 1.4742 | Val Acc: 0.0000\n",
      "Epoch 49/100 | Train Loss: 0.4833 | Train Acc: 1.0000 | Val Loss: 1.4818 | Val Acc: 0.0000\n",
      "Epoch 50/100 | Train Loss: 0.4751 | Train Acc: 1.0000 | Val Loss: 1.4894 | Val Acc: 0.0000\n",
      "Epoch 51/100 | Train Loss: 0.4671 | Train Acc: 1.0000 | Val Loss: 1.4970 | Val Acc: 0.0000\n",
      "Epoch 52/100 | Train Loss: 0.4594 | Train Acc: 1.0000 | Val Loss: 1.5044 | Val Acc: 0.0000\n",
      "Epoch 53/100 | Train Loss: 0.4519 | Train Acc: 1.0000 | Val Loss: 1.5119 | Val Acc: 0.0000\n",
      "Epoch 54/100 | Train Loss: 0.4445 | Train Acc: 1.0000 | Val Loss: 1.5193 | Val Acc: 0.0000\n",
      "Epoch 55/100 | Train Loss: 0.4374 | Train Acc: 1.0000 | Val Loss: 1.5266 | Val Acc: 0.0000\n",
      "Epoch 56/100 | Train Loss: 0.4304 | Train Acc: 1.0000 | Val Loss: 1.5339 | Val Acc: 0.0000\n",
      "Epoch 57/100 | Train Loss: 0.4236 | Train Acc: 1.0000 | Val Loss: 1.5411 | Val Acc: 0.0000\n",
      "Epoch 58/100 | Train Loss: 0.4170 | Train Acc: 1.0000 | Val Loss: 1.5483 | Val Acc: 0.0000\n",
      "Epoch 59/100 | Train Loss: 0.4106 | Train Acc: 1.0000 | Val Loss: 1.5554 | Val Acc: 0.0000\n",
      "Epoch 60/100 | Train Loss: 0.4043 | Train Acc: 1.0000 | Val Loss: 1.5625 | Val Acc: 0.0000\n",
      "Epoch 61/100 | Train Loss: 0.3982 | Train Acc: 1.0000 | Val Loss: 1.5695 | Val Acc: 0.0000\n",
      "Epoch 62/100 | Train Loss: 0.3922 | Train Acc: 1.0000 | Val Loss: 1.5764 | Val Acc: 0.0000\n",
      "Epoch 63/100 | Train Loss: 0.3864 | Train Acc: 1.0000 | Val Loss: 1.5833 | Val Acc: 0.0000\n",
      "Epoch 64/100 | Train Loss: 0.3808 | Train Acc: 1.0000 | Val Loss: 1.5902 | Val Acc: 0.0000\n",
      "Epoch 65/100 | Train Loss: 0.3752 | Train Acc: 1.0000 | Val Loss: 1.5970 | Val Acc: 0.0000\n",
      "Epoch 66/100 | Train Loss: 0.3698 | Train Acc: 1.0000 | Val Loss: 1.6037 | Val Acc: 0.0000\n",
      "Epoch 67/100 | Train Loss: 0.3646 | Train Acc: 1.0000 | Val Loss: 1.6104 | Val Acc: 0.0000\n",
      "Epoch 68/100 | Train Loss: 0.3595 | Train Acc: 1.0000 | Val Loss: 1.6170 | Val Acc: 0.0000\n",
      "Epoch 69/100 | Train Loss: 0.3544 | Train Acc: 1.0000 | Val Loss: 1.6236 | Val Acc: 0.0000\n",
      "Epoch 70/100 | Train Loss: 0.3495 | Train Acc: 1.0000 | Val Loss: 1.6302 | Val Acc: 0.0000\n",
      "Epoch 71/100 | Train Loss: 0.3448 | Train Acc: 1.0000 | Val Loss: 1.6366 | Val Acc: 0.0000\n",
      "Epoch 72/100 | Train Loss: 0.3401 | Train Acc: 1.0000 | Val Loss: 1.6431 | Val Acc: 0.0000\n",
      "Epoch 73/100 | Train Loss: 0.3356 | Train Acc: 1.0000 | Val Loss: 1.6495 | Val Acc: 0.0000\n",
      "Epoch 74/100 | Train Loss: 0.3311 | Train Acc: 1.0000 | Val Loss: 1.6558 | Val Acc: 0.0000\n",
      "Epoch 75/100 | Train Loss: 0.3267 | Train Acc: 1.0000 | Val Loss: 1.6621 | Val Acc: 0.0000\n",
      "Epoch 76/100 | Train Loss: 0.3225 | Train Acc: 1.0000 | Val Loss: 1.6683 | Val Acc: 0.0000\n",
      "Epoch 77/100 | Train Loss: 0.3183 | Train Acc: 1.0000 | Val Loss: 1.6745 | Val Acc: 0.0000\n",
      "Epoch 78/100 | Train Loss: 0.3143 | Train Acc: 1.0000 | Val Loss: 1.6806 | Val Acc: 0.0000\n",
      "Epoch 79/100 | Train Loss: 0.3103 | Train Acc: 1.0000 | Val Loss: 1.6867 | Val Acc: 0.0000\n",
      "Epoch 80/100 | Train Loss: 0.3064 | Train Acc: 1.0000 | Val Loss: 1.6927 | Val Acc: 0.0000\n",
      "Epoch 81/100 | Train Loss: 0.3026 | Train Acc: 1.0000 | Val Loss: 1.6987 | Val Acc: 0.0000\n",
      "Epoch 82/100 | Train Loss: 0.2989 | Train Acc: 1.0000 | Val Loss: 1.7046 | Val Acc: 0.0000\n",
      "Epoch 83/100 | Train Loss: 0.2953 | Train Acc: 1.0000 | Val Loss: 1.7105 | Val Acc: 0.0000\n",
      "Epoch 84/100 | Train Loss: 0.2917 | Train Acc: 1.0000 | Val Loss: 1.7163 | Val Acc: 0.0000\n",
      "Epoch 85/100 | Train Loss: 0.2882 | Train Acc: 1.0000 | Val Loss: 1.7221 | Val Acc: 0.0000\n",
      "Epoch 86/100 | Train Loss: 0.2848 | Train Acc: 1.0000 | Val Loss: 1.7279 | Val Acc: 0.0000\n",
      "Epoch 87/100 | Train Loss: 0.2815 | Train Acc: 1.0000 | Val Loss: 1.7336 | Val Acc: 0.0000\n",
      "Epoch 88/100 | Train Loss: 0.2782 | Train Acc: 1.0000 | Val Loss: 1.7392 | Val Acc: 0.0000\n",
      "Epoch 89/100 | Train Loss: 0.2750 | Train Acc: 1.0000 | Val Loss: 1.7449 | Val Acc: 0.0000\n",
      "Epoch 90/100 | Train Loss: 0.2719 | Train Acc: 1.0000 | Val Loss: 1.7504 | Val Acc: 0.0000\n",
      "Epoch 91/100 | Train Loss: 0.2688 | Train Acc: 1.0000 | Val Loss: 1.7559 | Val Acc: 0.0000\n",
      "Epoch 92/100 | Train Loss: 0.2658 | Train Acc: 1.0000 | Val Loss: 1.7614 | Val Acc: 0.0000\n",
      "Epoch 93/100 | Train Loss: 0.2628 | Train Acc: 1.0000 | Val Loss: 1.7669 | Val Acc: 0.0000\n",
      "Epoch 94/100 | Train Loss: 0.2599 | Train Acc: 1.0000 | Val Loss: 1.7723 | Val Acc: 0.0000\n",
      "Epoch 95/100 | Train Loss: 0.2571 | Train Acc: 1.0000 | Val Loss: 1.7776 | Val Acc: 0.0000\n",
      "Epoch 96/100 | Train Loss: 0.2543 | Train Acc: 1.0000 | Val Loss: 1.7829 | Val Acc: 0.0000\n",
      "Epoch 97/100 | Train Loss: 0.2516 | Train Acc: 1.0000 | Val Loss: 1.7882 | Val Acc: 0.0000\n",
      "Epoch 98/100 | Train Loss: 0.2489 | Train Acc: 1.0000 | Val Loss: 1.7934 | Val Acc: 0.0000\n",
      "Epoch 99/100 | Train Loss: 0.2463 | Train Acc: 1.0000 | Val Loss: 1.7986 | Val Acc: 0.0000\n",
      "Epoch 100/100 | Train Loss: 0.2437 | Train Acc: 1.0000 | Val Loss: 1.8038 | Val Acc: 0.0000\n"
     ]
    }
   ],
   "source": [
    "def test_train_loop():\n",
    "    import torch.nn as nn\n",
    "    import torch.optim as optim\n",
    "    import torch.utils.data as data\n",
    "\n",
    "    # init simple model, optimizer, loss_fn, dataloaders\n",
    "    linear_model = nn.Linear(2, 3)\n",
    "    optimizer = optim.SGD(linear_model.parameters(), lr=0.01)\n",
    "    loss_fn = nn.CrossEntropyLoss()\n",
    "    testing_loader_train = data.DataLoader(\n",
    "        data.TensorDataset(torch.randn(2, 2), torch.randint(0, 3, (2,)))\n",
    "    )\n",
    "    testing_loader_val = data.DataLoader(\n",
    "        data.TensorDataset(torch.randn(2, 2), torch.randint(0, 3, (2,)))\n",
    "    )\n",
    "\n",
    "    # copy parameters to check for changes\n",
    "    params_before_training = list(linear_model.parameters())\n",
    "    params_before_training = [p.clone().to(\"cpu\") for p in params_before_training]\n",
    "\n",
    "    print(\"Testing training loop, CPU\")\n",
    "    train_model(\n",
    "        model=linear_model,\n",
    "        optimizer=optimizer,\n",
    "        loss_fn=loss_fn,\n",
    "        num_epochs=100,\n",
    "        train_dataloader=testing_loader_train,\n",
    "        val_dataloader=testing_loader_val,\n",
    "        device=\"cpu\",\n",
    "    )\n",
    "    if torch.cuda.is_available():\n",
    "        print(\"Testing training loop, CUDA\")\n",
    "        train_model(\n",
    "            model=linear_model,\n",
    "            optimizer=optimizer,\n",
    "            loss_fn=loss_fn,\n",
    "            num_epochs=100,\n",
    "            train_dataloader=testing_loader_train,\n",
    "            val_dataloader=testing_loader_val,\n",
    "            device=\"cuda\" if torch.cuda.is_available() else \"cpu\",\n",
    "        )\n",
    "\n",
    "    params_after_training = list(linear_model.parameters())\n",
    "    params_after_training = [p.clone().to(\"cpu\") for p in params_after_training]\n",
    "    for p_before, p_after in zip(params_before_training, params_after_training):\n",
    "        assert torch.any(\n",
    "            p_before != p_after\n",
    "        ), \"Model parameters did not change during training\"\n",
    "\n",
    "    # check that we could overfit a single example\n",
    "    (x, y) = next(iter(testing_loader_train))\n",
    "    x.to(\"cpu\")\n",
    "    y.to(\"cpu\")\n",
    "    linear_model.to(\"cpu\")\n",
    "    assert (\n",
    "        linear_model(x).argmax().item() == y.item()\n",
    "    ), \"Model could not overfit a single example\"\n",
    "\n",
    "\n",
    "def test_accuracy():\n",
    "    y_pred = torch.tensor([[0.1, 0.8, 0.1], [0.3, 0.4, 0.3], [0.1, 0.1, 0.8]])\n",
    "    y_true = torch.tensor([1, 0, 2])\n",
    "    acc = accuracy(y_pred, y_true)\n",
    "    assert isinstance(acc, torch.Tensor), \"Accuracy should be a torch.Tensor\"\n",
    "    assert torch.isclose(acc, torch.tensor(2 / 3)), f\"Accuracy is {acc}, expected 2/3\"\n",
    "\n",
    "\n",
    "try:\n",
    "    test_train_loop()\n",
    "except Exception as e:\n",
    "    print(e)\n",
    "    assert False, \"Training test failed, see error above\"\n",
    "\n",
    "test_accuracy()"
   ]
  },
  {
   "cell_type": "markdown",
   "metadata": {
    "deletable": false,
    "editable": false,
    "nbgrader": {
     "cell_type": "markdown",
     "checksum": "bd84899c109e58d0664fc4fab26425a2",
     "grade": false,
     "grade_id": "cell-a13a4a8eef1c582f",
     "locked": true,
     "schema_version": 3,
     "solution": false,
     "task": false
    }
   },
   "source": [
    "Now, create a neural network using PyTorch. You can use any architecture you want. Save the model in the variable `model`."
   ]
  },
  {
   "cell_type": "code",
   "execution_count": 29,
   "metadata": {
    "deletable": false,
    "nbgrader": {
     "cell_type": "code",
     "checksum": "ccbab415641442556c01ed5667f4ea77",
     "grade": false,
     "grade_id": "cell-dff32f0d1dd91a72",
     "locked": false,
     "schema_version": 3,
     "solution": true,
     "task": false
    }
   },
   "outputs": [],
   "source": [
    "model = nn.Sequential(\n",
    "    nn.Linear(2, 64),\n",
    "    nn.ReLU(),\n",
    "    nn.Linear(64, 64),\n",
    "    nn.ReLU(),\n",
    "    nn.Linear(64, 128),\n",
    "    nn.ReLU(),\n",
    "    nn.Linear(128, 128),\n",
    "    nn.ReLU(),\n",
    "    nn.Linear(128, 64),\n",
    "    nn.ReLU(),\n",
    "    nn.Linear(64, 32),\n",
    "    nn.ReLU(),\n",
    "    nn.Linear(32, 3),\n",
    ")"
   ]
  },
  {
   "cell_type": "code",
   "execution_count": 30,
   "metadata": {
    "deletable": false,
    "editable": false,
    "nbgrader": {
     "cell_type": "code",
     "checksum": "8d10331a48b8b11d2d2056d610b13b7f",
     "grade": true,
     "grade_id": "cell-a3f55091f5cbbdfe",
     "locked": true,
     "points": 1,
     "schema_version": 3,
     "solution": false,
     "task": false
    }
   },
   "outputs": [],
   "source": [
    "assert isinstance(model, nn.Module)\n",
    "# check that we can run input of shape (batch_size, 2) through the model, with batch_size=16\n",
    "def test_model_output_shape(model):\n",
    "    is_model_on_cuda = next(model.parameters()).is_cuda\n",
    "    device = torch.device(\"cuda\" if is_model_on_cuda else \"cpu\")\n",
    "    assert (\n",
    "        len(model(torch.randn(16, 2, device=device))) == 16\n",
    "    ), \"The model should not change the batch size\"\n",
    "\n",
    "\n",
    "test_model_output_shape(model)"
   ]
  },
  {
   "cell_type": "markdown",
   "metadata": {
    "deletable": false,
    "editable": false,
    "nbgrader": {
     "cell_type": "markdown",
     "checksum": "de0dda92011c512396593caba091db79",
     "grade": false,
     "grade_id": "cell-d91e1230c6b9225d",
     "locked": true,
     "schema_version": 3,
     "solution": false
    }
   },
   "source": [
    "Train the network. \n",
    "\n",
    "For you to pass this assignment, you must obtain an accuracy on the test set greater than 60%. You can use the validation set as a proxy during development, but remember that they can differ slightly. We use the test set, as this better represents the performance of the model on new, unseen data (which is the ultimate goal).\n",
    "\n",
    "To reach the level of performance, it may be necessary to search for a good architecture by trying several different ones. Last, if you want a challenge, try getting an accuracy greater than 75% (our reference solution achieves ~78%).\n",
    "\n",
    "Again, it might be useful to plot the loss and accuracy (for training and validation) during training."
   ]
  },
  {
   "cell_type": "code",
   "execution_count": 33,
   "metadata": {
    "deletable": false,
    "nbgrader": {
     "cell_type": "code",
     "checksum": "335efaf08cc5e4593fe97659a126cd84",
     "grade": false,
     "grade_id": "cell-711ca3d58ad725b4",
     "locked": false,
     "schema_version": 3,
     "solution": true,
     "task": false
    }
   },
   "outputs": [
    {
     "name": "stdout",
     "output_type": "stream",
     "text": [
      "Epoch 1/200 - Train Loss: 3.8839 - Val Loss: 1.0887 - Val Acc: 0.631 - LR: 0.007000\n",
      "Epoch 10/200 - Train Loss: 0.9097 - Val Loss: 0.8764 - Val Acc: 0.640 - LR: 0.007000\n",
      "Epoch 10/200 - Train Loss: 0.9097 - Val Loss: 0.8764 - Val Acc: 0.640 - LR: 0.007000\n",
      "Epoch 20/200 - Train Loss: 0.8651 - Val Loss: 0.8866 - Val Acc: 0.619 - LR: 0.007000\n",
      "Epoch 20/200 - Train Loss: 0.8651 - Val Loss: 0.8866 - Val Acc: 0.619 - LR: 0.007000\n",
      "Epoch 30/200 - Train Loss: 0.7922 - Val Loss: 0.9598 - Val Acc: 0.608 - LR: 0.007000\n",
      "Epoch 30/200 - Train Loss: 0.7922 - Val Loss: 0.9598 - Val Acc: 0.608 - LR: 0.007000\n",
      "Epoch 40/200 - Train Loss: 0.8279 - Val Loss: 0.8370 - Val Acc: 0.637 - LR: 0.007000\n",
      "Epoch 40/200 - Train Loss: 0.8279 - Val Loss: 0.8370 - Val Acc: 0.637 - LR: 0.007000\n",
      "Epoch 50/200 - Train Loss: 0.7837 - Val Loss: 0.7838 - Val Acc: 0.648 - LR: 0.003500\n",
      "Epoch 50/200 - Train Loss: 0.7837 - Val Loss: 0.7838 - Val Acc: 0.648 - LR: 0.003500\n",
      "Epoch 60/200 - Train Loss: 0.7528 - Val Loss: 0.8485 - Val Acc: 0.621 - LR: 0.003500\n",
      "Epoch 60/200 - Train Loss: 0.7528 - Val Loss: 0.8485 - Val Acc: 0.621 - LR: 0.003500\n",
      "Epoch 70/200 - Train Loss: 0.7592 - Val Loss: 0.8205 - Val Acc: 0.604 - LR: 0.003500\n",
      "Epoch 70/200 - Train Loss: 0.7592 - Val Loss: 0.8205 - Val Acc: 0.604 - LR: 0.003500\n",
      "Epoch 80/200 - Train Loss: 0.7476 - Val Loss: 0.8139 - Val Acc: 0.638 - LR: 0.003500\n",
      "Epoch 80/200 - Train Loss: 0.7476 - Val Loss: 0.8139 - Val Acc: 0.638 - LR: 0.003500\n",
      "Epoch 90/200 - Train Loss: 0.7382 - Val Loss: 0.7986 - Val Acc: 0.631 - LR: 0.003500\n",
      "Epoch 90/200 - Train Loss: 0.7382 - Val Loss: 0.7986 - Val Acc: 0.631 - LR: 0.003500\n",
      "Epoch 100/200 - Train Loss: 0.7606 - Val Loss: 0.7817 - Val Acc: 0.638 - LR: 0.001750\n",
      "Epoch 100/200 - Train Loss: 0.7606 - Val Loss: 0.7817 - Val Acc: 0.638 - LR: 0.001750\n",
      "Epoch 110/200 - Train Loss: 0.7305 - Val Loss: 0.7964 - Val Acc: 0.638 - LR: 0.001750\n",
      "Epoch 110/200 - Train Loss: 0.7305 - Val Loss: 0.7964 - Val Acc: 0.638 - LR: 0.001750\n",
      "Epoch 120/200 - Train Loss: 0.7286 - Val Loss: 0.7847 - Val Acc: 0.679 - LR: 0.001750\n",
      "Epoch 120/200 - Train Loss: 0.7286 - Val Loss: 0.7847 - Val Acc: 0.679 - LR: 0.001750\n",
      "Epoch 130/200 - Train Loss: 0.7520 - Val Loss: 0.8061 - Val Acc: 0.642 - LR: 0.001750\n",
      "Epoch 130/200 - Train Loss: 0.7520 - Val Loss: 0.8061 - Val Acc: 0.642 - LR: 0.001750\n",
      "Epoch 140/200 - Train Loss: 0.7491 - Val Loss: 0.7811 - Val Acc: 0.638 - LR: 0.001750\n",
      "Epoch 140/200 - Train Loss: 0.7491 - Val Loss: 0.7811 - Val Acc: 0.638 - LR: 0.001750\n",
      "Epoch 150/200 - Train Loss: 0.7325 - Val Loss: 0.7996 - Val Acc: 0.627 - LR: 0.000875\n",
      "Epoch 150/200 - Train Loss: 0.7325 - Val Loss: 0.7996 - Val Acc: 0.627 - LR: 0.000875\n",
      "Epoch 160/200 - Train Loss: 0.7246 - Val Loss: 0.7750 - Val Acc: 0.613 - LR: 0.000875\n",
      "Epoch 160/200 - Train Loss: 0.7246 - Val Loss: 0.7750 - Val Acc: 0.613 - LR: 0.000875\n",
      "Epoch 170/200 - Train Loss: 0.7237 - Val Loss: 0.7833 - Val Acc: 0.610 - LR: 0.000875\n",
      "Epoch 170/200 - Train Loss: 0.7237 - Val Loss: 0.7833 - Val Acc: 0.610 - LR: 0.000875\n",
      "Epoch 180/200 - Train Loss: 0.7211 - Val Loss: 0.7946 - Val Acc: 0.606 - LR: 0.000875\n",
      "Epoch 180/200 - Train Loss: 0.7211 - Val Loss: 0.7946 - Val Acc: 0.606 - LR: 0.000875\n",
      "Epoch 190/200 - Train Loss: 0.7242 - Val Loss: 0.8339 - Val Acc: 0.629 - LR: 0.000875\n",
      "Epoch 190/200 - Train Loss: 0.7242 - Val Loss: 0.8339 - Val Acc: 0.629 - LR: 0.000875\n",
      "Epoch 200/200 - Train Loss: 0.7279 - Val Loss: 0.7797 - Val Acc: 0.635 - LR: 0.000438\n",
      "Epoch 200/200 - Train Loss: 0.7279 - Val Loss: 0.7797 - Val Acc: 0.635 - LR: 0.000438\n"
     ]
    },
    {
     "name": "stdout",
     "output_type": "stream",
     "text": [
      "Epoch 1/200 - Train Loss: 3.8839 - Val Loss: 1.0887 - Val Acc: 0.631 - LR: 0.007000\n",
      "Epoch 10/200 - Train Loss: 0.9097 - Val Loss: 0.8764 - Val Acc: 0.640 - LR: 0.007000\n",
      "Epoch 10/200 - Train Loss: 0.9097 - Val Loss: 0.8764 - Val Acc: 0.640 - LR: 0.007000\n",
      "Epoch 20/200 - Train Loss: 0.8651 - Val Loss: 0.8866 - Val Acc: 0.619 - LR: 0.007000\n",
      "Epoch 20/200 - Train Loss: 0.8651 - Val Loss: 0.8866 - Val Acc: 0.619 - LR: 0.007000\n",
      "Epoch 30/200 - Train Loss: 0.7922 - Val Loss: 0.9598 - Val Acc: 0.608 - LR: 0.007000\n",
      "Epoch 30/200 - Train Loss: 0.7922 - Val Loss: 0.9598 - Val Acc: 0.608 - LR: 0.007000\n",
      "Epoch 40/200 - Train Loss: 0.8279 - Val Loss: 0.8370 - Val Acc: 0.637 - LR: 0.007000\n",
      "Epoch 40/200 - Train Loss: 0.8279 - Val Loss: 0.8370 - Val Acc: 0.637 - LR: 0.007000\n",
      "Epoch 50/200 - Train Loss: 0.7837 - Val Loss: 0.7838 - Val Acc: 0.648 - LR: 0.003500\n",
      "Epoch 50/200 - Train Loss: 0.7837 - Val Loss: 0.7838 - Val Acc: 0.648 - LR: 0.003500\n",
      "Epoch 60/200 - Train Loss: 0.7528 - Val Loss: 0.8485 - Val Acc: 0.621 - LR: 0.003500\n",
      "Epoch 60/200 - Train Loss: 0.7528 - Val Loss: 0.8485 - Val Acc: 0.621 - LR: 0.003500\n",
      "Epoch 70/200 - Train Loss: 0.7592 - Val Loss: 0.8205 - Val Acc: 0.604 - LR: 0.003500\n",
      "Epoch 70/200 - Train Loss: 0.7592 - Val Loss: 0.8205 - Val Acc: 0.604 - LR: 0.003500\n",
      "Epoch 80/200 - Train Loss: 0.7476 - Val Loss: 0.8139 - Val Acc: 0.638 - LR: 0.003500\n",
      "Epoch 80/200 - Train Loss: 0.7476 - Val Loss: 0.8139 - Val Acc: 0.638 - LR: 0.003500\n",
      "Epoch 90/200 - Train Loss: 0.7382 - Val Loss: 0.7986 - Val Acc: 0.631 - LR: 0.003500\n",
      "Epoch 90/200 - Train Loss: 0.7382 - Val Loss: 0.7986 - Val Acc: 0.631 - LR: 0.003500\n",
      "Epoch 100/200 - Train Loss: 0.7606 - Val Loss: 0.7817 - Val Acc: 0.638 - LR: 0.001750\n",
      "Epoch 100/200 - Train Loss: 0.7606 - Val Loss: 0.7817 - Val Acc: 0.638 - LR: 0.001750\n",
      "Epoch 110/200 - Train Loss: 0.7305 - Val Loss: 0.7964 - Val Acc: 0.638 - LR: 0.001750\n",
      "Epoch 110/200 - Train Loss: 0.7305 - Val Loss: 0.7964 - Val Acc: 0.638 - LR: 0.001750\n",
      "Epoch 120/200 - Train Loss: 0.7286 - Val Loss: 0.7847 - Val Acc: 0.679 - LR: 0.001750\n",
      "Epoch 120/200 - Train Loss: 0.7286 - Val Loss: 0.7847 - Val Acc: 0.679 - LR: 0.001750\n",
      "Epoch 130/200 - Train Loss: 0.7520 - Val Loss: 0.8061 - Val Acc: 0.642 - LR: 0.001750\n",
      "Epoch 130/200 - Train Loss: 0.7520 - Val Loss: 0.8061 - Val Acc: 0.642 - LR: 0.001750\n",
      "Epoch 140/200 - Train Loss: 0.7491 - Val Loss: 0.7811 - Val Acc: 0.638 - LR: 0.001750\n",
      "Epoch 140/200 - Train Loss: 0.7491 - Val Loss: 0.7811 - Val Acc: 0.638 - LR: 0.001750\n",
      "Epoch 150/200 - Train Loss: 0.7325 - Val Loss: 0.7996 - Val Acc: 0.627 - LR: 0.000875\n",
      "Epoch 150/200 - Train Loss: 0.7325 - Val Loss: 0.7996 - Val Acc: 0.627 - LR: 0.000875\n",
      "Epoch 160/200 - Train Loss: 0.7246 - Val Loss: 0.7750 - Val Acc: 0.613 - LR: 0.000875\n",
      "Epoch 160/200 - Train Loss: 0.7246 - Val Loss: 0.7750 - Val Acc: 0.613 - LR: 0.000875\n",
      "Epoch 170/200 - Train Loss: 0.7237 - Val Loss: 0.7833 - Val Acc: 0.610 - LR: 0.000875\n",
      "Epoch 170/200 - Train Loss: 0.7237 - Val Loss: 0.7833 - Val Acc: 0.610 - LR: 0.000875\n",
      "Epoch 180/200 - Train Loss: 0.7211 - Val Loss: 0.7946 - Val Acc: 0.606 - LR: 0.000875\n",
      "Epoch 180/200 - Train Loss: 0.7211 - Val Loss: 0.7946 - Val Acc: 0.606 - LR: 0.000875\n",
      "Epoch 190/200 - Train Loss: 0.7242 - Val Loss: 0.8339 - Val Acc: 0.629 - LR: 0.000875\n",
      "Epoch 190/200 - Train Loss: 0.7242 - Val Loss: 0.8339 - Val Acc: 0.629 - LR: 0.000875\n",
      "Epoch 200/200 - Train Loss: 0.7279 - Val Loss: 0.7797 - Val Acc: 0.635 - LR: 0.000438\n",
      "Epoch 200/200 - Train Loss: 0.7279 - Val Loss: 0.7797 - Val Acc: 0.635 - LR: 0.000438\n"
     ]
    },
    {
     "data": {
      "image/png": "[encoded data removed]",
      "text/plain": [
       "<Figure size 1200x500 with 2 Axes>"
      ]
     },
     "metadata": {},
     "output_type": "display_data"
    },
    {
     "name": "stdout",
     "output_type": "stream",
     "text": [
      "Average validation accuracy (last 10 epochs): 0.634\n"
     ]
    }
   ],
   "source": [
    "\n",
    "# import torch.optim as optim\n",
    "# import matplotlib.pyplot as plt\n",
    "\n",
    "# epochs = 200\n",
    "# learning_rate = 0.007\n",
    "# def training(model, epochs, learning_rate, loader_val, loader_train):\n",
    "\n",
    "#     # Hyperparameters\n",
    "    \n",
    "#     criterion = nn.CrossEntropyLoss()\n",
    "#     optimizer = optim.Adam(model.parameters(), lr=learning_rate)\n",
    "#     scheduler = optim.lr_scheduler.StepLR(optimizer, step_size=50, gamma=0.5)\n",
    "\n",
    "#     train_losses = []\n",
    "#     val_losses = []\n",
    "#     val_accuracies = []\n",
    "\n",
    "#     for epoch in range(epochs):\n",
    "#         model.train()\n",
    "#         running_loss = 0.0\n",
    "#         for xb, yb in loader_train:\n",
    "#             optimizer.zero_grad()\n",
    "#             outputs = model(xb)\n",
    "#             loss = criterion(outputs, yb)\n",
    "#             loss.backward()\n",
    "#             optimizer.step()\n",
    "#             running_loss += loss.item() * xb.size(0)\n",
    "#         train_loss = running_loss / len(loader_train.dataset)\n",
    "#         train_losses.append(train_loss)\n",
    "\n",
    "#         # Validation\n",
    "#         model.eval()\n",
    "#         val_loss = 0.0\n",
    "#         correct = 0\n",
    "#         total = 0\n",
    "#         with torch.no_grad():\n",
    "#             for xb, yb in loader_val:\n",
    "#                 outputs = model(xb)\n",
    "#                 loss = criterion(outputs, yb)\n",
    "#                 val_loss += loss.item() * xb.size(0)\n",
    "#                 _, predicted = torch.max(outputs, 1)\n",
    "#                 correct += (predicted == yb).sum().item()\n",
    "#                 total += yb.size(0)\n",
    "#         val_loss = val_loss / len(loader_val.dataset)\n",
    "#         val_losses.append(val_loss)\n",
    "#         val_acc = correct / total\n",
    "#         val_accuracies.append(val_acc)\n",
    "#         scheduler.step() \n",
    "#         if (epoch+1) % 10 == 0 or epoch == 0:\n",
    "#             print(f\"Epoch {epoch+1}/{epochs} - Train Loss: {train_loss:.4f} - Val Loss: {val_loss:.4f} - Val Acc: {val_acc:.3f} - LR: {scheduler.get_last_lr()[0]:.6f}\")\n"
   ]
  },
  {
   "cell_type": "markdown",
   "metadata": {
    "deletable": false,
    "editable": false,
    "nbgrader": {
     "cell_type": "markdown",
     "checksum": "0ed7706ede3cdfcebbe0b86290eed0b0",
     "grade": false,
     "grade_id": "cell-f0963d119d02b778",
     "locked": true,
     "schema_version": 3,
     "solution": false,
     "task": false
    }
   },
   "source": [
    "Let's have a look at what we have learned! Create a function that visualizes the decision regions of the network. Overlap it with the points corresponding to the training data and validations data, such as in Section 2, by using the scatter plot function. The training and validation points should have different markers and/or colors. Last, call the function to visualize the decision regions of your network.\n",
    "\n",
    "Hint: A simple way to show the decision region is to generate a lot of points within a predefined range of longitude and latitude and apply your network to it. However, feel free to explore other ways."
   ]
  },
  {
   "cell_type": "code",
   "execution_count": null,
   "metadata": {
    "deletable": false,
    "nbgrader": {
     "cell_type": "code",
     "checksum": "7aa9ff47eb2e3bba211130138b992462",
     "grade": false,
     "grade_id": "cell-38b52ac21b7b7100",
     "locked": false,
     "schema_version": 3,
     "solution": true,
     "task": false
    }
   },
   "outputs": [
    {
     "data": {
      "image/png": "[encoded data removed]",
      "text/plain": [
       "<Figure size 800x600 with 1 Axes>"
      ]
     },
     "metadata": {},
     "output_type": "display_data"
    }
   ],
   "source": [
    "def plot_decision_region(model: nn.Module, x_train, y_train, x_val, y_val):\n",
    "    \"\"\"\n",
    "    Plot the decision region of the model.\n",
    "    \n",
    "    Args:\n",
    "        model: nn.Module: The trained model\n",
    "        x_train: Training features (numpy array or torch.Tensor)\n",
    "        y_train: Training labels (numpy array or torch.Tensor)\n",
    "        x_val: Validation features (numpy array or torch.Tensor)\n",
    "        y_val: Validation labels (numpy array or torch.Tensor)\n",
    "    \"\"\"\n",
    "    # Convert to numpy if needed\n",
    "    if torch.is_tensor(x_train): x_train = x_train.cpu().numpy()\n",
    "    if torch.is_tensor(y_train): y_train = y_train.cpu().numpy()\n",
    "    if torch.is_tensor(x_val): x_val = x_val.cpu().numpy()\n",
    "    if torch.is_tensor(y_val): y_val = y_val.cpu().numpy()\n",
    "\n",
    "    # Define grid\n",
    "    x_min, x_max = min(x_train[:,0].min(), x_val[:,0].min()) - 0.5, max(x_train[:,0].max(), x_val[:,0].max()) + 0.5\n",
    "    y_min, y_max = min(x_train[:,1].min(), x_val[:,1].min()) - 0.5, max(x_train[:,1].max(), x_val[:,1].max()) + 0.5\n",
    "    xx, yy = np.meshgrid(np.linspace(x_min, x_max, 300), np.linspace(y_min, y_max, 300))\n",
    "    grid = np.c_[xx.ravel(), yy.ravel()]\n",
    "\n",
    "    # Predict on grid\n",
    "    model.eval()\n",
    "    with torch.no_grad():\n",
    "        grid_tensor = torch.tensor(grid, dtype=torch.float32)\n",
    "        logits = model(grid_tensor)\n",
    "        preds = torch.argmax(logits, dim=1).cpu().numpy()\n",
    "    zz = preds.reshape(xx.shape)\n",
    "\n",
    "    # Plot decision region\n",
    "    plt.figure(figsize=(8,6))\n",
    "    plt.contourf(xx, yy, zz, alpha=0.3, cmap=plt.cm.coolwarm)\n",
    "    # Plot training points\n",
    "    plt.scatter(x_train[:,0], x_train[:,1], c=y_train, marker='o', cmap=plt.cm.coolwarm, edgecolor='k', label='Train')\n",
    "    # Plot validation points\n",
    "    plt.scatter(x_val[:,0], x_val[:,1], c=y_val, marker='^', cmap=plt.cm.coolwarm, edgecolor='k', label='Val')\n",
    "    plt.xlabel('Longitude')\n",
    "    plt.ylabel('Latitude')\n",
    "    plt.legend()\n",
    "    plt.title('Decision Regions')\n",
    "    plt.show()\n",
    "\n",
    "# Example usage (replace with your actual data variables):\n",
    "plot_decision_region(model, x_train, y_train, x_val, y_val)"
   ]
  },
  {
   "cell_type": "markdown",
   "metadata": {
    "deletable": false,
    "editable": false,
    "nbgrader": {
     "cell_type": "markdown",
     "checksum": "b5fa85ea2a29fda505102ade681a780c",
     "grade": false,
     "grade_id": "cell-5bd22b55c4aecfa8",
     "locked": true,
     "schema_version": 3,
     "solution": false,
     "task": false
    }
   },
   "source": [
    "Do the learned decision regions look like you would expect? Can they be improved? In what sense, and how would that change your model? Please comment on your results. "
   ]
  },
  {
   "cell_type": "markdown",
   "metadata": {
    "deletable": false,
    "nbgrader": {
     "cell_type": "markdown",
     "checksum": "0e3a5bdcf2012e5e6a94fa67f3cf2e5e",
     "grade": true,
     "grade_id": "cell-d611e347ddec2871",
     "locked": false,
     "points": 0,
     "schema_version": 3,
     "solution": true,
     "task": false
    }
   },
   "source": [
    "**Your answer:** Yes since the data was all over the place in the beginning, it makes sense that the regions look like a mess. Higher accuracy in the network would result in better regions. It is however still very difficult since many datapoints were on top of each other."
   ]
  },
  {
   "cell_type": "markdown",
   "metadata": {
    "deletable": false,
    "editable": false,
    "nbgrader": {
     "cell_type": "markdown",
     "checksum": "2d786c397dbdc99f25ccb68813feed32",
     "grade": false,
     "grade_id": "cell-383ffa6dc45f3da3",
     "locked": true,
     "schema_version": 3,
     "solution": false,
     "task": false
    }
   },
   "source": [
    "### 4.1. Model capacity and generalization\n",
    "\n",
    "Now we have all the neccessary tools to do a small experiment on model capacity and implications on generalization.\n",
    "\n",
    "Begin by defining a neural network `tiny_model` with a single linear layer and appropriate activation function. Then, train the network until convergence (should be fast)."
   ]
  },
  {
   "cell_type": "code",
   "execution_count": 110,
   "metadata": {
    "deletable": false,
    "nbgrader": {
     "cell_type": "code",
     "checksum": "23267595ed16c0c4b6d550280a68b430",
     "grade": false,
     "grade_id": "cell-00c94550168dad32",
     "locked": false,
     "schema_version": 3,
     "solution": true,
     "task": false
    }
   },
   "outputs": [
    {
     "name": "stdout",
     "output_type": "stream",
     "text": [
      "Epoch 1/100 | Train Loss: 15.5001 | Train Acc: 0.2707 | Val Loss: 6.2193 | Val Acc: 0.3308\n",
      "Epoch 2/100 | Train Loss: 3.0964 | Train Acc: 0.4262 | Val Loss: 1.2384 | Val Acc: 0.5769\n",
      "Epoch 3/100 | Train Loss: 1.2740 | Train Acc: 0.4891 | Val Loss: 1.0236 | Val Acc: 0.5750\n",
      "Epoch 4/100 | Train Loss: 0.9876 | Train Acc: 0.5153 | Val Loss: 0.9284 | Val Acc: 0.5212\n",
      "Epoch 5/100 | Train Loss: 0.9390 | Train Acc: 0.5127 | Val Loss: 0.9288 | Val Acc: 0.4885\n",
      "Epoch 6/100 | Train Loss: 0.9418 | Train Acc: 0.5144 | Val Loss: 0.9328 | Val Acc: 0.4885\n",
      "Epoch 7/100 | Train Loss: 0.9488 | Train Acc: 0.5092 | Val Loss: 0.9183 | Val Acc: 0.5769\n",
      "Epoch 8/100 | Train Loss: 0.9491 | Train Acc: 0.5205 | Val Loss: 0.9510 | Val Acc: 0.5769\n",
      "Epoch 9/100 | Train Loss: 0.9583 | Train Acc: 0.5266 | Val Loss: 0.9180 | Val Acc: 0.4269\n",
      "Epoch 10/100 | Train Loss: 0.9428 | Train Acc: 0.4917 | Val Loss: 0.9320 | Val Acc: 0.4712\n",
      "Epoch 11/100 | Train Loss: 0.9392 | Train Acc: 0.5214 | Val Loss: 0.9201 | Val Acc: 0.4885\n",
      "Epoch 12/100 | Train Loss: 0.9302 | Train Acc: 0.4961 | Val Loss: 0.9247 | Val Acc: 0.4885\n",
      "Epoch 13/100 | Train Loss: 0.9308 | Train Acc: 0.5319 | Val Loss: 0.9621 | Val Acc: 0.4885\n",
      "Epoch 14/100 | Train Loss: 0.9517 | Train Acc: 0.4926 | Val Loss: 0.9185 | Val Acc: 0.5673\n",
      "Epoch 15/100 | Train Loss: 0.9350 | Train Acc: 0.5275 | Val Loss: 0.9216 | Val Acc: 0.4885\n",
      "Epoch 16/100 | Train Loss: 0.9420 | Train Acc: 0.4891 | Val Loss: 0.9256 | Val Acc: 0.5769\n",
      "Epoch 17/100 | Train Loss: 0.9547 | Train Acc: 0.5039 | Val Loss: 0.9482 | Val Acc: 0.4885\n",
      "Epoch 10/100 | Train Loss: 0.9428 | Train Acc: 0.4917 | Val Loss: 0.9320 | Val Acc: 0.4712\n",
      "Epoch 11/100 | Train Loss: 0.9392 | Train Acc: 0.5214 | Val Loss: 0.9201 | Val Acc: 0.4885\n",
      "Epoch 12/100 | Train Loss: 0.9302 | Train Acc: 0.4961 | Val Loss: 0.9247 | Val Acc: 0.4885\n",
      "Epoch 13/100 | Train Loss: 0.9308 | Train Acc: 0.5319 | Val Loss: 0.9621 | Val Acc: 0.4885\n",
      "Epoch 14/100 | Train Loss: 0.9517 | Train Acc: 0.4926 | Val Loss: 0.9185 | Val Acc: 0.5673\n",
      "Epoch 15/100 | Train Loss: 0.9350 | Train Acc: 0.5275 | Val Loss: 0.9216 | Val Acc: 0.4885\n",
      "Epoch 16/100 | Train Loss: 0.9420 | Train Acc: 0.4891 | Val Loss: 0.9256 | Val Acc: 0.5769\n",
      "Epoch 17/100 | Train Loss: 0.9547 | Train Acc: 0.5039 | Val Loss: 0.9482 | Val Acc: 0.4885\n",
      "Epoch 18/100 | Train Loss: 0.9335 | Train Acc: 0.5127 | Val Loss: 0.9140 | Val Acc: 0.5769\n",
      "Epoch 19/100 | Train Loss: 0.9390 | Train Acc: 0.5100 | Val Loss: 0.9380 | Val Acc: 0.5231\n",
      "Epoch 20/100 | Train Loss: 0.9563 | Train Acc: 0.4795 | Val Loss: 0.9236 | Val Acc: 0.5769\n",
      "Epoch 21/100 | Train Loss: 0.9577 | Train Acc: 0.5083 | Val Loss: 0.9725 | Val Acc: 0.4885\n",
      "Epoch 22/100 | Train Loss: 0.9466 | Train Acc: 0.5039 | Val Loss: 0.9263 | Val Acc: 0.5769\n",
      "Epoch 23/100 | Train Loss: 0.9518 | Train Acc: 0.5389 | Val Loss: 0.9828 | Val Acc: 0.5192\n",
      "Epoch 24/100 | Train Loss: 0.9524 | Train Acc: 0.4952 | Val Loss: 0.9151 | Val Acc: 0.5750\n",
      "Epoch 25/100 | Train Loss: 0.9427 | Train Acc: 0.4952 | Val Loss: 0.9215 | Val Acc: 0.5769\n",
      "Epoch 26/100 | Train Loss: 0.9377 | Train Acc: 0.4751 | Val Loss: 0.9125 | Val Acc: 0.5827\n",
      "Epoch 18/100 | Train Loss: 0.9335 | Train Acc: 0.5127 | Val Loss: 0.9140 | Val Acc: 0.5769\n",
      "Epoch 19/100 | Train Loss: 0.9390 | Train Acc: 0.5100 | Val Loss: 0.9380 | Val Acc: 0.5231\n",
      "Epoch 20/100 | Train Loss: 0.9563 | Train Acc: 0.4795 | Val Loss: 0.9236 | Val Acc: 0.5769\n",
      "Epoch 21/100 | Train Loss: 0.9577 | Train Acc: 0.5083 | Val Loss: 0.9725 | Val Acc: 0.4885\n",
      "Epoch 22/100 | Train Loss: 0.9466 | Train Acc: 0.5039 | Val Loss: 0.9263 | Val Acc: 0.5769\n",
      "Epoch 23/100 | Train Loss: 0.9518 | Train Acc: 0.5389 | Val Loss: 0.9828 | Val Acc: 0.5192\n",
      "Epoch 24/100 | Train Loss: 0.9524 | Train Acc: 0.4952 | Val Loss: 0.9151 | Val Acc: 0.5750\n",
      "Epoch 25/100 | Train Loss: 0.9427 | Train Acc: 0.4952 | Val Loss: 0.9215 | Val Acc: 0.5769\n",
      "Epoch 26/100 | Train Loss: 0.9377 | Train Acc: 0.4751 | Val Loss: 0.9125 | Val Acc: 0.5827\n",
      "Epoch 27/100 | Train Loss: 0.9407 | Train Acc: 0.5162 | Val Loss: 0.9289 | Val Acc: 0.5769\n",
      "Epoch 28/100 | Train Loss: 0.9424 | Train Acc: 0.5074 | Val Loss: 0.9207 | Val Acc: 0.5827\n",
      "Epoch 29/100 | Train Loss: 0.9343 | Train Acc: 0.5127 | Val Loss: 0.9372 | Val Acc: 0.5769\n",
      "Epoch 30/100 | Train Loss: 0.9585 | Train Acc: 0.5066 | Val Loss: 1.0085 | Val Acc: 0.4942\n",
      "Epoch 31/100 | Train Loss: 0.9513 | Train Acc: 0.5389 | Val Loss: 0.9479 | Val Acc: 0.5788\n",
      "Epoch 32/100 | Train Loss: 0.9595 | Train Acc: 0.4996 | Val Loss: 0.9585 | Val Acc: 0.5769\n",
      "Epoch 33/100 | Train Loss: 0.9611 | Train Acc: 0.5406 | Val Loss: 1.0312 | Val Acc: 0.5269\n",
      "Epoch 34/100 | Train Loss: 0.9721 | Train Acc: 0.5083 | Val Loss: 0.9203 | Val Acc: 0.5115\n",
      "Epoch 35/100 | Train Loss: 0.9658 | Train Acc: 0.5083 | Val Loss: 0.9485 | Val Acc: 0.5827\n",
      "Epoch 27/100 | Train Loss: 0.9407 | Train Acc: 0.5162 | Val Loss: 0.9289 | Val Acc: 0.5769\n",
      "Epoch 28/100 | Train Loss: 0.9424 | Train Acc: 0.5074 | Val Loss: 0.9207 | Val Acc: 0.5827\n",
      "Epoch 29/100 | Train Loss: 0.9343 | Train Acc: 0.5127 | Val Loss: 0.9372 | Val Acc: 0.5769\n",
      "Epoch 30/100 | Train Loss: 0.9585 | Train Acc: 0.5066 | Val Loss: 1.0085 | Val Acc: 0.4942\n",
      "Epoch 31/100 | Train Loss: 0.9513 | Train Acc: 0.5389 | Val Loss: 0.9479 | Val Acc: 0.5788\n",
      "Epoch 32/100 | Train Loss: 0.9595 | Train Acc: 0.4996 | Val Loss: 0.9585 | Val Acc: 0.5769\n",
      "Epoch 33/100 | Train Loss: 0.9611 | Train Acc: 0.5406 | Val Loss: 1.0312 | Val Acc: 0.5269\n",
      "Epoch 34/100 | Train Loss: 0.9721 | Train Acc: 0.5083 | Val Loss: 0.9203 | Val Acc: 0.5115\n",
      "Epoch 35/100 | Train Loss: 0.9658 | Train Acc: 0.5083 | Val Loss: 0.9485 | Val Acc: 0.5827\n",
      "Epoch 36/100 | Train Loss: 0.9635 | Train Acc: 0.5074 | Val Loss: 0.9104 | Val Acc: 0.5808\n",
      "Epoch 37/100 | Train Loss: 0.9436 | Train Acc: 0.5013 | Val Loss: 0.9151 | Val Acc: 0.5173\n",
      "Epoch 38/100 | Train Loss: 0.9566 | Train Acc: 0.5214 | Val Loss: 0.9380 | Val Acc: 0.4942\n",
      "Epoch 39/100 | Train Loss: 0.9470 | Train Acc: 0.4821 | Val Loss: 0.9486 | Val Acc: 0.5385\n",
      "Epoch 40/100 | Train Loss: 0.9490 | Train Acc: 0.5135 | Val Loss: 0.9246 | Val Acc: 0.5558\n",
      "Epoch 41/100 | Train Loss: 0.9674 | Train Acc: 0.5197 | Val Loss: 0.9215 | Val Acc: 0.4942\n",
      "Epoch 42/100 | Train Loss: 0.9845 | Train Acc: 0.4830 | Val Loss: 0.9328 | Val Acc: 0.4942\n",
      "Epoch 43/100 | Train Loss: 0.9370 | Train Acc: 0.5310 | Val Loss: 0.9273 | Val Acc: 0.5827\n",
      "Epoch 44/100 | Train Loss: 0.9345 | Train Acc: 0.5293 | Val Loss: 0.9202 | Val Acc: 0.4942\n",
      "Epoch 36/100 | Train Loss: 0.9635 | Train Acc: 0.5074 | Val Loss: 0.9104 | Val Acc: 0.5808\n",
      "Epoch 37/100 | Train Loss: 0.9436 | Train Acc: 0.5013 | Val Loss: 0.9151 | Val Acc: 0.5173\n",
      "Epoch 38/100 | Train Loss: 0.9566 | Train Acc: 0.5214 | Val Loss: 0.9380 | Val Acc: 0.4942\n",
      "Epoch 39/100 | Train Loss: 0.9470 | Train Acc: 0.4821 | Val Loss: 0.9486 | Val Acc: 0.5385\n",
      "Epoch 40/100 | Train Loss: 0.9490 | Train Acc: 0.5135 | Val Loss: 0.9246 | Val Acc: 0.5558\n",
      "Epoch 41/100 | Train Loss: 0.9674 | Train Acc: 0.5197 | Val Loss: 0.9215 | Val Acc: 0.4942\n",
      "Epoch 42/100 | Train Loss: 0.9845 | Train Acc: 0.4830 | Val Loss: 0.9328 | Val Acc: 0.4942\n",
      "Epoch 43/100 | Train Loss: 0.9370 | Train Acc: 0.5310 | Val Loss: 0.9273 | Val Acc: 0.5827\n",
      "Epoch 44/100 | Train Loss: 0.9345 | Train Acc: 0.5293 | Val Loss: 0.9202 | Val Acc: 0.4942\n",
      "Epoch 45/100 | Train Loss: 0.9592 | Train Acc: 0.4847 | Val Loss: 0.9672 | Val Acc: 0.5115\n",
      "Epoch 46/100 | Train Loss: 0.9362 | Train Acc: 0.5188 | Val Loss: 0.9140 | Val Acc: 0.5038\n",
      "Epoch 47/100 | Train Loss: 0.9287 | Train Acc: 0.5013 | Val Loss: 0.9091 | Val Acc: 0.4673\n",
      "Epoch 48/100 | Train Loss: 0.9264 | Train Acc: 0.5275 | Val Loss: 0.9121 | Val Acc: 0.5212\n",
      "Epoch 49/100 | Train Loss: 0.9371 | Train Acc: 0.5074 | Val Loss: 0.9352 | Val Acc: 0.5250\n",
      "Epoch 50/100 | Train Loss: 0.9516 | Train Acc: 0.4873 | Val Loss: 0.9396 | Val Acc: 0.4942\n",
      "Epoch 51/100 | Train Loss: 0.9754 | Train Acc: 0.5039 | Val Loss: 0.9311 | Val Acc: 0.4942\n",
      "Epoch 52/100 | Train Loss: 0.9344 | Train Acc: 0.5057 | Val Loss: 0.9173 | Val Acc: 0.4962\n",
      "Epoch 53/100 | Train Loss: 0.9357 | Train Acc: 0.5048 | Val Loss: 0.9117 | Val Acc: 0.5923\n",
      "Epoch 45/100 | Train Loss: 0.9592 | Train Acc: 0.4847 | Val Loss: 0.9672 | Val Acc: 0.5115\n",
      "Epoch 46/100 | Train Loss: 0.9362 | Train Acc: 0.5188 | Val Loss: 0.9140 | Val Acc: 0.5038\n",
      "Epoch 47/100 | Train Loss: 0.9287 | Train Acc: 0.5013 | Val Loss: 0.9091 | Val Acc: 0.4673\n",
      "Epoch 48/100 | Train Loss: 0.9264 | Train Acc: 0.5275 | Val Loss: 0.9121 | Val Acc: 0.5212\n",
      "Epoch 49/100 | Train Loss: 0.9371 | Train Acc: 0.5074 | Val Loss: 0.9352 | Val Acc: 0.5250\n",
      "Epoch 50/100 | Train Loss: 0.9516 | Train Acc: 0.4873 | Val Loss: 0.9396 | Val Acc: 0.4942\n",
      "Epoch 51/100 | Train Loss: 0.9754 | Train Acc: 0.5039 | Val Loss: 0.9311 | Val Acc: 0.4942\n",
      "Epoch 52/100 | Train Loss: 0.9344 | Train Acc: 0.5057 | Val Loss: 0.9173 | Val Acc: 0.4962\n",
      "Epoch 53/100 | Train Loss: 0.9357 | Train Acc: 0.5048 | Val Loss: 0.9117 | Val Acc: 0.5923\n",
      "Epoch 54/100 | Train Loss: 0.9447 | Train Acc: 0.5520 | Val Loss: 0.9250 | Val Acc: 0.4942\n",
      "Epoch 55/100 | Train Loss: 0.9333 | Train Acc: 0.5039 | Val Loss: 0.9139 | Val Acc: 0.5827\n",
      "Epoch 56/100 | Train Loss: 0.9360 | Train Acc: 0.4996 | Val Loss: 0.9122 | Val Acc: 0.5212\n",
      "Epoch 57/100 | Train Loss: 0.9367 | Train Acc: 0.4760 | Val Loss: 0.9113 | Val Acc: 0.5173\n",
      "Epoch 58/100 | Train Loss: 0.9337 | Train Acc: 0.5424 | Val Loss: 0.9712 | Val Acc: 0.4962\n",
      "Epoch 59/100 | Train Loss: 0.9690 | Train Acc: 0.5170 | Val Loss: 0.9335 | Val Acc: 0.5827\n",
      "Epoch 60/100 | Train Loss: 0.9719 | Train Acc: 0.4507 | Val Loss: 0.9269 | Val Acc: 0.5404\n",
      "Epoch 61/100 | Train Loss: 0.9432 | Train Acc: 0.4996 | Val Loss: 0.9163 | Val Acc: 0.5827\n",
      "Epoch 62/100 | Train Loss: 0.9502 | Train Acc: 0.5162 | Val Loss: 0.9387 | Val Acc: 0.5269\n",
      "Epoch 54/100 | Train Loss: 0.9447 | Train Acc: 0.5520 | Val Loss: 0.9250 | Val Acc: 0.4942\n",
      "Epoch 55/100 | Train Loss: 0.9333 | Train Acc: 0.5039 | Val Loss: 0.9139 | Val Acc: 0.5827\n",
      "Epoch 56/100 | Train Loss: 0.9360 | Train Acc: 0.4996 | Val Loss: 0.9122 | Val Acc: 0.5212\n",
      "Epoch 57/100 | Train Loss: 0.9367 | Train Acc: 0.4760 | Val Loss: 0.9113 | Val Acc: 0.5173\n",
      "Epoch 58/100 | Train Loss: 0.9337 | Train Acc: 0.5424 | Val Loss: 0.9712 | Val Acc: 0.4962\n",
      "Epoch 59/100 | Train Loss: 0.9690 | Train Acc: 0.5170 | Val Loss: 0.9335 | Val Acc: 0.5827\n",
      "Epoch 60/100 | Train Loss: 0.9719 | Train Acc: 0.4507 | Val Loss: 0.9269 | Val Acc: 0.5404\n",
      "Epoch 61/100 | Train Loss: 0.9432 | Train Acc: 0.4996 | Val Loss: 0.9163 | Val Acc: 0.5827\n",
      "Epoch 62/100 | Train Loss: 0.9502 | Train Acc: 0.5162 | Val Loss: 0.9387 | Val Acc: 0.5269\n",
      "Epoch 63/100 | Train Loss: 0.9613 | Train Acc: 0.4620 | Val Loss: 0.9210 | Val Acc: 0.5827\n",
      "Epoch 64/100 | Train Loss: 0.9407 | Train Acc: 0.5336 | Val Loss: 0.9314 | Val Acc: 0.4942\n",
      "Epoch 65/100 | Train Loss: 0.9391 | Train Acc: 0.5083 | Val Loss: 0.9420 | Val Acc: 0.4942\n",
      "Epoch 66/100 | Train Loss: 0.9402 | Train Acc: 0.4917 | Val Loss: 0.9176 | Val Acc: 0.4942\n",
      "Epoch 67/100 | Train Loss: 0.9352 | Train Acc: 0.5179 | Val Loss: 0.9159 | Val Acc: 0.5827\n",
      "Epoch 68/100 | Train Loss: 0.9410 | Train Acc: 0.5170 | Val Loss: 0.9149 | Val Acc: 0.5173\n",
      "Epoch 69/100 | Train Loss: 0.9353 | Train Acc: 0.4690 | Val Loss: 0.9244 | Val Acc: 0.4904\n",
      "Epoch 70/100 | Train Loss: 0.9543 | Train Acc: 0.5109 | Val Loss: 0.9403 | Val Acc: 0.5827\n",
      "Epoch 71/100 | Train Loss: 0.9465 | Train Acc: 0.5153 | Val Loss: 0.9250 | Val Acc: 0.5308\n",
      "Epoch 72/100 | Train Loss: 0.9784 | Train Acc: 0.5179 | Val Loss: 0.9101 | Val Acc: 0.5212\n",
      "Epoch 63/100 | Train Loss: 0.9613 | Train Acc: 0.4620 | Val Loss: 0.9210 | Val Acc: 0.5827\n",
      "Epoch 64/100 | Train Loss: 0.9407 | Train Acc: 0.5336 | Val Loss: 0.9314 | Val Acc: 0.4942\n",
      "Epoch 65/100 | Train Loss: 0.9391 | Train Acc: 0.5083 | Val Loss: 0.9420 | Val Acc: 0.4942\n",
      "Epoch 66/100 | Train Loss: 0.9402 | Train Acc: 0.4917 | Val Loss: 0.9176 | Val Acc: 0.4942\n",
      "Epoch 67/100 | Train Loss: 0.9352 | Train Acc: 0.5179 | Val Loss: 0.9159 | Val Acc: 0.5827\n",
      "Epoch 68/100 | Train Loss: 0.9410 | Train Acc: 0.5170 | Val Loss: 0.9149 | Val Acc: 0.5173\n",
      "Epoch 69/100 | Train Loss: 0.9353 | Train Acc: 0.4690 | Val Loss: 0.9244 | Val Acc: 0.4904\n",
      "Epoch 70/100 | Train Loss: 0.9543 | Train Acc: 0.5109 | Val Loss: 0.9403 | Val Acc: 0.5827\n",
      "Epoch 71/100 | Train Loss: 0.9465 | Train Acc: 0.5153 | Val Loss: 0.9250 | Val Acc: 0.5308\n",
      "Epoch 72/100 | Train Loss: 0.9784 | Train Acc: 0.5179 | Val Loss: 0.9101 | Val Acc: 0.5212\n",
      "Epoch 73/100 | Train Loss: 0.9467 | Train Acc: 0.5205 | Val Loss: 0.9300 | Val Acc: 0.5115\n",
      "Epoch 74/100 | Train Loss: 0.9306 | Train Acc: 0.5074 | Val Loss: 0.9308 | Val Acc: 0.4942\n",
      "Epoch 75/100 | Train Loss: 0.9483 | Train Acc: 0.5179 | Val Loss: 0.9163 | Val Acc: 0.5269\n",
      "Epoch 76/100 | Train Loss: 0.9752 | Train Acc: 0.5266 | Val Loss: 1.0261 | Val Acc: 0.4942\n",
      "Epoch 77/100 | Train Loss: 0.9678 | Train Acc: 0.5249 | Val Loss: 0.9194 | Val Acc: 0.5885\n",
      "Epoch 78/100 | Train Loss: 0.9634 | Train Acc: 0.5022 | Val Loss: 0.9056 | Val Acc: 0.5788\n",
      "Epoch 79/100 | Train Loss: 0.9517 | Train Acc: 0.5240 | Val Loss: 0.9605 | Val Acc: 0.4635\n",
      "Epoch 80/100 | Train Loss: 0.9571 | Train Acc: 0.5153 | Val Loss: 0.9223 | Val Acc: 0.4942\n",
      "Epoch 81/100 | Train Loss: 0.9790 | Train Acc: 0.4830 | Val Loss: 0.9249 | Val Acc: 0.5827\n",
      "Epoch 73/100 | Train Loss: 0.9467 | Train Acc: 0.5205 | Val Loss: 0.9300 | Val Acc: 0.5115\n",
      "Epoch 74/100 | Train Loss: 0.9306 | Train Acc: 0.5074 | Val Loss: 0.9308 | Val Acc: 0.4942\n",
      "Epoch 75/100 | Train Loss: 0.9483 | Train Acc: 0.5179 | Val Loss: 0.9163 | Val Acc: 0.5269\n",
      "Epoch 76/100 | Train Loss: 0.9752 | Train Acc: 0.5266 | Val Loss: 1.0261 | Val Acc: 0.4942\n",
      "Epoch 77/100 | Train Loss: 0.9678 | Train Acc: 0.5249 | Val Loss: 0.9194 | Val Acc: 0.5885\n",
      "Epoch 78/100 | Train Loss: 0.9634 | Train Acc: 0.5022 | Val Loss: 0.9056 | Val Acc: 0.5788\n",
      "Epoch 79/100 | Train Loss: 0.9517 | Train Acc: 0.5240 | Val Loss: 0.9605 | Val Acc: 0.4635\n",
      "Epoch 80/100 | Train Loss: 0.9571 | Train Acc: 0.5153 | Val Loss: 0.9223 | Val Acc: 0.4942\n",
      "Epoch 81/100 | Train Loss: 0.9790 | Train Acc: 0.4830 | Val Loss: 0.9249 | Val Acc: 0.5827\n",
      "Epoch 82/100 | Train Loss: 0.9664 | Train Acc: 0.5223 | Val Loss: 0.9070 | Val Acc: 0.4154\n",
      "Epoch 83/100 | Train Loss: 0.9434 | Train Acc: 0.4838 | Val Loss: 0.9873 | Val Acc: 0.4942\n",
      "Epoch 84/100 | Train Loss: 0.9990 | Train Acc: 0.4908 | Val Loss: 0.9471 | Val Acc: 0.4942\n",
      "Epoch 85/100 | Train Loss: 0.9621 | Train Acc: 0.5162 | Val Loss: 0.9655 | Val Acc: 0.4942\n",
      "Epoch 86/100 | Train Loss: 0.9354 | Train Acc: 0.5310 | Val Loss: 0.9061 | Val Acc: 0.4750\n",
      "Epoch 87/100 | Train Loss: 0.9559 | Train Acc: 0.5118 | Val Loss: 0.9128 | Val Acc: 0.4981\n",
      "Epoch 88/100 | Train Loss: 0.9702 | Train Acc: 0.4716 | Val Loss: 0.9360 | Val Acc: 0.4942\n",
      "Epoch 89/100 | Train Loss: 0.9635 | Train Acc: 0.5066 | Val Loss: 0.9232 | Val Acc: 0.4942\n",
      "Epoch 90/100 | Train Loss: 0.9473 | Train Acc: 0.5153 | Val Loss: 0.9453 | Val Acc: 0.5385\n",
      "Epoch 82/100 | Train Loss: 0.9664 | Train Acc: 0.5223 | Val Loss: 0.9070 | Val Acc: 0.4154\n",
      "Epoch 83/100 | Train Loss: 0.9434 | Train Acc: 0.4838 | Val Loss: 0.9873 | Val Acc: 0.4942\n",
      "Epoch 84/100 | Train Loss: 0.9990 | Train Acc: 0.4908 | Val Loss: 0.9471 | Val Acc: 0.4942\n",
      "Epoch 85/100 | Train Loss: 0.9621 | Train Acc: 0.5162 | Val Loss: 0.9655 | Val Acc: 0.4942\n",
      "Epoch 86/100 | Train Loss: 0.9354 | Train Acc: 0.5310 | Val Loss: 0.9061 | Val Acc: 0.4750\n",
      "Epoch 87/100 | Train Loss: 0.9559 | Train Acc: 0.5118 | Val Loss: 0.9128 | Val Acc: 0.4981\n",
      "Epoch 88/100 | Train Loss: 0.9702 | Train Acc: 0.4716 | Val Loss: 0.9360 | Val Acc: 0.4942\n",
      "Epoch 89/100 | Train Loss: 0.9635 | Train Acc: 0.5066 | Val Loss: 0.9232 | Val Acc: 0.4942\n",
      "Epoch 90/100 | Train Loss: 0.9473 | Train Acc: 0.5153 | Val Loss: 0.9453 | Val Acc: 0.5385\n",
      "Epoch 91/100 | Train Loss: 0.9393 | Train Acc: 0.5057 | Val Loss: 0.9114 | Val Acc: 0.5154\n",
      "Epoch 92/100 | Train Loss: 0.9482 | Train Acc: 0.5092 | Val Loss: 0.9049 | Val Acc: 0.5904\n",
      "Epoch 93/100 | Train Loss: 0.9581 | Train Acc: 0.5066 | Val Loss: 0.9893 | Val Acc: 0.5827\n",
      "Epoch 94/100 | Train Loss: 1.0076 | Train Acc: 0.5275 | Val Loss: 0.9469 | Val Acc: 0.4519\n",
      "Epoch 95/100 | Train Loss: 0.9659 | Train Acc: 0.5170 | Val Loss: 1.0356 | Val Acc: 0.4942\n",
      "Epoch 96/100 | Train Loss: 0.9569 | Train Acc: 0.5153 | Val Loss: 0.9260 | Val Acc: 0.4942\n",
      "Epoch 97/100 | Train Loss: 0.9433 | Train Acc: 0.4900 | Val Loss: 0.9237 | Val Acc: 0.4942\n",
      "Epoch 98/100 | Train Loss: 0.9434 | Train Acc: 0.5074 | Val Loss: 0.9302 | Val Acc: 0.5288\n",
      "Epoch 99/100 | Train Loss: 0.9504 | Train Acc: 0.4969 | Val Loss: 0.9116 | Val Acc: 0.5096\n",
      "Epoch 100/100 | Train Loss: 0.9353 | Train Acc: 0.4934 | Val Loss: 0.9403 | Val Acc: 0.4942\n",
      "Epoch 91/100 | Train Loss: 0.9393 | Train Acc: 0.5057 | Val Loss: 0.9114 | Val Acc: 0.5154\n",
      "Epoch 92/100 | Train Loss: 0.9482 | Train Acc: 0.5092 | Val Loss: 0.9049 | Val Acc: 0.5904\n",
      "Epoch 93/100 | Train Loss: 0.9581 | Train Acc: 0.5066 | Val Loss: 0.9893 | Val Acc: 0.5827\n",
      "Epoch 94/100 | Train Loss: 1.0076 | Train Acc: 0.5275 | Val Loss: 0.9469 | Val Acc: 0.4519\n",
      "Epoch 95/100 | Train Loss: 0.9659 | Train Acc: 0.5170 | Val Loss: 1.0356 | Val Acc: 0.4942\n",
      "Epoch 96/100 | Train Loss: 0.9569 | Train Acc: 0.5153 | Val Loss: 0.9260 | Val Acc: 0.4942\n",
      "Epoch 97/100 | Train Loss: 0.9433 | Train Acc: 0.4900 | Val Loss: 0.9237 | Val Acc: 0.4942\n",
      "Epoch 98/100 | Train Loss: 0.9434 | Train Acc: 0.5074 | Val Loss: 0.9302 | Val Acc: 0.5288\n",
      "Epoch 99/100 | Train Loss: 0.9504 | Train Acc: 0.4969 | Val Loss: 0.9116 | Val Acc: 0.5096\n",
      "Epoch 100/100 | Train Loss: 0.9353 | Train Acc: 0.4934 | Val Loss: 0.9403 | Val Acc: 0.4942\n"
     ]
    }
   ],
   "source": [
    "# YOUR CODE HERE\n",
    "tiny_model = nn.Sequential(nn.Linear(2,3), nn.ReLU())\n",
    "train_model(\n",
    "    model=tiny_model,\n",
    "    optimizer=torch.optim.Adam(tiny_model.parameters(), lr=0.01),\n",
    "    loss_fn=nn.CrossEntropyLoss(),\n",
    "    num_epochs=100,\n",
    "    train_dataloader=loader_train,\n",
    "    val_dataloader=loader_val,\n",
    "    device=\"cuda\" if torch.cuda.is_available() else \"cpu\",\n",
    ")"
   ]
  },
  {
   "cell_type": "code",
   "execution_count": 111,
   "metadata": {
    "deletable": false,
    "editable": false,
    "nbgrader": {
     "cell_type": "code",
     "checksum": "947da7271bc82b1962e4a2f151e38cc7",
     "grade": true,
     "grade_id": "cell-5177de76d9ba3b95",
     "locked": true,
     "points": 0,
     "schema_version": 3,
     "solution": false,
     "task": false
    }
   },
   "outputs": [],
   "source": [
    "assert isinstance(tiny_model, nn.Module), \"tiny_model should be a torch.nn.Module\"\n",
    "test_model_output_shape(tiny_model)"
   ]
  },
  {
   "cell_type": "markdown",
   "metadata": {
    "deletable": false,
    "editable": false,
    "nbgrader": {
     "cell_type": "markdown",
     "checksum": "5210c12d044cbd33369d11ff806d3713",
     "grade": false,
     "grade_id": "cell-08c57975b0623508",
     "locked": true,
     "schema_version": 3,
     "solution": false,
     "task": false
    }
   },
   "source": [
    "Now, draw the decision regions of the network as you did in the previous section. Before running the code, think about what you expect to see. What will the regions look like? How will they differ from the previous ones?"
   ]
  },
  {
   "cell_type": "code",
   "execution_count": 112,
   "metadata": {
    "deletable": false,
    "nbgrader": {
     "cell_type": "code",
     "checksum": "f3a85fa9cff45032547dc23821abf17a",
     "grade": false,
     "grade_id": "cell-54d26c4853bef495",
     "locked": false,
     "schema_version": 3,
     "solution": true,
     "task": false
    }
   },
   "outputs": [
    {
     "data": {
      "image/png": "[encoded data removed]",
      "text/plain": [
       "<Figure size 800x600 with 1 Axes>"
      ]
     },
     "metadata": {},
     "output_type": "display_data"
    }
   ],
   "source": [
    "plot_decision_region(tiny_model, x_train, y_train, x_val, y_val)"
   ]
  },
  {
   "cell_type": "markdown",
   "metadata": {
    "deletable": false,
    "editable": false,
    "nbgrader": {
     "cell_type": "markdown",
     "checksum": "f7dd25b5a822f76d673abd2c19d04214",
     "grade": false,
     "grade_id": "cell-60ac824096c93c40",
     "locked": true,
     "schema_version": 3,
     "solution": false,
     "task": false
    }
   },
   "source": [
    "Are the decision regions any different? Why/why not? What does this tell you about the model capacity and generalization?"
   ]
  },
  {
   "cell_type": "markdown",
   "metadata": {
    "deletable": false,
    "nbgrader": {
     "cell_type": "markdown",
     "checksum": "3fab04c63006230a270e8d4cb6de097c",
     "grade": true,
     "grade_id": "cell-366b5ee2a98cf990",
     "locked": false,
     "points": 0,
     "schema_version": 3,
     "solution": true,
     "task": false
    }
   },
   "source": [
    "**Your answer:** It is different because it is less accurate. The decision boundaries seem to also be very simple with not many lines to differentiate them, an effect of having a more simple model i assume."
   ]
  },
  {
   "cell_type": "markdown",
   "metadata": {
    "deletable": false,
    "editable": false,
    "nbgrader": {
     "cell_type": "markdown",
     "checksum": "6e3581287819f1a7727aeed0aae5e3e8",
     "grade": false,
     "grade_id": "cell-9b64a4381757316b",
     "locked": true,
     "schema_version": 3,
     "solution": false,
     "task": false
    }
   },
   "source": [
    "Next, create a neural network `large_model` with many layers and/or hidden units. Try to maximize the training accuracy (0.7-0.8). Getting these models to converge might be a bit tricky, so you might have to adjust the learning rate, the optimizer, etc. Also, might be easier to have a wide model (large number of hidden units, say 1024 per layer) than a deep model (more than 4 layers).\n",
    "\n",
    "Feel free to experiment, but if you get stuck, our model is a MLP with an input layer, 4 hidden layers with 1024 units each, and an output layer. We used the ReLU activation function between each layer and a softmax for the output layer. We used the Adam optimizer with a learning rate of 0.003 and a batch size of 512. We trained for at least a few hundred epochs. Also, normalizing the input can be helpful (zero mean and unit variance)."
   ]
  },
  {
   "cell_type": "code",
   "execution_count": 113,
   "metadata": {
    "deletable": false,
    "nbgrader": {
     "cell_type": "code",
     "checksum": "9f70d4de2747cd6ef9d0d501495dcb1a",
     "grade": false,
     "grade_id": "cell-9abb82db6e8413d1",
     "locked": false,
     "schema_version": 3,
     "solution": true,
     "task": false
    }
   },
   "outputs": [
    {
     "name": "stdout",
     "output_type": "stream",
     "text": [
      "Epoch 1/500 | Train Loss: 0.9623 | Train Acc: 0.4961 | Val Loss: 0.8539 | Val Acc: 0.6750\n",
      "Epoch 2/500 | Train Loss: 0.8582 | Train Acc: 0.5965 | Val Loss: 0.7945 | Val Acc: 0.6673\n",
      "Epoch 3/500 | Train Loss: 0.8167 | Train Acc: 0.6192 | Val Loss: 0.7679 | Val Acc: 0.6692\n",
      "Epoch 4/500 | Train Loss: 0.8368 | Train Acc: 0.6122 | Val Loss: 0.8092 | Val Acc: 0.6500\n",
      "Epoch 5/500 | Train Loss: 0.8030 | Train Acc: 0.6227 | Val Loss: 0.7744 | Val Acc: 0.6615\n",
      "Epoch 6/500 | Train Loss: 0.8216 | Train Acc: 0.6218 | Val Loss: 0.7708 | Val Acc: 0.6538\n",
      "Epoch 7/500 | Train Loss: 0.8096 | Train Acc: 0.6227 | Val Loss: 0.7815 | Val Acc: 0.6365\n",
      "Epoch 8/500 | Train Loss: 0.8011 | Train Acc: 0.6306 | Val Loss: 0.7832 | Val Acc: 0.6462\n",
      "Epoch 5/500 | Train Loss: 0.8030 | Train Acc: 0.6227 | Val Loss: 0.7744 | Val Acc: 0.6615\n",
      "Epoch 6/500 | Train Loss: 0.8216 | Train Acc: 0.6218 | Val Loss: 0.7708 | Val Acc: 0.6538\n",
      "Epoch 7/500 | Train Loss: 0.8096 | Train Acc: 0.6227 | Val Loss: 0.7815 | Val Acc: 0.6365\n",
      "Epoch 8/500 | Train Loss: 0.8011 | Train Acc: 0.6306 | Val Loss: 0.7832 | Val Acc: 0.6462\n",
      "Epoch 9/500 | Train Loss: 0.7973 | Train Acc: 0.6253 | Val Loss: 0.7628 | Val Acc: 0.6423\n",
      "Epoch 10/500 | Train Loss: 0.7943 | Train Acc: 0.6183 | Val Loss: 0.7447 | Val Acc: 0.6558\n",
      "Epoch 11/500 | Train Loss: 0.7990 | Train Acc: 0.6306 | Val Loss: 0.7611 | Val Acc: 0.6519\n",
      "Epoch 12/500 | Train Loss: 0.7964 | Train Acc: 0.6236 | Val Loss: 0.7586 | Val Acc: 0.6500\n",
      "Epoch 9/500 | Train Loss: 0.7973 | Train Acc: 0.6253 | Val Loss: 0.7628 | Val Acc: 0.6423\n",
      "Epoch 10/500 | Train Loss: 0.7943 | Train Acc: 0.6183 | Val Loss: 0.7447 | Val Acc: 0.6558\n",
      "Epoch 11/500 | Train Loss: 0.7990 | Train Acc: 0.6306 | Val Loss: 0.7611 | Val Acc: 0.6519\n",
      "Epoch 12/500 | Train Loss: 0.7964 | Train Acc: 0.6236 | Val Loss: 0.7586 | Val Acc: 0.6500\n",
      "Epoch 13/500 | Train Loss: 0.7873 | Train Acc: 0.6376 | Val Loss: 0.7600 | Val Acc: 0.6558\n",
      "Epoch 14/500 | Train Loss: 0.8019 | Train Acc: 0.6314 | Val Loss: 0.7749 | Val Acc: 0.6865\n",
      "Epoch 15/500 | Train Loss: 0.8219 | Train Acc: 0.5965 | Val Loss: 0.8122 | Val Acc: 0.6654\n",
      "Epoch 16/500 | Train Loss: 0.7991 | Train Acc: 0.6227 | Val Loss: 0.7599 | Val Acc: 0.6519\n",
      "Epoch 13/500 | Train Loss: 0.7873 | Train Acc: 0.6376 | Val Loss: 0.7600 | Val Acc: 0.6558\n",
      "Epoch 14/500 | Train Loss: 0.8019 | Train Acc: 0.6314 | Val Loss: 0.7749 | Val Acc: 0.6865\n",
      "Epoch 15/500 | Train Loss: 0.8219 | Train Acc: 0.5965 | Val Loss: 0.8122 | Val Acc: 0.6654\n",
      "Epoch 16/500 | Train Loss: 0.7991 | Train Acc: 0.6227 | Val Loss: 0.7599 | Val Acc: 0.6519\n",
      "Epoch 17/500 | Train Loss: 0.7963 | Train Acc: 0.6236 | Val Loss: 0.7570 | Val Acc: 0.6500\n",
      "Epoch 18/500 | Train Loss: 0.7956 | Train Acc: 0.6218 | Val Loss: 0.7469 | Val Acc: 0.6500\n",
      "Epoch 19/500 | Train Loss: 0.7818 | Train Acc: 0.6236 | Val Loss: 0.7795 | Val Acc: 0.5981\n",
      "Epoch 17/500 | Train Loss: 0.7963 | Train Acc: 0.6236 | Val Loss: 0.7570 | Val Acc: 0.6500\n",
      "Epoch 18/500 | Train Loss: 0.7956 | Train Acc: 0.6218 | Val Loss: 0.7469 | Val Acc: 0.6500\n",
      "Epoch 19/500 | Train Loss: 0.7818 | Train Acc: 0.6236 | Val Loss: 0.7795 | Val Acc: 0.5981\n",
      "Epoch 20/500 | Train Loss: 0.7922 | Train Acc: 0.6314 | Val Loss: 0.7648 | Val Acc: 0.6538\n",
      "Epoch 21/500 | Train Loss: 0.7825 | Train Acc: 0.6262 | Val Loss: 0.7528 | Val Acc: 0.6577\n",
      "Epoch 22/500 | Train Loss: 0.7782 | Train Acc: 0.6428 | Val Loss: 0.7698 | Val Acc: 0.6654\n",
      "Epoch 23/500 | Train Loss: 0.7815 | Train Acc: 0.6297 | Val Loss: 0.7496 | Val Acc: 0.6692\n",
      "Epoch 24/500 | Train Loss: 0.7762 | Train Acc: 0.6157 | Val Loss: 0.7608 | Val Acc: 0.6827\n",
      "Epoch 20/500 | Train Loss: 0.7922 | Train Acc: 0.6314 | Val Loss: 0.7648 | Val Acc: 0.6538\n",
      "Epoch 21/500 | Train Loss: 0.7825 | Train Acc: 0.6262 | Val Loss: 0.7528 | Val Acc: 0.6577\n",
      "Epoch 22/500 | Train Loss: 0.7782 | Train Acc: 0.6428 | Val Loss: 0.7698 | Val Acc: 0.6654\n",
      "Epoch 23/500 | Train Loss: 0.7815 | Train Acc: 0.6297 | Val Loss: 0.7496 | Val Acc: 0.6692\n",
      "Epoch 24/500 | Train Loss: 0.7762 | Train Acc: 0.6157 | Val Loss: 0.7608 | Val Acc: 0.6827\n",
      "Epoch 25/500 | Train Loss: 0.7783 | Train Acc: 0.6507 | Val Loss: 0.7480 | Val Acc: 0.6769\n",
      "Epoch 26/500 | Train Loss: 0.7724 | Train Acc: 0.6384 | Val Loss: 0.7406 | Val Acc: 0.6788\n",
      "Epoch 27/500 | Train Loss: 0.7726 | Train Acc: 0.6306 | Val Loss: 0.7448 | Val Acc: 0.6712\n",
      "Epoch 28/500 | Train Loss: 0.7688 | Train Acc: 0.6314 | Val Loss: 0.7611 | Val Acc: 0.6365\n",
      "Epoch 25/500 | Train Loss: 0.7783 | Train Acc: 0.6507 | Val Loss: 0.7480 | Val Acc: 0.6769\n",
      "Epoch 26/500 | Train Loss: 0.7724 | Train Acc: 0.6384 | Val Loss: 0.7406 | Val Acc: 0.6788\n",
      "Epoch 27/500 | Train Loss: 0.7726 | Train Acc: 0.6306 | Val Loss: 0.7448 | Val Acc: 0.6712\n",
      "Epoch 28/500 | Train Loss: 0.7688 | Train Acc: 0.6314 | Val Loss: 0.7611 | Val Acc: 0.6365\n",
      "Epoch 29/500 | Train Loss: 0.7822 | Train Acc: 0.6393 | Val Loss: 0.7972 | Val Acc: 0.6558\n",
      "Epoch 30/500 | Train Loss: 0.8030 | Train Acc: 0.6279 | Val Loss: 0.7502 | Val Acc: 0.6577\n",
      "Epoch 31/500 | Train Loss: 0.7731 | Train Acc: 0.6314 | Val Loss: 0.7376 | Val Acc: 0.6769\n",
      "Epoch 32/500 | Train Loss: 0.7781 | Train Acc: 0.6297 | Val Loss: 0.7480 | Val Acc: 0.6692\n",
      "Epoch 29/500 | Train Loss: 0.7822 | Train Acc: 0.6393 | Val Loss: 0.7972 | Val Acc: 0.6558\n",
      "Epoch 30/500 | Train Loss: 0.8030 | Train Acc: 0.6279 | Val Loss: 0.7502 | Val Acc: 0.6577\n",
      "Epoch 31/500 | Train Loss: 0.7731 | Train Acc: 0.6314 | Val Loss: 0.7376 | Val Acc: 0.6769\n",
      "Epoch 32/500 | Train Loss: 0.7781 | Train Acc: 0.6297 | Val Loss: 0.7480 | Val Acc: 0.6692\n",
      "Epoch 33/500 | Train Loss: 0.7744 | Train Acc: 0.6419 | Val Loss: 0.7526 | Val Acc: 0.6769\n",
      "Epoch 34/500 | Train Loss: 0.7714 | Train Acc: 0.6349 | Val Loss: 0.7626 | Val Acc: 0.6500\n",
      "Epoch 35/500 | Train Loss: 0.7799 | Train Acc: 0.6358 | Val Loss: 0.7402 | Val Acc: 0.6712\n",
      "Epoch 36/500 | Train Loss: 0.7691 | Train Acc: 0.6472 | Val Loss: 0.7483 | Val Acc: 0.6731\n",
      "Epoch 33/500 | Train Loss: 0.7744 | Train Acc: 0.6419 | Val Loss: 0.7526 | Val Acc: 0.6769\n",
      "Epoch 34/500 | Train Loss: 0.7714 | Train Acc: 0.6349 | Val Loss: 0.7626 | Val Acc: 0.6500\n",
      "Epoch 35/500 | Train Loss: 0.7799 | Train Acc: 0.6358 | Val Loss: 0.7402 | Val Acc: 0.6712\n",
      "Epoch 36/500 | Train Loss: 0.7691 | Train Acc: 0.6472 | Val Loss: 0.7483 | Val Acc: 0.6731\n",
      "Epoch 37/500 | Train Loss: 0.7726 | Train Acc: 0.6463 | Val Loss: 0.7503 | Val Acc: 0.6808\n",
      "Epoch 38/500 | Train Loss: 0.7799 | Train Acc: 0.6341 | Val Loss: 0.7448 | Val Acc: 0.6500\n",
      "Epoch 39/500 | Train Loss: 0.7888 | Train Acc: 0.6271 | Val Loss: 0.7764 | Val Acc: 0.6077\n",
      "Epoch 40/500 | Train Loss: 0.7801 | Train Acc: 0.6349 | Val Loss: 0.7366 | Val Acc: 0.6423\n",
      "Epoch 37/500 | Train Loss: 0.7726 | Train Acc: 0.6463 | Val Loss: 0.7503 | Val Acc: 0.6808\n",
      "Epoch 38/500 | Train Loss: 0.7799 | Train Acc: 0.6341 | Val Loss: 0.7448 | Val Acc: 0.6500\n",
      "Epoch 39/500 | Train Loss: 0.7888 | Train Acc: 0.6271 | Val Loss: 0.7764 | Val Acc: 0.6077\n",
      "Epoch 40/500 | Train Loss: 0.7801 | Train Acc: 0.6349 | Val Loss: 0.7366 | Val Acc: 0.6423\n",
      "Epoch 41/500 | Train Loss: 0.7702 | Train Acc: 0.6341 | Val Loss: 0.7332 | Val Acc: 0.6788\n",
      "Epoch 42/500 | Train Loss: 0.7746 | Train Acc: 0.6445 | Val Loss: 0.7491 | Val Acc: 0.6769\n",
      "Epoch 43/500 | Train Loss: 0.7841 | Train Acc: 0.6341 | Val Loss: 0.7495 | Val Acc: 0.6769\n",
      "Epoch 44/500 | Train Loss: 0.7740 | Train Acc: 0.6419 | Val Loss: 0.7428 | Val Acc: 0.6635\n",
      "Epoch 41/500 | Train Loss: 0.7702 | Train Acc: 0.6341 | Val Loss: 0.7332 | Val Acc: 0.6788\n",
      "Epoch 42/500 | Train Loss: 0.7746 | Train Acc: 0.6445 | Val Loss: 0.7491 | Val Acc: 0.6769\n",
      "Epoch 43/500 | Train Loss: 0.7841 | Train Acc: 0.6341 | Val Loss: 0.7495 | Val Acc: 0.6769\n",
      "Epoch 44/500 | Train Loss: 0.7740 | Train Acc: 0.6419 | Val Loss: 0.7428 | Val Acc: 0.6635\n",
      "Epoch 45/500 | Train Loss: 0.7713 | Train Acc: 0.6410 | Val Loss: 0.7413 | Val Acc: 0.6846\n",
      "Epoch 46/500 | Train Loss: 0.7784 | Train Acc: 0.6376 | Val Loss: 0.7479 | Val Acc: 0.6731\n",
      "Epoch 47/500 | Train Loss: 0.7680 | Train Acc: 0.6358 | Val Loss: 0.7428 | Val Acc: 0.6558\n",
      "Epoch 48/500 | Train Loss: 0.7687 | Train Acc: 0.6445 | Val Loss: 0.7733 | Val Acc: 0.6577\n",
      "Epoch 45/500 | Train Loss: 0.7713 | Train Acc: 0.6410 | Val Loss: 0.7413 | Val Acc: 0.6846\n",
      "Epoch 46/500 | Train Loss: 0.7784 | Train Acc: 0.6376 | Val Loss: 0.7479 | Val Acc: 0.6731\n",
      "Epoch 47/500 | Train Loss: 0.7680 | Train Acc: 0.6358 | Val Loss: 0.7428 | Val Acc: 0.6558\n",
      "Epoch 48/500 | Train Loss: 0.7687 | Train Acc: 0.6445 | Val Loss: 0.7733 | Val Acc: 0.6577\n",
      "Epoch 49/500 | Train Loss: 0.7782 | Train Acc: 0.6288 | Val Loss: 0.7420 | Val Acc: 0.6327\n",
      "Epoch 50/500 | Train Loss: 0.7701 | Train Acc: 0.6262 | Val Loss: 0.7325 | Val Acc: 0.6750\n",
      "Epoch 51/500 | Train Loss: 0.7687 | Train Acc: 0.6463 | Val Loss: 0.7487 | Val Acc: 0.6750\n",
      "Epoch 52/500 | Train Loss: 0.7723 | Train Acc: 0.6419 | Val Loss: 0.7466 | Val Acc: 0.6808\n",
      "Epoch 53/500 | Train Loss: 0.7678 | Train Acc: 0.6454 | Val Loss: 0.7411 | Val Acc: 0.6500\n",
      "Epoch 49/500 | Train Loss: 0.7782 | Train Acc: 0.6288 | Val Loss: 0.7420 | Val Acc: 0.6327\n",
      "Epoch 50/500 | Train Loss: 0.7701 | Train Acc: 0.6262 | Val Loss: 0.7325 | Val Acc: 0.6750\n",
      "Epoch 51/500 | Train Loss: 0.7687 | Train Acc: 0.6463 | Val Loss: 0.7487 | Val Acc: 0.6750\n",
      "Epoch 52/500 | Train Loss: 0.7723 | Train Acc: 0.6419 | Val Loss: 0.7466 | Val Acc: 0.6808\n",
      "Epoch 53/500 | Train Loss: 0.7678 | Train Acc: 0.6454 | Val Loss: 0.7411 | Val Acc: 0.6500\n",
      "Epoch 54/500 | Train Loss: 0.7627 | Train Acc: 0.6297 | Val Loss: 0.7396 | Val Acc: 0.6808\n",
      "Epoch 55/500 | Train Loss: 0.7713 | Train Acc: 0.6524 | Val Loss: 0.7426 | Val Acc: 0.6788\n",
      "Epoch 56/500 | Train Loss: 0.7583 | Train Acc: 0.6507 | Val Loss: 0.7300 | Val Acc: 0.6788\n",
      "Epoch 57/500 | Train Loss: 0.7658 | Train Acc: 0.6550 | Val Loss: 0.7421 | Val Acc: 0.6808\n",
      "Epoch 54/500 | Train Loss: 0.7627 | Train Acc: 0.6297 | Val Loss: 0.7396 | Val Acc: 0.6808\n",
      "Epoch 55/500 | Train Loss: 0.7713 | Train Acc: 0.6524 | Val Loss: 0.7426 | Val Acc: 0.6788\n",
      "Epoch 56/500 | Train Loss: 0.7583 | Train Acc: 0.6507 | Val Loss: 0.7300 | Val Acc: 0.6788\n",
      "Epoch 57/500 | Train Loss: 0.7658 | Train Acc: 0.6550 | Val Loss: 0.7421 | Val Acc: 0.6808\n",
      "Epoch 58/500 | Train Loss: 0.7640 | Train Acc: 0.6463 | Val Loss: 0.7350 | Val Acc: 0.6635\n",
      "Epoch 59/500 | Train Loss: 0.7555 | Train Acc: 0.6480 | Val Loss: 0.7427 | Val Acc: 0.6923\n",
      "Epoch 60/500 | Train Loss: 0.7709 | Train Acc: 0.6524 | Val Loss: 0.7515 | Val Acc: 0.6269\n",
      "Epoch 61/500 | Train Loss: 0.7630 | Train Acc: 0.6437 | Val Loss: 0.7350 | Val Acc: 0.6923\n",
      "Epoch 62/500 | Train Loss: 0.7668 | Train Acc: 0.6454 | Val Loss: 0.7585 | Val Acc: 0.6558\n",
      "Epoch 58/500 | Train Loss: 0.7640 | Train Acc: 0.6463 | Val Loss: 0.7350 | Val Acc: 0.6635\n",
      "Epoch 59/500 | Train Loss: 0.7555 | Train Acc: 0.6480 | Val Loss: 0.7427 | Val Acc: 0.6923\n",
      "Epoch 60/500 | Train Loss: 0.7709 | Train Acc: 0.6524 | Val Loss: 0.7515 | Val Acc: 0.6269\n",
      "Epoch 61/500 | Train Loss: 0.7630 | Train Acc: 0.6437 | Val Loss: 0.7350 | Val Acc: 0.6923\n",
      "Epoch 62/500 | Train Loss: 0.7668 | Train Acc: 0.6454 | Val Loss: 0.7585 | Val Acc: 0.6558\n",
      "Epoch 63/500 | Train Loss: 0.7829 | Train Acc: 0.6480 | Val Loss: 0.7374 | Val Acc: 0.6577\n",
      "Epoch 64/500 | Train Loss: 0.7645 | Train Acc: 0.6463 | Val Loss: 0.7483 | Val Acc: 0.6865\n",
      "Epoch 65/500 | Train Loss: 0.7633 | Train Acc: 0.6489 | Val Loss: 0.7376 | Val Acc: 0.6808\n",
      "Epoch 66/500 | Train Loss: 0.7743 | Train Acc: 0.6410 | Val Loss: 0.7522 | Val Acc: 0.6846\n",
      "Epoch 63/500 | Train Loss: 0.7829 | Train Acc: 0.6480 | Val Loss: 0.7374 | Val Acc: 0.6577\n",
      "Epoch 64/500 | Train Loss: 0.7645 | Train Acc: 0.6463 | Val Loss: 0.7483 | Val Acc: 0.6865\n",
      "Epoch 65/500 | Train Loss: 0.7633 | Train Acc: 0.6489 | Val Loss: 0.7376 | Val Acc: 0.6808\n",
      "Epoch 66/500 | Train Loss: 0.7743 | Train Acc: 0.6410 | Val Loss: 0.7522 | Val Acc: 0.6846\n",
      "Epoch 67/500 | Train Loss: 0.7656 | Train Acc: 0.6402 | Val Loss: 0.7718 | Val Acc: 0.6346\n",
      "Epoch 68/500 | Train Loss: 0.7653 | Train Acc: 0.6384 | Val Loss: 0.7346 | Val Acc: 0.6731\n",
      "Epoch 69/500 | Train Loss: 0.7692 | Train Acc: 0.6498 | Val Loss: 0.7559 | Val Acc: 0.6481\n",
      "Epoch 70/500 | Train Loss: 0.7697 | Train Acc: 0.6454 | Val Loss: 0.7485 | Val Acc: 0.6846\n",
      "Epoch 67/500 | Train Loss: 0.7656 | Train Acc: 0.6402 | Val Loss: 0.7718 | Val Acc: 0.6346\n",
      "Epoch 68/500 | Train Loss: 0.7653 | Train Acc: 0.6384 | Val Loss: 0.7346 | Val Acc: 0.6731\n",
      "Epoch 69/500 | Train Loss: 0.7692 | Train Acc: 0.6498 | Val Loss: 0.7559 | Val Acc: 0.6481\n",
      "Epoch 70/500 | Train Loss: 0.7697 | Train Acc: 0.6454 | Val Loss: 0.7485 | Val Acc: 0.6846\n",
      "Epoch 71/500 | Train Loss: 0.7701 | Train Acc: 0.6419 | Val Loss: 0.7373 | Val Acc: 0.6750\n",
      "Epoch 72/500 | Train Loss: 0.7613 | Train Acc: 0.6367 | Val Loss: 0.7290 | Val Acc: 0.6481\n",
      "Epoch 73/500 | Train Loss: 0.7613 | Train Acc: 0.6341 | Val Loss: 0.7350 | Val Acc: 0.6577\n",
      "Epoch 74/500 | Train Loss: 0.7649 | Train Acc: 0.6445 | Val Loss: 0.7408 | Val Acc: 0.6750\n",
      "Epoch 71/500 | Train Loss: 0.7701 | Train Acc: 0.6419 | Val Loss: 0.7373 | Val Acc: 0.6750\n",
      "Epoch 72/500 | Train Loss: 0.7613 | Train Acc: 0.6367 | Val Loss: 0.7290 | Val Acc: 0.6481\n",
      "Epoch 73/500 | Train Loss: 0.7613 | Train Acc: 0.6341 | Val Loss: 0.7350 | Val Acc: 0.6577\n",
      "Epoch 74/500 | Train Loss: 0.7649 | Train Acc: 0.6445 | Val Loss: 0.7408 | Val Acc: 0.6750\n",
      "Epoch 75/500 | Train Loss: 0.7561 | Train Acc: 0.6402 | Val Loss: 0.7428 | Val Acc: 0.6712\n",
      "Epoch 76/500 | Train Loss: 0.7557 | Train Acc: 0.6384 | Val Loss: 0.7309 | Val Acc: 0.6942\n",
      "Epoch 77/500 | Train Loss: 0.7551 | Train Acc: 0.6664 | Val Loss: 0.7434 | Val Acc: 0.6731\n",
      "Epoch 78/500 | Train Loss: 0.7660 | Train Acc: 0.6445 | Val Loss: 0.7348 | Val Acc: 0.6423\n",
      "Epoch 75/500 | Train Loss: 0.7561 | Train Acc: 0.6402 | Val Loss: 0.7428 | Val Acc: 0.6712\n",
      "Epoch 76/500 | Train Loss: 0.7557 | Train Acc: 0.6384 | Val Loss: 0.7309 | Val Acc: 0.6942\n",
      "Epoch 77/500 | Train Loss: 0.7551 | Train Acc: 0.6664 | Val Loss: 0.7434 | Val Acc: 0.6731\n",
      "Epoch 78/500 | Train Loss: 0.7660 | Train Acc: 0.6445 | Val Loss: 0.7348 | Val Acc: 0.6423\n",
      "Epoch 79/500 | Train Loss: 0.7515 | Train Acc: 0.6559 | Val Loss: 0.7198 | Val Acc: 0.6788\n",
      "Epoch 80/500 | Train Loss: 0.7588 | Train Acc: 0.6454 | Val Loss: 0.7289 | Val Acc: 0.6846\n",
      "Epoch 81/500 | Train Loss: 0.7533 | Train Acc: 0.6489 | Val Loss: 0.7487 | Val Acc: 0.6596\n",
      "Epoch 82/500 | Train Loss: 0.7638 | Train Acc: 0.6533 | Val Loss: 0.7307 | Val Acc: 0.6885\n",
      "Epoch 79/500 | Train Loss: 0.7515 | Train Acc: 0.6559 | Val Loss: 0.7198 | Val Acc: 0.6788\n",
      "Epoch 80/500 | Train Loss: 0.7588 | Train Acc: 0.6454 | Val Loss: 0.7289 | Val Acc: 0.6846\n",
      "Epoch 81/500 | Train Loss: 0.7533 | Train Acc: 0.6489 | Val Loss: 0.7487 | Val Acc: 0.6596\n",
      "Epoch 82/500 | Train Loss: 0.7638 | Train Acc: 0.6533 | Val Loss: 0.7307 | Val Acc: 0.6885\n",
      "Epoch 83/500 | Train Loss: 0.7612 | Train Acc: 0.6384 | Val Loss: 0.7320 | Val Acc: 0.6827\n",
      "Epoch 84/500 | Train Loss: 0.7688 | Train Acc: 0.6463 | Val Loss: 0.7425 | Val Acc: 0.6962\n",
      "Epoch 85/500 | Train Loss: 0.7611 | Train Acc: 0.6533 | Val Loss: 0.7334 | Val Acc: 0.6962\n",
      "Epoch 86/500 | Train Loss: 0.7503 | Train Acc: 0.6646 | Val Loss: 0.7251 | Val Acc: 0.6769\n",
      "Epoch 83/500 | Train Loss: 0.7612 | Train Acc: 0.6384 | Val Loss: 0.7320 | Val Acc: 0.6827\n",
      "Epoch 84/500 | Train Loss: 0.7688 | Train Acc: 0.6463 | Val Loss: 0.7425 | Val Acc: 0.6962\n",
      "Epoch 85/500 | Train Loss: 0.7611 | Train Acc: 0.6533 | Val Loss: 0.7334 | Val Acc: 0.6962\n",
      "Epoch 86/500 | Train Loss: 0.7503 | Train Acc: 0.6646 | Val Loss: 0.7251 | Val Acc: 0.6769\n",
      "Epoch 87/500 | Train Loss: 0.7487 | Train Acc: 0.6480 | Val Loss: 0.7663 | Val Acc: 0.6404\n",
      "Epoch 88/500 | Train Loss: 0.7632 | Train Acc: 0.6288 | Val Loss: 0.7287 | Val Acc: 0.6769\n",
      "Epoch 89/500 | Train Loss: 0.7529 | Train Acc: 0.6480 | Val Loss: 0.7233 | Val Acc: 0.6788\n",
      "Epoch 90/500 | Train Loss: 0.7573 | Train Acc: 0.6716 | Val Loss: 0.7483 | Val Acc: 0.6615\n",
      "Epoch 87/500 | Train Loss: 0.7487 | Train Acc: 0.6480 | Val Loss: 0.7663 | Val Acc: 0.6404\n",
      "Epoch 88/500 | Train Loss: 0.7632 | Train Acc: 0.6288 | Val Loss: 0.7287 | Val Acc: 0.6769\n",
      "Epoch 89/500 | Train Loss: 0.7529 | Train Acc: 0.6480 | Val Loss: 0.7233 | Val Acc: 0.6788\n",
      "Epoch 90/500 | Train Loss: 0.7573 | Train Acc: 0.6716 | Val Loss: 0.7483 | Val Acc: 0.6615\n",
      "Epoch 91/500 | Train Loss: 0.7563 | Train Acc: 0.6480 | Val Loss: 0.7463 | Val Acc: 0.6923\n",
      "Epoch 92/500 | Train Loss: 0.7495 | Train Acc: 0.6611 | Val Loss: 0.7441 | Val Acc: 0.6481\n",
      "Epoch 93/500 | Train Loss: 0.7567 | Train Acc: 0.6419 | Val Loss: 0.7350 | Val Acc: 0.6808\n",
      "Epoch 94/500 | Train Loss: 0.7728 | Train Acc: 0.6524 | Val Loss: 0.7415 | Val Acc: 0.6750\n",
      "Epoch 91/500 | Train Loss: 0.7563 | Train Acc: 0.6480 | Val Loss: 0.7463 | Val Acc: 0.6923\n",
      "Epoch 92/500 | Train Loss: 0.7495 | Train Acc: 0.6611 | Val Loss: 0.7441 | Val Acc: 0.6481\n",
      "Epoch 93/500 | Train Loss: 0.7567 | Train Acc: 0.6419 | Val Loss: 0.7350 | Val Acc: 0.6808\n",
      "Epoch 94/500 | Train Loss: 0.7728 | Train Acc: 0.6524 | Val Loss: 0.7415 | Val Acc: 0.6750\n",
      "Epoch 95/500 | Train Loss: 0.7687 | Train Acc: 0.6297 | Val Loss: 0.7302 | Val Acc: 0.6788\n",
      "Epoch 96/500 | Train Loss: 0.7554 | Train Acc: 0.6533 | Val Loss: 0.7515 | Val Acc: 0.6615\n",
      "Epoch 97/500 | Train Loss: 0.7630 | Train Acc: 0.6428 | Val Loss: 0.7494 | Val Acc: 0.6827\n",
      "Epoch 98/500 | Train Loss: 0.7609 | Train Acc: 0.6454 | Val Loss: 0.7317 | Val Acc: 0.6808\n",
      "Epoch 95/500 | Train Loss: 0.7687 | Train Acc: 0.6297 | Val Loss: 0.7302 | Val Acc: 0.6788\n",
      "Epoch 96/500 | Train Loss: 0.7554 | Train Acc: 0.6533 | Val Loss: 0.7515 | Val Acc: 0.6615\n",
      "Epoch 97/500 | Train Loss: 0.7630 | Train Acc: 0.6428 | Val Loss: 0.7494 | Val Acc: 0.6827\n",
      "Epoch 98/500 | Train Loss: 0.7609 | Train Acc: 0.6454 | Val Loss: 0.7317 | Val Acc: 0.6808\n",
      "Epoch 99/500 | Train Loss: 0.7585 | Train Acc: 0.6410 | Val Loss: 0.7489 | Val Acc: 0.6846\n",
      "Epoch 100/500 | Train Loss: 0.7730 | Train Acc: 0.6410 | Val Loss: 0.7410 | Val Acc: 0.6327\n",
      "Epoch 101/500 | Train Loss: 0.7768 | Train Acc: 0.6454 | Val Loss: 0.7457 | Val Acc: 0.6615\n",
      "Epoch 102/500 | Train Loss: 0.7654 | Train Acc: 0.6489 | Val Loss: 0.7242 | Val Acc: 0.7038\n",
      "Epoch 99/500 | Train Loss: 0.7585 | Train Acc: 0.6410 | Val Loss: 0.7489 | Val Acc: 0.6846\n",
      "Epoch 100/500 | Train Loss: 0.7730 | Train Acc: 0.6410 | Val Loss: 0.7410 | Val Acc: 0.6327\n",
      "Epoch 101/500 | Train Loss: 0.7768 | Train Acc: 0.6454 | Val Loss: 0.7457 | Val Acc: 0.6615\n",
      "Epoch 102/500 | Train Loss: 0.7654 | Train Acc: 0.6489 | Val Loss: 0.7242 | Val Acc: 0.7038\n",
      "Epoch 103/500 | Train Loss: 0.7520 | Train Acc: 0.6795 | Val Loss: 0.7468 | Val Acc: 0.6885\n",
      "Epoch 104/500 | Train Loss: 0.7643 | Train Acc: 0.6629 | Val Loss: 0.7279 | Val Acc: 0.6865\n",
      "Epoch 105/500 | Train Loss: 0.7600 | Train Acc: 0.6524 | Val Loss: 0.7236 | Val Acc: 0.6962\n",
      "Epoch 106/500 | Train Loss: 0.7429 | Train Acc: 0.6716 | Val Loss: 0.7139 | Val Acc: 0.7019\n",
      "Epoch 103/500 | Train Loss: 0.7520 | Train Acc: 0.6795 | Val Loss: 0.7468 | Val Acc: 0.6885\n",
      "Epoch 104/500 | Train Loss: 0.7643 | Train Acc: 0.6629 | Val Loss: 0.7279 | Val Acc: 0.6865\n",
      "Epoch 105/500 | Train Loss: 0.7600 | Train Acc: 0.6524 | Val Loss: 0.7236 | Val Acc: 0.6962\n",
      "Epoch 106/500 | Train Loss: 0.7429 | Train Acc: 0.6716 | Val Loss: 0.7139 | Val Acc: 0.7019\n",
      "Epoch 107/500 | Train Loss: 0.7763 | Train Acc: 0.6507 | Val Loss: 0.7521 | Val Acc: 0.6769\n",
      "Epoch 108/500 | Train Loss: 0.7748 | Train Acc: 0.6437 | Val Loss: 0.7450 | Val Acc: 0.6750\n",
      "Epoch 109/500 | Train Loss: 0.7588 | Train Acc: 0.6655 | Val Loss: 0.7290 | Val Acc: 0.6962\n",
      "Epoch 110/500 | Train Loss: 0.7657 | Train Acc: 0.6463 | Val Loss: 0.7394 | Val Acc: 0.6827\n",
      "Epoch 107/500 | Train Loss: 0.7763 | Train Acc: 0.6507 | Val Loss: 0.7521 | Val Acc: 0.6769\n",
      "Epoch 108/500 | Train Loss: 0.7748 | Train Acc: 0.6437 | Val Loss: 0.7450 | Val Acc: 0.6750\n",
      "Epoch 109/500 | Train Loss: 0.7588 | Train Acc: 0.6655 | Val Loss: 0.7290 | Val Acc: 0.6962\n",
      "Epoch 110/500 | Train Loss: 0.7657 | Train Acc: 0.6463 | Val Loss: 0.7394 | Val Acc: 0.6827\n",
      "Epoch 111/500 | Train Loss: 0.7596 | Train Acc: 0.6437 | Val Loss: 0.7283 | Val Acc: 0.6808\n",
      "Epoch 112/500 | Train Loss: 0.7575 | Train Acc: 0.6568 | Val Loss: 0.7333 | Val Acc: 0.6769\n",
      "Epoch 113/500 | Train Loss: 0.7544 | Train Acc: 0.6524 | Val Loss: 0.7293 | Val Acc: 0.6942\n",
      "Epoch 114/500 | Train Loss: 0.7529 | Train Acc: 0.6559 | Val Loss: 0.7456 | Val Acc: 0.6904\n",
      "Epoch 111/500 | Train Loss: 0.7596 | Train Acc: 0.6437 | Val Loss: 0.7283 | Val Acc: 0.6808\n",
      "Epoch 112/500 | Train Loss: 0.7575 | Train Acc: 0.6568 | Val Loss: 0.7333 | Val Acc: 0.6769\n",
      "Epoch 113/500 | Train Loss: 0.7544 | Train Acc: 0.6524 | Val Loss: 0.7293 | Val Acc: 0.6942\n",
      "Epoch 114/500 | Train Loss: 0.7529 | Train Acc: 0.6559 | Val Loss: 0.7456 | Val Acc: 0.6904\n",
      "Epoch 115/500 | Train Loss: 0.7521 | Train Acc: 0.6664 | Val Loss: 0.7265 | Val Acc: 0.6827\n",
      "Epoch 116/500 | Train Loss: 0.7468 | Train Acc: 0.6603 | Val Loss: 0.7279 | Val Acc: 0.7077\n",
      "Epoch 117/500 | Train Loss: 0.7534 | Train Acc: 0.6541 | Val Loss: 0.7290 | Val Acc: 0.6750\n",
      "Epoch 118/500 | Train Loss: 0.7543 | Train Acc: 0.6690 | Val Loss: 0.7265 | Val Acc: 0.6904\n",
      "Epoch 119/500 | Train Loss: 0.7568 | Train Acc: 0.6585 | Val Loss: 0.7236 | Val Acc: 0.7077\n",
      "Epoch 115/500 | Train Loss: 0.7521 | Train Acc: 0.6664 | Val Loss: 0.7265 | Val Acc: 0.6827\n",
      "Epoch 116/500 | Train Loss: 0.7468 | Train Acc: 0.6603 | Val Loss: 0.7279 | Val Acc: 0.7077\n",
      "Epoch 117/500 | Train Loss: 0.7534 | Train Acc: 0.6541 | Val Loss: 0.7290 | Val Acc: 0.6750\n",
      "Epoch 118/500 | Train Loss: 0.7543 | Train Acc: 0.6690 | Val Loss: 0.7265 | Val Acc: 0.6904\n",
      "Epoch 119/500 | Train Loss: 0.7568 | Train Acc: 0.6585 | Val Loss: 0.7236 | Val Acc: 0.7077\n",
      "Epoch 120/500 | Train Loss: 0.7407 | Train Acc: 0.6664 | Val Loss: 0.7199 | Val Acc: 0.6981\n",
      "Epoch 121/500 | Train Loss: 0.7617 | Train Acc: 0.6568 | Val Loss: 0.7324 | Val Acc: 0.6865\n",
      "Epoch 122/500 | Train Loss: 0.7537 | Train Acc: 0.6568 | Val Loss: 0.7370 | Val Acc: 0.6846\n",
      "Epoch 123/500 | Train Loss: 0.7542 | Train Acc: 0.6655 | Val Loss: 0.7286 | Val Acc: 0.6808\n",
      "Epoch 120/500 | Train Loss: 0.7407 | Train Acc: 0.6664 | Val Loss: 0.7199 | Val Acc: 0.6981\n",
      "Epoch 121/500 | Train Loss: 0.7617 | Train Acc: 0.6568 | Val Loss: 0.7324 | Val Acc: 0.6865\n",
      "Epoch 122/500 | Train Loss: 0.7537 | Train Acc: 0.6568 | Val Loss: 0.7370 | Val Acc: 0.6846\n",
      "Epoch 123/500 | Train Loss: 0.7542 | Train Acc: 0.6655 | Val Loss: 0.7286 | Val Acc: 0.6808\n",
      "Epoch 124/500 | Train Loss: 0.7501 | Train Acc: 0.6603 | Val Loss: 0.7173 | Val Acc: 0.6808\n",
      "Epoch 125/500 | Train Loss: 0.7460 | Train Acc: 0.6629 | Val Loss: 0.7304 | Val Acc: 0.6981\n",
      "Epoch 126/500 | Train Loss: 0.7457 | Train Acc: 0.6611 | Val Loss: 0.7255 | Val Acc: 0.6731\n",
      "Epoch 127/500 | Train Loss: 0.7429 | Train Acc: 0.6664 | Val Loss: 0.7217 | Val Acc: 0.6846\n",
      "Epoch 128/500 | Train Loss: 0.7542 | Train Acc: 0.6646 | Val Loss: 0.7288 | Val Acc: 0.6846\n",
      "Epoch 124/500 | Train Loss: 0.7501 | Train Acc: 0.6603 | Val Loss: 0.7173 | Val Acc: 0.6808\n",
      "Epoch 125/500 | Train Loss: 0.7460 | Train Acc: 0.6629 | Val Loss: 0.7304 | Val Acc: 0.6981\n",
      "Epoch 126/500 | Train Loss: 0.7457 | Train Acc: 0.6611 | Val Loss: 0.7255 | Val Acc: 0.6731\n",
      "Epoch 127/500 | Train Loss: 0.7429 | Train Acc: 0.6664 | Val Loss: 0.7217 | Val Acc: 0.6846\n",
      "Epoch 128/500 | Train Loss: 0.7542 | Train Acc: 0.6646 | Val Loss: 0.7288 | Val Acc: 0.6846\n",
      "Epoch 129/500 | Train Loss: 0.7440 | Train Acc: 0.6550 | Val Loss: 0.7176 | Val Acc: 0.6827\n",
      "Epoch 130/500 | Train Loss: 0.7416 | Train Acc: 0.6603 | Val Loss: 0.7241 | Val Acc: 0.6846\n",
      "Epoch 131/500 | Train Loss: 0.7434 | Train Acc: 0.6498 | Val Loss: 0.7560 | Val Acc: 0.6654\n",
      "Epoch 132/500 | Train Loss: 0.7777 | Train Acc: 0.6437 | Val Loss: 0.7303 | Val Acc: 0.6769\n",
      "Epoch 133/500 | Train Loss: 0.7594 | Train Acc: 0.6611 | Val Loss: 0.7376 | Val Acc: 0.6827\n",
      "Epoch 129/500 | Train Loss: 0.7440 | Train Acc: 0.6550 | Val Loss: 0.7176 | Val Acc: 0.6827\n",
      "Epoch 130/500 | Train Loss: 0.7416 | Train Acc: 0.6603 | Val Loss: 0.7241 | Val Acc: 0.6846\n",
      "Epoch 131/500 | Train Loss: 0.7434 | Train Acc: 0.6498 | Val Loss: 0.7560 | Val Acc: 0.6654\n",
      "Epoch 132/500 | Train Loss: 0.7777 | Train Acc: 0.6437 | Val Loss: 0.7303 | Val Acc: 0.6769\n",
      "Epoch 133/500 | Train Loss: 0.7594 | Train Acc: 0.6611 | Val Loss: 0.7376 | Val Acc: 0.6827\n",
      "Epoch 134/500 | Train Loss: 0.7569 | Train Acc: 0.6594 | Val Loss: 0.7318 | Val Acc: 0.6942\n",
      "Epoch 135/500 | Train Loss: 0.7455 | Train Acc: 0.6507 | Val Loss: 0.7228 | Val Acc: 0.6750\n",
      "Epoch 136/500 | Train Loss: 0.7457 | Train Acc: 0.6419 | Val Loss: 0.7288 | Val Acc: 0.6846\n",
      "Epoch 137/500 | Train Loss: 0.7413 | Train Acc: 0.6515 | Val Loss: 0.7339 | Val Acc: 0.6865\n",
      "Epoch 138/500 | Train Loss: 0.7430 | Train Acc: 0.6629 | Val Loss: 0.7242 | Val Acc: 0.7038\n",
      "Epoch 134/500 | Train Loss: 0.7569 | Train Acc: 0.6594 | Val Loss: 0.7318 | Val Acc: 0.6942\n",
      "Epoch 135/500 | Train Loss: 0.7455 | Train Acc: 0.6507 | Val Loss: 0.7228 | Val Acc: 0.6750\n",
      "Epoch 136/500 | Train Loss: 0.7457 | Train Acc: 0.6419 | Val Loss: 0.7288 | Val Acc: 0.6846\n",
      "Epoch 137/500 | Train Loss: 0.7413 | Train Acc: 0.6515 | Val Loss: 0.7339 | Val Acc: 0.6865\n",
      "Epoch 138/500 | Train Loss: 0.7430 | Train Acc: 0.6629 | Val Loss: 0.7242 | Val Acc: 0.7038\n",
      "Epoch 139/500 | Train Loss: 0.7421 | Train Acc: 0.6603 | Val Loss: 0.7259 | Val Acc: 0.6769\n",
      "Epoch 140/500 | Train Loss: 0.7421 | Train Acc: 0.6751 | Val Loss: 0.7416 | Val Acc: 0.6865\n",
      "Epoch 141/500 | Train Loss: 0.7434 | Train Acc: 0.6559 | Val Loss: 0.7239 | Val Acc: 0.6462\n",
      "Epoch 142/500 | Train Loss: 0.7484 | Train Acc: 0.6620 | Val Loss: 0.7268 | Val Acc: 0.6769\n",
      "Epoch 139/500 | Train Loss: 0.7421 | Train Acc: 0.6603 | Val Loss: 0.7259 | Val Acc: 0.6769\n",
      "Epoch 140/500 | Train Loss: 0.7421 | Train Acc: 0.6751 | Val Loss: 0.7416 | Val Acc: 0.6865\n",
      "Epoch 141/500 | Train Loss: 0.7434 | Train Acc: 0.6559 | Val Loss: 0.7239 | Val Acc: 0.6462\n",
      "Epoch 142/500 | Train Loss: 0.7484 | Train Acc: 0.6620 | Val Loss: 0.7268 | Val Acc: 0.6769\n",
      "Epoch 143/500 | Train Loss: 0.7340 | Train Acc: 0.6629 | Val Loss: 0.7111 | Val Acc: 0.7019\n",
      "Epoch 144/500 | Train Loss: 0.7315 | Train Acc: 0.6707 | Val Loss: 0.7075 | Val Acc: 0.6962\n",
      "Epoch 145/500 | Train Loss: 0.7332 | Train Acc: 0.6620 | Val Loss: 0.7240 | Val Acc: 0.7096\n",
      "Epoch 146/500 | Train Loss: 0.7559 | Train Acc: 0.6594 | Val Loss: 0.7174 | Val Acc: 0.7019\n",
      "Epoch 143/500 | Train Loss: 0.7340 | Train Acc: 0.6629 | Val Loss: 0.7111 | Val Acc: 0.7019\n",
      "Epoch 144/500 | Train Loss: 0.7315 | Train Acc: 0.6707 | Val Loss: 0.7075 | Val Acc: 0.6962\n",
      "Epoch 145/500 | Train Loss: 0.7332 | Train Acc: 0.6620 | Val Loss: 0.7240 | Val Acc: 0.7096\n",
      "Epoch 146/500 | Train Loss: 0.7559 | Train Acc: 0.6594 | Val Loss: 0.7174 | Val Acc: 0.7019\n",
      "Epoch 147/500 | Train Loss: 0.7402 | Train Acc: 0.6769 | Val Loss: 0.7280 | Val Acc: 0.6904\n",
      "Epoch 148/500 | Train Loss: 0.7499 | Train Acc: 0.6655 | Val Loss: 0.7251 | Val Acc: 0.7000\n",
      "Epoch 149/500 | Train Loss: 0.7486 | Train Acc: 0.6611 | Val Loss: 0.7204 | Val Acc: 0.6827\n",
      "Epoch 147/500 | Train Loss: 0.7402 | Train Acc: 0.6769 | Val Loss: 0.7280 | Val Acc: 0.6904\n",
      "Epoch 148/500 | Train Loss: 0.7499 | Train Acc: 0.6655 | Val Loss: 0.7251 | Val Acc: 0.7000\n",
      "Epoch 149/500 | Train Loss: 0.7486 | Train Acc: 0.6611 | Val Loss: 0.7204 | Val Acc: 0.6827\n",
      "Epoch 150/500 | Train Loss: 0.7341 | Train Acc: 0.6541 | Val Loss: 0.7168 | Val Acc: 0.6731\n",
      "Epoch 151/500 | Train Loss: 0.7350 | Train Acc: 0.6463 | Val Loss: 0.7662 | Val Acc: 0.6635\n",
      "Epoch 152/500 | Train Loss: 0.7588 | Train Acc: 0.6454 | Val Loss: 0.7214 | Val Acc: 0.6673\n",
      "Epoch 153/500 | Train Loss: 0.7481 | Train Acc: 0.6751 | Val Loss: 0.7287 | Val Acc: 0.6846\n",
      "Epoch 150/500 | Train Loss: 0.7341 | Train Acc: 0.6541 | Val Loss: 0.7168 | Val Acc: 0.6731\n",
      "Epoch 151/500 | Train Loss: 0.7350 | Train Acc: 0.6463 | Val Loss: 0.7662 | Val Acc: 0.6635\n",
      "Epoch 152/500 | Train Loss: 0.7588 | Train Acc: 0.6454 | Val Loss: 0.7214 | Val Acc: 0.6673\n",
      "Epoch 153/500 | Train Loss: 0.7481 | Train Acc: 0.6751 | Val Loss: 0.7287 | Val Acc: 0.6846\n",
      "Epoch 154/500 | Train Loss: 0.7383 | Train Acc: 0.6742 | Val Loss: 0.7161 | Val Acc: 0.7000\n",
      "Epoch 155/500 | Train Loss: 0.7408 | Train Acc: 0.6646 | Val Loss: 0.7190 | Val Acc: 0.7096\n",
      "Epoch 156/500 | Train Loss: 0.7525 | Train Acc: 0.6655 | Val Loss: 0.7338 | Val Acc: 0.6788\n",
      "Epoch 157/500 | Train Loss: 0.7420 | Train Acc: 0.6734 | Val Loss: 0.7128 | Val Acc: 0.6962\n",
      "Epoch 154/500 | Train Loss: 0.7383 | Train Acc: 0.6742 | Val Loss: 0.7161 | Val Acc: 0.7000\n",
      "Epoch 155/500 | Train Loss: 0.7408 | Train Acc: 0.6646 | Val Loss: 0.7190 | Val Acc: 0.7096\n",
      "Epoch 156/500 | Train Loss: 0.7525 | Train Acc: 0.6655 | Val Loss: 0.7338 | Val Acc: 0.6788\n",
      "Epoch 157/500 | Train Loss: 0.7420 | Train Acc: 0.6734 | Val Loss: 0.7128 | Val Acc: 0.6962\n",
      "Epoch 158/500 | Train Loss: 0.7336 | Train Acc: 0.6533 | Val Loss: 0.7189 | Val Acc: 0.6788\n",
      "Epoch 159/500 | Train Loss: 0.7377 | Train Acc: 0.6629 | Val Loss: 0.7330 | Val Acc: 0.6846\n",
      "Epoch 160/500 | Train Loss: 0.7368 | Train Acc: 0.6681 | Val Loss: 0.7134 | Val Acc: 0.7154\n",
      "Epoch 161/500 | Train Loss: 0.7289 | Train Acc: 0.6882 | Val Loss: 0.7138 | Val Acc: 0.7077\n",
      "Epoch 158/500 | Train Loss: 0.7336 | Train Acc: 0.6533 | Val Loss: 0.7189 | Val Acc: 0.6788\n",
      "Epoch 159/500 | Train Loss: 0.7377 | Train Acc: 0.6629 | Val Loss: 0.7330 | Val Acc: 0.6846\n",
      "Epoch 160/500 | Train Loss: 0.7368 | Train Acc: 0.6681 | Val Loss: 0.7134 | Val Acc: 0.7154\n",
      "Epoch 161/500 | Train Loss: 0.7289 | Train Acc: 0.6882 | Val Loss: 0.7138 | Val Acc: 0.7077\n",
      "Epoch 162/500 | Train Loss: 0.7280 | Train Acc: 0.6725 | Val Loss: 0.7133 | Val Acc: 0.6885\n",
      "Epoch 163/500 | Train Loss: 0.7236 | Train Acc: 0.6803 | Val Loss: 0.7177 | Val Acc: 0.6712\n",
      "Epoch 164/500 | Train Loss: 0.7522 | Train Acc: 0.6550 | Val Loss: 0.7285 | Val Acc: 0.6846\n",
      "Epoch 165/500 | Train Loss: 0.7442 | Train Acc: 0.6603 | Val Loss: 0.7263 | Val Acc: 0.6904\n",
      "Epoch 162/500 | Train Loss: 0.7280 | Train Acc: 0.6725 | Val Loss: 0.7133 | Val Acc: 0.6885\n",
      "Epoch 163/500 | Train Loss: 0.7236 | Train Acc: 0.6803 | Val Loss: 0.7177 | Val Acc: 0.6712\n",
      "Epoch 164/500 | Train Loss: 0.7522 | Train Acc: 0.6550 | Val Loss: 0.7285 | Val Acc: 0.6846\n",
      "Epoch 165/500 | Train Loss: 0.7442 | Train Acc: 0.6603 | Val Loss: 0.7263 | Val Acc: 0.6904\n",
      "Epoch 166/500 | Train Loss: 0.7356 | Train Acc: 0.6769 | Val Loss: 0.7068 | Val Acc: 0.6942\n",
      "Epoch 167/500 | Train Loss: 0.7263 | Train Acc: 0.6786 | Val Loss: 0.7115 | Val Acc: 0.7096\n",
      "Epoch 168/500 | Train Loss: 0.7237 | Train Acc: 0.6699 | Val Loss: 0.7132 | Val Acc: 0.6846\n",
      "Epoch 169/500 | Train Loss: 0.7175 | Train Acc: 0.6821 | Val Loss: 0.7118 | Val Acc: 0.7077\n",
      "Epoch 166/500 | Train Loss: 0.7356 | Train Acc: 0.6769 | Val Loss: 0.7068 | Val Acc: 0.6942\n",
      "Epoch 167/500 | Train Loss: 0.7263 | Train Acc: 0.6786 | Val Loss: 0.7115 | Val Acc: 0.7096\n",
      "Epoch 168/500 | Train Loss: 0.7237 | Train Acc: 0.6699 | Val Loss: 0.7132 | Val Acc: 0.6846\n",
      "Epoch 169/500 | Train Loss: 0.7175 | Train Acc: 0.6821 | Val Loss: 0.7118 | Val Acc: 0.7077\n",
      "Epoch 170/500 | Train Loss: 0.7290 | Train Acc: 0.6856 | Val Loss: 0.7031 | Val Acc: 0.7000\n",
      "Epoch 171/500 | Train Loss: 0.7201 | Train Acc: 0.6742 | Val Loss: 0.7282 | Val Acc: 0.6808\n",
      "Epoch 172/500 | Train Loss: 0.7181 | Train Acc: 0.6830 | Val Loss: 0.7341 | Val Acc: 0.6808\n",
      "Epoch 173/500 | Train Loss: 0.7287 | Train Acc: 0.6769 | Val Loss: 0.7419 | Val Acc: 0.7058\n",
      "Epoch 174/500 | Train Loss: 0.7507 | Train Acc: 0.6638 | Val Loss: 0.7420 | Val Acc: 0.6750\n",
      "Epoch 170/500 | Train Loss: 0.7290 | Train Acc: 0.6856 | Val Loss: 0.7031 | Val Acc: 0.7000\n",
      "Epoch 171/500 | Train Loss: 0.7201 | Train Acc: 0.6742 | Val Loss: 0.7282 | Val Acc: 0.6808\n",
      "Epoch 172/500 | Train Loss: 0.7181 | Train Acc: 0.6830 | Val Loss: 0.7341 | Val Acc: 0.6808\n",
      "Epoch 173/500 | Train Loss: 0.7287 | Train Acc: 0.6769 | Val Loss: 0.7419 | Val Acc: 0.7058\n",
      "Epoch 174/500 | Train Loss: 0.7507 | Train Acc: 0.6638 | Val Loss: 0.7420 | Val Acc: 0.6750\n",
      "Epoch 175/500 | Train Loss: 0.7774 | Train Acc: 0.6498 | Val Loss: 0.7484 | Val Acc: 0.6827\n",
      "Epoch 176/500 | Train Loss: 0.7624 | Train Acc: 0.6454 | Val Loss: 0.7250 | Val Acc: 0.6750\n",
      "Epoch 177/500 | Train Loss: 0.7491 | Train Acc: 0.6559 | Val Loss: 0.7249 | Val Acc: 0.6788\n",
      "Epoch 178/500 | Train Loss: 0.7447 | Train Acc: 0.6376 | Val Loss: 0.7383 | Val Acc: 0.6731\n",
      "Epoch 175/500 | Train Loss: 0.7774 | Train Acc: 0.6498 | Val Loss: 0.7484 | Val Acc: 0.6827\n",
      "Epoch 176/500 | Train Loss: 0.7624 | Train Acc: 0.6454 | Val Loss: 0.7250 | Val Acc: 0.6750\n",
      "Epoch 177/500 | Train Loss: 0.7491 | Train Acc: 0.6559 | Val Loss: 0.7249 | Val Acc: 0.6788\n",
      "Epoch 178/500 | Train Loss: 0.7447 | Train Acc: 0.6376 | Val Loss: 0.7383 | Val Acc: 0.6731\n",
      "Epoch 179/500 | Train Loss: 0.7433 | Train Acc: 0.6646 | Val Loss: 0.7153 | Val Acc: 0.6923\n",
      "Epoch 180/500 | Train Loss: 0.7481 | Train Acc: 0.6576 | Val Loss: 0.7253 | Val Acc: 0.6942\n",
      "Epoch 181/500 | Train Loss: 0.7377 | Train Acc: 0.6559 | Val Loss: 0.7029 | Val Acc: 0.7000\n",
      "Epoch 182/500 | Train Loss: 0.7177 | Train Acc: 0.6664 | Val Loss: 0.6985 | Val Acc: 0.7019\n",
      "Epoch 183/500 | Train Loss: 0.7184 | Train Acc: 0.6725 | Val Loss: 0.7113 | Val Acc: 0.6865\n",
      "Epoch 179/500 | Train Loss: 0.7433 | Train Acc: 0.6646 | Val Loss: 0.7153 | Val Acc: 0.6923\n",
      "Epoch 180/500 | Train Loss: 0.7481 | Train Acc: 0.6576 | Val Loss: 0.7253 | Val Acc: 0.6942\n",
      "Epoch 181/500 | Train Loss: 0.7377 | Train Acc: 0.6559 | Val Loss: 0.7029 | Val Acc: 0.7000\n",
      "Epoch 182/500 | Train Loss: 0.7177 | Train Acc: 0.6664 | Val Loss: 0.6985 | Val Acc: 0.7019\n",
      "Epoch 183/500 | Train Loss: 0.7184 | Train Acc: 0.6725 | Val Loss: 0.7113 | Val Acc: 0.6865\n",
      "Epoch 184/500 | Train Loss: 0.7182 | Train Acc: 0.6672 | Val Loss: 0.7023 | Val Acc: 0.7038\n",
      "Epoch 185/500 | Train Loss: 0.7118 | Train Acc: 0.6795 | Val Loss: 0.7096 | Val Acc: 0.7019\n",
      "Epoch 186/500 | Train Loss: 0.7122 | Train Acc: 0.6812 | Val Loss: 0.6929 | Val Acc: 0.7096\n",
      "Epoch 187/500 | Train Loss: 0.7138 | Train Acc: 0.6760 | Val Loss: 0.6994 | Val Acc: 0.7096\n",
      "Epoch 184/500 | Train Loss: 0.7182 | Train Acc: 0.6672 | Val Loss: 0.7023 | Val Acc: 0.7038\n",
      "Epoch 185/500 | Train Loss: 0.7118 | Train Acc: 0.6795 | Val Loss: 0.7096 | Val Acc: 0.7019\n",
      "Epoch 186/500 | Train Loss: 0.7122 | Train Acc: 0.6812 | Val Loss: 0.6929 | Val Acc: 0.7096\n",
      "Epoch 187/500 | Train Loss: 0.7138 | Train Acc: 0.6760 | Val Loss: 0.6994 | Val Acc: 0.7096\n",
      "Epoch 188/500 | Train Loss: 0.7175 | Train Acc: 0.6838 | Val Loss: 0.7110 | Val Acc: 0.7096\n",
      "Epoch 189/500 | Train Loss: 0.7179 | Train Acc: 0.6838 | Val Loss: 0.7161 | Val Acc: 0.6923\n",
      "Epoch 190/500 | Train Loss: 0.7326 | Train Acc: 0.6672 | Val Loss: 0.7211 | Val Acc: 0.6885\n",
      "Epoch 191/500 | Train Loss: 0.7162 | Train Acc: 0.6838 | Val Loss: 0.7174 | Val Acc: 0.6904\n",
      "Epoch 188/500 | Train Loss: 0.7175 | Train Acc: 0.6838 | Val Loss: 0.7110 | Val Acc: 0.7096\n",
      "Epoch 189/500 | Train Loss: 0.7179 | Train Acc: 0.6838 | Val Loss: 0.7161 | Val Acc: 0.6923\n",
      "Epoch 190/500 | Train Loss: 0.7326 | Train Acc: 0.6672 | Val Loss: 0.7211 | Val Acc: 0.6885\n",
      "Epoch 191/500 | Train Loss: 0.7162 | Train Acc: 0.6838 | Val Loss: 0.7174 | Val Acc: 0.6904\n",
      "Epoch 192/500 | Train Loss: 0.7150 | Train Acc: 0.6777 | Val Loss: 0.7105 | Val Acc: 0.7038\n",
      "Epoch 193/500 | Train Loss: 0.7134 | Train Acc: 0.6908 | Val Loss: 0.7040 | Val Acc: 0.7000\n",
      "Epoch 194/500 | Train Loss: 0.7094 | Train Acc: 0.6830 | Val Loss: 0.7046 | Val Acc: 0.7115\n",
      "Epoch 195/500 | Train Loss: 0.7149 | Train Acc: 0.6830 | Val Loss: 0.7157 | Val Acc: 0.6962\n",
      "Epoch 192/500 | Train Loss: 0.7150 | Train Acc: 0.6777 | Val Loss: 0.7105 | Val Acc: 0.7038\n",
      "Epoch 193/500 | Train Loss: 0.7134 | Train Acc: 0.6908 | Val Loss: 0.7040 | Val Acc: 0.7000\n",
      "Epoch 194/500 | Train Loss: 0.7094 | Train Acc: 0.6830 | Val Loss: 0.7046 | Val Acc: 0.7115\n",
      "Epoch 195/500 | Train Loss: 0.7149 | Train Acc: 0.6830 | Val Loss: 0.7157 | Val Acc: 0.6962\n",
      "Epoch 196/500 | Train Loss: 0.7102 | Train Acc: 0.6795 | Val Loss: 0.7251 | Val Acc: 0.6712\n",
      "Epoch 197/500 | Train Loss: 0.7186 | Train Acc: 0.6769 | Val Loss: 0.7066 | Val Acc: 0.6904\n",
      "Epoch 198/500 | Train Loss: 0.7252 | Train Acc: 0.6795 | Val Loss: 0.6990 | Val Acc: 0.7154\n",
      "Epoch 199/500 | Train Loss: 0.7137 | Train Acc: 0.6690 | Val Loss: 0.7026 | Val Acc: 0.7019\n",
      "Epoch 196/500 | Train Loss: 0.7102 | Train Acc: 0.6795 | Val Loss: 0.7251 | Val Acc: 0.6712\n",
      "Epoch 197/500 | Train Loss: 0.7186 | Train Acc: 0.6769 | Val Loss: 0.7066 | Val Acc: 0.6904\n",
      "Epoch 198/500 | Train Loss: 0.7252 | Train Acc: 0.6795 | Val Loss: 0.6990 | Val Acc: 0.7154\n",
      "Epoch 199/500 | Train Loss: 0.7137 | Train Acc: 0.6690 | Val Loss: 0.7026 | Val Acc: 0.7019\n",
      "Epoch 200/500 | Train Loss: 0.7084 | Train Acc: 0.6838 | Val Loss: 0.7111 | Val Acc: 0.7115\n",
      "Epoch 201/500 | Train Loss: 0.7240 | Train Acc: 0.6873 | Val Loss: 0.7077 | Val Acc: 0.7096\n",
      "Epoch 202/500 | Train Loss: 0.7086 | Train Acc: 0.7031 | Val Loss: 0.7009 | Val Acc: 0.7231\n",
      "Epoch 203/500 | Train Loss: 0.7070 | Train Acc: 0.7048 | Val Loss: 0.7160 | Val Acc: 0.7096\n",
      "Epoch 200/500 | Train Loss: 0.7084 | Train Acc: 0.6838 | Val Loss: 0.7111 | Val Acc: 0.7115\n",
      "Epoch 201/500 | Train Loss: 0.7240 | Train Acc: 0.6873 | Val Loss: 0.7077 | Val Acc: 0.7096\n",
      "Epoch 202/500 | Train Loss: 0.7086 | Train Acc: 0.7031 | Val Loss: 0.7009 | Val Acc: 0.7231\n",
      "Epoch 203/500 | Train Loss: 0.7070 | Train Acc: 0.7048 | Val Loss: 0.7160 | Val Acc: 0.7096\n",
      "Epoch 204/500 | Train Loss: 0.7347 | Train Acc: 0.6672 | Val Loss: 0.7016 | Val Acc: 0.7269\n",
      "Epoch 205/500 | Train Loss: 0.7175 | Train Acc: 0.6882 | Val Loss: 0.7085 | Val Acc: 0.7135\n",
      "Epoch 206/500 | Train Loss: 0.7113 | Train Acc: 0.6865 | Val Loss: 0.6963 | Val Acc: 0.7038\n",
      "Epoch 207/500 | Train Loss: 0.7011 | Train Acc: 0.6996 | Val Loss: 0.7191 | Val Acc: 0.7038\n",
      "Epoch 204/500 | Train Loss: 0.7347 | Train Acc: 0.6672 | Val Loss: 0.7016 | Val Acc: 0.7269\n",
      "Epoch 205/500 | Train Loss: 0.7175 | Train Acc: 0.6882 | Val Loss: 0.7085 | Val Acc: 0.7135\n",
      "Epoch 206/500 | Train Loss: 0.7113 | Train Acc: 0.6865 | Val Loss: 0.6963 | Val Acc: 0.7038\n",
      "Epoch 207/500 | Train Loss: 0.7011 | Train Acc: 0.6996 | Val Loss: 0.7191 | Val Acc: 0.7038\n",
      "Epoch 208/500 | Train Loss: 0.7140 | Train Acc: 0.6908 | Val Loss: 0.6979 | Val Acc: 0.7096\n",
      "Epoch 209/500 | Train Loss: 0.7089 | Train Acc: 0.6934 | Val Loss: 0.7033 | Val Acc: 0.7288\n",
      "Epoch 210/500 | Train Loss: 0.7001 | Train Acc: 0.6987 | Val Loss: 0.7165 | Val Acc: 0.7096\n",
      "Epoch 211/500 | Train Loss: 0.7080 | Train Acc: 0.6908 | Val Loss: 0.7067 | Val Acc: 0.7212\n",
      "Epoch 208/500 | Train Loss: 0.7140 | Train Acc: 0.6908 | Val Loss: 0.6979 | Val Acc: 0.7096\n",
      "Epoch 209/500 | Train Loss: 0.7089 | Train Acc: 0.6934 | Val Loss: 0.7033 | Val Acc: 0.7288\n",
      "Epoch 210/500 | Train Loss: 0.7001 | Train Acc: 0.6987 | Val Loss: 0.7165 | Val Acc: 0.7096\n",
      "Epoch 211/500 | Train Loss: 0.7080 | Train Acc: 0.6908 | Val Loss: 0.7067 | Val Acc: 0.7212\n",
      "Epoch 212/500 | Train Loss: 0.7060 | Train Acc: 0.6943 | Val Loss: 0.6969 | Val Acc: 0.7115\n",
      "Epoch 213/500 | Train Loss: 0.7088 | Train Acc: 0.6847 | Val Loss: 0.7083 | Val Acc: 0.7077\n",
      "Epoch 214/500 | Train Loss: 0.7221 | Train Acc: 0.6830 | Val Loss: 0.7069 | Val Acc: 0.7077\n",
      "Epoch 215/500 | Train Loss: 0.7154 | Train Acc: 0.6847 | Val Loss: 0.7539 | Val Acc: 0.6750\n",
      "Epoch 212/500 | Train Loss: 0.7060 | Train Acc: 0.6943 | Val Loss: 0.6969 | Val Acc: 0.7115\n",
      "Epoch 213/500 | Train Loss: 0.7088 | Train Acc: 0.6847 | Val Loss: 0.7083 | Val Acc: 0.7077\n",
      "Epoch 214/500 | Train Loss: 0.7221 | Train Acc: 0.6830 | Val Loss: 0.7069 | Val Acc: 0.7077\n",
      "Epoch 215/500 | Train Loss: 0.7154 | Train Acc: 0.6847 | Val Loss: 0.7539 | Val Acc: 0.6750\n",
      "Epoch 216/500 | Train Loss: 0.7078 | Train Acc: 0.6917 | Val Loss: 0.7080 | Val Acc: 0.7058\n",
      "Epoch 217/500 | Train Loss: 0.7124 | Train Acc: 0.6900 | Val Loss: 0.7106 | Val Acc: 0.7038\n",
      "Epoch 218/500 | Train Loss: 0.7275 | Train Acc: 0.6760 | Val Loss: 0.7084 | Val Acc: 0.7077\n",
      "Epoch 219/500 | Train Loss: 0.7317 | Train Acc: 0.6716 | Val Loss: 0.7060 | Val Acc: 0.6981\n",
      "Epoch 216/500 | Train Loss: 0.7078 | Train Acc: 0.6917 | Val Loss: 0.7080 | Val Acc: 0.7058\n",
      "Epoch 217/500 | Train Loss: 0.7124 | Train Acc: 0.6900 | Val Loss: 0.7106 | Val Acc: 0.7038\n",
      "Epoch 218/500 | Train Loss: 0.7275 | Train Acc: 0.6760 | Val Loss: 0.7084 | Val Acc: 0.7077\n",
      "Epoch 219/500 | Train Loss: 0.7317 | Train Acc: 0.6716 | Val Loss: 0.7060 | Val Acc: 0.6981\n",
      "Epoch 220/500 | Train Loss: 0.7198 | Train Acc: 0.6803 | Val Loss: 0.6970 | Val Acc: 0.7288\n",
      "Epoch 221/500 | Train Loss: 0.7226 | Train Acc: 0.6812 | Val Loss: 0.7089 | Val Acc: 0.6885\n",
      "Epoch 222/500 | Train Loss: 0.7223 | Train Acc: 0.6934 | Val Loss: 0.6991 | Val Acc: 0.7096\n",
      "Epoch 223/500 | Train Loss: 0.7154 | Train Acc: 0.6917 | Val Loss: 0.6990 | Val Acc: 0.7077\n",
      "Epoch 220/500 | Train Loss: 0.7198 | Train Acc: 0.6803 | Val Loss: 0.6970 | Val Acc: 0.7288\n",
      "Epoch 221/500 | Train Loss: 0.7226 | Train Acc: 0.6812 | Val Loss: 0.7089 | Val Acc: 0.6885\n",
      "Epoch 222/500 | Train Loss: 0.7223 | Train Acc: 0.6934 | Val Loss: 0.6991 | Val Acc: 0.7096\n",
      "Epoch 223/500 | Train Loss: 0.7154 | Train Acc: 0.6917 | Val Loss: 0.6990 | Val Acc: 0.7077\n",
      "Epoch 224/500 | Train Loss: 0.7039 | Train Acc: 0.6882 | Val Loss: 0.7120 | Val Acc: 0.7135\n",
      "Epoch 225/500 | Train Loss: 0.7116 | Train Acc: 0.6812 | Val Loss: 0.7151 | Val Acc: 0.6788\n",
      "Epoch 226/500 | Train Loss: 0.7070 | Train Acc: 0.6838 | Val Loss: 0.6971 | Val Acc: 0.7154\n",
      "Epoch 227/500 | Train Loss: 0.7018 | Train Acc: 0.6969 | Val Loss: 0.7012 | Val Acc: 0.7038\n",
      "Epoch 224/500 | Train Loss: 0.7039 | Train Acc: 0.6882 | Val Loss: 0.7120 | Val Acc: 0.7135\n",
      "Epoch 225/500 | Train Loss: 0.7116 | Train Acc: 0.6812 | Val Loss: 0.7151 | Val Acc: 0.6788\n",
      "Epoch 226/500 | Train Loss: 0.7070 | Train Acc: 0.6838 | Val Loss: 0.6971 | Val Acc: 0.7154\n",
      "Epoch 227/500 | Train Loss: 0.7018 | Train Acc: 0.6969 | Val Loss: 0.7012 | Val Acc: 0.7038\n",
      "Epoch 228/500 | Train Loss: 0.7283 | Train Acc: 0.6681 | Val Loss: 0.7160 | Val Acc: 0.7077\n",
      "Epoch 229/500 | Train Loss: 0.7153 | Train Acc: 0.6934 | Val Loss: 0.6955 | Val Acc: 0.7192\n",
      "Epoch 230/500 | Train Loss: 0.7022 | Train Acc: 0.6908 | Val Loss: 0.6974 | Val Acc: 0.7019\n",
      "Epoch 231/500 | Train Loss: 0.7317 | Train Acc: 0.7013 | Val Loss: 0.7067 | Val Acc: 0.7038\n",
      "Epoch 228/500 | Train Loss: 0.7283 | Train Acc: 0.6681 | Val Loss: 0.7160 | Val Acc: 0.7077\n",
      "Epoch 229/500 | Train Loss: 0.7153 | Train Acc: 0.6934 | Val Loss: 0.6955 | Val Acc: 0.7192\n",
      "Epoch 230/500 | Train Loss: 0.7022 | Train Acc: 0.6908 | Val Loss: 0.6974 | Val Acc: 0.7019\n",
      "Epoch 231/500 | Train Loss: 0.7317 | Train Acc: 0.7013 | Val Loss: 0.7067 | Val Acc: 0.7038\n",
      "Epoch 232/500 | Train Loss: 0.7040 | Train Acc: 0.6821 | Val Loss: 0.7073 | Val Acc: 0.7135\n",
      "Epoch 233/500 | Train Loss: 0.7097 | Train Acc: 0.6987 | Val Loss: 0.7098 | Val Acc: 0.7212\n",
      "Epoch 234/500 | Train Loss: 0.7107 | Train Acc: 0.6969 | Val Loss: 0.7132 | Val Acc: 0.7192\n",
      "Epoch 235/500 | Train Loss: 0.7074 | Train Acc: 0.6847 | Val Loss: 0.6939 | Val Acc: 0.7173\n",
      "Epoch 232/500 | Train Loss: 0.7040 | Train Acc: 0.6821 | Val Loss: 0.7073 | Val Acc: 0.7135\n",
      "Epoch 233/500 | Train Loss: 0.7097 | Train Acc: 0.6987 | Val Loss: 0.7098 | Val Acc: 0.7212\n",
      "Epoch 234/500 | Train Loss: 0.7107 | Train Acc: 0.6969 | Val Loss: 0.7132 | Val Acc: 0.7192\n",
      "Epoch 235/500 | Train Loss: 0.7074 | Train Acc: 0.6847 | Val Loss: 0.6939 | Val Acc: 0.7173\n",
      "Epoch 236/500 | Train Loss: 0.7264 | Train Acc: 0.6786 | Val Loss: 0.7162 | Val Acc: 0.6885\n",
      "Epoch 237/500 | Train Loss: 0.7043 | Train Acc: 0.6934 | Val Loss: 0.6922 | Val Acc: 0.7308\n",
      "Epoch 238/500 | Train Loss: 0.6973 | Train Acc: 0.7092 | Val Loss: 0.7177 | Val Acc: 0.7019\n",
      "Epoch 239/500 | Train Loss: 0.7034 | Train Acc: 0.7092 | Val Loss: 0.6986 | Val Acc: 0.7269\n",
      "Epoch 236/500 | Train Loss: 0.7264 | Train Acc: 0.6786 | Val Loss: 0.7162 | Val Acc: 0.6885\n",
      "Epoch 237/500 | Train Loss: 0.7043 | Train Acc: 0.6934 | Val Loss: 0.6922 | Val Acc: 0.7308\n",
      "Epoch 238/500 | Train Loss: 0.6973 | Train Acc: 0.7092 | Val Loss: 0.7177 | Val Acc: 0.7019\n",
      "Epoch 239/500 | Train Loss: 0.7034 | Train Acc: 0.7092 | Val Loss: 0.6986 | Val Acc: 0.7269\n",
      "Epoch 240/500 | Train Loss: 0.6992 | Train Acc: 0.7022 | Val Loss: 0.6891 | Val Acc: 0.7346\n",
      "Epoch 241/500 | Train Loss: 0.7083 | Train Acc: 0.6908 | Val Loss: 0.6990 | Val Acc: 0.7308\n",
      "Epoch 242/500 | Train Loss: 0.7063 | Train Acc: 0.7057 | Val Loss: 0.7140 | Val Acc: 0.7038\n",
      "Epoch 243/500 | Train Loss: 0.7011 | Train Acc: 0.6943 | Val Loss: 0.6984 | Val Acc: 0.6942\n",
      "Epoch 240/500 | Train Loss: 0.6992 | Train Acc: 0.7022 | Val Loss: 0.6891 | Val Acc: 0.7346\n",
      "Epoch 241/500 | Train Loss: 0.7083 | Train Acc: 0.6908 | Val Loss: 0.6990 | Val Acc: 0.7308\n",
      "Epoch 242/500 | Train Loss: 0.7063 | Train Acc: 0.7057 | Val Loss: 0.7140 | Val Acc: 0.7038\n",
      "Epoch 243/500 | Train Loss: 0.7011 | Train Acc: 0.6943 | Val Loss: 0.6984 | Val Acc: 0.6942\n",
      "Epoch 244/500 | Train Loss: 0.7044 | Train Acc: 0.6900 | Val Loss: 0.6952 | Val Acc: 0.7096\n",
      "Epoch 245/500 | Train Loss: 0.7014 | Train Acc: 0.7013 | Val Loss: 0.6941 | Val Acc: 0.7173\n",
      "Epoch 246/500 | Train Loss: 0.6882 | Train Acc: 0.7066 | Val Loss: 0.7010 | Val Acc: 0.7231\n",
      "Epoch 247/500 | Train Loss: 0.6835 | Train Acc: 0.7092 | Val Loss: 0.6819 | Val Acc: 0.7308\n",
      "Epoch 244/500 | Train Loss: 0.7044 | Train Acc: 0.6900 | Val Loss: 0.6952 | Val Acc: 0.7096\n",
      "Epoch 245/500 | Train Loss: 0.7014 | Train Acc: 0.7013 | Val Loss: 0.6941 | Val Acc: 0.7173\n",
      "Epoch 246/500 | Train Loss: 0.6882 | Train Acc: 0.7066 | Val Loss: 0.7010 | Val Acc: 0.7231\n",
      "Epoch 247/500 | Train Loss: 0.6835 | Train Acc: 0.7092 | Val Loss: 0.6819 | Val Acc: 0.7308\n",
      "Epoch 248/500 | Train Loss: 0.6841 | Train Acc: 0.7127 | Val Loss: 0.6892 | Val Acc: 0.7327\n",
      "Epoch 249/500 | Train Loss: 0.6885 | Train Acc: 0.7109 | Val Loss: 0.7052 | Val Acc: 0.7288\n",
      "Epoch 250/500 | Train Loss: 0.6897 | Train Acc: 0.7258 | Val Loss: 0.7230 | Val Acc: 0.6885\n",
      "Epoch 248/500 | Train Loss: 0.6841 | Train Acc: 0.7127 | Val Loss: 0.6892 | Val Acc: 0.7327\n",
      "Epoch 249/500 | Train Loss: 0.6885 | Train Acc: 0.7109 | Val Loss: 0.7052 | Val Acc: 0.7288\n",
      "Epoch 250/500 | Train Loss: 0.6897 | Train Acc: 0.7258 | Val Loss: 0.7230 | Val Acc: 0.6885\n",
      "Epoch 251/500 | Train Loss: 0.6863 | Train Acc: 0.7135 | Val Loss: 0.6936 | Val Acc: 0.7115\n",
      "Epoch 252/500 | Train Loss: 0.6996 | Train Acc: 0.6882 | Val Loss: 0.6855 | Val Acc: 0.7231\n",
      "Epoch 253/500 | Train Loss: 0.7007 | Train Acc: 0.6943 | Val Loss: 0.6930 | Val Acc: 0.7096\n",
      "Epoch 254/500 | Train Loss: 0.6957 | Train Acc: 0.7022 | Val Loss: 0.6855 | Val Acc: 0.7365\n",
      "Epoch 251/500 | Train Loss: 0.6863 | Train Acc: 0.7135 | Val Loss: 0.6936 | Val Acc: 0.7115\n",
      "Epoch 252/500 | Train Loss: 0.6996 | Train Acc: 0.6882 | Val Loss: 0.6855 | Val Acc: 0.7231\n",
      "Epoch 253/500 | Train Loss: 0.7007 | Train Acc: 0.6943 | Val Loss: 0.6930 | Val Acc: 0.7096\n",
      "Epoch 254/500 | Train Loss: 0.6957 | Train Acc: 0.7022 | Val Loss: 0.6855 | Val Acc: 0.7365\n",
      "Epoch 255/500 | Train Loss: 0.6849 | Train Acc: 0.7179 | Val Loss: 0.6818 | Val Acc: 0.7269\n",
      "Epoch 256/500 | Train Loss: 0.6851 | Train Acc: 0.7127 | Val Loss: 0.6975 | Val Acc: 0.7231\n",
      "Epoch 257/500 | Train Loss: 0.6811 | Train Acc: 0.7179 | Val Loss: 0.6861 | Val Acc: 0.7481\n",
      "Epoch 258/500 | Train Loss: 0.6864 | Train Acc: 0.7144 | Val Loss: 0.6955 | Val Acc: 0.7154\n",
      "Epoch 255/500 | Train Loss: 0.6849 | Train Acc: 0.7179 | Val Loss: 0.6818 | Val Acc: 0.7269\n",
      "Epoch 256/500 | Train Loss: 0.6851 | Train Acc: 0.7127 | Val Loss: 0.6975 | Val Acc: 0.7231\n",
      "Epoch 257/500 | Train Loss: 0.6811 | Train Acc: 0.7179 | Val Loss: 0.6861 | Val Acc: 0.7481\n",
      "Epoch 258/500 | Train Loss: 0.6864 | Train Acc: 0.7144 | Val Loss: 0.6955 | Val Acc: 0.7154\n",
      "Epoch 259/500 | Train Loss: 0.6824 | Train Acc: 0.7162 | Val Loss: 0.7071 | Val Acc: 0.7096\n",
      "Epoch 260/500 | Train Loss: 0.6934 | Train Acc: 0.7100 | Val Loss: 0.7203 | Val Acc: 0.7096\n",
      "Epoch 261/500 | Train Loss: 0.6895 | Train Acc: 0.7118 | Val Loss: 0.7285 | Val Acc: 0.7096\n",
      "Epoch 262/500 | Train Loss: 0.7095 | Train Acc: 0.7031 | Val Loss: 0.7103 | Val Acc: 0.7462\n",
      "Epoch 259/500 | Train Loss: 0.6824 | Train Acc: 0.7162 | Val Loss: 0.7071 | Val Acc: 0.7096\n",
      "Epoch 260/500 | Train Loss: 0.6934 | Train Acc: 0.7100 | Val Loss: 0.7203 | Val Acc: 0.7096\n",
      "Epoch 261/500 | Train Loss: 0.6895 | Train Acc: 0.7118 | Val Loss: 0.7285 | Val Acc: 0.7096\n",
      "Epoch 262/500 | Train Loss: 0.7095 | Train Acc: 0.7031 | Val Loss: 0.7103 | Val Acc: 0.7462\n",
      "Epoch 263/500 | Train Loss: 0.7092 | Train Acc: 0.7013 | Val Loss: 0.6853 | Val Acc: 0.7404\n",
      "Epoch 264/500 | Train Loss: 0.7039 | Train Acc: 0.7048 | Val Loss: 0.6898 | Val Acc: 0.7269\n",
      "Epoch 265/500 | Train Loss: 0.6994 | Train Acc: 0.6961 | Val Loss: 0.6917 | Val Acc: 0.7096\n",
      "Epoch 266/500 | Train Loss: 0.6923 | Train Acc: 0.7048 | Val Loss: 0.6835 | Val Acc: 0.7365\n",
      "Epoch 263/500 | Train Loss: 0.7092 | Train Acc: 0.7013 | Val Loss: 0.6853 | Val Acc: 0.7404\n",
      "Epoch 264/500 | Train Loss: 0.7039 | Train Acc: 0.7048 | Val Loss: 0.6898 | Val Acc: 0.7269\n",
      "Epoch 265/500 | Train Loss: 0.6994 | Train Acc: 0.6961 | Val Loss: 0.6917 | Val Acc: 0.7096\n",
      "Epoch 266/500 | Train Loss: 0.6923 | Train Acc: 0.7048 | Val Loss: 0.6835 | Val Acc: 0.7365\n",
      "Epoch 267/500 | Train Loss: 0.6862 | Train Acc: 0.7240 | Val Loss: 0.6798 | Val Acc: 0.7423\n",
      "Epoch 268/500 | Train Loss: 0.6835 | Train Acc: 0.7240 | Val Loss: 0.6979 | Val Acc: 0.7423\n",
      "Epoch 269/500 | Train Loss: 0.6763 | Train Acc: 0.7214 | Val Loss: 0.6855 | Val Acc: 0.7250\n",
      "Epoch 270/500 | Train Loss: 0.6774 | Train Acc: 0.7162 | Val Loss: 0.6932 | Val Acc: 0.7404\n",
      "Epoch 271/500 | Train Loss: 0.6810 | Train Acc: 0.7231 | Val Loss: 0.7053 | Val Acc: 0.7212\n",
      "Epoch 267/500 | Train Loss: 0.6862 | Train Acc: 0.7240 | Val Loss: 0.6798 | Val Acc: 0.7423\n",
      "Epoch 268/500 | Train Loss: 0.6835 | Train Acc: 0.7240 | Val Loss: 0.6979 | Val Acc: 0.7423\n",
      "Epoch 269/500 | Train Loss: 0.6763 | Train Acc: 0.7214 | Val Loss: 0.6855 | Val Acc: 0.7250\n",
      "Epoch 270/500 | Train Loss: 0.6774 | Train Acc: 0.7162 | Val Loss: 0.6932 | Val Acc: 0.7404\n",
      "Epoch 271/500 | Train Loss: 0.6810 | Train Acc: 0.7231 | Val Loss: 0.7053 | Val Acc: 0.7212\n",
      "Epoch 272/500 | Train Loss: 0.6749 | Train Acc: 0.7249 | Val Loss: 0.6943 | Val Acc: 0.7173\n",
      "Epoch 273/500 | Train Loss: 0.7024 | Train Acc: 0.6952 | Val Loss: 0.6971 | Val Acc: 0.7135\n",
      "Epoch 274/500 | Train Loss: 0.7189 | Train Acc: 0.6734 | Val Loss: 0.7165 | Val Acc: 0.6962\n",
      "Epoch 275/500 | Train Loss: 0.7046 | Train Acc: 0.6786 | Val Loss: 0.7053 | Val Acc: 0.7077\n",
      "Epoch 272/500 | Train Loss: 0.6749 | Train Acc: 0.7249 | Val Loss: 0.6943 | Val Acc: 0.7173\n",
      "Epoch 273/500 | Train Loss: 0.7024 | Train Acc: 0.6952 | Val Loss: 0.6971 | Val Acc: 0.7135\n",
      "Epoch 274/500 | Train Loss: 0.7189 | Train Acc: 0.6734 | Val Loss: 0.7165 | Val Acc: 0.6962\n",
      "Epoch 275/500 | Train Loss: 0.7046 | Train Acc: 0.6786 | Val Loss: 0.7053 | Val Acc: 0.7077\n",
      "Epoch 276/500 | Train Loss: 0.7185 | Train Acc: 0.6856 | Val Loss: 0.7609 | Val Acc: 0.6788\n",
      "Epoch 277/500 | Train Loss: 0.7294 | Train Acc: 0.6629 | Val Loss: 0.7028 | Val Acc: 0.7038\n",
      "Epoch 278/500 | Train Loss: 0.6932 | Train Acc: 0.7109 | Val Loss: 0.6853 | Val Acc: 0.7462\n",
      "Epoch 279/500 | Train Loss: 0.6830 | Train Acc: 0.7231 | Val Loss: 0.6948 | Val Acc: 0.7442\n",
      "Epoch 276/500 | Train Loss: 0.7185 | Train Acc: 0.6856 | Val Loss: 0.7609 | Val Acc: 0.6788\n",
      "Epoch 277/500 | Train Loss: 0.7294 | Train Acc: 0.6629 | Val Loss: 0.7028 | Val Acc: 0.7038\n",
      "Epoch 278/500 | Train Loss: 0.6932 | Train Acc: 0.7109 | Val Loss: 0.6853 | Val Acc: 0.7462\n",
      "Epoch 279/500 | Train Loss: 0.6830 | Train Acc: 0.7231 | Val Loss: 0.6948 | Val Acc: 0.7442\n",
      "Epoch 280/500 | Train Loss: 0.6773 | Train Acc: 0.7179 | Val Loss: 0.7007 | Val Acc: 0.7231\n",
      "Epoch 281/500 | Train Loss: 0.6849 | Train Acc: 0.7214 | Val Loss: 0.6785 | Val Acc: 0.7442\n",
      "Epoch 282/500 | Train Loss: 0.6833 | Train Acc: 0.7135 | Val Loss: 0.7220 | Val Acc: 0.6962\n",
      "Epoch 283/500 | Train Loss: 0.6807 | Train Acc: 0.7197 | Val Loss: 0.6843 | Val Acc: 0.7500\n",
      "Epoch 284/500 | Train Loss: 0.6801 | Train Acc: 0.7258 | Val Loss: 0.6908 | Val Acc: 0.7250\n",
      "Epoch 280/500 | Train Loss: 0.6773 | Train Acc: 0.7179 | Val Loss: 0.7007 | Val Acc: 0.7231\n",
      "Epoch 281/500 | Train Loss: 0.6849 | Train Acc: 0.7214 | Val Loss: 0.6785 | Val Acc: 0.7442\n",
      "Epoch 282/500 | Train Loss: 0.6833 | Train Acc: 0.7135 | Val Loss: 0.7220 | Val Acc: 0.6962\n",
      "Epoch 283/500 | Train Loss: 0.6807 | Train Acc: 0.7197 | Val Loss: 0.6843 | Val Acc: 0.7500\n",
      "Epoch 284/500 | Train Loss: 0.6801 | Train Acc: 0.7258 | Val Loss: 0.6908 | Val Acc: 0.7250\n",
      "Epoch 285/500 | Train Loss: 0.6897 | Train Acc: 0.7135 | Val Loss: 0.7116 | Val Acc: 0.7038\n",
      "Epoch 286/500 | Train Loss: 0.6990 | Train Acc: 0.7022 | Val Loss: 0.6927 | Val Acc: 0.7096\n",
      "Epoch 287/500 | Train Loss: 0.6908 | Train Acc: 0.7074 | Val Loss: 0.6927 | Val Acc: 0.7212\n",
      "Epoch 288/500 | Train Loss: 0.6885 | Train Acc: 0.7118 | Val Loss: 0.7021 | Val Acc: 0.7115\n",
      "Epoch 289/500 | Train Loss: 0.6838 | Train Acc: 0.7048 | Val Loss: 0.6895 | Val Acc: 0.7442\n",
      "Epoch 285/500 | Train Loss: 0.6897 | Train Acc: 0.7135 | Val Loss: 0.7116 | Val Acc: 0.7038\n",
      "Epoch 286/500 | Train Loss: 0.6990 | Train Acc: 0.7022 | Val Loss: 0.6927 | Val Acc: 0.7096\n",
      "Epoch 287/500 | Train Loss: 0.6908 | Train Acc: 0.7074 | Val Loss: 0.6927 | Val Acc: 0.7212\n",
      "Epoch 288/500 | Train Loss: 0.6885 | Train Acc: 0.7118 | Val Loss: 0.7021 | Val Acc: 0.7115\n",
      "Epoch 289/500 | Train Loss: 0.6838 | Train Acc: 0.7048 | Val Loss: 0.6895 | Val Acc: 0.7442\n",
      "Epoch 290/500 | Train Loss: 0.6726 | Train Acc: 0.7179 | Val Loss: 0.6866 | Val Acc: 0.7365\n",
      "Epoch 291/500 | Train Loss: 0.6662 | Train Acc: 0.7258 | Val Loss: 0.6893 | Val Acc: 0.7365\n",
      "Epoch 292/500 | Train Loss: 0.6670 | Train Acc: 0.7223 | Val Loss: 0.6890 | Val Acc: 0.7269\n",
      "Epoch 293/500 | Train Loss: 0.6700 | Train Acc: 0.7266 | Val Loss: 0.7001 | Val Acc: 0.7442\n",
      "Epoch 294/500 | Train Loss: 0.7002 | Train Acc: 0.7039 | Val Loss: 0.7091 | Val Acc: 0.7212\n",
      "Epoch 290/500 | Train Loss: 0.6726 | Train Acc: 0.7179 | Val Loss: 0.6866 | Val Acc: 0.7365\n",
      "Epoch 291/500 | Train Loss: 0.6662 | Train Acc: 0.7258 | Val Loss: 0.6893 | Val Acc: 0.7365\n",
      "Epoch 292/500 | Train Loss: 0.6670 | Train Acc: 0.7223 | Val Loss: 0.6890 | Val Acc: 0.7269\n",
      "Epoch 293/500 | Train Loss: 0.6700 | Train Acc: 0.7266 | Val Loss: 0.7001 | Val Acc: 0.7442\n",
      "Epoch 294/500 | Train Loss: 0.7002 | Train Acc: 0.7039 | Val Loss: 0.7091 | Val Acc: 0.7212\n",
      "Epoch 295/500 | Train Loss: 0.6860 | Train Acc: 0.7135 | Val Loss: 0.6850 | Val Acc: 0.7385\n",
      "Epoch 296/500 | Train Loss: 0.6788 | Train Acc: 0.7135 | Val Loss: 0.7016 | Val Acc: 0.7423\n",
      "Epoch 297/500 | Train Loss: 0.6753 | Train Acc: 0.7188 | Val Loss: 0.6888 | Val Acc: 0.7423\n",
      "Epoch 298/500 | Train Loss: 0.6643 | Train Acc: 0.7354 | Val Loss: 0.7134 | Val Acc: 0.7038\n",
      "Epoch 299/500 | Train Loss: 0.6694 | Train Acc: 0.7223 | Val Loss: 0.6778 | Val Acc: 0.7442\n",
      "Epoch 295/500 | Train Loss: 0.6860 | Train Acc: 0.7135 | Val Loss: 0.6850 | Val Acc: 0.7385\n",
      "Epoch 296/500 | Train Loss: 0.6788 | Train Acc: 0.7135 | Val Loss: 0.7016 | Val Acc: 0.7423\n",
      "Epoch 297/500 | Train Loss: 0.6753 | Train Acc: 0.7188 | Val Loss: 0.6888 | Val Acc: 0.7423\n",
      "Epoch 298/500 | Train Loss: 0.6643 | Train Acc: 0.7354 | Val Loss: 0.7134 | Val Acc: 0.7038\n",
      "Epoch 299/500 | Train Loss: 0.6694 | Train Acc: 0.7223 | Val Loss: 0.6778 | Val Acc: 0.7442\n",
      "Epoch 300/500 | Train Loss: 0.6745 | Train Acc: 0.7214 | Val Loss: 0.7075 | Val Acc: 0.7019\n",
      "Epoch 301/500 | Train Loss: 0.6889 | Train Acc: 0.7048 | Val Loss: 0.7119 | Val Acc: 0.7096\n",
      "Epoch 302/500 | Train Loss: 0.6965 | Train Acc: 0.6978 | Val Loss: 0.6944 | Val Acc: 0.7212\n",
      "Epoch 303/500 | Train Loss: 0.6805 | Train Acc: 0.7179 | Val Loss: 0.6953 | Val Acc: 0.7365\n",
      "Epoch 300/500 | Train Loss: 0.6745 | Train Acc: 0.7214 | Val Loss: 0.7075 | Val Acc: 0.7019\n",
      "Epoch 301/500 | Train Loss: 0.6889 | Train Acc: 0.7048 | Val Loss: 0.7119 | Val Acc: 0.7096\n",
      "Epoch 302/500 | Train Loss: 0.6965 | Train Acc: 0.6978 | Val Loss: 0.6944 | Val Acc: 0.7212\n",
      "Epoch 303/500 | Train Loss: 0.6805 | Train Acc: 0.7179 | Val Loss: 0.6953 | Val Acc: 0.7365\n",
      "Epoch 304/500 | Train Loss: 0.6709 | Train Acc: 0.7188 | Val Loss: 0.6797 | Val Acc: 0.7346\n",
      "Epoch 305/500 | Train Loss: 0.6688 | Train Acc: 0.7319 | Val Loss: 0.6711 | Val Acc: 0.7500\n",
      "Epoch 306/500 | Train Loss: 0.6644 | Train Acc: 0.7328 | Val Loss: 0.6772 | Val Acc: 0.7442\n",
      "Epoch 307/500 | Train Loss: 0.6674 | Train Acc: 0.7293 | Val Loss: 0.6856 | Val Acc: 0.7327\n",
      "Epoch 308/500 | Train Loss: 0.6771 | Train Acc: 0.7205 | Val Loss: 0.7015 | Val Acc: 0.7231\n",
      "Epoch 304/500 | Train Loss: 0.6709 | Train Acc: 0.7188 | Val Loss: 0.6797 | Val Acc: 0.7346\n",
      "Epoch 305/500 | Train Loss: 0.6688 | Train Acc: 0.7319 | Val Loss: 0.6711 | Val Acc: 0.7500\n",
      "Epoch 306/500 | Train Loss: 0.6644 | Train Acc: 0.7328 | Val Loss: 0.6772 | Val Acc: 0.7442\n",
      "Epoch 307/500 | Train Loss: 0.6674 | Train Acc: 0.7293 | Val Loss: 0.6856 | Val Acc: 0.7327\n",
      "Epoch 308/500 | Train Loss: 0.6771 | Train Acc: 0.7205 | Val Loss: 0.7015 | Val Acc: 0.7231\n",
      "Epoch 309/500 | Train Loss: 0.7111 | Train Acc: 0.6996 | Val Loss: 0.7034 | Val Acc: 0.7288\n",
      "Epoch 310/500 | Train Loss: 0.7096 | Train Acc: 0.6856 | Val Loss: 0.6834 | Val Acc: 0.7269\n",
      "Epoch 311/500 | Train Loss: 0.6837 | Train Acc: 0.7179 | Val Loss: 0.6803 | Val Acc: 0.7462\n",
      "Epoch 312/500 | Train Loss: 0.6740 | Train Acc: 0.7275 | Val Loss: 0.6954 | Val Acc: 0.7327\n",
      "Epoch 309/500 | Train Loss: 0.7111 | Train Acc: 0.6996 | Val Loss: 0.7034 | Val Acc: 0.7288\n",
      "Epoch 310/500 | Train Loss: 0.7096 | Train Acc: 0.6856 | Val Loss: 0.6834 | Val Acc: 0.7269\n",
      "Epoch 311/500 | Train Loss: 0.6837 | Train Acc: 0.7179 | Val Loss: 0.6803 | Val Acc: 0.7462\n",
      "Epoch 312/500 | Train Loss: 0.6740 | Train Acc: 0.7275 | Val Loss: 0.6954 | Val Acc: 0.7327\n",
      "Epoch 313/500 | Train Loss: 0.6772 | Train Acc: 0.7179 | Val Loss: 0.7151 | Val Acc: 0.7000\n",
      "Epoch 314/500 | Train Loss: 0.6974 | Train Acc: 0.6987 | Val Loss: 0.7279 | Val Acc: 0.7038\n",
      "Epoch 315/500 | Train Loss: 0.7116 | Train Acc: 0.6777 | Val Loss: 0.6978 | Val Acc: 0.6904\n",
      "Epoch 316/500 | Train Loss: 0.7040 | Train Acc: 0.7039 | Val Loss: 0.6757 | Val Acc: 0.7404\n",
      "Epoch 313/500 | Train Loss: 0.6772 | Train Acc: 0.7179 | Val Loss: 0.7151 | Val Acc: 0.7000\n",
      "Epoch 314/500 | Train Loss: 0.6974 | Train Acc: 0.6987 | Val Loss: 0.7279 | Val Acc: 0.7038\n",
      "Epoch 315/500 | Train Loss: 0.7116 | Train Acc: 0.6777 | Val Loss: 0.6978 | Val Acc: 0.6904\n",
      "Epoch 316/500 | Train Loss: 0.7040 | Train Acc: 0.7039 | Val Loss: 0.6757 | Val Acc: 0.7404\n",
      "Epoch 317/500 | Train Loss: 0.6733 | Train Acc: 0.7135 | Val Loss: 0.6881 | Val Acc: 0.7038\n",
      "Epoch 318/500 | Train Loss: 0.6858 | Train Acc: 0.7188 | Val Loss: 0.6832 | Val Acc: 0.7404\n",
      "Epoch 319/500 | Train Loss: 0.6662 | Train Acc: 0.7249 | Val Loss: 0.6676 | Val Acc: 0.7346\n",
      "Epoch 320/500 | Train Loss: 0.6652 | Train Acc: 0.7293 | Val Loss: 0.6779 | Val Acc: 0.7308\n",
      "Epoch 317/500 | Train Loss: 0.6733 | Train Acc: 0.7135 | Val Loss: 0.6881 | Val Acc: 0.7038\n",
      "Epoch 318/500 | Train Loss: 0.6858 | Train Acc: 0.7188 | Val Loss: 0.6832 | Val Acc: 0.7404\n",
      "Epoch 319/500 | Train Loss: 0.6662 | Train Acc: 0.7249 | Val Loss: 0.6676 | Val Acc: 0.7346\n",
      "Epoch 320/500 | Train Loss: 0.6652 | Train Acc: 0.7293 | Val Loss: 0.6779 | Val Acc: 0.7308\n",
      "Epoch 321/500 | Train Loss: 0.6626 | Train Acc: 0.7275 | Val Loss: 0.6678 | Val Acc: 0.7462\n",
      "Epoch 322/500 | Train Loss: 0.6540 | Train Acc: 0.7362 | Val Loss: 0.6683 | Val Acc: 0.7519\n",
      "Epoch 323/500 | Train Loss: 0.6561 | Train Acc: 0.7362 | Val Loss: 0.6717 | Val Acc: 0.7462\n",
      "Epoch 324/500 | Train Loss: 0.6587 | Train Acc: 0.7275 | Val Loss: 0.6753 | Val Acc: 0.7423\n",
      "Epoch 321/500 | Train Loss: 0.6626 | Train Acc: 0.7275 | Val Loss: 0.6678 | Val Acc: 0.7462\n",
      "Epoch 322/500 | Train Loss: 0.6540 | Train Acc: 0.7362 | Val Loss: 0.6683 | Val Acc: 0.7519\n",
      "Epoch 323/500 | Train Loss: 0.6561 | Train Acc: 0.7362 | Val Loss: 0.6717 | Val Acc: 0.7462\n",
      "Epoch 324/500 | Train Loss: 0.6587 | Train Acc: 0.7275 | Val Loss: 0.6753 | Val Acc: 0.7423\n",
      "Epoch 325/500 | Train Loss: 0.6573 | Train Acc: 0.7336 | Val Loss: 0.6859 | Val Acc: 0.7192\n",
      "Epoch 326/500 | Train Loss: 0.6627 | Train Acc: 0.7205 | Val Loss: 0.6845 | Val Acc: 0.7192\n",
      "Epoch 327/500 | Train Loss: 0.6530 | Train Acc: 0.7336 | Val Loss: 0.6820 | Val Acc: 0.7577\n",
      "Epoch 328/500 | Train Loss: 0.6605 | Train Acc: 0.7336 | Val Loss: 0.6763 | Val Acc: 0.7462\n",
      "Epoch 325/500 | Train Loss: 0.6573 | Train Acc: 0.7336 | Val Loss: 0.6859 | Val Acc: 0.7192\n",
      "Epoch 326/500 | Train Loss: 0.6627 | Train Acc: 0.7205 | Val Loss: 0.6845 | Val Acc: 0.7192\n",
      "Epoch 327/500 | Train Loss: 0.6530 | Train Acc: 0.7336 | Val Loss: 0.6820 | Val Acc: 0.7577\n",
      "Epoch 328/500 | Train Loss: 0.6605 | Train Acc: 0.7336 | Val Loss: 0.6763 | Val Acc: 0.7462\n",
      "Epoch 329/500 | Train Loss: 0.6698 | Train Acc: 0.7319 | Val Loss: 0.6578 | Val Acc: 0.7538\n",
      "Epoch 330/500 | Train Loss: 0.6704 | Train Acc: 0.7170 | Val Loss: 0.6654 | Val Acc: 0.7423\n",
      "Epoch 331/500 | Train Loss: 0.6516 | Train Acc: 0.7354 | Val Loss: 0.6717 | Val Acc: 0.7481\n",
      "Epoch 332/500 | Train Loss: 0.6590 | Train Acc: 0.7293 | Val Loss: 0.6677 | Val Acc: 0.7423\n",
      "Epoch 329/500 | Train Loss: 0.6698 | Train Acc: 0.7319 | Val Loss: 0.6578 | Val Acc: 0.7538\n",
      "Epoch 330/500 | Train Loss: 0.6704 | Train Acc: 0.7170 | Val Loss: 0.6654 | Val Acc: 0.7423\n",
      "Epoch 331/500 | Train Loss: 0.6516 | Train Acc: 0.7354 | Val Loss: 0.6717 | Val Acc: 0.7481\n",
      "Epoch 332/500 | Train Loss: 0.6590 | Train Acc: 0.7293 | Val Loss: 0.6677 | Val Acc: 0.7423\n",
      "Epoch 333/500 | Train Loss: 0.6451 | Train Acc: 0.7336 | Val Loss: 0.6622 | Val Acc: 0.7519\n",
      "Epoch 334/500 | Train Loss: 0.6458 | Train Acc: 0.7345 | Val Loss: 0.6737 | Val Acc: 0.7308\n",
      "Epoch 335/500 | Train Loss: 0.6419 | Train Acc: 0.7441 | Val Loss: 0.6654 | Val Acc: 0.7538\n",
      "Epoch 336/500 | Train Loss: 0.6612 | Train Acc: 0.7284 | Val Loss: 0.7322 | Val Acc: 0.6962\n",
      "Epoch 333/500 | Train Loss: 0.6451 | Train Acc: 0.7336 | Val Loss: 0.6622 | Val Acc: 0.7519\n",
      "Epoch 334/500 | Train Loss: 0.6458 | Train Acc: 0.7345 | Val Loss: 0.6737 | Val Acc: 0.7308\n",
      "Epoch 335/500 | Train Loss: 0.6419 | Train Acc: 0.7441 | Val Loss: 0.6654 | Val Acc: 0.7538\n",
      "Epoch 336/500 | Train Loss: 0.6612 | Train Acc: 0.7284 | Val Loss: 0.7322 | Val Acc: 0.6962\n",
      "Epoch 337/500 | Train Loss: 0.6690 | Train Acc: 0.7153 | Val Loss: 0.6920 | Val Acc: 0.7385\n",
      "Epoch 338/500 | Train Loss: 0.6761 | Train Acc: 0.7188 | Val Loss: 0.6803 | Val Acc: 0.7462\n",
      "Epoch 339/500 | Train Loss: 0.6657 | Train Acc: 0.7214 | Val Loss: 0.6743 | Val Acc: 0.7538\n",
      "Epoch 340/500 | Train Loss: 0.6487 | Train Acc: 0.7301 | Val Loss: 0.6938 | Val Acc: 0.7404\n",
      "Epoch 341/500 | Train Loss: 0.6684 | Train Acc: 0.7231 | Val Loss: 0.6574 | Val Acc: 0.7423\n",
      "Epoch 337/500 | Train Loss: 0.6690 | Train Acc: 0.7153 | Val Loss: 0.6920 | Val Acc: 0.7385\n",
      "Epoch 338/500 | Train Loss: 0.6761 | Train Acc: 0.7188 | Val Loss: 0.6803 | Val Acc: 0.7462\n",
      "Epoch 339/500 | Train Loss: 0.6657 | Train Acc: 0.7214 | Val Loss: 0.6743 | Val Acc: 0.7538\n",
      "Epoch 340/500 | Train Loss: 0.6487 | Train Acc: 0.7301 | Val Loss: 0.6938 | Val Acc: 0.7404\n",
      "Epoch 341/500 | Train Loss: 0.6684 | Train Acc: 0.7231 | Val Loss: 0.6574 | Val Acc: 0.7423\n",
      "Epoch 342/500 | Train Loss: 0.6688 | Train Acc: 0.7319 | Val Loss: 0.6818 | Val Acc: 0.7423\n",
      "Epoch 343/500 | Train Loss: 0.6595 | Train Acc: 0.7249 | Val Loss: 0.6751 | Val Acc: 0.7385\n",
      "Epoch 344/500 | Train Loss: 0.6485 | Train Acc: 0.7293 | Val Loss: 0.7139 | Val Acc: 0.7288\n",
      "Epoch 345/500 | Train Loss: 0.6708 | Train Acc: 0.7188 | Val Loss: 0.6860 | Val Acc: 0.7250\n",
      "Epoch 346/500 | Train Loss: 0.6601 | Train Acc: 0.7301 | Val Loss: 0.6900 | Val Acc: 0.7346\n",
      "Epoch 342/500 | Train Loss: 0.6688 | Train Acc: 0.7319 | Val Loss: 0.6818 | Val Acc: 0.7423\n",
      "Epoch 343/500 | Train Loss: 0.6595 | Train Acc: 0.7249 | Val Loss: 0.6751 | Val Acc: 0.7385\n",
      "Epoch 344/500 | Train Loss: 0.6485 | Train Acc: 0.7293 | Val Loss: 0.7139 | Val Acc: 0.7288\n",
      "Epoch 345/500 | Train Loss: 0.6708 | Train Acc: 0.7188 | Val Loss: 0.6860 | Val Acc: 0.7250\n",
      "Epoch 346/500 | Train Loss: 0.6601 | Train Acc: 0.7301 | Val Loss: 0.6900 | Val Acc: 0.7346\n",
      "Epoch 347/500 | Train Loss: 0.6958 | Train Acc: 0.7022 | Val Loss: 0.6859 | Val Acc: 0.7481\n",
      "Epoch 348/500 | Train Loss: 0.6719 | Train Acc: 0.7231 | Val Loss: 0.6600 | Val Acc: 0.7481\n",
      "Epoch 349/500 | Train Loss: 0.6744 | Train Acc: 0.7223 | Val Loss: 0.6983 | Val Acc: 0.7212\n",
      "Epoch 350/500 | Train Loss: 0.6729 | Train Acc: 0.7127 | Val Loss: 0.6950 | Val Acc: 0.7231\n",
      "Epoch 351/500 | Train Loss: 0.6588 | Train Acc: 0.7258 | Val Loss: 0.6685 | Val Acc: 0.7538\n",
      "Epoch 347/500 | Train Loss: 0.6958 | Train Acc: 0.7022 | Val Loss: 0.6859 | Val Acc: 0.7481\n",
      "Epoch 348/500 | Train Loss: 0.6719 | Train Acc: 0.7231 | Val Loss: 0.6600 | Val Acc: 0.7481\n",
      "Epoch 349/500 | Train Loss: 0.6744 | Train Acc: 0.7223 | Val Loss: 0.6983 | Val Acc: 0.7212\n",
      "Epoch 350/500 | Train Loss: 0.6729 | Train Acc: 0.7127 | Val Loss: 0.6950 | Val Acc: 0.7231\n",
      "Epoch 351/500 | Train Loss: 0.6588 | Train Acc: 0.7258 | Val Loss: 0.6685 | Val Acc: 0.7538\n",
      "Epoch 352/500 | Train Loss: 0.6500 | Train Acc: 0.7380 | Val Loss: 0.6757 | Val Acc: 0.7500\n",
      "Epoch 353/500 | Train Loss: 0.6460 | Train Acc: 0.7328 | Val Loss: 0.6640 | Val Acc: 0.7500\n",
      "Epoch 354/500 | Train Loss: 0.6438 | Train Acc: 0.7371 | Val Loss: 0.6830 | Val Acc: 0.7500\n",
      "Epoch 355/500 | Train Loss: 0.6531 | Train Acc: 0.7354 | Val Loss: 0.7184 | Val Acc: 0.7385\n",
      "Epoch 356/500 | Train Loss: 0.6478 | Train Acc: 0.7389 | Val Loss: 0.6728 | Val Acc: 0.7442\n",
      "Epoch 352/500 | Train Loss: 0.6500 | Train Acc: 0.7380 | Val Loss: 0.6757 | Val Acc: 0.7500\n",
      "Epoch 353/500 | Train Loss: 0.6460 | Train Acc: 0.7328 | Val Loss: 0.6640 | Val Acc: 0.7500\n",
      "Epoch 354/500 | Train Loss: 0.6438 | Train Acc: 0.7371 | Val Loss: 0.6830 | Val Acc: 0.7500\n",
      "Epoch 355/500 | Train Loss: 0.6531 | Train Acc: 0.7354 | Val Loss: 0.7184 | Val Acc: 0.7385\n",
      "Epoch 356/500 | Train Loss: 0.6478 | Train Acc: 0.7389 | Val Loss: 0.6728 | Val Acc: 0.7442\n",
      "Epoch 357/500 | Train Loss: 0.6411 | Train Acc: 0.7362 | Val Loss: 0.6815 | Val Acc: 0.7481\n",
      "Epoch 358/500 | Train Loss: 0.6465 | Train Acc: 0.7397 | Val Loss: 0.6782 | Val Acc: 0.7442\n",
      "Epoch 359/500 | Train Loss: 0.6716 | Train Acc: 0.7118 | Val Loss: 0.6872 | Val Acc: 0.7365\n",
      "Epoch 360/500 | Train Loss: 0.6793 | Train Acc: 0.7074 | Val Loss: 0.6690 | Val Acc: 0.7346\n",
      "Epoch 357/500 | Train Loss: 0.6411 | Train Acc: 0.7362 | Val Loss: 0.6815 | Val Acc: 0.7481\n",
      "Epoch 358/500 | Train Loss: 0.6465 | Train Acc: 0.7397 | Val Loss: 0.6782 | Val Acc: 0.7442\n",
      "Epoch 359/500 | Train Loss: 0.6716 | Train Acc: 0.7118 | Val Loss: 0.6872 | Val Acc: 0.7365\n",
      "Epoch 360/500 | Train Loss: 0.6793 | Train Acc: 0.7074 | Val Loss: 0.6690 | Val Acc: 0.7346\n",
      "Epoch 361/500 | Train Loss: 0.6713 | Train Acc: 0.7162 | Val Loss: 0.6672 | Val Acc: 0.7327\n",
      "Epoch 362/500 | Train Loss: 0.6848 | Train Acc: 0.7118 | Val Loss: 0.6636 | Val Acc: 0.7462\n",
      "Epoch 363/500 | Train Loss: 0.6604 | Train Acc: 0.7328 | Val Loss: 0.6597 | Val Acc: 0.7404\n",
      "Epoch 364/500 | Train Loss: 0.6520 | Train Acc: 0.7345 | Val Loss: 0.6670 | Val Acc: 0.7404\n",
      "Epoch 361/500 | Train Loss: 0.6713 | Train Acc: 0.7162 | Val Loss: 0.6672 | Val Acc: 0.7327\n",
      "Epoch 362/500 | Train Loss: 0.6848 | Train Acc: 0.7118 | Val Loss: 0.6636 | Val Acc: 0.7462\n",
      "Epoch 363/500 | Train Loss: 0.6604 | Train Acc: 0.7328 | Val Loss: 0.6597 | Val Acc: 0.7404\n",
      "Epoch 364/500 | Train Loss: 0.6520 | Train Acc: 0.7345 | Val Loss: 0.6670 | Val Acc: 0.7404\n",
      "Epoch 365/500 | Train Loss: 0.6475 | Train Acc: 0.7319 | Val Loss: 0.6640 | Val Acc: 0.7327\n",
      "Epoch 366/500 | Train Loss: 0.6482 | Train Acc: 0.7328 | Val Loss: 0.6930 | Val Acc: 0.7500\n",
      "Epoch 367/500 | Train Loss: 0.6604 | Train Acc: 0.7284 | Val Loss: 0.6699 | Val Acc: 0.7423\n",
      "Epoch 368/500 | Train Loss: 0.6556 | Train Acc: 0.7258 | Val Loss: 0.6625 | Val Acc: 0.7462\n",
      "Epoch 365/500 | Train Loss: 0.6475 | Train Acc: 0.7319 | Val Loss: 0.6640 | Val Acc: 0.7327\n",
      "Epoch 366/500 | Train Loss: 0.6482 | Train Acc: 0.7328 | Val Loss: 0.6930 | Val Acc: 0.7500\n",
      "Epoch 367/500 | Train Loss: 0.6604 | Train Acc: 0.7284 | Val Loss: 0.6699 | Val Acc: 0.7423\n",
      "Epoch 368/500 | Train Loss: 0.6556 | Train Acc: 0.7258 | Val Loss: 0.6625 | Val Acc: 0.7462\n",
      "Epoch 369/500 | Train Loss: 0.6489 | Train Acc: 0.7336 | Val Loss: 0.6435 | Val Acc: 0.7519\n",
      "Epoch 370/500 | Train Loss: 0.6399 | Train Acc: 0.7406 | Val Loss: 0.6489 | Val Acc: 0.7481\n",
      "Epoch 371/500 | Train Loss: 0.6545 | Train Acc: 0.7144 | Val Loss: 0.6458 | Val Acc: 0.7519\n",
      "Epoch 372/500 | Train Loss: 0.6491 | Train Acc: 0.7319 | Val Loss: 0.6537 | Val Acc: 0.7212\n",
      "Epoch 369/500 | Train Loss: 0.6489 | Train Acc: 0.7336 | Val Loss: 0.6435 | Val Acc: 0.7519\n",
      "Epoch 370/500 | Train Loss: 0.6399 | Train Acc: 0.7406 | Val Loss: 0.6489 | Val Acc: 0.7481\n",
      "Epoch 371/500 | Train Loss: 0.6545 | Train Acc: 0.7144 | Val Loss: 0.6458 | Val Acc: 0.7519\n",
      "Epoch 372/500 | Train Loss: 0.6491 | Train Acc: 0.7319 | Val Loss: 0.6537 | Val Acc: 0.7212\n",
      "Epoch 373/500 | Train Loss: 0.6437 | Train Acc: 0.7397 | Val Loss: 0.6634 | Val Acc: 0.7500\n",
      "Epoch 374/500 | Train Loss: 0.6560 | Train Acc: 0.7301 | Val Loss: 0.6847 | Val Acc: 0.7077\n",
      "Epoch 375/500 | Train Loss: 0.6446 | Train Acc: 0.7371 | Val Loss: 0.6700 | Val Acc: 0.7423\n",
      "Epoch 376/500 | Train Loss: 0.6630 | Train Acc: 0.7240 | Val Loss: 0.6593 | Val Acc: 0.7288\n",
      "Epoch 377/500 | Train Loss: 0.6638 | Train Acc: 0.7319 | Val Loss: 0.6484 | Val Acc: 0.7500\n",
      "Epoch 373/500 | Train Loss: 0.6437 | Train Acc: 0.7397 | Val Loss: 0.6634 | Val Acc: 0.7500\n",
      "Epoch 374/500 | Train Loss: 0.6560 | Train Acc: 0.7301 | Val Loss: 0.6847 | Val Acc: 0.7077\n",
      "Epoch 375/500 | Train Loss: 0.6446 | Train Acc: 0.7371 | Val Loss: 0.6700 | Val Acc: 0.7423\n",
      "Epoch 376/500 | Train Loss: 0.6630 | Train Acc: 0.7240 | Val Loss: 0.6593 | Val Acc: 0.7288\n",
      "Epoch 377/500 | Train Loss: 0.6638 | Train Acc: 0.7319 | Val Loss: 0.6484 | Val Acc: 0.7500\n",
      "Epoch 378/500 | Train Loss: 0.6547 | Train Acc: 0.7362 | Val Loss: 0.6586 | Val Acc: 0.7500\n",
      "Epoch 379/500 | Train Loss: 0.6514 | Train Acc: 0.7345 | Val Loss: 0.6520 | Val Acc: 0.7519\n",
      "Epoch 380/500 | Train Loss: 0.6493 | Train Acc: 0.7336 | Val Loss: 0.6804 | Val Acc: 0.7269\n",
      "Epoch 381/500 | Train Loss: 0.6687 | Train Acc: 0.7188 | Val Loss: 0.6703 | Val Acc: 0.7404\n",
      "Epoch 382/500 | Train Loss: 0.6698 | Train Acc: 0.7118 | Val Loss: 0.6511 | Val Acc: 0.7481\n",
      "Epoch 378/500 | Train Loss: 0.6547 | Train Acc: 0.7362 | Val Loss: 0.6586 | Val Acc: 0.7500\n",
      "Epoch 379/500 | Train Loss: 0.6514 | Train Acc: 0.7345 | Val Loss: 0.6520 | Val Acc: 0.7519\n",
      "Epoch 380/500 | Train Loss: 0.6493 | Train Acc: 0.7336 | Val Loss: 0.6804 | Val Acc: 0.7269\n",
      "Epoch 381/500 | Train Loss: 0.6687 | Train Acc: 0.7188 | Val Loss: 0.6703 | Val Acc: 0.7404\n",
      "Epoch 382/500 | Train Loss: 0.6698 | Train Acc: 0.7118 | Val Loss: 0.6511 | Val Acc: 0.7481\n",
      "Epoch 383/500 | Train Loss: 0.6417 | Train Acc: 0.7380 | Val Loss: 0.6437 | Val Acc: 0.7596\n",
      "Epoch 384/500 | Train Loss: 0.6375 | Train Acc: 0.7450 | Val Loss: 0.6460 | Val Acc: 0.7481\n",
      "Epoch 385/500 | Train Loss: 0.6418 | Train Acc: 0.7450 | Val Loss: 0.6664 | Val Acc: 0.7365\n",
      "Epoch 386/500 | Train Loss: 0.6479 | Train Acc: 0.7389 | Val Loss: 0.6930 | Val Acc: 0.7481\n",
      "Epoch 387/500 | Train Loss: 0.6614 | Train Acc: 0.7275 | Val Loss: 0.6446 | Val Acc: 0.7558\n",
      "Epoch 383/500 | Train Loss: 0.6417 | Train Acc: 0.7380 | Val Loss: 0.6437 | Val Acc: 0.7596\n",
      "Epoch 384/500 | Train Loss: 0.6375 | Train Acc: 0.7450 | Val Loss: 0.6460 | Val Acc: 0.7481\n",
      "Epoch 385/500 | Train Loss: 0.6418 | Train Acc: 0.7450 | Val Loss: 0.6664 | Val Acc: 0.7365\n",
      "Epoch 386/500 | Train Loss: 0.6479 | Train Acc: 0.7389 | Val Loss: 0.6930 | Val Acc: 0.7481\n",
      "Epoch 387/500 | Train Loss: 0.6614 | Train Acc: 0.7275 | Val Loss: 0.6446 | Val Acc: 0.7558\n",
      "Epoch 388/500 | Train Loss: 0.6363 | Train Acc: 0.7380 | Val Loss: 0.6432 | Val Acc: 0.7519\n",
      "Epoch 389/500 | Train Loss: 0.6379 | Train Acc: 0.7371 | Val Loss: 0.6514 | Val Acc: 0.7558\n",
      "Epoch 390/500 | Train Loss: 0.6248 | Train Acc: 0.7467 | Val Loss: 0.6542 | Val Acc: 0.7577\n",
      "Epoch 391/500 | Train Loss: 0.6256 | Train Acc: 0.7476 | Val Loss: 0.6478 | Val Acc: 0.7481\n",
      "Epoch 388/500 | Train Loss: 0.6363 | Train Acc: 0.7380 | Val Loss: 0.6432 | Val Acc: 0.7519\n",
      "Epoch 389/500 | Train Loss: 0.6379 | Train Acc: 0.7371 | Val Loss: 0.6514 | Val Acc: 0.7558\n",
      "Epoch 390/500 | Train Loss: 0.6248 | Train Acc: 0.7467 | Val Loss: 0.6542 | Val Acc: 0.7577\n",
      "Epoch 391/500 | Train Loss: 0.6256 | Train Acc: 0.7476 | Val Loss: 0.6478 | Val Acc: 0.7481\n",
      "Epoch 392/500 | Train Loss: 0.6260 | Train Acc: 0.7406 | Val Loss: 0.6585 | Val Acc: 0.7481\n",
      "Epoch 393/500 | Train Loss: 0.6401 | Train Acc: 0.7371 | Val Loss: 0.6582 | Val Acc: 0.7442\n",
      "Epoch 394/500 | Train Loss: 0.6482 | Train Acc: 0.7188 | Val Loss: 0.6670 | Val Acc: 0.7519\n",
      "Epoch 395/500 | Train Loss: 0.6528 | Train Acc: 0.7240 | Val Loss: 0.6682 | Val Acc: 0.7308\n",
      "Epoch 396/500 | Train Loss: 0.6481 | Train Acc: 0.7284 | Val Loss: 0.6772 | Val Acc: 0.7442\n",
      "Epoch 392/500 | Train Loss: 0.6260 | Train Acc: 0.7406 | Val Loss: 0.6585 | Val Acc: 0.7481\n",
      "Epoch 393/500 | Train Loss: 0.6401 | Train Acc: 0.7371 | Val Loss: 0.6582 | Val Acc: 0.7442\n",
      "Epoch 394/500 | Train Loss: 0.6482 | Train Acc: 0.7188 | Val Loss: 0.6670 | Val Acc: 0.7519\n",
      "Epoch 395/500 | Train Loss: 0.6528 | Train Acc: 0.7240 | Val Loss: 0.6682 | Val Acc: 0.7308\n",
      "Epoch 396/500 | Train Loss: 0.6481 | Train Acc: 0.7284 | Val Loss: 0.6772 | Val Acc: 0.7442\n",
      "Epoch 397/500 | Train Loss: 0.6657 | Train Acc: 0.7301 | Val Loss: 0.8504 | Val Acc: 0.6500\n",
      "Epoch 398/500 | Train Loss: 0.8088 | Train Acc: 0.6218 | Val Loss: 0.7819 | Val Acc: 0.6212\n",
      "Epoch 399/500 | Train Loss: 0.7544 | Train Acc: 0.6306 | Val Loss: 0.7473 | Val Acc: 0.6827\n",
      "Epoch 400/500 | Train Loss: 0.7280 | Train Acc: 0.6803 | Val Loss: 0.7265 | Val Acc: 0.6923\n",
      "Epoch 401/500 | Train Loss: 0.7092 | Train Acc: 0.6865 | Val Loss: 0.7213 | Val Acc: 0.6923\n",
      "Epoch 397/500 | Train Loss: 0.6657 | Train Acc: 0.7301 | Val Loss: 0.8504 | Val Acc: 0.6500\n",
      "Epoch 398/500 | Train Loss: 0.8088 | Train Acc: 0.6218 | Val Loss: 0.7819 | Val Acc: 0.6212\n",
      "Epoch 399/500 | Train Loss: 0.7544 | Train Acc: 0.6306 | Val Loss: 0.7473 | Val Acc: 0.6827\n",
      "Epoch 400/500 | Train Loss: 0.7280 | Train Acc: 0.6803 | Val Loss: 0.7265 | Val Acc: 0.6923\n",
      "Epoch 401/500 | Train Loss: 0.7092 | Train Acc: 0.6865 | Val Loss: 0.7213 | Val Acc: 0.6923\n",
      "Epoch 402/500 | Train Loss: 0.7038 | Train Acc: 0.6838 | Val Loss: 0.7158 | Val Acc: 0.6904\n",
      "Epoch 403/500 | Train Loss: 0.7159 | Train Acc: 0.6777 | Val Loss: 0.7186 | Val Acc: 0.7096\n",
      "Epoch 404/500 | Train Loss: 0.7059 | Train Acc: 0.6987 | Val Loss: 0.7141 | Val Acc: 0.7096\n",
      "Epoch 405/500 | Train Loss: 0.6999 | Train Acc: 0.7013 | Val Loss: 0.7133 | Val Acc: 0.7058\n",
      "Epoch 402/500 | Train Loss: 0.7038 | Train Acc: 0.6838 | Val Loss: 0.7158 | Val Acc: 0.6904\n",
      "Epoch 403/500 | Train Loss: 0.7159 | Train Acc: 0.6777 | Val Loss: 0.7186 | Val Acc: 0.7096\n",
      "Epoch 404/500 | Train Loss: 0.7059 | Train Acc: 0.6987 | Val Loss: 0.7141 | Val Acc: 0.7096\n",
      "Epoch 405/500 | Train Loss: 0.6999 | Train Acc: 0.7013 | Val Loss: 0.7133 | Val Acc: 0.7058\n",
      "Epoch 406/500 | Train Loss: 0.6995 | Train Acc: 0.7031 | Val Loss: 0.7201 | Val Acc: 0.6962\n",
      "Epoch 407/500 | Train Loss: 0.7240 | Train Acc: 0.6934 | Val Loss: 0.7212 | Val Acc: 0.7019\n",
      "Epoch 408/500 | Train Loss: 0.6967 | Train Acc: 0.7170 | Val Loss: 0.7202 | Val Acc: 0.7212\n",
      "Epoch 409/500 | Train Loss: 0.6971 | Train Acc: 0.7144 | Val Loss: 0.6958 | Val Acc: 0.7519\n",
      "Epoch 410/500 | Train Loss: 0.6822 | Train Acc: 0.7328 | Val Loss: 0.6837 | Val Acc: 0.7538\n",
      "Epoch 406/500 | Train Loss: 0.6995 | Train Acc: 0.7031 | Val Loss: 0.7201 | Val Acc: 0.6962\n",
      "Epoch 407/500 | Train Loss: 0.7240 | Train Acc: 0.6934 | Val Loss: 0.7212 | Val Acc: 0.7019\n",
      "Epoch 408/500 | Train Loss: 0.6967 | Train Acc: 0.7170 | Val Loss: 0.7202 | Val Acc: 0.7212\n",
      "Epoch 409/500 | Train Loss: 0.6971 | Train Acc: 0.7144 | Val Loss: 0.6958 | Val Acc: 0.7519\n",
      "Epoch 410/500 | Train Loss: 0.6822 | Train Acc: 0.7328 | Val Loss: 0.6837 | Val Acc: 0.7538\n",
      "Epoch 411/500 | Train Loss: 0.6735 | Train Acc: 0.7397 | Val Loss: 0.6879 | Val Acc: 0.7462\n",
      "Epoch 412/500 | Train Loss: 0.6802 | Train Acc: 0.7328 | Val Loss: 0.6965 | Val Acc: 0.7365\n",
      "Epoch 413/500 | Train Loss: 0.6793 | Train Acc: 0.7319 | Val Loss: 0.6931 | Val Acc: 0.7500\n",
      "Epoch 414/500 | Train Loss: 0.6665 | Train Acc: 0.7380 | Val Loss: 0.6937 | Val Acc: 0.7346\n",
      "Epoch 411/500 | Train Loss: 0.6735 | Train Acc: 0.7397 | Val Loss: 0.6879 | Val Acc: 0.7462\n",
      "Epoch 412/500 | Train Loss: 0.6802 | Train Acc: 0.7328 | Val Loss: 0.6965 | Val Acc: 0.7365\n",
      "Epoch 413/500 | Train Loss: 0.6793 | Train Acc: 0.7319 | Val Loss: 0.6931 | Val Acc: 0.7500\n",
      "Epoch 414/500 | Train Loss: 0.6665 | Train Acc: 0.7380 | Val Loss: 0.6937 | Val Acc: 0.7346\n",
      "Epoch 415/500 | Train Loss: 0.6739 | Train Acc: 0.7249 | Val Loss: 0.6798 | Val Acc: 0.7500\n",
      "Epoch 416/500 | Train Loss: 0.6809 | Train Acc: 0.7188 | Val Loss: 0.6895 | Val Acc: 0.7423\n",
      "Epoch 417/500 | Train Loss: 0.6671 | Train Acc: 0.7345 | Val Loss: 0.6816 | Val Acc: 0.7404\n",
      "Epoch 418/500 | Train Loss: 0.6849 | Train Acc: 0.6996 | Val Loss: 0.7168 | Val Acc: 0.7250\n",
      "Epoch 419/500 | Train Loss: 0.6711 | Train Acc: 0.7301 | Val Loss: 0.7288 | Val Acc: 0.7192\n",
      "Epoch 415/500 | Train Loss: 0.6739 | Train Acc: 0.7249 | Val Loss: 0.6798 | Val Acc: 0.7500\n",
      "Epoch 416/500 | Train Loss: 0.6809 | Train Acc: 0.7188 | Val Loss: 0.6895 | Val Acc: 0.7423\n",
      "Epoch 417/500 | Train Loss: 0.6671 | Train Acc: 0.7345 | Val Loss: 0.6816 | Val Acc: 0.7404\n",
      "Epoch 418/500 | Train Loss: 0.6849 | Train Acc: 0.6996 | Val Loss: 0.7168 | Val Acc: 0.7250\n",
      "Epoch 419/500 | Train Loss: 0.6711 | Train Acc: 0.7301 | Val Loss: 0.7288 | Val Acc: 0.7192\n",
      "Epoch 420/500 | Train Loss: 0.6962 | Train Acc: 0.7162 | Val Loss: 0.6716 | Val Acc: 0.7481\n",
      "Epoch 421/500 | Train Loss: 0.6711 | Train Acc: 0.7240 | Val Loss: 0.6742 | Val Acc: 0.7346\n",
      "Epoch 422/500 | Train Loss: 0.6587 | Train Acc: 0.7441 | Val Loss: 0.6640 | Val Acc: 0.7500\n",
      "Epoch 423/500 | Train Loss: 0.6810 | Train Acc: 0.7362 | Val Loss: 0.6706 | Val Acc: 0.7538\n",
      "Epoch 420/500 | Train Loss: 0.6962 | Train Acc: 0.7162 | Val Loss: 0.6716 | Val Acc: 0.7481\n",
      "Epoch 421/500 | Train Loss: 0.6711 | Train Acc: 0.7240 | Val Loss: 0.6742 | Val Acc: 0.7346\n",
      "Epoch 422/500 | Train Loss: 0.6587 | Train Acc: 0.7441 | Val Loss: 0.6640 | Val Acc: 0.7500\n",
      "Epoch 423/500 | Train Loss: 0.6810 | Train Acc: 0.7362 | Val Loss: 0.6706 | Val Acc: 0.7538\n",
      "Epoch 424/500 | Train Loss: 0.6628 | Train Acc: 0.7336 | Val Loss: 0.6764 | Val Acc: 0.7577\n",
      "Epoch 425/500 | Train Loss: 0.6722 | Train Acc: 0.7214 | Val Loss: 0.6819 | Val Acc: 0.7500\n",
      "Epoch 426/500 | Train Loss: 0.6643 | Train Acc: 0.7328 | Val Loss: 0.6715 | Val Acc: 0.7519\n",
      "Epoch 427/500 | Train Loss: 0.6534 | Train Acc: 0.7389 | Val Loss: 0.6644 | Val Acc: 0.7519\n",
      "Epoch 428/500 | Train Loss: 0.6595 | Train Acc: 0.7275 | Val Loss: 0.6675 | Val Acc: 0.7558\n",
      "Epoch 424/500 | Train Loss: 0.6628 | Train Acc: 0.7336 | Val Loss: 0.6764 | Val Acc: 0.7577\n",
      "Epoch 425/500 | Train Loss: 0.6722 | Train Acc: 0.7214 | Val Loss: 0.6819 | Val Acc: 0.7500\n",
      "Epoch 426/500 | Train Loss: 0.6643 | Train Acc: 0.7328 | Val Loss: 0.6715 | Val Acc: 0.7519\n",
      "Epoch 427/500 | Train Loss: 0.6534 | Train Acc: 0.7389 | Val Loss: 0.6644 | Val Acc: 0.7519\n",
      "Epoch 428/500 | Train Loss: 0.6595 | Train Acc: 0.7275 | Val Loss: 0.6675 | Val Acc: 0.7558\n",
      "Epoch 429/500 | Train Loss: 0.6596 | Train Acc: 0.7354 | Val Loss: 0.6843 | Val Acc: 0.7442\n",
      "Epoch 430/500 | Train Loss: 0.6583 | Train Acc: 0.7336 | Val Loss: 0.6718 | Val Acc: 0.7442\n",
      "Epoch 431/500 | Train Loss: 0.6574 | Train Acc: 0.7284 | Val Loss: 0.6713 | Val Acc: 0.7558\n",
      "Epoch 429/500 | Train Loss: 0.6596 | Train Acc: 0.7354 | Val Loss: 0.6843 | Val Acc: 0.7442\n",
      "Epoch 430/500 | Train Loss: 0.6583 | Train Acc: 0.7336 | Val Loss: 0.6718 | Val Acc: 0.7442\n",
      "Epoch 431/500 | Train Loss: 0.6574 | Train Acc: 0.7284 | Val Loss: 0.6713 | Val Acc: 0.7558\n",
      "Epoch 432/500 | Train Loss: 0.6529 | Train Acc: 0.7240 | Val Loss: 0.7146 | Val Acc: 0.7250\n",
      "Epoch 433/500 | Train Loss: 0.6768 | Train Acc: 0.7284 | Val Loss: 0.6801 | Val Acc: 0.7404\n",
      "Epoch 434/500 | Train Loss: 0.6642 | Train Acc: 0.7310 | Val Loss: 0.6784 | Val Acc: 0.7346\n",
      "Epoch 435/500 | Train Loss: 0.6611 | Train Acc: 0.7380 | Val Loss: 0.6878 | Val Acc: 0.7442\n",
      "Epoch 436/500 | Train Loss: 0.6459 | Train Acc: 0.7406 | Val Loss: 0.6620 | Val Acc: 0.7558\n",
      "Epoch 432/500 | Train Loss: 0.6529 | Train Acc: 0.7240 | Val Loss: 0.7146 | Val Acc: 0.7250\n",
      "Epoch 433/500 | Train Loss: 0.6768 | Train Acc: 0.7284 | Val Loss: 0.6801 | Val Acc: 0.7404\n",
      "Epoch 434/500 | Train Loss: 0.6642 | Train Acc: 0.7310 | Val Loss: 0.6784 | Val Acc: 0.7346\n",
      "Epoch 435/500 | Train Loss: 0.6611 | Train Acc: 0.7380 | Val Loss: 0.6878 | Val Acc: 0.7442\n",
      "Epoch 436/500 | Train Loss: 0.6459 | Train Acc: 0.7406 | Val Loss: 0.6620 | Val Acc: 0.7558\n",
      "Epoch 437/500 | Train Loss: 0.6482 | Train Acc: 0.7520 | Val Loss: 0.6666 | Val Acc: 0.7423\n",
      "Epoch 438/500 | Train Loss: 0.6410 | Train Acc: 0.7450 | Val Loss: 0.6623 | Val Acc: 0.7538\n",
      "Epoch 439/500 | Train Loss: 0.6351 | Train Acc: 0.7459 | Val Loss: 0.6734 | Val Acc: 0.7423\n",
      "Epoch 440/500 | Train Loss: 0.6611 | Train Acc: 0.7258 | Val Loss: 0.6862 | Val Acc: 0.7346\n",
      "Epoch 437/500 | Train Loss: 0.6482 | Train Acc: 0.7520 | Val Loss: 0.6666 | Val Acc: 0.7423\n",
      "Epoch 438/500 | Train Loss: 0.6410 | Train Acc: 0.7450 | Val Loss: 0.6623 | Val Acc: 0.7538\n",
      "Epoch 439/500 | Train Loss: 0.6351 | Train Acc: 0.7459 | Val Loss: 0.6734 | Val Acc: 0.7423\n",
      "Epoch 440/500 | Train Loss: 0.6611 | Train Acc: 0.7258 | Val Loss: 0.6862 | Val Acc: 0.7346\n",
      "Epoch 441/500 | Train Loss: 0.6715 | Train Acc: 0.7197 | Val Loss: 0.6875 | Val Acc: 0.7327\n",
      "Epoch 442/500 | Train Loss: 0.6733 | Train Acc: 0.7231 | Val Loss: 0.6860 | Val Acc: 0.7346\n",
      "Epoch 443/500 | Train Loss: 0.6569 | Train Acc: 0.7380 | Val Loss: 0.6609 | Val Acc: 0.7500\n",
      "Epoch 444/500 | Train Loss: 0.6546 | Train Acc: 0.7240 | Val Loss: 0.6787 | Val Acc: 0.7308\n",
      "Epoch 441/500 | Train Loss: 0.6715 | Train Acc: 0.7197 | Val Loss: 0.6875 | Val Acc: 0.7327\n",
      "Epoch 442/500 | Train Loss: 0.6733 | Train Acc: 0.7231 | Val Loss: 0.6860 | Val Acc: 0.7346\n",
      "Epoch 443/500 | Train Loss: 0.6569 | Train Acc: 0.7380 | Val Loss: 0.6609 | Val Acc: 0.7500\n",
      "Epoch 444/500 | Train Loss: 0.6546 | Train Acc: 0.7240 | Val Loss: 0.6787 | Val Acc: 0.7308\n",
      "Epoch 445/500 | Train Loss: 0.6446 | Train Acc: 0.7441 | Val Loss: 0.6853 | Val Acc: 0.7404\n",
      "Epoch 446/500 | Train Loss: 0.6587 | Train Acc: 0.7336 | Val Loss: 0.6820 | Val Acc: 0.7481\n",
      "Epoch 447/500 | Train Loss: 0.6612 | Train Acc: 0.7293 | Val Loss: 0.6565 | Val Acc: 0.7615\n",
      "Epoch 448/500 | Train Loss: 0.6473 | Train Acc: 0.7485 | Val Loss: 0.6713 | Val Acc: 0.7500\n",
      "Epoch 445/500 | Train Loss: 0.6446 | Train Acc: 0.7441 | Val Loss: 0.6853 | Val Acc: 0.7404\n",
      "Epoch 446/500 | Train Loss: 0.6587 | Train Acc: 0.7336 | Val Loss: 0.6820 | Val Acc: 0.7481\n",
      "Epoch 447/500 | Train Loss: 0.6612 | Train Acc: 0.7293 | Val Loss: 0.6565 | Val Acc: 0.7615\n",
      "Epoch 448/500 | Train Loss: 0.6473 | Train Acc: 0.7485 | Val Loss: 0.6713 | Val Acc: 0.7500\n",
      "Epoch 449/500 | Train Loss: 0.6360 | Train Acc: 0.7485 | Val Loss: 0.6650 | Val Acc: 0.7500\n",
      "Epoch 450/500 | Train Loss: 0.6360 | Train Acc: 0.7450 | Val Loss: 0.7533 | Val Acc: 0.7462\n",
      "Epoch 451/500 | Train Loss: 0.6608 | Train Acc: 0.7406 | Val Loss: 0.6688 | Val Acc: 0.7462\n",
      "Epoch 452/500 | Train Loss: 0.6610 | Train Acc: 0.7223 | Val Loss: 0.6911 | Val Acc: 0.7231\n",
      "Epoch 449/500 | Train Loss: 0.6360 | Train Acc: 0.7485 | Val Loss: 0.6650 | Val Acc: 0.7500\n",
      "Epoch 450/500 | Train Loss: 0.6360 | Train Acc: 0.7450 | Val Loss: 0.7533 | Val Acc: 0.7462\n",
      "Epoch 451/500 | Train Loss: 0.6608 | Train Acc: 0.7406 | Val Loss: 0.6688 | Val Acc: 0.7462\n",
      "Epoch 452/500 | Train Loss: 0.6610 | Train Acc: 0.7223 | Val Loss: 0.6911 | Val Acc: 0.7231\n",
      "Epoch 453/500 | Train Loss: 0.6430 | Train Acc: 0.7371 | Val Loss: 0.6539 | Val Acc: 0.7577\n",
      "Epoch 454/500 | Train Loss: 0.6363 | Train Acc: 0.7371 | Val Loss: 0.6629 | Val Acc: 0.7558\n",
      "Epoch 455/500 | Train Loss: 0.6466 | Train Acc: 0.7354 | Val Loss: 0.6602 | Val Acc: 0.7596\n",
      "Epoch 456/500 | Train Loss: 0.6264 | Train Acc: 0.7511 | Val Loss: 0.6533 | Val Acc: 0.7538\n",
      "Epoch 453/500 | Train Loss: 0.6430 | Train Acc: 0.7371 | Val Loss: 0.6539 | Val Acc: 0.7577\n",
      "Epoch 454/500 | Train Loss: 0.6363 | Train Acc: 0.7371 | Val Loss: 0.6629 | Val Acc: 0.7558\n",
      "Epoch 455/500 | Train Loss: 0.6466 | Train Acc: 0.7354 | Val Loss: 0.6602 | Val Acc: 0.7596\n",
      "Epoch 456/500 | Train Loss: 0.6264 | Train Acc: 0.7511 | Val Loss: 0.6533 | Val Acc: 0.7538\n",
      "Epoch 457/500 | Train Loss: 0.6301 | Train Acc: 0.7380 | Val Loss: 0.6606 | Val Acc: 0.7462\n",
      "Epoch 458/500 | Train Loss: 0.6389 | Train Acc: 0.7432 | Val Loss: 0.6534 | Val Acc: 0.7635\n",
      "Epoch 459/500 | Train Loss: 0.6547 | Train Acc: 0.7354 | Val Loss: 0.6719 | Val Acc: 0.7538\n",
      "Epoch 460/500 | Train Loss: 0.6379 | Train Acc: 0.7406 | Val Loss: 0.6749 | Val Acc: 0.7385\n",
      "Epoch 457/500 | Train Loss: 0.6301 | Train Acc: 0.7380 | Val Loss: 0.6606 | Val Acc: 0.7462\n",
      "Epoch 458/500 | Train Loss: 0.6389 | Train Acc: 0.7432 | Val Loss: 0.6534 | Val Acc: 0.7635\n",
      "Epoch 459/500 | Train Loss: 0.6547 | Train Acc: 0.7354 | Val Loss: 0.6719 | Val Acc: 0.7538\n",
      "Epoch 460/500 | Train Loss: 0.6379 | Train Acc: 0.7406 | Val Loss: 0.6749 | Val Acc: 0.7385\n",
      "Epoch 461/500 | Train Loss: 0.6354 | Train Acc: 0.7371 | Val Loss: 0.6764 | Val Acc: 0.7327\n",
      "Epoch 462/500 | Train Loss: 0.6497 | Train Acc: 0.7301 | Val Loss: 0.6612 | Val Acc: 0.7577\n",
      "Epoch 463/500 | Train Loss: 0.6374 | Train Acc: 0.7450 | Val Loss: 0.6767 | Val Acc: 0.7442\n",
      "Epoch 464/500 | Train Loss: 0.6671 | Train Acc: 0.7266 | Val Loss: 0.6554 | Val Acc: 0.7500\n",
      "Epoch 465/500 | Train Loss: 0.6442 | Train Acc: 0.7397 | Val Loss: 0.6485 | Val Acc: 0.7423\n",
      "Epoch 461/500 | Train Loss: 0.6354 | Train Acc: 0.7371 | Val Loss: 0.6764 | Val Acc: 0.7327\n",
      "Epoch 462/500 | Train Loss: 0.6497 | Train Acc: 0.7301 | Val Loss: 0.6612 | Val Acc: 0.7577\n",
      "Epoch 463/500 | Train Loss: 0.6374 | Train Acc: 0.7450 | Val Loss: 0.6767 | Val Acc: 0.7442\n",
      "Epoch 464/500 | Train Loss: 0.6671 | Train Acc: 0.7266 | Val Loss: 0.6554 | Val Acc: 0.7500\n",
      "Epoch 465/500 | Train Loss: 0.6442 | Train Acc: 0.7397 | Val Loss: 0.6485 | Val Acc: 0.7423\n",
      "Epoch 466/500 | Train Loss: 0.6348 | Train Acc: 0.7441 | Val Loss: 0.6522 | Val Acc: 0.7538\n",
      "Epoch 467/500 | Train Loss: 0.6468 | Train Acc: 0.7389 | Val Loss: 0.6805 | Val Acc: 0.7250\n",
      "Epoch 468/500 | Train Loss: 0.6475 | Train Acc: 0.7362 | Val Loss: 0.6930 | Val Acc: 0.7481\n",
      "Epoch 469/500 | Train Loss: 0.6582 | Train Acc: 0.7275 | Val Loss: 0.6919 | Val Acc: 0.7519\n",
      "Epoch 466/500 | Train Loss: 0.6348 | Train Acc: 0.7441 | Val Loss: 0.6522 | Val Acc: 0.7538\n",
      "Epoch 467/500 | Train Loss: 0.6468 | Train Acc: 0.7389 | Val Loss: 0.6805 | Val Acc: 0.7250\n",
      "Epoch 468/500 | Train Loss: 0.6475 | Train Acc: 0.7362 | Val Loss: 0.6930 | Val Acc: 0.7481\n",
      "Epoch 469/500 | Train Loss: 0.6582 | Train Acc: 0.7275 | Val Loss: 0.6919 | Val Acc: 0.7519\n",
      "Epoch 470/500 | Train Loss: 0.6421 | Train Acc: 0.7415 | Val Loss: 0.6603 | Val Acc: 0.7519\n",
      "Epoch 471/500 | Train Loss: 0.6381 | Train Acc: 0.7397 | Val Loss: 0.6677 | Val Acc: 0.7519\n",
      "Epoch 472/500 | Train Loss: 0.6390 | Train Acc: 0.7432 | Val Loss: 0.6618 | Val Acc: 0.7615\n",
      "Epoch 473/500 | Train Loss: 0.6417 | Train Acc: 0.7319 | Val Loss: 0.6595 | Val Acc: 0.7538\n",
      "Epoch 470/500 | Train Loss: 0.6421 | Train Acc: 0.7415 | Val Loss: 0.6603 | Val Acc: 0.7519\n",
      "Epoch 471/500 | Train Loss: 0.6381 | Train Acc: 0.7397 | Val Loss: 0.6677 | Val Acc: 0.7519\n",
      "Epoch 472/500 | Train Loss: 0.6390 | Train Acc: 0.7432 | Val Loss: 0.6618 | Val Acc: 0.7615\n",
      "Epoch 473/500 | Train Loss: 0.6417 | Train Acc: 0.7319 | Val Loss: 0.6595 | Val Acc: 0.7538\n",
      "Epoch 474/500 | Train Loss: 0.6391 | Train Acc: 0.7424 | Val Loss: 0.6608 | Val Acc: 0.7577\n",
      "Epoch 475/500 | Train Loss: 0.6403 | Train Acc: 0.7397 | Val Loss: 0.7064 | Val Acc: 0.7154\n",
      "Epoch 476/500 | Train Loss: 0.6663 | Train Acc: 0.7205 | Val Loss: 0.7240 | Val Acc: 0.7058\n",
      "Epoch 477/500 | Train Loss: 0.6509 | Train Acc: 0.7240 | Val Loss: 0.6610 | Val Acc: 0.7462\n",
      "Epoch 474/500 | Train Loss: 0.6391 | Train Acc: 0.7424 | Val Loss: 0.6608 | Val Acc: 0.7577\n",
      "Epoch 475/500 | Train Loss: 0.6403 | Train Acc: 0.7397 | Val Loss: 0.7064 | Val Acc: 0.7154\n",
      "Epoch 476/500 | Train Loss: 0.6663 | Train Acc: 0.7205 | Val Loss: 0.7240 | Val Acc: 0.7058\n",
      "Epoch 477/500 | Train Loss: 0.6509 | Train Acc: 0.7240 | Val Loss: 0.6610 | Val Acc: 0.7462\n",
      "Epoch 478/500 | Train Loss: 0.6436 | Train Acc: 0.7328 | Val Loss: 0.6815 | Val Acc: 0.7385\n",
      "Epoch 479/500 | Train Loss: 0.6398 | Train Acc: 0.7415 | Val Loss: 0.6588 | Val Acc: 0.7481\n",
      "Epoch 480/500 | Train Loss: 0.6336 | Train Acc: 0.7345 | Val Loss: 0.6626 | Val Acc: 0.7519\n",
      "Epoch 481/500 | Train Loss: 0.6817 | Train Acc: 0.7153 | Val Loss: 0.7707 | Val Acc: 0.6808\n",
      "Epoch 478/500 | Train Loss: 0.6436 | Train Acc: 0.7328 | Val Loss: 0.6815 | Val Acc: 0.7385\n",
      "Epoch 479/500 | Train Loss: 0.6398 | Train Acc: 0.7415 | Val Loss: 0.6588 | Val Acc: 0.7481\n",
      "Epoch 480/500 | Train Loss: 0.6336 | Train Acc: 0.7345 | Val Loss: 0.6626 | Val Acc: 0.7519\n",
      "Epoch 481/500 | Train Loss: 0.6817 | Train Acc: 0.7153 | Val Loss: 0.7707 | Val Acc: 0.6808\n",
      "Epoch 482/500 | Train Loss: 0.7337 | Train Acc: 0.6856 | Val Loss: 0.6951 | Val Acc: 0.7212\n",
      "Epoch 483/500 | Train Loss: 0.6652 | Train Acc: 0.7293 | Val Loss: 0.6815 | Val Acc: 0.7404\n",
      "Epoch 484/500 | Train Loss: 0.6628 | Train Acc: 0.7310 | Val Loss: 0.6824 | Val Acc: 0.7385\n",
      "Epoch 485/500 | Train Loss: 0.6446 | Train Acc: 0.7467 | Val Loss: 0.6756 | Val Acc: 0.7500\n",
      "Epoch 482/500 | Train Loss: 0.7337 | Train Acc: 0.6856 | Val Loss: 0.6951 | Val Acc: 0.7212\n",
      "Epoch 483/500 | Train Loss: 0.6652 | Train Acc: 0.7293 | Val Loss: 0.6815 | Val Acc: 0.7404\n",
      "Epoch 484/500 | Train Loss: 0.6628 | Train Acc: 0.7310 | Val Loss: 0.6824 | Val Acc: 0.7385\n",
      "Epoch 485/500 | Train Loss: 0.6446 | Train Acc: 0.7467 | Val Loss: 0.6756 | Val Acc: 0.7500\n",
      "Epoch 486/500 | Train Loss: 0.6388 | Train Acc: 0.7450 | Val Loss: 0.6815 | Val Acc: 0.7538\n",
      "Epoch 487/500 | Train Loss: 0.6475 | Train Acc: 0.7380 | Val Loss: 0.6745 | Val Acc: 0.7404\n",
      "Epoch 488/500 | Train Loss: 0.6465 | Train Acc: 0.7397 | Val Loss: 0.6661 | Val Acc: 0.7481\n",
      "Epoch 489/500 | Train Loss: 0.6395 | Train Acc: 0.7450 | Val Loss: 0.7124 | Val Acc: 0.7288\n",
      "Epoch 486/500 | Train Loss: 0.6388 | Train Acc: 0.7450 | Val Loss: 0.6815 | Val Acc: 0.7538\n",
      "Epoch 487/500 | Train Loss: 0.6475 | Train Acc: 0.7380 | Val Loss: 0.6745 | Val Acc: 0.7404\n",
      "Epoch 488/500 | Train Loss: 0.6465 | Train Acc: 0.7397 | Val Loss: 0.6661 | Val Acc: 0.7481\n",
      "Epoch 489/500 | Train Loss: 0.6395 | Train Acc: 0.7450 | Val Loss: 0.7124 | Val Acc: 0.7288\n",
      "Epoch 490/500 | Train Loss: 0.6468 | Train Acc: 0.7380 | Val Loss: 0.6678 | Val Acc: 0.7615\n",
      "Epoch 491/500 | Train Loss: 0.6477 | Train Acc: 0.7389 | Val Loss: 0.6755 | Val Acc: 0.7500\n",
      "Epoch 492/500 | Train Loss: 0.6502 | Train Acc: 0.7397 | Val Loss: 0.6712 | Val Acc: 0.7500\n",
      "Epoch 493/500 | Train Loss: 0.6473 | Train Acc: 0.7293 | Val Loss: 0.6786 | Val Acc: 0.7442\n",
      "Epoch 494/500 | Train Loss: 0.6508 | Train Acc: 0.7354 | Val Loss: 0.6869 | Val Acc: 0.7558\n",
      "Epoch 490/500 | Train Loss: 0.6468 | Train Acc: 0.7380 | Val Loss: 0.6678 | Val Acc: 0.7615\n",
      "Epoch 491/500 | Train Loss: 0.6477 | Train Acc: 0.7389 | Val Loss: 0.6755 | Val Acc: 0.7500\n",
      "Epoch 492/500 | Train Loss: 0.6502 | Train Acc: 0.7397 | Val Loss: 0.6712 | Val Acc: 0.7500\n",
      "Epoch 493/500 | Train Loss: 0.6473 | Train Acc: 0.7293 | Val Loss: 0.6786 | Val Acc: 0.7442\n",
      "Epoch 494/500 | Train Loss: 0.6508 | Train Acc: 0.7354 | Val Loss: 0.6869 | Val Acc: 0.7558\n",
      "Epoch 495/500 | Train Loss: 0.6415 | Train Acc: 0.7459 | Val Loss: 0.6802 | Val Acc: 0.7558\n",
      "Epoch 496/500 | Train Loss: 0.6341 | Train Acc: 0.7397 | Val Loss: 0.6859 | Val Acc: 0.7442\n",
      "Epoch 497/500 | Train Loss: 0.6351 | Train Acc: 0.7424 | Val Loss: 0.6717 | Val Acc: 0.7538\n",
      "Epoch 498/500 | Train Loss: 0.6252 | Train Acc: 0.7467 | Val Loss: 0.6618 | Val Acc: 0.7577\n",
      "Epoch 495/500 | Train Loss: 0.6415 | Train Acc: 0.7459 | Val Loss: 0.6802 | Val Acc: 0.7558\n",
      "Epoch 496/500 | Train Loss: 0.6341 | Train Acc: 0.7397 | Val Loss: 0.6859 | Val Acc: 0.7442\n",
      "Epoch 497/500 | Train Loss: 0.6351 | Train Acc: 0.7424 | Val Loss: 0.6717 | Val Acc: 0.7538\n",
      "Epoch 498/500 | Train Loss: 0.6252 | Train Acc: 0.7467 | Val Loss: 0.6618 | Val Acc: 0.7577\n",
      "Epoch 499/500 | Train Loss: 0.6375 | Train Acc: 0.7345 | Val Loss: 0.6699 | Val Acc: 0.7538\n",
      "Epoch 500/500 | Train Loss: 0.6379 | Train Acc: 0.7415 | Val Loss: 0.6722 | Val Acc: 0.7481\n",
      "Epoch 499/500 | Train Loss: 0.6375 | Train Acc: 0.7345 | Val Loss: 0.6699 | Val Acc: 0.7538\n",
      "Epoch 500/500 | Train Loss: 0.6379 | Train Acc: 0.7415 | Val Loss: 0.6722 | Val Acc: 0.7481\n"
     ]
    }
   ],
   "source": [
    "large_model = nn.Sequential(\n",
    "    nn.Linear(2, 64),\n",
    "    nn.ReLU(),\n",
    "    nn.Linear(64, 64),\n",
    "    nn.ReLU(),\n",
    "    nn.Linear(64, 128),\n",
    "    nn.ReLU(),\n",
    "    nn.Linear(128, 128),\n",
    "    nn.ReLU(),\n",
    "    nn.Linear(128, 64),\n",
    "    nn.ReLU(),\n",
    "    nn.Linear(64, 32),\n",
    "    nn.ReLU(),\n",
    "    nn.Linear(32, 3),\n",
    ")\n",
    "train_model(\n",
    "    model=large_model,\n",
    "    optimizer=torch.optim.Adam(large_model.parameters(), lr=0.003),\n",
    "    loss_fn=nn.CrossEntropyLoss(),\n",
    "    num_epochs=500,\n",
    "    train_dataloader=loader_train,\n",
    "    val_dataloader=loader_val,\n",
    "    device=\"cuda\" if torch.cuda.is_available() else \"cpu\",\n",
    ")"
   ]
  },
  {
   "cell_type": "markdown",
   "metadata": {
    "deletable": false,
    "editable": false,
    "nbgrader": {
     "cell_type": "markdown",
     "checksum": "f52e36900e80e083dbc6ba73f0d000d5",
     "grade": false,
     "grade_id": "cell-ea77af681fd56aaf",
     "locked": true,
     "schema_version": 3,
     "solution": false,
     "task": false
    }
   },
   "source": [
    "Again, draw the decision regions of the network. What do you expect to see now? How will the regions differ from the previous ones?"
   ]
  },
  {
   "cell_type": "code",
   "execution_count": 114,
   "metadata": {
    "deletable": false,
    "nbgrader": {
     "cell_type": "code",
     "checksum": "88522dc56161b5b0ec1e47709327f81e",
     "grade": false,
     "grade_id": "cell-2386af80723e8770",
     "locked": false,
     "schema_version": 3,
     "solution": true,
     "task": false
    }
   },
   "outputs": [
    {
     "data": {
      "image/png": "[encoded data removed]",
      "text/plain": [
       "<Figure size 800x600 with 1 Axes>"
      ]
     },
     "metadata": {},
     "output_type": "display_data"
    }
   ],
   "source": [
    "plot_decision_region(large_model, x_train, y_train, x_val, y_val)\n"
   ]
  },
  {
   "cell_type": "markdown",
   "metadata": {
    "deletable": false,
    "editable": false,
    "nbgrader": {
     "cell_type": "markdown",
     "checksum": "9ef3d89592ae3e4b31d52cf243fb0d22",
     "grade": false,
     "grade_id": "cell-7ad8cc34d293f12f",
     "locked": true,
     "schema_version": 3,
     "solution": false,
     "task": false
    }
   },
   "source": [
    "How do the decision regions differ between the tiny, large and the network you trained? Can you explain why this happens? Relate your answer to the concepts you learned in the first lectures."
   ]
  },
  {
   "cell_type": "markdown",
   "metadata": {
    "deletable": false,
    "nbgrader": {
     "cell_type": "markdown",
     "checksum": "e61e4bd20e11dece795ed80558fa0c6f",
     "grade": true,
     "grade_id": "cell-b2b3d4743f149248",
     "locked": false,
     "points": 0,
     "schema_version": 3,
     "solution": true,
     "task": false
    }
   },
   "source": [
    "**Your answer:** the decision region gets more complex with more outlines the deeper the network becomes. Indicating better accuracy on targeting the correct areas for the data classes. The complexity can be seen on the small \"bursts\" of areas in the picture above for instance."
   ]
  },
  {
   "cell_type": "markdown",
   "metadata": {
    "deletable": false,
    "editable": false,
    "nbgrader": {
     "cell_type": "markdown",
     "checksum": "08f25d921ab7040f778a202f5a69b1a7",
     "grade": false,
     "grade_id": "cell-effc356fff18a4b5",
     "locked": true,
     "schema_version": 3,
     "solution": false
    }
   },
   "source": [
    "## 5. Evaluation"
   ]
  },
  {
   "cell_type": "markdown",
   "metadata": {
    "deletable": false,
    "editable": false,
    "nbgrader": {
     "cell_type": "markdown",
     "checksum": "1b8c71783af4d4c94ae59eb356856591",
     "grade": false,
     "grade_id": "cell-b2bbee2adf94b7d3",
     "locked": true,
     "schema_version": 3,
     "solution": false
    }
   },
   "source": [
    "Back to your original model. Once you achieved at least 60% accuracy in the validation set with your main model, we are done with its training. Now we'll evaluate the performance of your classifier on the test set."
   ]
  },
  {
   "cell_type": "markdown",
   "metadata": {
    "deletable": false,
    "editable": false,
    "nbgrader": {
     "cell_type": "markdown",
     "checksum": "79420c8cb4af750ed05be42a2c4d528b",
     "grade": false,
     "grade_id": "cell-3f4ab762e2890554",
     "locked": true,
     "schema_version": 3,
     "solution": false
    }
   },
   "source": [
    "Compute the accuracy on the test set."
   ]
  },
  {
   "cell_type": "code",
   "execution_count": 115,
   "metadata": {
    "deletable": false,
    "nbgrader": {
     "cell_type": "code",
     "checksum": "a28be10f6e90e487934989e8ef58b193",
     "grade": false,
     "grade_id": "cell-64d1008aafb3e518",
     "locked": false,
     "schema_version": 3,
     "solution": true,
     "task": false
    }
   },
   "outputs": [
    {
     "name": "stdout",
     "output_type": "stream",
     "text": [
      "Test accuracy: 0.722.\n"
     ]
    }
   ],
   "source": [
    "main_model_test_accuracy = 0\n",
    "model.eval()\n",
    "with torch.no_grad():\n",
    "    test_output = model(dataset_test.x)\n",
    "    main_model_test_accuracy = accuracy(test_output, dataset_test.y)\n",
    "print(f\"Test accuracy: {main_model_test_accuracy:.3f}.\")"
   ]
  },
  {
   "cell_type": "code",
   "execution_count": 116,
   "metadata": {
    "deletable": false,
    "editable": false,
    "nbgrader": {
     "cell_type": "code",
     "checksum": "3523a57a836d53349b06e311c4085fd5",
     "grade": true,
     "grade_id": "cell-8290e0d3e722c85f",
     "locked": true,
     "points": 1,
     "schema_version": 3,
     "solution": false,
     "task": false
    }
   },
   "outputs": [],
   "source": [
    "assert main_model_test_accuracy > 0.6"
   ]
  },
  {
   "cell_type": "markdown",
   "metadata": {
    "deletable": false,
    "editable": false,
    "nbgrader": {
     "cell_type": "markdown",
     "checksum": "4437b0233832d6897896b322856771a3",
     "grade": false,
     "grade_id": "cell-75bfc44531d04fb0",
     "locked": true,
     "schema_version": 3,
     "solution": false,
     "task": false
    }
   },
   "source": [
    "Most likely, you'll get a different (slightly worse) accuracy than the one you got on the validation set. Why is this? Also, why do we need both a test and validation set?"
   ]
  },
  {
   "cell_type": "markdown",
   "metadata": {
    "deletable": false,
    "nbgrader": {
     "cell_type": "markdown",
     "checksum": "c0737ad696946a7d4383701faa264867",
     "grade": true,
     "grade_id": "cell-249cc96508c4de0b",
     "locked": false,
     "points": 0,
     "schema_version": 3,
     "solution": true,
     "task": false
    }
   },
   "source": [
    "**Your answer:** We need test set to have an unbiased set to measure how well it works on general data, while the validation set is used to tune hyperparameters and monitor overfitting during training."
   ]
  },
  {
   "cell_type": "markdown",
   "metadata": {
    "deletable": false,
    "editable": false,
    "nbgrader": {
     "cell_type": "markdown",
     "checksum": "c68e1c93373146e59048b2f847e15e6f",
     "grade": false,
     "grade_id": "cell-8232dd159f8d4887",
     "locked": true,
     "schema_version": 3,
     "solution": false
    }
   },
   "source": [
    "Next, compute the confusion matrix of your predictions on the test set and save it as `conf_mat`."
   ]
  },
  {
   "cell_type": "code",
   "execution_count": 117,
   "metadata": {
    "deletable": false,
    "nbgrader": {
     "cell_type": "code",
     "checksum": "97c533c440746fc0b1f79274a2ceee25",
     "grade": false,
     "grade_id": "cell-9475a5163acc3249",
     "locked": false,
     "schema_version": 3,
     "solution": true,
     "task": false
    }
   },
   "outputs": [
    {
     "name": "stdout",
     "output_type": "stream",
     "text": [
      "[[100  17  26]\n",
      " [ 10  94  36]\n",
      " [ 27   0 108]]\n"
     ]
    }
   ],
   "source": [
    "from sklearn.metrics import confusion_matrix\n",
    "\n",
    "conf_mat = confusion_matrix(dataset_test.y, test_output.argmax(dim=1))\n",
    "print(conf_mat)"
   ]
  },
  {
   "cell_type": "code",
   "execution_count": 118,
   "metadata": {
    "deletable": false,
    "editable": false,
    "nbgrader": {
     "cell_type": "code",
     "checksum": "5546a1442dec7b94a0696ee69a270bc6",
     "grade": true,
     "grade_id": "cell-d016323f6263c643",
     "locked": true,
     "points": 1,
     "schema_version": 3,
     "solution": false,
     "task": false
    }
   },
   "outputs": [],
   "source": [
    "assert isinstance(conf_mat, np.ndarray) or isinstance(\n",
    "    conf_mat, torch.Tensor\n",
    "), \"conf_mat should be a numpy array or torch.Tensor\"\n",
    "assert conf_mat.shape == (3, 3), \"conf_mat should have shape (3, 3), i.e. 3 classes\"\n",
    "assert np.sum(conf_mat) == len(\n",
    "    dataset_test\n",
    "), \"conf_mat should sum up to the number of test samples\""
   ]
  },
  {
   "cell_type": "markdown",
   "metadata": {
    "deletable": false,
    "editable": false,
    "nbgrader": {
     "cell_type": "markdown",
     "checksum": "742f3a87c97efede0dc19953c1db108b",
     "grade": false,
     "grade_id": "cell-a5e9c635fcf0e14d",
     "locked": true,
     "schema_version": 3,
     "solution": false
    }
   },
   "source": [
    "What can you conclude from the computed accuracy and confusion matrix?"
   ]
  },
  {
   "cell_type": "markdown",
   "metadata": {
    "deletable": false,
    "nbgrader": {
     "cell_type": "markdown",
     "checksum": "59b0c3fb373653839818423f7129f074",
     "grade": true,
     "grade_id": "cell-b93435335accba07",
     "locked": false,
     "points": 0,
     "schema_version": 3,
     "solution": true
    }
   },
   "source": [
    "**Your answer:** Each row symbolises the correct class, each row symbolises the predicted class. With that said, the diagonal are the correctly predicted classes. As we can see, it looks quite alright."
   ]
  },
  {
   "cell_type": "markdown",
   "metadata": {
    "deletable": false,
    "editable": false,
    "nbgrader": {
     "cell_type": "markdown",
     "checksum": "99a1266a62880be4cf1f724ed704ddb2",
     "grade": false,
     "grade_id": "cell-b731aebed710ae07",
     "locked": true,
     "schema_version": 3,
     "solution": false
    }
   },
   "source": [
    "## 6. Exploration"
   ]
  },
  {
   "cell_type": "markdown",
   "metadata": {
    "deletable": false,
    "editable": false,
    "nbgrader": {
     "cell_type": "markdown",
     "checksum": "ca3f2bc4e6ee91e121425e12e58b589d",
     "grade": false,
     "grade_id": "cell-79904bd828487a07",
     "locked": true,
     "schema_version": 3,
     "solution": false
    }
   },
   "source": [
    "You have now trained and evaluated a neural network for this particular classification task. Can you provide a brief explanation as to how you could use it to decide where to travel, if you're interested in capturing the aforementioned Pokemons?"
   ]
  },
  {
   "cell_type": "markdown",
   "metadata": {
    "deletable": false,
    "nbgrader": {
     "cell_type": "markdown",
     "checksum": "a8aeac76ab83248b3e84126f1200e50f",
     "grade": true,
     "grade_id": "cell-79ac9ff2b09a41b5",
     "locked": false,
     "points": 0,
     "schema_version": 3,
     "solution": true
    }
   },
   "source": [
    "**Your answer:** We can use the decision boundaries as locations to search for a specific class."
   ]
  },
  {
   "cell_type": "markdown",
   "metadata": {
    "deletable": false,
    "editable": false,
    "nbgrader": {
     "cell_type": "markdown",
     "checksum": "90283187bfd4f2f6aaf11df18a8e88ba",
     "grade": false,
     "grade_id": "cell-8041a4537430ba53",
     "locked": true,
     "schema_version": 3,
     "solution": false
    }
   },
   "source": [
    "Is (are) there any other feature(s) from the original dataset (e.g. hour of the day, pressure, wind speed, population density, etc.) which you think would be valuable to add as an input feature to your classifier to improve its performance? "
   ]
  },
  {
   "cell_type": "markdown",
   "metadata": {
    "deletable": false,
    "nbgrader": {
     "cell_type": "markdown",
     "checksum": "92bfb21c07460ec7bf06f56c3acee803",
     "grade": true,
     "grade_id": "cell-c2def6009a95f2a6",
     "locked": false,
     "points": 0,
     "schema_version": 3,
     "solution": true
    }
   },
   "source": [
    "**Your answer:** Population density to help my model get a better chance at predicting a data, if it knows that there are many tauruses in a certain area, it could use that information to predict better."
   ]
  },
  {
   "cell_type": "markdown",
   "metadata": {
    "deletable": false,
    "editable": false,
    "nbgrader": {
     "cell_type": "markdown",
     "checksum": "4e0eb26832febb3a136740004988db6b",
     "grade": false,
     "grade_id": "cell-e9f21e8b0fe33751",
     "locked": true,
     "schema_version": 3,
     "solution": false
    }
   },
   "source": [
    "To investigate your hypothesis, plot a histogram of the selected feature(s) for each one of the pokemons we're interested in. For example, if you think pressure and population density are valuable for prediction, plot 6 histograms. 3 of them will be the pressure histograms for each class ('Diglett', 'Seel' and 'Tauros'), and the other 3 will be the population density for each class."
   ]
  },
  {
   "cell_type": "code",
   "execution_count": 128,
   "metadata": {
    "deletable": false,
    "nbgrader": {
     "cell_type": "code",
     "checksum": "6701fb6bd1284791b9c065777eaaebae",
     "grade": true,
     "grade_id": "cell-b18deaa33c46ec92",
     "locked": false,
     "points": 0,
     "schema_version": 3,
     "solution": true
    }
   },
   "outputs": [
    {
     "data": {
      "image/png": "[encoded data removed]",
      "text/plain": [
       "<Figure size 800x500 with 1 Axes>"
      ]
     },
     "metadata": {},
     "output_type": "display_data"
    }
   ],
   "source": [
    "densities = {}\n",
    "\n",
    "for name, group in filtered_df.groupby(\"name\"):\n",
    "    count = len(group)\n",
    "    lon_range = group[\"longitude\"].max() - group[\"longitude\"].min()\n",
    "    lat_range = group[\"latitude\"].max() - group[\"latitude\"].min()\n",
    "    area = lon_range * lat_range\n",
    "    density = count / area\n",
    "    densities[name] = density\n",
    "\n",
    "plt.figure(figsize=(8,5))\n",
    "plt.bar(densities.keys(), densities.values())\n",
    "plt.xlabel(\"Pokémon\")\n",
    "plt.ylabel(\"Population density (per area)\")\n",
    "plt.title(\"Spatial population density of each Pokémon\")\n",
    "plt.show()\n"
   ]
  },
  {
   "cell_type": "markdown",
   "metadata": {
    "deletable": false,
    "editable": false,
    "nbgrader": {
     "cell_type": "markdown",
     "checksum": "6845805e5d221d5a320d0630b3fa0257",
     "grade": false,
     "grade_id": "cell-f51c8bdfaf2e03f4",
     "locked": true,
     "schema_version": 3,
     "solution": false
    }
   },
   "source": [
    "What does/do this/these histogram(s) show you? Could it be beneficial to add this/these new feature(s) as input? Explain why/why not."
   ]
  },
  {
   "cell_type": "markdown",
   "metadata": {
    "deletable": false,
    "nbgrader": {
     "cell_type": "markdown",
     "checksum": "c4810811a9300a653185a38c62a0f73c",
     "grade": true,
     "grade_id": "cell-f9522e4fa9c010be",
     "locked": false,
     "points": 0,
     "schema_version": 3,
     "solution": true
    }
   },
   "source": [
    "**Your answer:** The tauruses are a lot more tightly packed than the other two pokemon. As mentioned before, this information would be benefitial to us to help with the prediction."
   ]
  },
  {
   "cell_type": "markdown",
   "metadata": {
    "deletable": false,
    "editable": false,
    "nbgrader": {
     "cell_type": "markdown",
     "checksum": "dbf51d6ca2c3eed999d1e41aa1cec7de",
     "grade": false,
     "grade_id": "cell-284bf5af1750b1b5",
     "locked": true,
     "schema_version": 3,
     "solution": false,
     "task": false
    }
   },
   "source": [
    "The purpose was this assignment was mostly to make you design a network for classification, using this Pokemon dataset as use case. However, if you want to find those three particular Pokemons, most likely using a network for classification is not the best approach. An alternative would be to perform localization by using regression instead. **Can you state some pros and cons of approach this as a regression problem instead of a classification problem?** (We do not expect very detailed answers, you will pass the assignment as long as you make a reasonable attempt at explaining the pros and cons.)"
   ]
  },
  {
   "cell_type": "markdown",
   "metadata": {
    "deletable": false,
    "nbgrader": {
     "cell_type": "markdown",
     "checksum": "dd2cd90f071d43e463aea1a3f0852c49",
     "grade": true,
     "grade_id": "cell-bd241242621ae646",
     "locked": false,
     "points": 0,
     "schema_version": 3,
     "solution": true,
     "task": false
    }
   },
   "source": [
    "**Your answer:** Regression gives direct, fine-grained location output (coordinates or heatmaps), which is ideal if you need to know *where* a Pokémon is rather than just *which* one.\n",
    "However, it requires precise location labels, can fail when multiple instances exist (predictions may average), and makes representing “absence” and evaluation more complex.\n"
   ]
  },
  {
   "cell_type": "markdown",
   "metadata": {
    "deletable": false,
    "editable": false,
    "nbgrader": {
     "cell_type": "markdown",
     "checksum": "c457c6ffe7696ea8b13215805bb2fa2c",
     "grade": false,
     "grade_id": "cell-fccdd48334c7c70c",
     "locked": true,
     "schema_version": 3,
     "solution": false
    }
   },
   "source": [
    "## 7. (optional)"
   ]
  },
  {
   "cell_type": "markdown",
   "metadata": {
    "deletable": false,
    "editable": false,
    "nbgrader": {
     "cell_type": "markdown",
     "checksum": "efe34b502ca4d51a53e7b32992411f97",
     "grade": false,
     "grade_id": "cell-3e8a75d10f4fb404",
     "locked": true,
     "schema_version": 3,
     "solution": false
    }
   },
   "source": [
    "Assuming you found useful new features in the last part of this assignment, train a new classifier that uses these featues as well. Did the accuracy on the validation set improve? What's the highest accuracy you can achieve?"
   ]
  }
 ],
 "metadata": {
  "kernelspec": {
   "display_name": "Python 3",
   "language": "python",
   "name": "python3"
  },
  "language_info": {
   "codemirror_mode": {
    "name": "ipython",
    "version": 3
   },
   "file_extension": ".py",
   "mimetype": "text/x-python",
   "name": "python",
   "nbconvert_exporter": "python",
   "pygments_lexer": "ipython3",
   "version": "3.11.9"
  }
 },
 "nbformat": 4,
 "nbformat_minor": 4
}
